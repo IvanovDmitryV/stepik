{
 "cells": [
  {
   "cell_type": "markdown",
   "id": "58f4dc26",
   "metadata": {},
   "source": [
    "# Программирование на Python"
   ]
  },
  {
   "cell_type": "markdown",
   "id": "9ac9d5f8",
   "metadata": {},
   "source": [
    "## Операторы. Переменные. Типы данных. Условия"
   ]
  },
  {
   "cell_type": "markdown",
   "id": "16e4b3f7",
   "metadata": {},
   "source": [
    "Коля каждый день ложится спать ровно в полночь и недавно узнал, что оптимальное время для его сна составляет $X$ минут. Коля хочет поставить себе будильник так, чтобы он прозвенел ровно через $X$ минут после полуночи, однако для этого необходимо указать время сигнала в формате часы, минуты. Помогите Коле определить, на какое время завести будильник.\n",
    "\n",
    "Часы и минуты в выводе программы должны располагаться на разных строках (см. пример работы программы)\n",
    "\n",
    "Помните, что для считывания данных нужно вызывать функцию `input` без аргументов!"
   ]
  },
  {
   "cell_type": "code",
   "execution_count": 17,
   "id": "80c8ac1b",
   "metadata": {},
   "outputs": [
    {
     "name": "stdout",
     "output_type": "stream",
     "text": [
      "512\n",
      "8\n",
      "32\n"
     ]
    }
   ],
   "source": [
    "time_in_minutes=int(input())\n",
    "hour = time_in_minutes//60\n",
    "minutes = time_in_minutes%60\n",
    "print(hour)\n",
    "print(minutes)"
   ]
  },
  {
   "cell_type": "markdown",
   "id": "54699790",
   "metadata": {},
   "source": [
    "Катя узнала, что ей для сна надо $X$ минут. В отличие от Коли, Катя ложится спать после полуночи в $H$ часов и $M$ минут. Помогите Кате определить, на какое время ей поставить будильник, чтобы он прозвенел ровно через $X$ минут после того, как она ляжет спать.\n",
    "\n",
    "На стандартный ввод, каждое в своей строке, подаются значения $X$, $H$ и $M$. Гарантируется, что Катя должна проснуться в тот же день, что и заснуть. Программа должна выводить время, на которое нужно поставить будильник: в первой строке часы, во второй — минуты."
   ]
  },
  {
   "cell_type": "code",
   "execution_count": 2,
   "id": "6cf23214",
   "metadata": {},
   "outputs": [
    {
     "name": "stdout",
     "output_type": "stream",
     "text": [
      "475\n",
      "1\n",
      "55\n",
      "9\n",
      "50\n"
     ]
    }
   ],
   "source": [
    "time_in_minutes = int(input())\n",
    "hour_to_sleep = int(input())\n",
    "minutes_to_sleep = int(input())\n",
    "time_to_wake_up = time_in_minutes + 60*hour_to_sleep + minutes_to_sleep\n",
    "hour_to_wake_up = time_to_wake_up//60\n",
    "minutes_to_wake_up = time_to_wake_up%60\n",
    "print(hour_to_wake_up)\n",
    "print(minutes_to_wake_up)"
   ]
  },
  {
   "cell_type": "markdown",
   "id": "bef38401",
   "metadata": {},
   "source": [
    "Из передачи “Здоровье” Аня узнала, что рекомендуется спать хотя бы $A$ часов в сутки, но пересыпать тоже вредно и не стоит спать более $B$ часов. Сейчас Аня спит $H$ часов в сутки. Если режим сна Ани удовлетворяет рекомендациям передачи “Здоровье”, выведите “Это нормально”. Если Аня спит менее $A$ часов, выведите “Недосып”, если же более $B$ часов, то выведите “Пересып”.\n",
    "\n",
    "Получаемое число $A$ всегда меньше либо равно $B$.\n",
    "\n",
    "На вход программе в три строки подаются переменные в следующем порядке: $A$, $B$, $H$.\n",
    "\n",
    "Обратите внимание на регистр символов: вывод должен в точности соответствовать описанному в задании, т. е. если программа должна вывести \"Пересып\", выводы программы \"пересып\", \"ПЕРЕСЫП\", \"ПеРеСыП\" и другие не будут считаться верными.\n",
    "\n",
    "Это первое не самое тривиальное задание на условное выражение. В случаях, когда разбить исполнение программы на несколько направлений, стоит внимательно обдумать все условия, которые нужно использовать. Особое внимание стоит уделить строгости используемых условных операторов: различайте $\\lt$  и $\\le$; $\\gt$ и $\\ge$. Для того, чтобы понимать, какой из них стоит использовать, внимательно прочитайте условие задания."
   ]
  },
  {
   "cell_type": "code",
   "execution_count": 4,
   "id": "fcbf99e5",
   "metadata": {},
   "outputs": [
    {
     "name": "stdout",
     "output_type": "stream",
     "text": [
      "6\n",
      "10\n",
      "10\n",
      "Это нормально\n"
     ]
    }
   ],
   "source": [
    "min_time = int(input())\n",
    "max_time = int(input())\n",
    "real_time = int(input())\n",
    "if real_time<min_time: print(\"Недосып\")\n",
    "elif real_time>max_time: print(\"Пересып\")\n",
    "else: print(\"Это нормально\")"
   ]
  },
  {
   "cell_type": "markdown",
   "id": "db9ab155",
   "metadata": {},
   "source": [
    "Требуется определить, является ли данный год високосным.\n",
    "\n",
    "Напомним, что високосными годами считаются те годы, порядковый номер которых либо кратен 4, но при этом не кратен 100, либо кратен 400 (например, 2000-й год являлся високосным, а 2100-й будет невисокосным годом).\n",
    "\n",
    "Программа должна корректно работать на числах 1900≤n≤3000.\n",
    "\n",
    "Выведите \"Високосный\" в случае, если считанный год является високосным и \"Обычный\" в обратном случае (не забывайте проверять регистр выводимых программой символов)."
   ]
  },
  {
   "cell_type": "code",
   "execution_count": 8,
   "id": "78e484a3",
   "metadata": {},
   "outputs": [
    {
     "name": "stdout",
     "output_type": "stream",
     "text": [
      "2\n",
      "Обычный\n"
     ]
    },
    {
     "data": {
      "text/plain": [
       "'\\n123\\n456\\n'"
      ]
     },
     "execution_count": 8,
     "metadata": {},
     "output_type": "execute_result"
    }
   ],
   "source": [
    "year = int(input())\n",
    "if year%4 == 0 and year%100 !=0 or year%400 == 0: print(\"Високосный\")\n",
    "else: print(\"Обычный\")"
   ]
  },
  {
   "cell_type": "markdown",
   "id": "527788f4",
   "metadata": {},
   "source": [
    "В то далёкое время, когда Паша ходил в школу, ему очень не нравилась формула Герона для вычисления площади треугольника, так как казалась слишком сложной. В один прекрасный момент Павел решил избавить всех школьников от страданий и написать и распространить по школам программу, вычисляющую площадь треугольника по трём сторонам.\n",
    "\n",
    "Одна проблема: так как эта формула не нравилась Павлу, он её не запомнил. Помогите ему завершить доброе дело и напишите программу, вычисляющую площадь треугольника по переданным длинам трёх его сторон по формуле Герона:\n",
    "\n",
    "$S=\\sqrt{p(p−a)(p−b)(p−c)}$   \n",
    "где $p=\\dfrac{a+b+c}2$– полупериметр треугольника.   \n",
    "На вход программе подаются целые числа, выводом программы должно являться вещественное число, соответствующее площади треугольника."
   ]
  },
  {
   "cell_type": "code",
   "execution_count": 12,
   "id": "bea58d79",
   "metadata": {},
   "outputs": [
    {
     "name": "stdout",
     "output_type": "stream",
     "text": [
      "1\n",
      "2\n",
      "10\n",
      "(1.4529784002395237e-15+23.72893802933456j)\n"
     ]
    }
   ],
   "source": [
    "a = int(input())\n",
    "b = int(input())\n",
    "c = int(input())\n",
    "p = (a+b+c)/2\n",
    "s = (p*(p-a)*(p-b)*(p-c))**0.5\n",
    "print(s)"
   ]
  },
  {
   "cell_type": "markdown",
   "id": "39f3ca19",
   "metadata": {},
   "source": [
    "Напишите программу, принимающую на вход целое число, которая выводит True, если переданное значение попадает в интервал $(-15, 12] \\cup$ (14, 17) $\\cup [19, +\\infty)$\n",
    "и False в противном случае (регистр символов имеет значение)."
   ]
  },
  {
   "cell_type": "code",
   "execution_count": 14,
   "id": "40d51a4c",
   "metadata": {},
   "outputs": [
    {
     "name": "stdout",
     "output_type": "stream",
     "text": [
      "5\n",
      "True\n"
     ]
    }
   ],
   "source": [
    "num = int(input())\n",
    "if -15<num<=12 or 14<num<17 or 19<=num:\n",
    "    print('True')\n",
    "else:\n",
    "    print('False')"
   ]
  },
  {
   "cell_type": "markdown",
   "id": "182e6cbe",
   "metadata": {},
   "source": [
    "Напишите простой калькулятор, который считывает с пользовательского ввода три строки: первое число, второе число и операцию, после чего применяет операцию к введённым числам (\"первое число\" \"операция\" \"второе число\") и выводит результат на экран.\n",
    "\n",
    "Поддерживаемые операции: +, -, /, *, mod, pow, div, где\n",
    "mod — это взятие остатка от деления,\n",
    "pow — возведение в степень,\n",
    "div — целочисленное деление.\n",
    "\n",
    "Если выполняется деление и второе число равно 0, необходимо выводить строку \"Деление на 0!\".\n",
    "\n",
    "Обратите внимание, что на вход программе приходят вещественные числа."
   ]
  },
  {
   "cell_type": "code",
   "execution_count": 21,
   "id": "159d6058",
   "metadata": {},
   "outputs": [
    {
     "name": "stdout",
     "output_type": "stream",
     "text": [
      "2\n",
      "2\n",
      "3\n",
      "2.0\n"
     ]
    }
   ],
   "source": [
    "num_1 = float(input())\n",
    "num_2 = float(input())\n",
    "operation = input()\n",
    "\n",
    "if operation == '+': result = num_1 + num_2\n",
    "if operation == '-': result = num_1 - num_2\n",
    "if operation == '/' and num_2 != 0: result = num_1 / num_2\n",
    "if operation == '*': result = num_1 * num_2\n",
    "if operation == 'mod' and num_2 != 0: result = num_1 % num_2\n",
    "if operation == 'pow': result = num_1 ** num_2\n",
    "if operation == 'div' and num_2 != 0: result = num_1 // num_2\n",
    "if (operation == '/' or operation == 'mod' or operation == 'div') and num_2 == 0.0:\n",
    "    result = \"Деление на 0!\"\n",
    "    \n",
    "print(result)"
   ]
  },
  {
   "cell_type": "markdown",
   "id": "06762e77",
   "metadata": {},
   "source": [
    "Жители страны Малевии часто экспериментируют с планировкой комнат. Комнаты бывают треугольные, прямоугольные и круглые. Чтобы быстро вычислять жилплощадь, требуется написать программу, на вход которой подаётся тип фигуры комнаты и соответствующие параметры, которая бы выводила площадь получившейся комнаты.\n",
    "Для числа π в стране Малевии используют значение 3.14.\n",
    "\n",
    "Формат ввода, который используют Малевийцы:\n",
    "\n",
    "треугольник    \n",
    "a   \n",
    "\n",
    "b   \n",
    "\n",
    "c   \n",
    "\n",
    "где a, b и c — длины сторон треугольника\n",
    "\n",
    "прямоугольник   \n",
    "a   \n",
    "\n",
    "b   \n",
    "\n",
    "где a и b — длины сторон прямоугольника\n",
    "\n",
    "круг   \n",
    "r    \n",
    "\n",
    "где r — радиус окружности"
   ]
  },
  {
   "cell_type": "code",
   "execution_count": 24,
   "id": "532d336c",
   "metadata": {},
   "outputs": [
    {
     "name": "stdout",
     "output_type": "stream",
     "text": [
      "круг\n",
      "1\n",
      "3.14\n"
     ]
    }
   ],
   "source": [
    "fig_type = input()\n",
    "if fig_type == \"треугольник\":\n",
    "    a,b,c = float(input()),float(input()),float(input())\n",
    "    p = (a+b+c)/2\n",
    "    result = (p*(p-a)*(p-b)*(p-c))**0.5\n",
    "if fig_type == \"прямоугольник\":\n",
    "    a,b = float(input()),float(input())\n",
    "    b = float(input())\n",
    "    result = a*b\n",
    "if fig_type == \"круг\":\n",
    "    r = float(input())\n",
    "    result = 3.14 * r**2\n",
    "print(result)"
   ]
  },
  {
   "cell_type": "markdown",
   "id": "48420439",
   "metadata": {},
   "source": [
    "Напишите программу, которая получает на вход три целых числа, по одному числу в строке, и выводит на консоль в три строки сначала максимальное, потом минимальное, после чего оставшееся число.\n",
    "\n",
    "На ввод могут подаваться и повторяющиеся числа."
   ]
  },
  {
   "cell_type": "code",
   "execution_count": 30,
   "id": "dc5b02e4",
   "metadata": {},
   "outputs": [
    {
     "name": "stdout",
     "output_type": "stream",
     "text": [
      "1\n",
      "2\n",
      "3\n",
      "3\n",
      "1\n",
      "2\n"
     ]
    }
   ],
   "source": [
    "num_1,num_2,num_3 = int(input()),int(input()),int(input())\n",
    "max_num  = num_1\n",
    "if num_2 > max_num: max_num = num_2\n",
    "if num_3 > max_num: max_num = num_3\n",
    "min_num = num_1\n",
    "if num_2 < min_num: min_num = num_2\n",
    "if num_3 < min_num: min_num = num_3\n",
    "mid_num = num_1+num_2+num_3 - max_num  - min_num\n",
    "print(max_num,min_num,mid_num,sep = '\\n')\n"
   ]
  },
  {
   "cell_type": "code",
   "execution_count": 36,
   "id": "3be2d1f7",
   "metadata": {},
   "outputs": [
    {
     "name": "stdout",
     "output_type": "stream",
     "text": [
      "3\n",
      "3\n",
      "2\n",
      "3\n",
      "2\n",
      "3\n"
     ]
    }
   ],
   "source": [
    "num_1,num_2,num_3 = int(input()),int(input()),int(input())\n",
    "if num_1>num_2: num_2,num_1 = num_1,num_2\n",
    "if num_2>num_3: num_3,num_2 = num_2,num_3\n",
    "if num_1>num_2: num_2,num_1 = num_1,num_2\n",
    "print(num_3,num_1,num_2,sep = '\\n')"
   ]
  },
  {
   "cell_type": "markdown",
   "id": "875f38f6",
   "metadata": {},
   "source": [
    "В институте биоинформатики по офису передвигается робот. Недавно студенты из группы программистов написали для него программу, по которой робот, когда заходит в комнату, считает количество программистов в ней и произносит его вслух: \"n программистов\".\n",
    "\n",
    "Для того, чтобы это звучало правильно, для каждого nn нужно использовать верное окончание слова.\n",
    "\n",
    "Напишите программу, считывающую с пользовательского ввода целое число nn (неотрицательное), выводящее это число в консоль вместе с правильным образом изменённым словом \"программист\", для того, чтобы робот мог нормально общаться с людьми, например: 1 программист, 2 программиста, 5 программистов.\n",
    "\n",
    "В комнате может быть очень много программистов. Проверьте, что ваша программа правильно обработает все случаи, как минимум до 1000 человек."
   ]
  },
  {
   "cell_type": "code",
   "execution_count": null,
   "id": "14cf9efb",
   "metadata": {},
   "outputs": [],
   "source": [
    "num = int(input())\n",
    "declension = \"программистов\"\n",
    "if num%10 == 1: declension = \"программист\"\n",
    "if num%10 == 2: declension = \"программиста\"\n",
    "if num%10 == 3: declension = \"программиста\"\n",
    "if num%10 == 4: declension = \"программиста\"\n",
    "if num%100 == 11: declension = \"программистов\"\n",
    "if num%100 == 12: declension = \"программистов\"\n",
    "if num%100 == 13: declension = \"программистов\"\n",
    "if num%100 == 14: declension = \"программистов\"\n"
   ]
  },
  {
   "cell_type": "code",
   "execution_count": 40,
   "id": "cc0b5a3c",
   "metadata": {},
   "outputs": [
    {
     "name": "stdout",
     "output_type": "stream",
     "text": [
      "2\n",
      "2 программиста\n"
     ]
    }
   ],
   "source": [
    "num = int(input())\n",
    "ending = \"ов\"\n",
    "dc_remains = num%10\n",
    "hndr_remains = num%100 \n",
    "if dc_remains == 1: ending = \"\"\n",
    "if 2 <= dc_remains <= 4: ending = \"а\"\n",
    "if 11<= hndr_remains <= 14: ending = \"ов\"\n",
    "print(num, 'программист' + ending)"
   ]
  },
  {
   "cell_type": "markdown",
   "id": "2d8de691",
   "metadata": {},
   "source": [
    "Паша очень любит кататься на общественном транспорте, а получая билет, сразу проверяет, счастливый ли ему попался. Билет считается счастливым, если сумма первых трех цифр совпадает с суммой последних трех цифр номера билета.\n",
    "\n",
    "Однако Паша очень плохо считает в уме, поэтому попросил вас написать программу, которая проверит равенство сумм и выведет \"Счастливый\", если суммы совпадают, и \"Обычный\", если суммы различны.\n",
    "\n",
    "На вход программе подаётся строка из шести цифр.\n",
    "\n",
    "Выводить нужно только слово \"Счастливый\" или \"Обычный\", с большой буквы."
   ]
  },
  {
   "cell_type": "code",
   "execution_count": 49,
   "id": "fb7fa828",
   "metadata": {},
   "outputs": [
    {
     "name": "stdout",
     "output_type": "stream",
     "text": [
      "125422\n",
      "125 422\n",
      "Счастливый\n"
     ]
    }
   ],
   "source": [
    "number = int(input())\n",
    "trio_1, trio_2 = number//1000, number%1000\n",
    "sum_1 = trio_1//100 + trio_1//10 - (trio_1//100)*10 + trio_1%10\n",
    "sum_2 = trio_2//100 + trio_2//10 - (trio_2//100)*10 + trio_2%10\n",
    "if sum_1 == sum_2: print(\"Счастливый\")\n",
    "else: print(\"Обычный\")"
   ]
  },
  {
   "cell_type": "markdown",
   "id": "e997db61",
   "metadata": {},
   "source": [
    "## 2. Циклы. Строки. Списки"
   ]
  },
  {
   "cell_type": "code",
   "execution_count": 50,
   "id": "98956c60",
   "metadata": {},
   "outputs": [
    {
     "data": {
      "text/plain": [
       "13"
      ]
     },
     "execution_count": 50,
     "metadata": {},
     "output_type": "execute_result"
    }
   ],
   "source": [
    "i = 0\n",
    "while i <= 10:\n",
    "    i = i + 1\n",
    "    if i > 7:\n",
    "        i = i + 2\n",
    "        \n",
    "i"
   ]
  },
  {
   "cell_type": "markdown",
   "id": "1eeeb1e2",
   "metadata": {},
   "source": [
    "Напишите программу, которая считывает со стандартного ввода целые числа, по одному числу в строке, и после первого введенного нуля выводит сумму полученных на вход чисел."
   ]
  },
  {
   "cell_type": "code",
   "execution_count": 54,
   "id": "fbd3041a",
   "metadata": {},
   "outputs": [
    {
     "name": "stdout",
     "output_type": "stream",
     "text": [
      "1\n",
      "2\n",
      "0\n",
      "3\n"
     ]
    }
   ],
   "source": [
    "num = int(input())\n",
    "result = num\n",
    "while num != 0:\n",
    "    num = int(input())\n",
    "    result += num\n",
    "print(result)"
   ]
  },
  {
   "cell_type": "markdown",
   "id": "7a35b870",
   "metadata": {},
   "source": [
    "В Институте биоинформатики между информатиками и биологами устраивается соревнование. Победителям соревнования достанется большой и вкусный пирог. В команде биологов $a$ человек, а в команде информатиков — $b$ человек.\n",
    "\n",
    "Нужно заранее разрезать пирог таким образом, чтобы можно было раздать кусочки пирога любой команде, выигравшей соревнование, при этом каждому участнику этой команды должно достаться одинаковое число кусочков пирога. И так как не хочется резать пирог на слишком мелкие кусочки, нужно найти минимальное подходящее число.\n",
    "\n",
    "Напишите программу, которая помогает найти это число.\n",
    "Программа должна считывать размеры команд (два положительных целых числа $a$ и $b$, каждое число вводится на отдельной строке) и выводить наименьшее число $d$, которое делится на оба этих числа без остатка."
   ]
  },
  {
   "cell_type": "code",
   "execution_count": 61,
   "id": "f9ad304d",
   "metadata": {},
   "outputs": [
    {
     "name": "stdout",
     "output_type": "stream",
     "text": [
      "4\n",
      "5\n",
      "20\n"
     ]
    }
   ],
   "source": [
    "a, b = int(input()), int(input())\n",
    "d = a if a>b else b\n",
    "while (d%a + d%b) !=0:\n",
    "    d += 1\n",
    "print (d)"
   ]
  },
  {
   "cell_type": "markdown",
   "id": "a85ea96a",
   "metadata": {},
   "source": [
    "Напишите программу, которая считывает целые числа с консоли по одному числу в строке.\n",
    "\n",
    "Для каждого введённого числа проверить:\n",
    "если число меньше 10, то пропускаем это число;\n",
    "если число больше 100, то прекращаем считывать числа;\n",
    "в остальных случаях вывести это число обратно на консоль в отдельной строке."
   ]
  },
  {
   "cell_type": "code",
   "execution_count": 70,
   "id": "e755e011",
   "metadata": {},
   "outputs": [
    {
     "name": "stdout",
     "output_type": "stream",
     "text": [
      "2\n",
      "22\n",
      "22\n",
      "222\n"
     ]
    }
   ],
   "source": [
    "while 1:\n",
    "    num = int(input())\n",
    "    if num<10: continue\n",
    "    if num>100: break\n",
    "    print(num)"
   ]
  },
  {
   "cell_type": "code",
   "execution_count": 69,
   "id": "98519c73",
   "metadata": {},
   "outputs": [
    {
     "name": "stdout",
     "output_type": "stream",
     "text": [
      "2\n",
      "22\n",
      "22\n",
      "222\n"
     ]
    }
   ],
   "source": [
    "num = int(input())\n",
    "while num <= 100:\n",
    "    if num>=10: print(num)\n",
    "    num = int(input())\n"
   ]
  },
  {
   "cell_type": "markdown",
   "id": "e9751eca",
   "metadata": {},
   "source": [
    "Когда Павел учился в школе, он запоминал таблицу умножения прямоугольными блоками. Для тренировок ему бы очень пригодилась программа, которая показывала бы блок таблицы умножения.\n",
    "\n",
    "Напишите программу, на вход которой даются четыре числа $a$, $b$, $c$ и $d$, каждое в своей строке. Программа должна вывести фрагмент таблицы умножения для всех чисел отрезка $[a; b]$ на все числа отрезка $[c;d]$.\n",
    "\n",
    "Числа $a$, $b$, $c$ и $d$ являются натуральными и не превосходят 10, $a \\le b$, $c \\le d$.\n",
    "\n",
    "Следуйте формату вывода из примера, для разделения элементов внутри строки используйте '\\t' — символ табуляции. Заметьте, что левым столбцом и верхней строкой выводятся сами числа из заданных отрезков — заголовочные столбец и строка таблицы."
   ]
  },
  {
   "cell_type": "code",
   "execution_count": 90,
   "id": "436f5fa1",
   "metadata": {},
   "outputs": [
    {
     "name": "stdout",
     "output_type": "stream",
     "text": [
      "\t0\t1\t2\t3\t4\n"
     ]
    }
   ],
   "source": [
    "print('',*range(5),sep='\\t')\n"
   ]
  },
  {
   "cell_type": "code",
   "execution_count": 91,
   "id": "faa3af63",
   "metadata": {},
   "outputs": [
    {
     "name": "stdout",
     "output_type": "stream",
     "text": [
      "1\n",
      "2\n",
      "1\n",
      "2\n",
      " \t1\t2\t\n",
      "1\t1\t2\t\n",
      "2\t2\t4\t\n"
     ]
    }
   ],
   "source": [
    "a,b,c,d = int(input()),int(input()),int(input()),int(input())\n",
    "print(' ',end='\\t')\n",
    "for i  in range(c,d+1):\n",
    "    print(i,end='\\t')\n",
    "print()    \n",
    "for i in range(a,b+1):\n",
    "    print(i,end = '\\t')\n",
    "    for j in range(c,d+1):\n",
    "        print(i*j,end = '\\t')\n",
    "    print()"
   ]
  },
  {
   "cell_type": "markdown",
   "id": "e02c9d6a",
   "metadata": {},
   "source": [
    "Напишите программу, которая считывает с клавиатуры два числа $a$ и $b$, считает и выводит на консоль среднее арифметическое всех чисел из отрезка $[a; b]$, которые кратны числу $3$.\n",
    "\n",
    "В приведенном ниже примере среднее арифметическое считается для чисел на отрезке $[-5; 12]$. Всего чисел, делящихся на $3$, на этом отрезке $6$:   -3, 0, 3, 6, 9, 12. Их среднее арифметическое равно $4.5$\n",
    "\n",
    "На вход программе подаются интервалы, внутри которых всегда есть хотя бы одно число, которое делится на $3$."
   ]
  },
  {
   "cell_type": "code",
   "execution_count": 97,
   "id": "c7da6ec3",
   "metadata": {},
   "outputs": [
    {
     "name": "stdout",
     "output_type": "stream",
     "text": [
      "-5\n",
      "12\n",
      "4.5\n"
     ]
    }
   ],
   "source": [
    "a,b = int(input()), int(input())\n",
    "count, total = 0,0\n",
    "for i in range(a,b+1):\n",
    "    if i%3==0:\n",
    "        count += 1\n",
    "        total += i\n",
    "print(total/count)"
   ]
  },
  {
   "cell_type": "markdown",
   "id": "75250c35",
   "metadata": {},
   "source": [
    "GC-состав является важной характеристикой геномных последовательностей и определяется как процентное соотношение суммы всех гуанинов и цитозинов к общему числу нуклеиновых оснований в геномной последовательности.\n",
    "\n",
    "Напишите программу, которая вычисляет процентное содержание символов G (гуанин) и C (цитозин) в введенной строке (программа не должна зависеть от регистра вводимых символов).\n",
    "\n",
    "Например, в строке \"acggtgttat\" процентное содержание символов G и C равно $\\dfrac4{10} \\cdot 100 = 40.0 $ , где 4 -- это количество символов G и C,  а 10 -- это длина строки."
   ]
  },
  {
   "cell_type": "code",
   "execution_count": 102,
   "id": "db813de9",
   "metadata": {},
   "outputs": [
    {
     "name": "stdout",
     "output_type": "stream",
     "text": [
      "aaac\n",
      "AAAC\n",
      "0 1 1\n",
      "4\n",
      "0.25\n"
     ]
    }
   ],
   "source": [
    "genome = input().upper()\n",
    "print(genome)\n",
    "gc_count = genome.count(\"G\") + genome.count(\"C\")\n",
    "print(genome.count(\"G\") , genome.count(\"C\"),genome.count(\"G\") + genome.count(\"C\"))\n",
    "GC_content = 100*gc_count/len(genome)\n",
    "print(len(genome))\n",
    "print(GC_content)"
   ]
  },
  {
   "cell_type": "code",
   "execution_count": 104,
   "id": "6cc9332d",
   "metadata": {},
   "outputs": [
    {
     "data": {
      "text/plain": [
       "'kigec'"
      ]
     },
     "execution_count": 104,
     "metadata": {},
     "output_type": "execute_result"
    }
   ],
   "source": [
    "s = 'abcdefghijk'\n",
    "s[::-1]\n",
    "s[-1:-10:-2]"
   ]
  },
  {
   "cell_type": "markdown",
   "id": "c35d9243",
   "metadata": {},
   "source": [
    "Узнав, что ДНК не является случайной строкой, только что поступившие в Институт биоинформатики студенты группы информатиков предложили использовать алгоритм сжатия, который сжимает повторяющиеся символы в строке.\n",
    "\n",
    "Кодирование осуществляется следующим образом:\n",
    "s = 'aaaabbсaa' преобразуется в 'a4b2с1a2', то есть группы одинаковых символов исходной строки заменяются на этот символ и количество его повторений в этой позиции строки.\n",
    "\n",
    "Напишите программу, которая считывает строку, кодирует её предложенным алгоритмом и выводит закодированную последовательность на стандартный вывод. Кодирование должно учитывать регистр символов."
   ]
  },
  {
   "cell_type": "code",
   "execution_count": 128,
   "id": "7cf9e2c8",
   "metadata": {},
   "outputs": [
    {
     "name": "stdout",
     "output_type": "stream",
     "text": [
      "_\n",
      "_1\n"
     ]
    }
   ],
   "source": [
    "genom = input()\n",
    "genom += '_'\n",
    "compr_genom = ''\n",
    "i=0\n",
    "while i<len(genom)-1:\n",
    "    for j in range(1,len(genom)-i):\n",
    "        if genom[i] != genom[i+j]: break\n",
    "    compr_genom += genom[i] + str(j)\n",
    "    i += j\n",
    "print(compr_genom)"
   ]
  },
  {
   "cell_type": "markdown",
   "id": "d88017b8",
   "metadata": {},
   "source": [
    "Напишите программу, на вход которой подается одна строка с целыми числами. Программа должна вывести сумму этих чисел.\n",
    "\n",
    "Используйте метод split строки. "
   ]
  },
  {
   "cell_type": "code",
   "execution_count": 152,
   "id": "de4f37ee",
   "metadata": {},
   "outputs": [
    {
     "name": "stdout",
     "output_type": "stream",
     "text": [
      "1 2 3\n",
      "6\n"
     ]
    }
   ],
   "source": [
    "to_sum = [int(i) for i in input().split()]\n",
    "print (sum(to_sum))"
   ]
  },
  {
   "cell_type": "markdown",
   "id": "3fb555c9",
   "metadata": {},
   "source": [
    "Напишите программу, на вход которой подаётся список чисел одной строкой. Программа должна для каждого элемента этого списка вывести сумму двух его соседей. Для элементов списка, являющихся крайними, одним из соседей считается элемент, находящий на противоположном конце этого списка. Например, если на вход подаётся список \"1 3 5 6 10\", то на выход ожидается список \"13 6 9 15 7\" (без кавычек).\n",
    "\n",
    "Если на вход пришло только одно число, надо вывести его же.\n",
    "\n",
    "Вывод должен содержать одну строку с числами нового списка, разделёнными пробелом."
   ]
  },
  {
   "cell_type": "code",
   "execution_count": 183,
   "id": "207c6d5e",
   "metadata": {},
   "outputs": [
    {
     "name": "stdout",
     "output_type": "stream",
     "text": [
      "1 2 3 3\n",
      "5 4 5 4 "
     ]
    }
   ],
   "source": [
    "to_proc = [int(i) for i in input().split()]\n",
    "to_proc.append(to_proc[0])\n",
    "to_proc.insert(0,to_proc[-2])\n",
    "if len(to_proc) == 3: result = to_proc[1:2]\n",
    "else: result = [to_proc[i-1]+to_proc[i+1]  for i in range(1,len(to_proc)-1)]\n",
    "[print(i,end = ' ') for i in result];\n",
    "\n"
   ]
  },
  {
   "cell_type": "markdown",
   "id": "f4e922a8",
   "metadata": {},
   "source": [
    "Напишите программу, которая принимает на вход список чисел в одной строке и выводит на экран в одну строку значения, которые встречаются в нём более одного раза.\n",
    "\n",
    "Для решения задачи может пригодиться метод sort списка.\n",
    "\n",
    "Выводимые числа не должны повторяться, порядок их вывода может быть произвольным."
   ]
  },
  {
   "cell_type": "code",
   "execution_count": 196,
   "id": "282cb32e",
   "metadata": {},
   "outputs": [
    {
     "name": "stdout",
     "output_type": "stream",
     "text": [
      "1 1 1 1 1 2 2 2\n",
      "1 2 "
     ]
    }
   ],
   "source": [
    "to_proc = [int(i) for i in input().split()]\n",
    "to_proc.sort()\n",
    "dubls = []\n",
    "to_proc.append(to_proc[0])\n",
    "if len(to_proc) == 2: dubls = []\n",
    "else:\n",
    "    for i in range(len(to_proc)-1):\n",
    "        if to_proc[i] == to_proc[i+1] and to_proc[i] not in dubls:\n",
    "            dubls.append(to_proc[i])\n",
    "\n",
    "[print(i,end = ' ') for i in dubls];"
   ]
  },
  {
   "cell_type": "markdown",
   "id": "aac81168",
   "metadata": {},
   "source": [
    "Напишите программу, которая считывает с консоли числа (по одному в строке) до тех пор, пока сумма введённых чисел не будет равна 0 и сразу после этого выводит сумму квадратов всех считанных чисел.\n",
    "\n",
    "Гарантируется, что в какой-то момент сумма введённых чисел окажется равной 0, после этого считывание продолжать не нужно.\n",
    "\n",
    "В примере мы считываем числа 1, -3, 5, -6, -10, 13; в этот момент замечаем, что сумма этих чисел равна нулю и выводим сумму их квадратов, не обращая внимания на то, что остались ещё не прочитанные значения."
   ]
  },
  {
   "cell_type": "code",
   "execution_count": 200,
   "id": "51b61483",
   "metadata": {},
   "outputs": [
    {
     "name": "stdout",
     "output_type": "stream",
     "text": [
      "0\n",
      "0\n"
     ]
    }
   ],
   "source": [
    "inp_sum, inp_sq_sum = 0, 0\n",
    "numb = int(input())\n",
    "inp_sum += numb\n",
    "while inp_sum :\n",
    "    numb = int(input())\n",
    "    inp_sum += numb\n",
    "    inp_sq_sum += numb**2\n",
    "print(inp_sq_sum)"
   ]
  },
  {
   "cell_type": "markdown",
   "id": "2fb66d5d",
   "metadata": {},
   "source": [
    "Напишите программу, которая выводит часть последовательности 1 2 2 3 3 3 4 4 4 4 5 5 5 5 5 ... (число повторяется столько раз, чему равно). На вход программе передаётся неотрицательное целое число n — столько элементов последовательности должна отобразить программа. На выходе ожидается последовательность чисел, записанных через пробел в одну строку.\n",
    "\n",
    "Например, если n = 7, то программа должна вывести 1 2 2 3 3 3 4."
   ]
  },
  {
   "cell_type": "code",
   "execution_count": 276,
   "id": "56fd7ee1",
   "metadata": {},
   "outputs": [
    {
     "name": "stdout",
     "output_type": "stream",
     "text": [
      "7\n",
      "1 2 2 3 3 3 4\n"
     ]
    }
   ],
   "source": [
    "length = int(input())\n",
    "n = int((2*length)**0.5)+1\n",
    "ll = []\n",
    "for i in range(1,n+1): ll += [i]*i\n",
    "print(*ll[:length])"
   ]
  },
  {
   "cell_type": "code",
   "execution_count": 271,
   "id": "e6b479a5",
   "metadata": {},
   "outputs": [
    {
     "data": {
      "text/plain": [
       "['1', '2 2', '3 3 3', '4 4 4 4']"
      ]
     },
     "execution_count": 271,
     "metadata": {},
     "output_type": "execute_result"
    }
   ],
   "source": [
    "[((str(i)+' ')*i)[:-1] for i in  range(1,n+1)]"
   ]
  },
  {
   "cell_type": "code",
   "execution_count": 225,
   "id": "aa5aacb1",
   "metadata": {},
   "outputs": [
    {
     "data": {
      "text/plain": [
       "[1, 2, 3, 4]"
      ]
     },
     "execution_count": 225,
     "metadata": {},
     "output_type": "execute_result"
    }
   ],
   "source": [
    "length = 7 # int(input())\n",
    "n = int((2*length)**0.5)+1\n",
    "to_print = sum([[i]*i for i in  range(1,n+1)],start = [])[:length]\n",
    "print(*to_print)"
   ]
  },
  {
   "cell_type": "code",
   "execution_count": 227,
   "id": "2b067255",
   "metadata": {},
   "outputs": [
    {
     "data": {
      "text/plain": [
       "[1, 2, 2, 3, 3, 3, 4, 4, 4, 4]"
      ]
     },
     "execution_count": 227,
     "metadata": {},
     "output_type": "execute_result"
    }
   ],
   "source": [
    "sum([[i]*i for i in  range(1,n)],start = [])"
   ]
  },
  {
   "cell_type": "code",
   "execution_count": 277,
   "id": "7d531fe7",
   "metadata": {},
   "outputs": [
    {
     "data": {
      "text/plain": [
       "[1, 2, 2, 3, 3, 3, 4, 4, 4, 4, 5, 5, 5, 5, 5]"
      ]
     },
     "execution_count": 277,
     "metadata": {},
     "output_type": "execute_result"
    }
   ],
   "source": [
    "n = 5\n",
    "[i for i in range(1,n+1) for j in range(i)]"
   ]
  },
  {
   "cell_type": "markdown",
   "id": "8c9466b0",
   "metadata": {},
   "source": [
    "Напишите программу, которая считывает список чисел $lst$ из первой строки и число $x$ из второй строки, которая выводит все позиции, на которых встречается число $x$в переданном списке $lst$.\n",
    "\n",
    "Позиции нумеруются с нуля, если число $x$ не встречается в списке, вывести строку \"Отсутствует\" (без кавычек, с большой буквы).\n",
    "\n",
    "Позиции должны быть выведены в одну строку, по возрастанию абсолютного значения."
   ]
  },
  {
   "cell_type": "code",
   "execution_count": 287,
   "id": "e53f11b6",
   "metadata": {},
   "outputs": [
    {
     "name": "stdout",
     "output_type": "stream",
     "text": [
      "5 8 2 7 8 8 2 4 8\n",
      "1\n",
      "Отсутствует\n"
     ]
    }
   ],
   "source": [
    "lst = input().split()\n",
    "x = input()\n",
    "if x in lst: print(*[i for i,ii in enumerate(lst) if ii == x])\n",
    "else: print(\"Отсутствует\")"
   ]
  },
  {
   "cell_type": "markdown",
   "id": "1ffdcf8b",
   "metadata": {},
   "source": [
    "Напишите программу, на вход которой подаётся прямоугольная матрица в виде последовательности строк. После последней строки матрицы идёт строка, содержащая только строку \"end\" (без кавычек, см. Sample Input).\n",
    "\n",
    "Программа должна вывести матрицу того же размера, у которой каждый элемент в позиции i, j равен сумме элементов первой матрицы на позициях (i-1, j), (i+1, j), (i, j-1), (i, j+1). У крайних символов соседний элемент находится с противоположной стороны матрицы.\n",
    "\n",
    "В случае одной строки/столбца элемент сам себе является соседом по соответствующему направлению."
   ]
  },
  {
   "cell_type": "code",
   "execution_count": null,
   "id": "300423b7",
   "metadata": {},
   "outputs": [],
   "source": [
    "row = input()\n",
    "matr = []\n",
    "while row !='end':\n",
    "    matr.append([int(i) for i in row.split()])\n",
    "    row = input()\n",
    "n, m = len(matr),len(matr[0])\n",
    "new_matr = []\n",
    "for i  in range(n):\n",
    "    new_row = []\n",
    "    for j in range(m):\n",
    "        new_row.append(matr[(i-1)%n][j] + matr[(i+1)%n][j] + matr[i][(j-1)%m] + matr[i][(j+1)%m])\n",
    "    new_matr.append(new_row)\n",
    "for r in new_matr: print(*r)"
   ]
  },
  {
   "cell_type": "markdown",
   "id": "da9048cc",
   "metadata": {},
   "source": [
    "Выведите таблицу размером $n \\times n$, заполненную числами от $1$ до $n^2$\n",
    "  по спирали, выходящей из левого верхнего угла и закрученной по часовой стрелке, как показано в примере (здесь $n=5$):"
   ]
  },
  {
   "cell_type": "code",
   "execution_count": 366,
   "id": "f311316a",
   "metadata": {},
   "outputs": [
    {
     "name": "stdout",
     "output_type": "stream",
     "text": [
      "5\n",
      "1 2 3 4 5\n",
      "16 17 18 19 6\n",
      "15 24 25 20 7\n",
      "14 23 22 21 8\n",
      "13 12 11 10 9\n"
     ]
    }
   ],
   "source": [
    "n = int(input())\n",
    "table = [[0]*n for i in range(n)]\n",
    "j,i,num =-1,0,0\n",
    "\n",
    "for q in range(n): \n",
    "    j += 1\n",
    "    num += 1\n",
    "    table[i][j] = num\n",
    "    direct_switch = 0\n",
    "for ln in range(n-1,0,-1):\n",
    "        for i_step in range(ln):\n",
    "            i += (-1)**direct_switch\n",
    "            num += 1\n",
    "            table[i][j] = num\n",
    "        for j_step in range(ln):\n",
    "            j += (-1)**(direct_switch+1)\n",
    "            num += 1\n",
    "            table[i][j] = num\n",
    "        direct_switch += 1\n",
    "        \n",
    "[print (*row) for row in table];"
   ]
  },
  {
   "cell_type": "code",
   "execution_count": 360,
   "id": "2f3f8a5a",
   "metadata": {},
   "outputs": [
    {
     "name": "stdout",
     "output_type": "stream",
     "text": [
      "0 1 4 9 16\n",
      "15 16 17 18 5\n",
      "14 23 24 19 6\n",
      "13 22 21 20 7\n",
      "12 11 10 9 8\n"
     ]
    }
   ],
   "source": [
    "[print (*row) for row in table];"
   ]
  },
  {
   "cell_type": "code",
   "execution_count": 367,
   "id": "b4885095",
   "metadata": {},
   "outputs": [
    {
     "data": {
      "text/plain": [
       "10555"
      ]
     },
     "execution_count": 367,
     "metadata": {},
     "output_type": "execute_result"
    }
   ],
   "source": [
    "def f(n):\n",
    "    return n * 10 + 5\n",
    "f(f(f(10)))"
   ]
  },
  {
   "cell_type": "code",
   "execution_count": 349,
   "id": "7a52143d",
   "metadata": {},
   "outputs": [
    {
     "data": {
      "text/plain": [
       "1"
      ]
     },
     "execution_count": 349,
     "metadata": {},
     "output_type": "execute_result"
    }
   ],
   "source": [
    "(-1)**0"
   ]
  },
  {
   "cell_type": "markdown",
   "id": "9a8932e8",
   "metadata": {},
   "source": [
    "## 3. Функции. Словари. Интерпретатор. Файлы. Модули.\n",
    "### 3.1 Функции"
   ]
  },
  {
   "cell_type": "markdown",
   "id": "8ffcab41",
   "metadata": {},
   "source": [
    "Напишите функцию $f(x)$, которая возвращает значение следующей функции, определённой на всей числовой прямой:\n",
    "\n",
    "$f(x)= \\begin{cases}   1 - (x + 2)^2,\\quad &\\text{при } x\\le -2\\\\  -\\frac x2 ,\\quad &\\text{при } -2 \\lt x \\le 2\\\\   (x-2)^2 + 1,\\quad &\\text{при } 2 \\lt x \\end{cases}$\n",
    "\n",
    "Требуется реализовать только функцию, решение не должно осуществлять операций ввода-вывода."
   ]
  },
  {
   "cell_type": "code",
   "execution_count": 371,
   "id": "5794d92e",
   "metadata": {},
   "outputs": [
    {
     "data": {
      "text/plain": [
       "(7.25, -5.25, -0.5)"
      ]
     },
     "execution_count": 371,
     "metadata": {},
     "output_type": "execute_result"
    }
   ],
   "source": [
    "def f(x):\n",
    "    # put your python code here\n",
    "    if x <= -2: return 1-(x+2)**2\n",
    "    if -2< x <= 2: return -x/2\n",
    "    if 2 < x: return (x-2)**2 + 1\n",
    "    \n",
    "f(4.5), f(-4.5), f(1)"
   ]
  },
  {
   "cell_type": "markdown",
   "id": "2ed79597",
   "metadata": {},
   "source": [
    "Напишите функцию modify_list(l), которая принимает на вход список целых чисел, удаляет из него все нечётные значения, а чётные нацело делит на два. Функция не должна ничего возвращать, требуется только изменение переданного списка, например:\n",
    "```python\n",
    "lst = [1, 2, 3, 4, 5, 6]\n",
    "print(modify_list(lst))  # None\n",
    "print(lst)               # [1, 2, 3]\n",
    "modify_list(lst)\n",
    "print(lst)               # [1]\n",
    "\n",
    "lst = [10, 5, 8, 3]\n",
    "modify_list(lst)\n",
    "print(lst)               # [5, 4]\n",
    "```\n",
    "Функция не должна осуществлять ввод/вывод информации."
   ]
  },
  {
   "cell_type": "code",
   "execution_count": 389,
   "id": "b94e2e75",
   "metadata": {},
   "outputs": [],
   "source": [
    "def modify_list(l):\n",
    "    lst_ln = len(l)\n",
    "    for i in range(lst_ln-1,-1,-1):\n",
    "        if l[i]%2 == 1:\n",
    "            l.pop(i)\n",
    "        else:\n",
    "            l[i] = l[i]//2   "
   ]
  },
  {
   "cell_type": "markdown",
   "id": "81cea55b",
   "metadata": {},
   "source": [
    "### 3.2 Словари"
   ]
  },
  {
   "cell_type": "markdown",
   "id": "af29e7af",
   "metadata": {},
   "source": [
    "Напишите функцию `update_dictionary(d, key, value)`, которая принимает на вход словарь $d$ и два числа: $key$ и $value$.\n",
    "\n",
    "Если ключ $key$ есть в словаре $d$, то добавьте значение $value$ в список, который хранится по этому ключу.\n",
    "Если ключа $key$ нет в словаре, то нужно добавить значение в список по ключу $2 * key$. Если и ключа $2 * key$ нет, то нужно добавить ключ $2 * key$ в словарь и сопоставить ему список из переданного элемента $[value]$.\n",
    "\n",
    "Требуется реализовать только эту функцию, кода вне её не должно быть.\n",
    "Функция не должна вызывать внутри себя функции input и print.\n",
    "\n",
    "Пример работы функции:"
   ]
  },
  {
   "cell_type": "code",
   "execution_count": 404,
   "id": "50870ee6",
   "metadata": {},
   "outputs": [],
   "source": [
    "def update_dictionary(d, key, value):\n",
    "    if key in d:\n",
    "        d[key] += [value]\n",
    "    else:\n",
    "        if 2*key in d:\n",
    "            d[2*key] += [value]\n",
    "        else:\n",
    "            d[2*key] = [value]"
   ]
  },
  {
   "cell_type": "markdown",
   "id": "5d82b29b",
   "metadata": {},
   "source": [
    "Когда Антон прочитал «Войну и мир», ему стало интересно, сколько слов и в каком количестве используется в этой книге.\n",
    "\n",
    "Помогите Антону написать упрощённую версию такой программы, которая сможет подсчитать слова, разделённые пробелом и вывести получившуюся статистику.\n",
    "\n",
    "Программа должна считывать одну строку со стандартного ввода и выводить для каждого уникального слова в этой строке число его повторений (без учёта регистра) в формате \"слово количество\" (см. пример вывода).\n",
    "Порядок вывода слов может быть произвольным, каждое уникальное слово﻿ должно выводиться только один раз."
   ]
  },
  {
   "cell_type": "code",
   "execution_count": null,
   "id": "43a1197b",
   "metadata": {},
   "outputs": [],
   "source": [
    "Sample Input 1:\n",
    "\n",
    "a aa abC aa ac abc bcd a\n",
    "Sample Output 1:\n",
    "\n",
    "ac 1\n",
    "a 2\n",
    "abc 2\n",
    "bcd 1\n",
    "aa 2"
   ]
  },
  {
   "cell_type": "code",
   "execution_count": null,
   "id": "d270881c",
   "metadata": {},
   "outputs": [],
   "source": [
    "row = input().lower().split()\n",
    "ords_count = {}\n",
    "for word in row:\n",
    "    if word in ords_count:\n",
    "        ords_count[word] += 1\n",
    "    else:\n",
    "        ords_count[word] = 1\n",
    "ords_count\n",
    "[print(*item) for item in ords_count.items()];"
   ]
  },
  {
   "cell_type": "markdown",
   "id": "e58ebaa9",
   "metadata": {},
   "source": [
    "Напишите программу, которая считывает строку с числом $n$, которое задаёт количество чисел, которые нужно считать. Далее считывает $n$ строк с числами $x_i$, по одному числу в каждой строке. Итого будет $n+1$ строк.\n",
    "\n",
    "При считывании числа $x_i$  программа должна на отдельной строке вывести значение $f(x_i)$. Функция $f(x)$ уже реализована и доступна для вызова. \n",
    "\n",
    "Функция вычисляется достаточно долго и зависит только от переданного аргумента $x$. Для того, чтобы уложиться в ограничение по времени, нужно избежать повторного вычисления значений."
   ]
  },
  {
   "cell_type": "code",
   "execution_count": 436,
   "id": "4bef5404",
   "metadata": {},
   "outputs": [],
   "source": [
    "def f(x): \n",
    "    return x**2"
   ]
  },
  {
   "cell_type": "code",
   "execution_count": 440,
   "id": "ad593e89",
   "metadata": {},
   "outputs": [
    {
     "name": "stdout",
     "output_type": "stream",
     "text": [
      "1\n",
      "2\n",
      "4\n"
     ]
    }
   ],
   "source": [
    "n = int(input())\n",
    "function_values = {}\n",
    "for i in range(n):\n",
    "    readed = int(input())\n",
    "    if readed not in function_values:\n",
    "        function_values[readed] = f(readed)\n",
    "    print(function_values[readed])"
   ]
  },
  {
   "cell_type": "markdown",
   "id": "f0e82fe9",
   "metadata": {},
   "source": [
    "### 3.4 Файловый ввод/вывод"
   ]
  },
  {
   "cell_type": "code",
   "execution_count": 443,
   "id": "dacfcf7c",
   "metadata": {},
   "outputs": [
    {
     "data": {
      "text/plain": [
       "'.\\\\path1\\\\path2'"
      ]
     },
     "execution_count": 443,
     "metadata": {},
     "output_type": "execute_result"
    }
   ],
   "source": [
    "import os\n",
    "os.path.join('.','path1','path2')"
   ]
  },
  {
   "cell_type": "markdown",
   "id": "822f0ccd",
   "metadata": {},
   "source": [
    "На прошлой неделе мы сжимали строки, используя кодирование повторов. Теперь нашей задачей будет восстановление исходной строки обратно.\n",
    "\n",
    "Напишите программу, которая считывает из файла строку, соответствующую тексту, сжатому с помощью кодирования повторов, и производит обратную операцию, получая исходный текст.\n",
    "\n",
    "Запишите полученный текст в файл и прикрепите его, как ответ на это задание.\n",
    "\n",
    "В исходном тексте не встречаются цифры, так что код однозначно интерпретируем.\n",
    "\n",
    "Примечание. Это первое задание типа Dataset Quiz. В таких заданиях после нажатия \"Start Quiz\" у вас появляется ссылка \"download your dataset\". Используйте эту ссылку для того, чтобы загрузить файл со входными данными к себе на компьютер. Запустите вашу программу, используя этот файл в качестве входных данных. Выходной файл, который при этом у вас получится, надо отправить в качестве ответа на эту задачу."
   ]
  },
  {
   "cell_type": "markdown",
   "id": "007a8491",
   "metadata": {},
   "source": [
    "Sample Input: a3b4c2e10b1\n",
    "Sample Output: aaabbbbcceeeeeeeeeeb"
   ]
  },
  {
   "cell_type": "code",
   "execution_count": 445,
   "id": "87346223",
   "metadata": {},
   "outputs": [],
   "source": [
    "\n",
    "# with open('test.txt','w') as test_txt:\n",
    "#     test_txt.write(\"a3b4c2e10b1\\n\")"
   ]
  },
  {
   "cell_type": "code",
   "execution_count": 471,
   "id": "73e6bba2",
   "metadata": {},
   "outputs": [],
   "source": [
    "# чтение сжатого текста из файла\n",
    "with open('dataset_3363_2.txt','r') as in_file:\n",
    "    compressed_text = in_file.readline().strip()\n",
    "# распаковка сжатого текста\n",
    "i = 0\n",
    "decompressed_text = \"\"\n",
    "while i < len(compressed_text):\n",
    "    symbol = compressed_text[i]\n",
    "    n = \"\"\n",
    "    while i+1<len(compressed_text) and compressed_text[i+1].isnumeric():\n",
    "        n += compressed_text[i+1]\n",
    "        i += 1\n",
    "    decompressed_text += symbol*int(n)\n",
    "    i += 1\n",
    "# запись распакованного текста в файл\n",
    "with open('answer.txt','w') as answer:\n",
    "    answer.write(decompressed_text + \"\\n\")"
   ]
  },
  {
   "cell_type": "markdown",
   "id": "555ed29d",
   "metadata": {},
   "source": [
    "Недавно мы считали для каждого слова количество его вхождений в строку. Но на все слова может быть не так интересно смотреть, как, например, на наиболее часто используемые.\n",
    "\n",
    "Напишите программу, которая считывает текст из файла (в файле может быть больше одной строки) и выводит самое частое слово в этом тексте и через пробел то, сколько раз оно встретилось. Если таких слов несколько, вывести лексикографически первое (можно использовать оператор < для строк).\n",
    "\n",
    "В качестве ответа укажите вывод программы, а не саму программу.\n",
    "\n",
    "Слова, написанные в разных регистрах, считаются одинаковыми."
   ]
  },
  {
   "cell_type": "code",
   "execution_count": 476,
   "id": "9e82cf12",
   "metadata": {},
   "outputs": [],
   "source": [
    "# with open('test.txt','w') as test_txt:\n",
    "#     test_txt.write('''abc a bCd bC AbC BC BCD bcd ABC\n",
    "# abc a a a a a bCd bC AbC BC BCD bcd ABC\n",
    "# abc a bCd bC bC bC AbC BC BCD bcd ABC\n",
    "# abc a bCd bC AbC BC BCD bcd ABC''')"
   ]
  },
  {
   "cell_type": "code",
   "execution_count": 499,
   "id": "8ecbd3a2",
   "metadata": {},
   "outputs": [
    {
     "name": "stdout",
     "output_type": "stream",
     "text": [
      "p 14\n"
     ]
    }
   ],
   "source": [
    "text = \"\"\n",
    "with open('dataset_3363_3.txt','r') as in_file:\n",
    "    for line in in_file:\n",
    "        text += line.strip().lower() + \" \"\n",
    "words_in_text = text.split()\n",
    "\n",
    "counter = {}\n",
    "for word in words_in_text:\n",
    "    counter[word] = counter.get(word,0) + 1\n",
    "    \n",
    "top_word = sorted([word for word,freq in counter.items() if freq == max(counter.values())])[0]\n",
    "print(top_word,counter[top_word ])        \n"
   ]
  },
  {
   "cell_type": "code",
   "execution_count": 500,
   "id": "c428fa27",
   "metadata": {},
   "outputs": [
    {
     "name": "stdout",
     "output_type": "stream",
     "text": [
      "p 14\n"
     ]
    }
   ],
   "source": [
    "with open('dataset_3363_3.txt') as f:\n",
    "    text = f.read().lower().split()\n",
    "popular_word = max(set(text), key=text.count)\n",
    "print(popular_word, text.count(popular_word))"
   ]
  },
  {
   "cell_type": "markdown",
   "id": "568934ba",
   "metadata": {},
   "source": [
    "Имеется файл с данными по успеваемости абитуриентов. Он представляет из себя набор строк, где в каждой строке записана следующая информация:\n",
    "\n",
    "Фамилия;Оценка_по_математике;Оценка_по_физике;Оценка_по_русскому_языку\n",
    "\n",
    "Поля внутри строки разделены точкой с запятой, оценки — целые числа.\n",
    "\n",
    "Напишите программу, которая считывает исходный файл с подобной структурой и для каждого абитуриента записывает его среднюю оценку по трём предметам на отдельной строке, соответствующей этому абитуриенту, в файл с ответом.\n",
    "\n",
    "Также вычислите средние баллы по математике, физике и русскому языку по всем абитуриентам и добавьте полученные значения, разделённые пробелом, последней строкой в файл с ответом.\n",
    "\n",
    "В качестве ответа на задание прикрепите полученный файл со средними оценками по каждому ученику и одной строкой со средними оценками по трём предметам.\n",
    "\n",
    "Примечание. Для разбиения строки на части по символу ';' можно использовать метод split следующим образом:"
   ]
  },
  {
   "cell_type": "code",
   "execution_count": 513,
   "id": "ccf1b526",
   "metadata": {},
   "outputs": [],
   "source": [
    "# with open('test.txt','w', encoding='utf-8') as test_txt:\n",
    "#     test_txt.write('''Петров;85;92;78\n",
    "# Сидоров;100;88;94\n",
    "# Иванов;58;72;85''')\n"
   ]
  },
  {
   "cell_type": "code",
   "execution_count": 587,
   "id": "180f20f7",
   "metadata": {},
   "outputs": [],
   "source": [
    "with open('dataset_3363_4.txt','r', encoding='utf-8') as in_file:\n",
    "    data = [line.split(';') for line in in_file.read().split()]\n",
    "    \n",
    "num_data = [[int(i) for i in line[1:]] for line in data]   \n",
    "answer = [str(sum(student)/3) + '\\n' for student in num_data]\n",
    "total = sum(num_data,start=[])\n",
    "last_line = (str(sum(total[0::3])/len(total[0::3])) + ' ' + \n",
    "str(sum(total[1::3])/len(total[1::3])) + ' ' + \n",
    "str(sum(total[2::3])/len(total[2::3])))\n",
    "answer.append(last_line)\n",
    "\n",
    "with open('answer3.txt','w') as answer3:\n",
    "    answer3.write(''.join(answer))"
   ]
  },
  {
   "cell_type": "markdown",
   "id": "31f281bc",
   "metadata": {},
   "source": [
    "### 3.5 Модули, подключение модулей"
   ]
  },
  {
   "cell_type": "markdown",
   "id": "e0d2dba6",
   "metadata": {},
   "source": [
    "Напишите программу, которая подключает модуль `math` и, используя значение числа $\\pi$ из этого модуля, находит для переданного ей на стандартный ввод радиуса круга периметр этого круга и выводит его на стандартный вывод.\n",
    "\n",
    "Sample Input:\n",
    "10.0\n",
    "\n",
    "Sample Output:\n",
    "62.83185307179586"
   ]
  },
  {
   "cell_type": "code",
   "execution_count": 4,
   "id": "3b767b17",
   "metadata": {},
   "outputs": [
    {
     "name": "stdout",
     "output_type": "stream",
     "text": [
      "10\n",
      "62.83185307179586\n"
     ]
    }
   ],
   "source": [
    "import math\n",
    "\n",
    "print(2*math.pi*float(input()))"
   ]
  },
  {
   "cell_type": "markdown",
   "id": "5274c427",
   "metadata": {},
   "source": [
    "Напишите программу, которая запускается из консоли и печатает значения всех переданных аргументов на экран (имя скрипта выводить не нужно). Не изменяйте порядок аргументов при выводе.\n",
    "\n",
    "Для доступа к аргументам командной строки программы подключите модуль sys и используйте переменную argv из этого модуля.\n",
    "\n",
    "Пример работы программы:\n",
    "`\n",
    "> python3 my_solution.py arg1 arg2   \n",
    "arg1 arg2\n",
    "`"
   ]
  },
  {
   "cell_type": "code",
   "execution_count": null,
   "id": "be0d2a56",
   "metadata": {},
   "outputs": [],
   "source": [
    "import sys\n",
    "print(*sys.argv[1:])"
   ]
  },
  {
   "cell_type": "markdown",
   "id": "56c6ddfb",
   "metadata": {},
   "source": [
    "### 3.6 Установка дополнительных модулей"
   ]
  },
  {
   "cell_type": "markdown",
   "id": "d3b15d8f",
   "metadata": {},
   "source": [
    "Скачайте файл. В нём указан адрес другого файла, который нужно скачать с использованием модуля requests и посчитать число строк в нём.\n",
    "\n",
    "Используйте функцию get для получения файла (имеет смысл вызвать метод strip к передаваемому параметру, чтобы убрать пробельные символы по краям).\n",
    "\n",
    "После получения файла вы можете проверить результат, обратившись к полю text. Если результат работы скрипта не принимается, проверьте поле url на правильность. Для подсчёта количества строк разбейте текст с помощью метода splitlines.\n",
    "\n",
    "В поле ответа введите одно число или отправьте файл, содержащий одно число."
   ]
  },
  {
   "cell_type": "code",
   "execution_count": 50,
   "id": "4ae85f5b",
   "metadata": {},
   "outputs": [
    {
     "name": "stdout",
     "output_type": "stream",
     "text": [
      "164\n",
      "164\n"
     ]
    }
   ],
   "source": [
    "import requests\n",
    "\n",
    "with open('C:\\\\Users\\Manych\\Downloads\\dataset_3378_2.txt','r', encoding='utf-8') as file_url:\n",
    "    url = file_url.read().strip()\n",
    "r = requests.get(url)\n",
    "text_by_lines = r.text.splitlines()\n",
    "print(len(text_by_lines))\n",
    "print(r.text.count('\\n'))\n"
   ]
  },
  {
   "cell_type": "markdown",
   "id": "bff50eea",
   "metadata": {},
   "source": [
    "Имеется набор файлов, каждый из которых, кроме последнего, содержит имя следующего файла.\n",
    "Первое слово в тексте последнего файла: \"We\".\n",
    "\n",
    "Скачайте предложенный файл. В нём содержится ссылка на первый файл из этого набора.\n",
    "\n",
    "Все файлы располагаются в каталоге по адресу:\n",
    "https://stepic.org/media/attachments/course67/3.6.3/\n",
    "\n",
    "Загрузите содержимое ﻿последнего файла из набора, как ответ на это задание."
   ]
  },
  {
   "cell_type": "code",
   "execution_count": 85,
   "id": "190cfe58",
   "metadata": {},
   "outputs": [
    {
     "name": "stdout",
     "output_type": "stream",
     "text": [
      "We are the champions, my friends,\n",
      "And we'll keep on fighting 'til the end.\n",
      "We are the champions.\n",
      "We are the champions.\n",
      "No time for losers\n",
      "'Cause we are the champions of the world.\n"
     ]
    }
   ],
   "source": [
    "import requests\n",
    "from IPython.display import clear_output\n",
    "\n",
    "pref = 'https://stepic.org/media/attachments/course67/3.6.3/'\n",
    "switch = 'We'\n",
    "dataset_name = 'dataset_3378_3.txt'\n",
    "file_content = ''\n",
    "with open('C:\\\\Users\\Manych\\Downloads\\dataset_3378_3.txt','r', encoding='utf-8') as file_url:\n",
    "    url = file_url.read().strip()\n",
    "\n",
    "i = 0\n",
    "while  file_content[:2]  != switch:\n",
    "    print(i, url[:100], file_content[:20])\n",
    "    i += 1\n",
    "    file_content = requests.get(url).text.strip()\n",
    "    url = pref + file_content\n",
    "    clear_output(wait=True)\n",
    "        \n",
    "print(file_content)"
   ]
  },
  {
   "cell_type": "markdown",
   "id": "bccbf943",
   "metadata": {},
   "source": [
    "### 3.7 Задачи по материалам недели"
   ]
  },
  {
   "cell_type": "markdown",
   "id": "67bc8f8b",
   "metadata": {},
   "source": [
    "Напишите программу, которая принимает на стандартный вход список игр футбольных команд с результатом матча и выводит на стандартный вывод сводную таблицу результатов всех матчей.\n",
    "\n",
    "За победу команде начисляется 3 очка, за поражение — 0, за ничью — 1.\n",
    "\n",
    "Формат ввода следующий:\n",
    "В первой строке указано целое число $n$ — количество завершенных игр.   \n",
    "После этого идет $n$ строк, в которых записаны результаты игры в следующем формате:   \n",
    "Первая_команда;Забито_первой_командой;Вторая_команда;Забито_второй_командой   \n",
    "\n",
    "Вывод программы необходимо оформить следующим образом:   \n",
    "Команда:Всего_игр Побед Ничьих Поражений Всего_очков   \n",
    "\n",
    "Конкретный пример ввода-вывода приведён ниже.\n",
    "\n",
    "Порядок вывода команд произвольный."
   ]
  },
  {
   "cell_type": "code",
   "execution_count": null,
   "id": "3e2f7969",
   "metadata": {},
   "outputs": [],
   "source": [
    "3\n",
    "Спартак;9;Зенит;10\n",
    "Локомотив;12;Зенит;3\n",
    "Спартак;8;Локомотив;15"
   ]
  },
  {
   "cell_type": "code",
   "execution_count": 107,
   "id": "080bc73d",
   "metadata": {},
   "outputs": [
    {
     "name": "stdout",
     "output_type": "stream",
     "text": [
      "3\n",
      "Спартак;9;Зенит;10\n",
      "Локомотив;12;Зенит;3\n",
      "Спартак;8;Локомотив;15\n",
      "Спартак: 2 0 0 2 0\n",
      "Зенит: 2 1 0 1 3\n",
      "Локомотив: 2 2 0 0 6\n"
     ]
    }
   ],
   "source": [
    "statistics = {}\n",
    "n = int(input())\n",
    "for i in range(n):\n",
    "    team_1, points_1, team_2, points_2 = input().split(';')\n",
    "    points_1, points_2 = int(points_1), int(points_2)\n",
    "#     print(team_1, points_1, team_2, points_2)\n",
    "    statistics[team_1] = [statistics.get(team_1,[0,0,0,0,0])[0] + 1,\n",
    "                          statistics.get(team_1,[0,0,0,0,0])[1] + int(points_1>points_2),\n",
    "                          statistics.get(team_1,[0,0,0,0,0])[2] + int(points_1==points_2),\n",
    "                          statistics.get(team_1,[0,0,0,0,0])[3] + int(points_1<points_2),\n",
    "                          statistics.get(team_1,[0,0,0,0,0])[4] + \n",
    "                          3*int(points_1>points_2) + int(points_1==points_2)]\n",
    "    statistics[team_2] = [statistics.get(team_2,[0,0,0,0,0])[0] + 1,\n",
    "                          statistics.get(team_2,[0,0,0,0,0])[1] + int(points_1<points_2),\n",
    "                          statistics.get(team_2,[0,0,0,0,0])[2] + int(points_1==points_2),\n",
    "                          statistics.get(team_2,[0,0,0,0,0])[3] + int(points_1>points_2),\n",
    "                          statistics.get(team_2,[0,0,0,0,0])[4] + \n",
    "                          3*int(points_1<points_2) + int(points_1==points_2)]   \n",
    "for team in statistics:\n",
    "    print(team+':', *statistics[team])"
   ]
  },
  {
   "cell_type": "markdown",
   "id": "938c96dc",
   "metadata": {},
   "source": [
    "Дополнительная\n",
    "В какой-то момент в Институте биоинформатики биологи перестали понимать, что говорят информатики: они говорили каким-то странным набором звуков.\n",
    "\n",
    "В какой-то момент один из биологов раскрыл секрет информатиков: они использовали при общении подстановочный шифр, т.е. заменяли каждый символ исходного сообщения на соответствующий ему другой символ. Биологи раздобыли ключ к шифру и теперь нуждаются в помощи:\n",
    "\n",
    "Напишите программу, которая умеет шифровать и расшифровывать шифр подстановки. Программа принимает на вход две строки одинаковой длины, на первой строке записаны символы исходного алфавита, на второй строке — символы конечного алфавита, после чего идёт строка, которую нужно зашифровать переданным ключом, и ещё одна строка, которую нужно расшифровать.\n",
    "\n",
    "Пусть, например, на вход программе передано:\n",
    "abcd\n",
    "*d%#\n",
    "abacabadaba\n",
    "#*%*d*%\n",
    "\n",
    "Это значит, что символ a исходного сообщения заменяется на символ * в шифре, b заменяется на d, c — на % и d — на #.\n",
    "Нужно зашифровать строку abacabadaba и расшифровать строку #*%*d*% с помощью этого шифра. Получаем следующие строки, которые и передаём на вывод программы:\n",
    "*d*%*d*#*d*\n",
    "dacabac"
   ]
  },
  {
   "cell_type": "code",
   "execution_count": 147,
   "id": "c7c7a444",
   "metadata": {},
   "outputs": [
    {
     "name": "stdout",
     "output_type": "stream",
     "text": [
      "abcd\n",
      "*d%#\n",
      "abacabadaba\n",
      "#*%*d*%\n",
      "*d*%*d*#*d* dacabac\n"
     ]
    }
   ],
   "source": [
    "original, coded = input(), input()\n",
    "to_code, to_decode = input(), input()\n",
    "\n",
    "code = {k:v for (k,v) in zip(original,coded)}\n",
    "decode = {k:v for (k,v) in zip(coded,original)}\n",
    "\n",
    "coded = ''.join([code[s] for s in to_code])\n",
    "decoded = ''.join([decode[s] for s in to_decode])\n",
    "\n",
    "print(coded,'\\n',decoded)"
   ]
  },
  {
   "cell_type": "markdown",
   "id": "94e916f8",
   "metadata": {},
   "source": [
    "Простейшая система проверки орфографии может быть основана на использовании списка известных слов.\n",
    "Если введённое слово не найдено в этом списке, оно помечается как \"ошибка\".\n",
    "\n",
    "Попробуем написать подобную систему.\n",
    "\n",
    "На вход программе первой строкой передаётся количество $d$ известных нам слов, после чего на $d$ строках указываются эти слова. Затем передаётся количество $l$ строк текста для проверки, после чего $l$ строк текста.\n",
    "\n",
    "Выведите уникальные \"ошибки\" в произвольном порядке. Работу производите без учёта регистра."
   ]
  },
  {
   "cell_type": "code",
   "execution_count": 151,
   "id": "0c4911a4",
   "metadata": {},
   "outputs": [
    {
     "name": "stdout",
     "output_type": "stream",
     "text": [
      "3\n",
      "asd\n",
      "sdf\n",
      "dfg\n"
     ]
    }
   ],
   "source": [
    "vocabulary_size = int(input())\n",
    "vocabulary = {input().lower() for i in range(vocabulary_size)}\n",
    "\n",
    "text_size = int(input())\n",
    "text_words = sum([input().lower().split() for i in range(text_size)],[])\n",
    "\n",
    "errors = {word for word in text_words if word not in vocabulary}\n",
    "print(*errors,sep = '\\n')"
   ]
  },
  {
   "cell_type": "markdown",
   "id": "0cafbc95",
   "metadata": {},
   "source": [
    "Группа биологов в институте биоинформатики завела себе черепашку.\n",
    "\n",
    "После дрессировки черепашка научилась понимать и запоминать указания биологов следующего вида:\n",
    "север 10\n",
    "запад 20\n",
    "юг 30\n",
    "восток 40\n",
    "где первое слово — это направление, в котором должна двигаться черепашка, а число после слова — это положительное расстояние в сантиметрах, которое должна пройти черепашка.\n",
    "\n",
    "Но команды даются быстро, а черепашка ползёт медленно, и программисты догадались, что можно написать программу, которая определит, куда в итоге биологи приведут черепашку. Для этого программисты просят вас написать программу, которая выведет точку, в которой окажется черепашка после всех команд. Для простоты они решили считать, что движение начинается в точке (0, 0), и движение на восток увеличивает первую координату, а на север — вторую.\n",
    "\n",
    "Программе подаётся на вход число команд nn, которые нужно выполнить черепашке, после чего nn строк с самими командами. Вывести нужно два числа в одну строку: первую и вторую координату конечной точки черепашки. Все координаты целочисленные."
   ]
  },
  {
   "cell_type": "markdown",
   "id": "4134d16a",
   "metadata": {},
   "source": [
    "Sample Input:\n",
    "4   \n",
    "север 10   \n",
    "запад 20   \n",
    "юг 30   \n",
    "восток 40   \n",
    "Sample Output:   \n",
    "20 -20"
   ]
  },
  {
   "cell_type": "code",
   "execution_count": 173,
   "id": "2e1a1399",
   "metadata": {},
   "outputs": [
    {
     "name": "stdout",
     "output_type": "stream",
     "text": [
      "2\n"
     ]
    }
   ],
   "source": [
    "convert = {'север': [0,1],'запад': [-1,0],'юг': [0,-1],'восток': [1,0]}\n",
    "coordinates = [0,0]\n",
    "\n",
    "commands_num = int(input())\n",
    "for i in range(commands_num):\n",
    "    direction, distance = input().split()\n",
    "    coordinates[0] += convert[direction][0]*int(distance)\n",
    "    coordinates[1] += convert[direction][1]*int(distance)    \n",
    "print(*coordinates)"
   ]
  },
  {
   "cell_type": "markdown",
   "id": "76346fa1",
   "metadata": {},
   "source": [
    "Дан файл с таблицей в формате TSV с информацией о росте школьников разных классов.\n",
    "\n",
    "Напишите программу, которая прочитает этот файл и подсчитает для каждого класса средний рост учащегося.\n",
    "\n",
    "Файл состоит из набора строк, каждая из которых представляет собой три поля:\n",
    "Класс Фамилия Рост\n",
    "\n",
    "Класс обозначается только числом. Буквенные модификаторы не используются. Номер класса может быть от 1 до 11 включительно. В фамилии нет пробелов, а в качестве роста используется натуральное число, но при подсчёте среднего требуется вычислить значение в виде вещественного числа.\n",
    "\n",
    "Выводить информацию о среднем росте следует в порядке возрастания номера класса (для классов с первого по одиннадцатый). Если про какой-то класс нет информации, необходимо вывести напротив него прочерк.\n",
    "\n",
    "В качестве ответа прикрепите файл с полученными данными о среднем росте."
   ]
  },
  {
   "cell_type": "code",
   "execution_count": null,
   "id": "c1140414",
   "metadata": {},
   "outputs": [],
   "source": [
    "Sample Input:\n",
    "\n",
    "6\tВяххи\t159\n",
    "11\tФедотов\t172\n",
    "7\tБондарев\t158\n",
    "6\tЧайкина\t153"
   ]
  },
  {
   "cell_type": "code",
   "execution_count": 287,
   "id": "8688c586",
   "metadata": {},
   "outputs": [
    {
     "name": "stdout",
     "output_type": "stream",
     "text": [
      "1 124.875\n",
      "2 130.85714285714286\n",
      "3 136.14285714285714\n",
      "4 139.88888888888889\n",
      "5 144.85714285714286\n",
      "6 155.16666666666666\n",
      "7 158.14285714285714\n",
      "8 164.63636363636363\n",
      "9 169.66666666666666\n",
      "10 171.5\n",
      "11 174.5\n",
      "\n"
     ]
    }
   ],
   "source": [
    "file_name =  \"dataset_3380_5.txt\"\n",
    "with open(\"C:\\\\Users\\Manych\\Downloads\\\\\" +file_name,'r', encoding ='utf-8') as dataset:\n",
    "    grade_height = [[int(line.split()[0]),[int(line.split()[2])]]\n",
    "           for line in dataset.read().strip().split('\\n')]\n",
    "\n",
    "height_statistics = {}\n",
    "for grade,height in grade_height:\n",
    "    height_statistics[grade] = height_statistics.get(grade,[]) + height\n",
    "\n",
    "height_statistics = {k:sum(v)/len(v) if v else '-' for k,v in height_statistics.items()}    \n",
    "    \n",
    "answer = ''\n",
    "for grade,av_height in sorted(height_statistics.items()):\n",
    "    answer += str(grade) + ' ' + str(av_height) + '\\n'\n",
    "with open('answer_last_task.txt','w') as answer_txt:\n",
    "    answer_txt.write(answer)    \n",
    "\n",
    "print(answer)"
   ]
  },
  {
   "cell_type": "markdown",
   "id": "6ce4b402",
   "metadata": {},
   "source": [
    "#  Подвал"
   ]
  },
  {
   "cell_type": "code",
   "execution_count": null,
   "id": "2de3a169",
   "metadata": {},
   "outputs": [],
   "source": [
    "from IPython.display import clear_output\n",
    "\n",
    "{Заголовок цикла}:\n",
    "    {Тело цикла - считывание очередного файла}\n",
    "    clear_output(wait=True) # очистка экрана от предыдущего результата считывания\n",
    "    print(next_file) # показ на экране результата последнего считывания"
   ]
  }
 ],
 "metadata": {
  "kernelspec": {
   "display_name": "Python 3 (ipykernel)",
   "language": "python",
   "name": "python3"
  },
  "language_info": {
   "codemirror_mode": {
    "name": "ipython",
    "version": 3
   },
   "file_extension": ".py",
   "mimetype": "text/x-python",
   "name": "python",
   "nbconvert_exporter": "python",
   "pygments_lexer": "ipython3",
   "version": "3.7.4"
  }
 },
 "nbformat": 4,
 "nbformat_minor": 5
}
