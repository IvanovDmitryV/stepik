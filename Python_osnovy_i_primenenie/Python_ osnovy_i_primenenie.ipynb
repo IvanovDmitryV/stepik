{
 "cells": [
  {
   "cell_type": "markdown",
   "id": "a4355132",
   "metadata": {},
   "source": [
    "# Базовые принципы языка Python"
   ]
  },
  {
   "cell_type": "code",
   "execution_count": 1,
   "id": "0bb452f5",
   "metadata": {},
   "outputs": [
    {
     "data": {
      "text/plain": [
       "1346269"
      ]
     },
     "execution_count": 1,
     "metadata": {},
     "output_type": "execute_result"
    }
   ],
   "source": [
    "fib = lambda x : 1 if x <= 2 else fib(x - 1) + fib(x - 2)\n",
    "fib(31)"
   ]
  },
  {
   "cell_type": "markdown",
   "id": "e21de98b",
   "metadata": {},
   "source": [
    "Реализуйте программу, которая принимает последовательность чисел и выводит их сумму.\n",
    "\n",
    "Вашей программе на вход подается последовательность строк.\n",
    "Первая строка содержит число n (1 ≤ n ≤ 100).\n",
    "В следующих n строках содержится по одному целому числу.\n",
    "\n",
    "Выведите одно число – сумму данных n чисел."
   ]
  },
  {
   "cell_type": "code",
   "execution_count": 2,
   "id": "8dd08efa",
   "metadata": {},
   "outputs": [
    {
     "name": "stdout",
     "output_type": "stream",
     "text": [
      "2\n",
      "2\n",
      "3\n",
      "5\n"
     ]
    }
   ],
   "source": [
    "print(sum([int(input()) for _ in range(int(input()))]))"
   ]
  },
  {
   "cell_type": "markdown",
   "id": "f58fc945",
   "metadata": {},
   "source": [
    "Реализуйте программу, которая будет вычислять количество различных объектов в списке.\n",
    "Два объекта a и b считаются различными, если a is b равно False.\n",
    "\n",
    "Вашей программе доступна переменная с названием objects, которая ссылается на список, содержащий не более 100 объектов. Выведите количество различных объектов в этом списке.\n",
    "\n",
    "Формат ожидаемой программы:\n",
    "```python\n",
    "ans = 0\n",
    "for obj in objects: # доступная переменная objects\n",
    "    ans += 1\n",
    "\n",
    "print(ans)\n",
    "```"
   ]
  },
  {
   "cell_type": "code",
   "execution_count": 3,
   "id": "5e67dbc3",
   "metadata": {},
   "outputs": [],
   "source": [
    "objects = [1, 2, 1, 2, 3]\n",
    "objects = [1, 2, 1, 5, True, False, True, 'false', [], [1,2], [1,2]]\n"
   ]
  },
  {
   "cell_type": "code",
   "execution_count": 4,
   "id": "df054df0",
   "metadata": {},
   "outputs": [
    {
     "name": "stdout",
     "output_type": "stream",
     "text": [
      "9\n",
      "9\n"
     ]
    }
   ],
   "source": [
    "ans = 0\n",
    "objects_id = set()\n",
    "for obj in objects: \n",
    "    if id(obj) not in objects_id:\n",
    "        objects_id.add(id(obj))\n",
    "        ans += 1\n",
    "print(ans)\n",
    "print(len(objects_id))"
   ]
  },
  {
   "cell_type": "code",
   "execution_count": 5,
   "id": "3b6f0538",
   "metadata": {},
   "outputs": [
    {
     "data": {
      "text/plain": [
       "140735021721424"
      ]
     },
     "execution_count": 5,
     "metadata": {},
     "output_type": "execute_result"
    }
   ],
   "source": [
    "id(2)"
   ]
  },
  {
   "cell_type": "code",
   "execution_count": 6,
   "id": "4305ef5a",
   "metadata": {},
   "outputs": [
    {
     "name": "stdout",
     "output_type": "stream",
     "text": [
      "['arg1', 'arg2', 'foo']\n"
     ]
    }
   ],
   "source": [
    "a = []\n",
    "\n",
    "def foo(arg1, arg2):\n",
    "  a.append(\"foo\")\n",
    "\n",
    "foo(a.append(\"arg1\"), a.append(\"arg2\"))\n",
    "\n",
    "print(a)"
   ]
  },
  {
   "cell_type": "markdown",
   "id": "3694c868",
   "metadata": {},
   "source": [
    "Напишите реализацию функции **closest_mod_5**, принимающую в качестве единственного аргумента целое число $x$ и возвращающую самое маленькое целое число $y$, такое что:\n",
    "\n",
    "- y больше или равно x\n",
    "- y делится нацело на 5    \n",
    "\n",
    "Формат того, что ожидается от вас в качестве ответа:\n",
    "\n",
    "```python\n",
    "def closest_mod_5(x):\n",
    "    if x % 5 == 0:\n",
    "        return x\n",
    "    return \"I don't know :(\"\n",
    "```"
   ]
  },
  {
   "cell_type": "code",
   "execution_count": 7,
   "id": "ea24c7ab",
   "metadata": {},
   "outputs": [],
   "source": [
    "def closest_mod_5(x):\n",
    "    if x % 5 == 0:\n",
    "        return x\n",
    "    else:\n",
    "        return (x//5 + 1)*5"
   ]
  },
  {
   "cell_type": "code",
   "execution_count": 8,
   "id": "aafa86ef",
   "metadata": {},
   "outputs": [
    {
     "data": {
      "text/plain": [
       "10"
      ]
     },
     "execution_count": 8,
     "metadata": {},
     "output_type": "execute_result"
    }
   ],
   "source": [
    "closest_mod_5(6)"
   ]
  },
  {
   "cell_type": "markdown",
   "id": "81d8aa8c",
   "metadata": {},
   "source": [
    "Сочетанием из n элементов по k называется подмножество этих n элементов размера k.\n",
    "Два сочетания называются различными, если одно из сочетаний содержит элемент, который не содержит другое.\n",
    "Числом сочетаний из n по k называется количество различных сочетаний из n по k. Обозначим это число за C(n, k).\n",
    "\n",
    "Пример:\n",
    "Пусть n = 3, т. е. есть три элемента (1, 2, 3). Пусть k = 2.\n",
    "Все различные сочетания из 3 элементов по 2: (1, 2), (1, 3), (2, 3).\n",
    "Различных сочетаний три, поэтому C(3, 2) = 3.\n",
    "\n",
    "Несложно понять, что C(n, 0) = 1, так как из n элементов выбрать 0 можно единственным образом, а именно, ничего не выбрать.\n",
    "Также несложно понять, что если k > n, то C(n, k) = 0, так как невозможно, например, из трех элементов выбрать пять.\n",
    "\n",
    "Для вычисления C(n, k) в других случаях используется следующая рекуррентная формула:\n",
    "C(n, k) = C(n - 1, k) + C(n - 1, k - 1).\n",
    "\n",
    "Реализуйте программу, которая для заданных n и k вычисляет C(n, k).\n",
    "\n",
    "Вашей программе на вход подается строка, содержащая два целых числа n и k (1 ≤ n ≤ 10, 0 ≤ k ≤ 10).\n",
    "Ваша программа должна вывести единственное число: C(n, k).\n",
    "\n",
    "Примечание:\n",
    "Считать два числа n и k вы можете, например, следующим образом:\n",
    "\n",
    "n, k = map(int, input().split())\n",
    "____________________________________________________________\n",
    "C(N, 0) = C(N,N) = 1,   \n",
    "C(N,K) = C(N–1,K) + C(N-1,K–1) при 0<K<N."
   ]
  },
  {
   "cell_type": "code",
   "execution_count": 10,
   "id": "fab96bec",
   "metadata": {},
   "outputs": [
    {
     "name": "stdout",
     "output_type": "stream",
     "text": [
      "5 3\n",
      "10\n"
     ]
    }
   ],
   "source": [
    "def comb_n_k(n,k):\n",
    "    if n==k or n>0 and k==0:\n",
    "        return 1\n",
    "    return comb_n_k(n-1,k) + comb_n_k(n-1,k-1)\n",
    "    \n",
    "n, k = map(int, input().split())\n",
    "print(comb_n_k(n,k))"
   ]
  },
  {
   "cell_type": "markdown",
   "id": "937565d8",
   "metadata": {},
   "source": [
    "### 1.4 Пространства имён и области видимости"
   ]
  },
  {
   "cell_type": "markdown",
   "id": "3b225d9a",
   "metadata": {},
   "source": [
    "Реализуйте программу, которая будет эмулировать работу с пространствами имен. Необходимо реализовать поддержку создания пространств имен и добавление в них переменных.\n",
    "\n",
    "В данной задаче у каждого пространства имен есть уникальный текстовый идентификатор – его имя.\n",
    "\n",
    "Вашей программе на вход подаются следующие запросы:\n",
    "\n",
    "- `create <namespace> <parent>` –  создать новое пространство имен с именем <namespace> внутри пространства <parent>\n",
    "- `add <namespace> <var>` – добавить в пространство <namespace> переменную <var>\n",
    "- `get <namespace> <var>` – получить имя пространства, из которого будет взята переменная <var> при запросе из пространства <namespace>, или None, если такого пространства не существует\n",
    "    \n",
    "\n",
    "    \n",
    "Более формально, результатом работы `get <namespace> <var>` является\n",
    "\n",
    "`<namespace>`, если в пространстве `<namespace>` была объявлена переменная `<var>`   \n",
    "`get <parent> <var>` – результат запроса к пространству, внутри которого было создано пространство `<namespace>`, если переменная не была объявлена   \n",
    "`None`, если не существует `<parent>`, т. е. `<namespace>` – это global\n",
    "    \n",
    "#### Формат входных данных\n",
    "В первой строке дано число n (1 ≤ n ≤ 100) – число запросов.\n",
    "В каждой из следующих n строк дано по одному запросу.\n",
    "Запросы выполняются в порядке, в котором они даны во входных данных.\n",
    "Имена пространства имен и имена переменных представляют из себя строки длины не более 10, состоящие из строчных латинских букв.\n",
    "\n",
    "#### Формат выходных данных\n",
    "Для каждого запроса get выведите в отдельной строке его результат.\n",
    "\n"
   ]
  },
  {
   "cell_type": "code",
   "execution_count": null,
   "id": "5010cc18",
   "metadata": {},
   "outputs": [],
   "source": [
    "namespaces = {'global': {'parent': None, 'variables': set()}}\n",
    "\n",
    "def create(namespace, parent):\n",
    "    namespaces[namespace] = {'parent': parent, 'variables': set()}\n",
    "def add(namespace,var):\n",
    "    namespaces[namespace]['variables'] |= {var}\n",
    "def get(namespace,var):\n",
    "    if var in namespaces[namespace]['variables']:\n",
    "        print (namespace)\n",
    "    elif namespaces[namespace]['parent'] is None:\n",
    "        print (namespaces[namespace]['parent'])\n",
    "    else:\n",
    "        get(namespaces[namespace]['parent'],var)\n",
    "        \n",
    "n = int(input())\n",
    "for i in range(n):\n",
    "    command, namesp, argument = input().split()\n",
    "    if command == 'create': create(namesp, argument)\n",
    "    if command == 'add': add(namesp, argument)\n",
    "    if command == 'get': get(namesp, argument)"
   ]
  },
  {
   "cell_type": "markdown",
   "id": "bb35ddc4",
   "metadata": {},
   "source": [
    "9     \n",
    "\n",
    "add global a   \n",
    "create foo global   \n",
    "add foo b   \n",
    "get foo a   \n",
    "get foo c   \n",
    "create bar foo   \n",
    "add bar a   \n",
    "get bar a   \n",
    "get bar b"
   ]
  },
  {
   "cell_type": "markdown",
   "id": "62ef0a76",
   "metadata": {},
   "source": [
    "###  1.5 Введение в классы"
   ]
  },
  {
   "cell_type": "code",
   "execution_count": 11,
   "id": "504e8a5a",
   "metadata": {},
   "outputs": [
    {
     "data": {
      "text/plain": [
       "__main__.Counter"
      ]
     },
     "execution_count": 11,
     "metadata": {},
     "output_type": "execute_result"
    }
   ],
   "source": [
    "class Counter:\n",
    "    pass\n",
    "\n",
    "Counter"
   ]
  },
  {
   "cell_type": "code",
   "execution_count": 12,
   "id": "6ebf12b8",
   "metadata": {},
   "outputs": [
    {
     "data": {
      "text/plain": [
       "<__main__.Counter at 0x25ac94bf070>"
      ]
     },
     "execution_count": 12,
     "metadata": {},
     "output_type": "execute_result"
    }
   ],
   "source": [
    "x = Counter()\n",
    "x"
   ]
  },
  {
   "cell_type": "code",
   "execution_count": 13,
   "id": "bb064fbf",
   "metadata": {},
   "outputs": [
    {
     "data": {
      "text/plain": [
       "1"
      ]
     },
     "execution_count": 13,
     "metadata": {},
     "output_type": "execute_result"
    }
   ],
   "source": [
    "x.count = 0\n",
    "x.count += 1\n",
    "x.count"
   ]
  },
  {
   "cell_type": "code",
   "execution_count": 14,
   "id": "865a86a7",
   "metadata": {},
   "outputs": [
    {
     "data": {
      "text/plain": [
       "0"
      ]
     },
     "execution_count": 14,
     "metadata": {},
     "output_type": "execute_result"
    }
   ],
   "source": [
    "class Counter2:\n",
    "    def __init__(self):\n",
    "        self.count = 0\n",
    "        \n",
    "x = Counter2()\n",
    "x.count"
   ]
  },
  {
   "cell_type": "code",
   "execution_count": 15,
   "id": "5d670a41",
   "metadata": {},
   "outputs": [
    {
     "data": {
      "text/plain": [
       "10"
      ]
     },
     "execution_count": 15,
     "metadata": {},
     "output_type": "execute_result"
    }
   ],
   "source": [
    "class Counter3:\n",
    "    def __init__(self,start=0):\n",
    "        self.count = start\n",
    "        \n",
    "x = Counter3(10)\n",
    "x.count"
   ]
  },
  {
   "cell_type": "code",
   "execution_count": 16,
   "id": "1d37646a",
   "metadata": {},
   "outputs": [
    {
     "data": {
      "text/plain": [
       "10"
      ]
     },
     "execution_count": 16,
     "metadata": {},
     "output_type": "execute_result"
    }
   ],
   "source": [
    "class Counter4:\n",
    "    def __init__(self,start=0):\n",
    "        self.count = start\n",
    "    def inc(self):\n",
    "        self.count += 1\n",
    "    def reset(self):\n",
    "        self.count = 0\n",
    "        \n",
    "x = Counter4(10)\n",
    "x.count"
   ]
  },
  {
   "cell_type": "code",
   "execution_count": 17,
   "id": "3d5573a2",
   "metadata": {},
   "outputs": [
    {
     "data": {
      "text/plain": [
       "11"
      ]
     },
     "execution_count": 17,
     "metadata": {},
     "output_type": "execute_result"
    }
   ],
   "source": [
    "x.inc()\n",
    "x.count"
   ]
  },
  {
   "cell_type": "code",
   "execution_count": 18,
   "id": "80ae360f",
   "metadata": {},
   "outputs": [
    {
     "data": {
      "text/plain": [
       "12"
      ]
     },
     "execution_count": 18,
     "metadata": {},
     "output_type": "execute_result"
    }
   ],
   "source": [
    "Counter4.inc(x) # эквивалентно x.inc()\n",
    "x.count"
   ]
  },
  {
   "cell_type": "code",
   "execution_count": 19,
   "id": "fefcde58",
   "metadata": {},
   "outputs": [
    {
     "data": {
      "text/plain": [
       "0"
      ]
     },
     "execution_count": 19,
     "metadata": {},
     "output_type": "execute_result"
    }
   ],
   "source": [
    "x.reset()\n",
    "x.count"
   ]
  },
  {
   "cell_type": "markdown",
   "id": "8861c4bb",
   "metadata": {},
   "source": [
    "Реализуйте класс `MoneyBox`, для работы с виртуальной копилкой.\n",
    "\n",
    "Каждая копилка имеет ограниченную вместимость, которая выражается целым числом – количеством монет, которые можно положить в копилку. Класс должен поддерживать информацию о количестве монет в копилке, предоставлять возможность добавлять монеты в копилку и узнавать, можно ли добавить в копилку ещё какое-то количество монет, не превышая ее вместимость.\n",
    "\n",
    "Класс должен иметь следующий вид\n",
    "```python\n",
    "class MoneyBox:\n",
    "    def __init__(self, capacity):\n",
    "        # конструктор с аргументом – вместимость копилки\n",
    "\n",
    "    def can_add(self, v):\n",
    "        # True, если можно добавить v монет, False иначе\n",
    "\n",
    "    def add(self, v):\n",
    "        # положить v монет в копилку\n",
    "```\n",
    "При создании копилки, число монет в ней равно 0.\n",
    "Примечание:\n",
    "Гарантируется, что метод `add(self, v)` будет вызываться только если `can_add(self, v) – True`."
   ]
  },
  {
   "cell_type": "code",
   "execution_count": 21,
   "id": "401dfa32",
   "metadata": {},
   "outputs": [
    {
     "ename": "IndentationError",
     "evalue": "unindent does not match any outer indentation level (<tokenize>, line 7)",
     "output_type": "error",
     "traceback": [
      "\u001b[1;36m  File \u001b[1;32m\"<tokenize>\"\u001b[1;36m, line \u001b[1;32m7\u001b[0m\n\u001b[1;33m    def can_add(self, v):\u001b[0m\n\u001b[1;37m    ^\u001b[0m\n\u001b[1;31mIndentationError\u001b[0m\u001b[1;31m:\u001b[0m unindent does not match any outer indentation level\n"
     ]
    }
   ],
   "source": [
    "class MoneyBox:\n",
    "    def __init__(self, capacity):\n",
    "        # конструктор с аргументом – вместимость копилки\n",
    "        self.capacity = capacity\n",
    "        self.amount = 0\n",
    "        \n",
    "    def can_add(self, v):\n",
    "        # True, если можно добавить v монет, False иначе\n",
    "        if self.amount + v <= self.capacity:\n",
    "            return True\n",
    "        else:\n",
    "            return False\n",
    "\n",
    "    def add(self, v):\n",
    "        # положить v монет в копилку\n",
    "        self.amount += v"
   ]
  },
  {
   "cell_type": "markdown",
   "id": "3a17bfd5",
   "metadata": {},
   "source": [
    "Вам дается последовательность целых чисел и вам нужно ее обработать и вывести на экран сумму первой пятерки чисел из этой последовательности, затем сумму второй пятерки, и т. д.\n",
    "\n",
    "Но последовательность не дается вам сразу целиком. С течением времени к вам поступают её последовательные части. Например, сначала первые три элемента, потом следующие шесть, потом следующие два и т. д.\n",
    "\n",
    "Реализуйте класс `Buffer`, который будет накапливать в себе элементы последовательности и выводить сумму пятерок последовательных элементов по мере их накопления.\n",
    "\n",
    "Одним из требований к классу является то, что он не должен хранить в себе больше элементов, чем ему действительно необходимо, т. е. он не должен хранить элементы, которые уже вошли в пятерку, для которой была выведена сумма.\n",
    "\n",
    "Класс должен иметь следующий вид\n",
    "```python\n",
    "class Buffer:\n",
    "    def __init__(self):\n",
    "        # конструктор без аргументов\n",
    "    \n",
    "    def add(self, *a):\n",
    "        # добавить следующую часть последовательности\n",
    "\n",
    "    def get_current_part(self):\n",
    "        # вернуть сохраненные в текущий момент элементы последовательности в порядке, в котором они\n",
    "        # были добавлены\n",
    "```\n",
    "Пример работы с классом\n",
    "\n",
    "```\n",
    "buf = Buffer()\n",
    "buf.add(1, 2, 3)\n",
    "buf.get_current_part() # вернуть [1, 2, 3]\n",
    "buf.add(4, 5, 6) # print(15) – вывод суммы первой пятерки элементов\n",
    "buf.get_current_part() # вернуть [6]\n",
    "buf.add(7, 8, 9, 10) # print(40) – вывод суммы второй пятерки элементов\n",
    "buf.get_current_part() # вернуть []\n",
    "buf.add(1, 1, 1, 1, 1, 1, 1, 1, 1, 1, 1) # print(5), print(5) – вывод сумм третьей и четвертой пятерки\n",
    "buf.get_current_part() # вернуть [1]\n",
    "```\n",
    "\n",
    "Обратите внимание, что во время выполнения метода add выводить сумму пятерок может потребоваться несколько раз до тех пор, пока в буфере не останется менее пяти элементов."
   ]
  },
  {
   "cell_type": "code",
   "execution_count": 22,
   "id": "27525fc1",
   "metadata": {},
   "outputs": [],
   "source": [
    "class Buffer:\n",
    "    def __init__(self):\n",
    "        # конструктор без аргументов\n",
    "        self.buffer = []\n",
    "        \n",
    "    def add(self, *a):\n",
    "        # добавить следующую часть последовательности\n",
    "        self.buffer += a\n",
    "        while len(self.buffer) >= 5:\n",
    "            print(sum(self.buffer[:5]))\n",
    "            self.buffer = self.buffer[5:]\n",
    "        \n",
    "    def get_current_part(self):\n",
    "        # вернуть сохраненные в текущий момент элементы последовательности в порядке, в котором они были     \n",
    "        # добавлены\n",
    "        return self.buffer"
   ]
  },
  {
   "cell_type": "markdown",
   "id": "365e1b4f",
   "metadata": {},
   "source": [
    "Какие числа будут выведены в результате выполнения данного кода?"
   ]
  },
  {
   "cell_type": "code",
   "execution_count": 20,
   "id": "5a4f4b61",
   "metadata": {},
   "outputs": [
    {
     "name": "stdout",
     "output_type": "stream",
     "text": [
      "2\n",
      "3\n",
      "3\n",
      "3\n"
     ]
    }
   ],
   "source": [
    "class A:\n",
    "    val = 1\n",
    "    def foo(self):\n",
    "        A.val += 2\n",
    "    def bar(self):\n",
    "        self.val += 1\n",
    "\n",
    "a = A()\n",
    "b = A()\n",
    "a.bar()\n",
    "a.foo()\n",
    "c = A()\n",
    "print(a.val)\n",
    "print(b.val)\n",
    "print(c.val)\n",
    "print(A.val)"
   ]
  },
  {
   "cell_type": "markdown",
   "id": "8e62b5c4",
   "metadata": {},
   "source": [
    "### ============================================================="
   ]
  },
  {
   "cell_type": "code",
   "execution_count": 24,
   "id": "f2f2abc6",
   "metadata": {},
   "outputs": [
    {
     "name": "stdout",
     "output_type": "stream",
     "text": [
      "[]\n"
     ]
    }
   ],
   "source": [
    "class MyList(list):\n",
    "    def even_length(self):\n",
    "        return len(self)%2 == 0\n",
    "    \n",
    "x = MyList()\n",
    "print(x)"
   ]
  },
  {
   "cell_type": "code",
   "execution_count": 25,
   "id": "de96f473",
   "metadata": {},
   "outputs": [
    {
     "data": {
      "text/plain": [
       "([1, 2, 3, 4, 5], False)"
      ]
     },
     "execution_count": 25,
     "metadata": {},
     "output_type": "execute_result"
    }
   ],
   "source": [
    "x.extend([1,2,3,4,5])\n",
    "x, x.even_length()"
   ]
  },
  {
   "cell_type": "code",
   "execution_count": 26,
   "id": "97d37c7a",
   "metadata": {},
   "outputs": [
    {
     "data": {
      "text/plain": [
       "([1, 2, 3, 4, 5, 6], True)"
      ]
     },
     "execution_count": 26,
     "metadata": {},
     "output_type": "execute_result"
    }
   ],
   "source": [
    "x.append(6)\n",
    "x, x.even_length()"
   ]
  },
  {
   "cell_type": "markdown",
   "id": "b45f103d",
   "metadata": {},
   "source": [
    "### ============================================================="
   ]
  },
  {
   "cell_type": "code",
   "execution_count": 33,
   "id": "fdf274cc",
   "metadata": {},
   "outputs": [],
   "source": [
    "class D: pass\n",
    "class E: pass\n",
    "class B(D,E): pass\n",
    "class C: pass\n",
    "class A(B,C): pass"
   ]
  },
  {
   "cell_type": "code",
   "execution_count": 34,
   "id": "a637d783",
   "metadata": {},
   "outputs": [
    {
     "data": {
      "text/plain": [
       "True"
      ]
     },
     "execution_count": 34,
     "metadata": {},
     "output_type": "execute_result"
    }
   ],
   "source": [
    "issubclass(A,A)"
   ]
  },
  {
   "cell_type": "code",
   "execution_count": 35,
   "id": "db040eac",
   "metadata": {},
   "outputs": [
    {
     "data": {
      "text/plain": [
       "False"
      ]
     },
     "execution_count": 35,
     "metadata": {},
     "output_type": "execute_result"
    }
   ],
   "source": [
    "issubclass(C,D)"
   ]
  },
  {
   "cell_type": "code",
   "execution_count": 36,
   "id": "4001460d",
   "metadata": {},
   "outputs": [
    {
     "data": {
      "text/plain": [
       "True"
      ]
     },
     "execution_count": 36,
     "metadata": {},
     "output_type": "execute_result"
    }
   ],
   "source": [
    "issubclass(A,D)"
   ]
  },
  {
   "cell_type": "code",
   "execution_count": 38,
   "id": "b216fc7b",
   "metadata": {},
   "outputs": [
    {
     "data": {
      "text/plain": [
       "(True, False)"
      ]
     },
     "execution_count": 38,
     "metadata": {},
     "output_type": "execute_result"
    }
   ],
   "source": [
    "issubclass(C,object),  issubclass(object,C)"
   ]
  },
  {
   "cell_type": "code",
   "execution_count": 39,
   "id": "2cd39446",
   "metadata": {},
   "outputs": [
    {
     "data": {
      "text/plain": [
       "True"
      ]
     },
     "execution_count": 39,
     "metadata": {},
     "output_type": "execute_result"
    }
   ],
   "source": [
    "x = A()\n",
    "isinstance(x,A)"
   ]
  },
  {
   "cell_type": "code",
   "execution_count": 40,
   "id": "1f5ca0dd",
   "metadata": {},
   "outputs": [
    {
     "data": {
      "text/plain": [
       "(True, True, False)"
      ]
     },
     "execution_count": 40,
     "metadata": {},
     "output_type": "execute_result"
    }
   ],
   "source": [
    "isinstance(x,B),  isinstance(x,object),  isinstance(x,str),"
   ]
  },
  {
   "cell_type": "code",
   "execution_count": 4,
   "id": "c6f42999",
   "metadata": {},
   "outputs": [
    {
     "data": {
      "text/plain": [
       "[__main__.E, __main__.C, __main__.D, __main__.B, __main__.A, object]"
      ]
     },
     "execution_count": 4,
     "metadata": {},
     "output_type": "execute_result"
    }
   ],
   "source": [
    "class A:\n",
    "   def foo(self):\n",
    "      print(\"A\")\n",
    "\n",
    "class B(A):\n",
    "   pass\n",
    "\n",
    "class C(A):\n",
    "   def foo(self):\n",
    "      print(\"C\")\n",
    "\n",
    "class D:\n",
    "   def foo(self):\n",
    "      print(\"D\")\n",
    "\n",
    "class E(C, D, B):\n",
    "   pass\n",
    "E.mro()"
   ]
  },
  {
   "cell_type": "markdown",
   "id": "cf128c67",
   "metadata": {},
   "source": [
    "Вам дано описание наследования классов в следующем формате.\n",
    "**<имя класса 1> : <имя класса 2> <имя класса 3> ... <имя класса k>***\n",
    "Это означает, что класс 1 отнаследован от класса 2, класса 3, и т. д.\n",
    "\n",
    "Или эквивалентно записи:\n",
    "\n",
    "```\n",
    "class Class1(Class2, Class3 ... ClassK):\n",
    "    pass\n",
    "```\n",
    "Класс **A** является **прямым предком** класса **B**, если **B** отнаследован от **A**:\n",
    "\n",
    "```\n",
    "class B(A):\n",
    "    pass\n",
    "```\n",
    "\n",
    "Класс **A** является **предком** класса **B**, если   \n",
    "- **A** = **B**;  \n",
    "- **A** - **прямой предок B**  \n",
    "- существует такой класс **C**, что **C** - **прямой предок B** и **A - предок C**  \n",
    "\n",
    "Например:\n",
    "```\n",
    "class B(A):\n",
    "    pass\n",
    "\n",
    "class C(B):\n",
    "    pass\n",
    "\n",
    "# A -- предок С\n",
    "```\n",
    "\n",
    "Вам необходимо отвечать на запросы, является ли один класс предком другого класса\n",
    "\n",
    "Важное примечание:   \n",
    "Создавать классы не требуется.   \n",
    "Мы просим вас промоделировать этот процесс, и понять существует ли путь от одного класса до другого.\n",
    "### Формат входных данных   \n",
    "В первой строке входных данных содержится целое число n - число классов.   \n",
    "\n",
    "В следующих n строках содержится описание наследования классов. В i-й строке указано от каких классов наследуется i-й класс. Обратите внимание, что класс может ни от кого не наследоваться. Гарантируется, что класс не наследуется сам от себя (прямо или косвенно), что класс не наследуется явно от одного класса более одного раза.   \n",
    "\n",
    "В следующей строке содержится число q - количество запросов.   \n",
    "\n",
    "В следующих q строках содержится описание запросов в формате **<имя класса 1> <имя класса 2>**.   \n",
    "Имя класса – строка, состоящая из символов латинского алфавита, длины не более 50.   \n",
    "\n",
    "### Формат выходных данных   \n",
    "Для каждого запроса выведите в отдельной строке слово \"Yes\", если класс 1 является предком класса 2, и \"No\", если не является."
   ]
  },
  {
   "cell_type": "code",
   "execution_count": 29,
   "id": "503fc9c4",
   "metadata": {},
   "outputs": [
    {
     "name": "stdout",
     "output_type": "stream",
     "text": [
      "Yes\n",
      "Yes\n",
      "Yes\n",
      "No\n"
     ]
    }
   ],
   "source": [
    "reserv_input = input\n",
    "input = open(\"input.txt\", \"r\").readline\n",
    "# input = reserv_input\n",
    "\n",
    "def check_parents(class_name_1, class_name_2):\n",
    "    global check_parents_result\n",
    "    if class_name_1 == class_name_2:\n",
    "        check_parents_result = 'Yes'\n",
    "    elif class_name_1 in succession[class_name_2]:\n",
    "        check_parents_result = 'Yes'\n",
    "    else:\n",
    "        for parent in succession[class_name_2]:\n",
    "            check_parents(class_name_1,parent)\n",
    "\n",
    "classes_num_ = int(input())\n",
    "succession = {}\n",
    "for _ in range(classes_num_):\n",
    "    class_dscr = input().split()\n",
    "#     parents = class_dscr[class_dscr.index(':')+1:]  if ':' in class_dscr else []\n",
    "    parents = class_dscr[2:] \n",
    "    succession[class_dscr[0]] = parents\n",
    "               \n",
    "requests_num = int(input())\n",
    "for _ in range(requests_num):\n",
    "    class_name_1, class_name_2 = input().split()\n",
    "    check_parents_result = 'No'\n",
    "    check_parents(class_name_1, class_name_2)\n",
    "    print(check_parents_result)\n",
    "    \n",
    "input = reserv_input"
   ]
  },
  {
   "cell_type": "markdown",
   "id": "e554f0e4",
   "metadata": {},
   "source": [
    "Sample Input:\n",
    "\n",
    "4   \n",
    "A    \n",
    "B : A   \n",
    "C : A   \n",
    "D : B C   \n",
    "4   \n",
    "A B   \n",
    "B D   \n",
    "C D   \n",
    "D A"
   ]
  },
  {
   "cell_type": "code",
   "execution_count": 28,
   "id": "0afa27eb",
   "metadata": {},
   "outputs": [
    {
     "data": {
      "text/plain": [
       "[]"
      ]
     },
     "execution_count": 28,
     "metadata": {},
     "output_type": "execute_result"
    }
   ],
   "source": [
    "'D : B C'.split()[5:]\n",
    "# 'D'.split()[2:]"
   ]
  },
  {
   "cell_type": "code",
   "execution_count": 23,
   "id": "80ab8691",
   "metadata": {},
   "outputs": [
    {
     "data": {
      "text/plain": [
       "''"
      ]
     },
     "execution_count": 23,
     "metadata": {},
     "output_type": "execute_result"
    }
   ],
   "source": [
    "'123'[4:]"
   ]
  },
  {
   "cell_type": "markdown",
   "id": "cc6d12ed",
   "metadata": {},
   "source": [
    "Реализуйте структуру данных, представляющую собой расширенную структуру стек. Необходимо поддерживать добавление элемента на вершину стека, удаление с вершины стека, и необходимо поддерживать операции сложения, вычитания, умножения и целочисленного деления.\n",
    "\n",
    "Операция сложения на стеке определяется следующим образом. Со стека снимается верхний элемент (top1), затем снимается следующий верхний элемент (top2), и затем как результат операции сложения на вершину стека кладется элемент, равный top1 + top2.\n",
    "\n",
    "Аналогичным образом определяются операции вычитания (top1 - top2), умножения (top1 * top2) и целочисленного деления (top1 // top2).\n",
    "\n",
    "Реализуйте эту структуру данных как класс ExtendedStack, отнаследовав его от стандартного класса list.\n",
    "Требуемая структура класса:\n",
    "```python\n",
    "class ExtendedStack(list):\n",
    "    def sum(self):\n",
    "        # операция сложения\n",
    "\n",
    "    def sub(self):\n",
    "        # операция вычитания\n",
    "\n",
    "    def mul(self):\n",
    "        # операция умножения\n",
    "\n",
    "    def div(self):\n",
    "        # операция целочисленного деления\n",
    "``` \n",
    "Примечание\n",
    "Для добавления элемента на стек используется метод append, а для снятия со стека – метод pop.\n",
    "Гарантируется, что операции будут совершаться только когда в стеке есть хотя бы два элемента."
   ]
  },
  {
   "cell_type": "code",
   "execution_count": 139,
   "id": "b1ac263b",
   "metadata": {},
   "outputs": [],
   "source": [
    "class ExtendedStack(list):\n",
    "    def sum(self):\n",
    "        self.append(self.pop() + self.pop())\n",
    "\n",
    "    def sub(self):\n",
    "        self.append(self.pop() - self.pop())\n",
    "    \n",
    "    def mul(self):\n",
    "        self.append(self.pop() * self.pop())\n",
    "\n",
    "    def div(self):\n",
    "        self.append(self.pop() // self.pop())"
   ]
  },
  {
   "cell_type": "markdown",
   "id": "3e392d29",
   "metadata": {},
   "source": [
    "Одно из применений множественного наследование – расширение функциональности класса каким-то заранее определенным способом. Например, если нам понадобится логировать какую-то информацию при обращении к методам класса.\n",
    "\n",
    "Рассмотрим класс Loggable:\n",
    "```python\n",
    "import time\n",
    "\n",
    "class Loggable:\n",
    "    def log(self, msg):\n",
    "        print(str(time.ctime()) + \": \" + str(msg))\n",
    "```\n",
    "У него есть ровно один метод `log`, который позволяет выводить в лог (в данном случае в `stdout`) какое-то сообщение, добавляя при этом текущее время.\n",
    "Реализуйте класс `LoggableList`, отнаследовав его от классов `list` и `Loggable` таким образом, чтобы при добавлении элемента в список посредством метода `append` в лог отправлялось сообщение, состоящее из только что добавленного элемента.\n",
    "\n",
    "Примечание\n",
    "Ваша программа не должна содержать класс Loggable. При проверке вашей программе будет доступен этот класс, и он будет содержать метод log, описанный выше."
   ]
  },
  {
   "cell_type": "code",
   "execution_count": 141,
   "id": "2267fc6f",
   "metadata": {},
   "outputs": [],
   "source": [
    "import time\n",
    "\n",
    "class Loggable:\n",
    "    def log(self, msg):\n",
    "        print(str(time.ctime()) + \": \" + str(msg))"
   ]
  },
  {
   "cell_type": "code",
   "execution_count": 143,
   "id": "d49cd285",
   "metadata": {},
   "outputs": [],
   "source": [
    "class LoggableList(list,Loggable):\n",
    "    def append(self,vol):\n",
    "        super(LoggableList,self).append(vol)\n",
    "        self.log(vol)"
   ]
  },
  {
   "cell_type": "code",
   "execution_count": null,
   "id": "bde9d4bf",
   "metadata": {},
   "outputs": [],
   "source": [
    "class LoggableList(list, Loggable):\n",
    "    def append(self, x):\n",
    "        list.append(self, x)\n",
    "        self.log(x)"
   ]
  },
  {
   "cell_type": "code",
   "execution_count": 145,
   "id": "f5e10e49",
   "metadata": {},
   "outputs": [
    {
     "name": "stdout",
     "output_type": "stream",
     "text": [
      "Sun Oct 23 02:36:26 2022: 3\n"
     ]
    },
    {
     "data": {
      "text/plain": [
       "([1, 2, 3], None)"
      ]
     },
     "execution_count": 145,
     "metadata": {},
     "output_type": "execute_result"
    }
   ],
   "source": [
    "aaa = LoggableList([1,2])\n",
    "aaa, aaa.append(3)"
   ]
  },
  {
   "cell_type": "markdown",
   "id": "fc4b773d",
   "metadata": {},
   "source": [
    "# 2. Станадартные средства языка Python"
   ]
  },
  {
   "cell_type": "markdown",
   "id": "7621ad76",
   "metadata": {},
   "source": [
    "## 2.1 Ошибки и исключения"
   ]
  },
  {
   "cell_type": "code",
   "execution_count": 5,
   "id": "fc46b4cc",
   "metadata": {},
   "outputs": [
    {
     "name": "stdout",
     "output_type": "stream",
     "text": [
      "ups :(\n",
      "next ups :(\n"
     ]
    }
   ],
   "source": [
    "try:\n",
    "    x = [1,2,'33',4]\n",
    "    x.sort()\n",
    "    print(x)\n",
    "except TypeError:\n",
    "    print('ups :(')\n",
    "    \n",
    "try:\n",
    "    x = [1,2,'33',4]\n",
    "    x.sort()\n",
    "    print(x)\n",
    "except Exception:\n",
    "    print('next ups :(')"
   ]
  },
  {
   "cell_type": "code",
   "execution_count": 6,
   "id": "4fa02aef",
   "metadata": {},
   "outputs": [
    {
     "name": "stdout",
     "output_type": "stream",
     "text": [
      "ups, TypeError.\n",
      "ups, ZeroDivisionError\n"
     ]
    }
   ],
   "source": [
    "def f(x,y):\n",
    "    try:\n",
    "        return x/y\n",
    "    except TypeError:\n",
    "        print('ups, TypeError.')\n",
    "    except ZeroDivisionError:\n",
    "        print('ups, ZeroDivisionError')\n",
    "\n",
    "f(5,[])\n",
    "f(5,0)"
   ]
  },
  {
   "cell_type": "code",
   "execution_count": 7,
   "id": "f9b44783",
   "metadata": {},
   "outputs": [
    {
     "name": "stdout",
     "output_type": "stream",
     "text": [
      "ups, Error.\n",
      "ups, Error.\n"
     ]
    }
   ],
   "source": [
    "def f(x,y):\n",
    "    try:\n",
    "        return x/y\n",
    "    except (TypeError,ZeroDivisionError):\n",
    "        print('ups, Error.')\n",
    "\n",
    "f(5,[])\n",
    "f(5,0)"
   ]
  },
  {
   "cell_type": "code",
   "execution_count": 14,
   "id": "92188893",
   "metadata": {},
   "outputs": [
    {
     "name": "stdout",
     "output_type": "stream",
     "text": [
      "<class 'TypeError'>\n",
      "unsupported operand type(s) for /: 'int' and 'list'\n",
      "(\"unsupported operand type(s) for /: 'int' and 'list'\",)\n",
      "<class 'ZeroDivisionError'>\n",
      "division by zero\n",
      "('division by zero',)\n",
      "<class 'ValueError'>\n",
      "operands could not be broadcast together with shapes (3,) (2,) \n",
      "('operands could not be broadcast together with shapes (3,) (2,) ',)\n"
     ]
    }
   ],
   "source": [
    "import numpy as np\n",
    "def f(x,y):\n",
    "    try:\n",
    "        return x/y\n",
    "    except Exception as e:\n",
    "        print(type(e))\n",
    "        print(e)\n",
    "        print(e.args)\n",
    "\n",
    "f(5,[])\n",
    "f(5,0)\n",
    "f(np.array([5,10,15]),np.array([5,10]))"
   ]
  },
  {
   "cell_type": "code",
   "execution_count": null,
   "id": "c8ac1229",
   "metadata": {},
   "outputs": [],
   "source": [
    "print(ZeroDivisionError.mro())\n",
    "print(SyntaxError.mro())\n",
    "print(ValueError.mro())"
   ]
  },
  {
   "cell_type": "code",
   "execution_count": 21,
   "id": "69f07c8f",
   "metadata": {},
   "outputs": [
    {
     "name": "stdout",
     "output_type": "stream",
     "text": [
      "ups, TypeError.\n",
      "This is the end, my friend\n",
      "\n",
      "ups, ZeroDivisionError\n",
      "This is the end, my friend\n",
      "\n",
      "This is the end, my friend\n",
      "\n"
     ]
    },
    {
     "ename": "ValueError",
     "evalue": "operands could not be broadcast together with shapes (3,) (2,) ",
     "output_type": "error",
     "traceback": [
      "\u001b[1;31m---------------------------------------------------------------------------\u001b[0m",
      "\u001b[1;31mValueError\u001b[0m                                Traceback (most recent call last)",
      "\u001b[1;32m~\\AppData\\Local\\Temp\\ipykernel_8900\\287059322.py\u001b[0m in \u001b[0;36m<module>\u001b[1;34m\u001b[0m\n\u001b[0;32m     12\u001b[0m \u001b[0mf\u001b[0m\u001b[1;33m(\u001b[0m\u001b[1;36m5\u001b[0m\u001b[1;33m,\u001b[0m\u001b[1;33m[\u001b[0m\u001b[1;33m]\u001b[0m\u001b[1;33m)\u001b[0m\u001b[1;33m\u001b[0m\u001b[1;33m\u001b[0m\u001b[0m\n\u001b[0;32m     13\u001b[0m \u001b[0mf\u001b[0m\u001b[1;33m(\u001b[0m\u001b[1;36m5\u001b[0m\u001b[1;33m,\u001b[0m\u001b[1;36m0\u001b[0m\u001b[1;33m)\u001b[0m\u001b[1;33m\u001b[0m\u001b[1;33m\u001b[0m\u001b[0m\n\u001b[1;32m---> 14\u001b[1;33m \u001b[0mf\u001b[0m\u001b[1;33m(\u001b[0m\u001b[0mnp\u001b[0m\u001b[1;33m.\u001b[0m\u001b[0marray\u001b[0m\u001b[1;33m(\u001b[0m\u001b[1;33m[\u001b[0m\u001b[1;36m5\u001b[0m\u001b[1;33m,\u001b[0m\u001b[1;36m10\u001b[0m\u001b[1;33m,\u001b[0m\u001b[1;36m15\u001b[0m\u001b[1;33m]\u001b[0m\u001b[1;33m)\u001b[0m\u001b[1;33m,\u001b[0m\u001b[0mnp\u001b[0m\u001b[1;33m.\u001b[0m\u001b[0marray\u001b[0m\u001b[1;33m(\u001b[0m\u001b[1;33m[\u001b[0m\u001b[1;36m5\u001b[0m\u001b[1;33m,\u001b[0m\u001b[1;36m10\u001b[0m\u001b[1;33m]\u001b[0m\u001b[1;33m)\u001b[0m\u001b[1;33m)\u001b[0m\u001b[1;33m\u001b[0m\u001b[1;33m\u001b[0m\u001b[0m\n\u001b[0m",
      "\u001b[1;32m~\\AppData\\Local\\Temp\\ipykernel_8900\\287059322.py\u001b[0m in \u001b[0;36mf\u001b[1;34m(x, y)\u001b[0m\n\u001b[0;32m      1\u001b[0m \u001b[1;32mdef\u001b[0m \u001b[0mf\u001b[0m\u001b[1;33m(\u001b[0m\u001b[0mx\u001b[0m\u001b[1;33m,\u001b[0m\u001b[0my\u001b[0m\u001b[1;33m)\u001b[0m\u001b[1;33m:\u001b[0m\u001b[1;33m\u001b[0m\u001b[1;33m\u001b[0m\u001b[0m\n\u001b[0;32m      2\u001b[0m     \u001b[1;32mtry\u001b[0m\u001b[1;33m:\u001b[0m\u001b[1;33m\u001b[0m\u001b[1;33m\u001b[0m\u001b[0m\n\u001b[1;32m----> 3\u001b[1;33m         \u001b[0mresult\u001b[0m \u001b[1;33m=\u001b[0m \u001b[0mx\u001b[0m\u001b[1;33m/\u001b[0m\u001b[0my\u001b[0m\u001b[1;33m\u001b[0m\u001b[1;33m\u001b[0m\u001b[0m\n\u001b[0m\u001b[0;32m      4\u001b[0m     \u001b[1;32mexcept\u001b[0m \u001b[0mTypeError\u001b[0m\u001b[1;33m:\u001b[0m\u001b[1;33m\u001b[0m\u001b[1;33m\u001b[0m\u001b[0m\n\u001b[0;32m      5\u001b[0m         \u001b[0mprint\u001b[0m\u001b[1;33m(\u001b[0m\u001b[1;34m'ups, TypeError.'\u001b[0m\u001b[1;33m)\u001b[0m\u001b[1;33m\u001b[0m\u001b[1;33m\u001b[0m\u001b[0m\n",
      "\u001b[1;31mValueError\u001b[0m: operands could not be broadcast together with shapes (3,) (2,) "
     ]
    }
   ],
   "source": [
    "def f(x,y):\n",
    "    try:\n",
    "        result = x/y\n",
    "    except TypeError:\n",
    "        print('ups, TypeError.')\n",
    "    except ZeroDivisionError:\n",
    "        print('ups, ZeroDivisionError')\n",
    "    else:\n",
    "        print(\"Result is :\",result)\n",
    "    finally:\n",
    "        print('This is the end, my friend\\n')\n",
    "f(5,[])\n",
    "f(5,0)\n",
    "f(np.array([5,10,15]),np.array([5,10]))"
   ]
  },
  {
   "cell_type": "markdown",
   "id": "272c546e",
   "metadata": {},
   "source": [
    "Вашей программе будет доступна функция foo, которая может бросать исключения.\n",
    "\n",
    "Вам необходимо написать код, который запускает эту функцию, затем ловит исключения `ArithmeticError, AssertionError, ZeroDivisionError` и выводит имя пойманного исключения.\n",
    "\n",
    "Пример решения, которое вы должны отправить на проверку.\n",
    "\n",
    "```python\n",
    "try:\n",
    "    foo()\n",
    "except Exception:\n",
    "    print(\"Exception\")\n",
    "except BaseException:\n",
    "    print(\"BaseException\")\n",
    "```\n",
    "Подсказка: https://docs.python.org/3/library/exceptions.html#exception-hierarchy"
   ]
  },
  {
   "cell_type": "code",
   "execution_count": null,
   "id": "4a2cac9c",
   "metadata": {},
   "outputs": [],
   "source": [
    "def foo:\n",
    "    "
   ]
  },
  {
   "cell_type": "code",
   "execution_count": null,
   "id": "87c97b15",
   "metadata": {},
   "outputs": [],
   "source": [
    "try:\n",
    "    foo()\n",
    "except ZeroDivisionError:\n",
    "    print(\"ZeroDivisionError\")\n",
    "except ArithmeticError:\n",
    "    print(\"ArithmeticError\")\n",
    "except AssertionError:\n",
    "    print(\"AssertionError\")"
   ]
  },
  {
   "cell_type": "markdown",
   "id": "0fe10934",
   "metadata": {},
   "source": [
    "Вам дано описание наследования классов исключений в следующем формате.   \n",
    "`<имя исключения 1> : <имя исключения 2> <имя исключения 3> ... <имя исключения k>`   \n",
    "Это означает, что `исключение 1` наследуется от `исключения 2, исключения 3, и т. д.`\n",
    "\n",
    "Или эквивалентно записи:\n",
    "```python\n",
    "class Error1(Error2, Error3 ... ErrorK):\n",
    "    pass\n",
    "```\n",
    "\n",
    "Антон написал код, который выглядит следующим образом.\n",
    "```python\n",
    "try:\n",
    "   foo()\n",
    "except <имя 1>:\n",
    "   print(\"<имя 1>\")\n",
    "except <имя 2>:\n",
    "   print(\"<имя 2>\")\n",
    "...\n",
    "```\n",
    "Костя посмотрел на этот код и указал Антону на то, что некоторые исключения можно не ловить, так как ранее в коде будет пойман их предок. Но Антон не помнит какие исключения наследуются от каких. Помогите ему выйти из неловкого положения и напишите программу, которая будет определять обработку каких исключений можно удалить из кода.\n",
    "\n",
    "**Важное примечание:**\n",
    "В отличие от предыдущей задачи, типы исключений не созданы.\n",
    "Создавать классы исключений также не требуется\n",
    "Мы просим вас промоделировать этот процесс, и понять какие из исключений можно и не ловить, потому что мы уже ранее где-то поймали их предка.\n",
    "\n",
    "## Формат входных данных\n",
    "В первой строке входных данных содержится целое число n - число классов исключений.\n",
    "\n",
    "В следующих n строках содержится описание наследования классов. В i-й строке указано от каких классов наследуется i-й класс. Обратите внимание, что класс может ни от кого не наследоваться. Гарантируется, что класс не наследуется сам от себя (прямо или косвенно), что класс не наследуется явно от одного класса более одного раза.\n",
    "\n",
    "В следующей строке содержится число m - количество обрабатываемых исключений.\n",
    "Следующие m строк содержат имена исключений в том порядке, в каком они были написаны у Антона в коде.\n",
    "Гарантируется, что никакое исключение не обрабатывается дважды.\n",
    "\n",
    "## Формат выходных данных\n",
    "Выведите в отдельной строке имя каждого исключения, обработку которого можно удалить из кода, не изменив при этом поведение программы. Имена следует выводить в том же порядке, в котором они идут во входных данных.\n",
    "\n",
    "```\n",
    "Sample Input:\n",
    "\n",
    "4\n",
    "ArithmeticError\n",
    "ZeroDivisionError : ArithmeticError\n",
    "OSError\n",
    "FileNotFoundError : OSError\n",
    "4\n",
    "ZeroDivisionError\n",
    "OSError\n",
    "ArithmeticError\n",
    "FileNotFoundError\n",
    "Sample Output:\n",
    "\n",
    "FileNotFoundError\n",
    "```"
   ]
  },
  {
   "cell_type": "code",
   "execution_count": 181,
   "id": "bacfbd6d",
   "metadata": {},
   "outputs": [
    {
     "name": "stdout",
     "output_type": "stream",
     "text": [
      "e\n",
      "g\n",
      "f\n"
     ]
    }
   ],
   "source": [
    "def parent_set_filling(exception_name):\n",
    "    for parent_name in exceptions_succession.get(exception_name, []):\n",
    "        current_parents.add(parent_name)\n",
    "        parent_set_filling(parent_name)\n",
    "\n",
    "# инициализация\n",
    "handled_exceptions = set()\n",
    "exceptions_succession = {}\n",
    "check_result = []\n",
    "# обеспечение автоматизации ввода из input_2.txt  \n",
    "# путем переопределение функции unput \n",
    "reserv_input = input\n",
    "input = open(\"input_2.txt\", \"r\").readline\n",
    "# обработка описания исключений\n",
    "# заправшивавем количество описанных исключений\n",
    "exceptions_num = int(input())\n",
    "# составление из описания исключения словаря вида - потомок:[родители]\n",
    "for _ in range(exceptions_num): \n",
    "    exceptions_dscr = input().split()\n",
    "    exceptions_succession[exceptions_dscr[0]] = exceptions_dscr[2:]\n",
    "# обработка запросов\n",
    "# заправшивавем количество запросов\n",
    "requests_num = int(input())\n",
    "for _ in range(requests_num):\n",
    "    current_parents = set()\n",
    "    exception_name = input().strip()\n",
    "    parent_set_filling(exception_name)\n",
    "    if not current_parents & handled_exceptions: \n",
    "        handled_exceptions.update(set([exception_name]))\n",
    "    elif exception_name not in check_result:\n",
    "        print(exception_name)\n",
    "        check_result.append(exception_name)\n",
    "# восстановление input\n",
    "input = reserv_input"
   ]
  },
  {
   "cell_type": "code",
   "execution_count": 185,
   "id": "910b3048",
   "metadata": {},
   "outputs": [
    {
     "name": "stdout",
     "output_type": "stream",
     "text": [
      "Hello, Anton\n"
     ]
    },
    {
     "ename": "ValueError",
     "evalue": "anton is inappropriate name",
     "output_type": "error",
     "traceback": [
      "\u001b[1;31m---------------------------------------------------------------------------\u001b[0m",
      "\u001b[1;31mValueError\u001b[0m                                Traceback (most recent call last)",
      "\u001b[1;32m~\\AppData\\Local\\Temp\\ipykernel_8900\\1727044083.py\u001b[0m in \u001b[0;36m<module>\u001b[1;34m\u001b[0m\n\u001b[0;32m      6\u001b[0m \u001b[1;33m\u001b[0m\u001b[0m\n\u001b[0;32m      7\u001b[0m \u001b[0mprint\u001b[0m\u001b[1;33m(\u001b[0m\u001b[0mgreet\u001b[0m\u001b[1;33m(\u001b[0m\u001b[1;34m'Anton'\u001b[0m\u001b[1;33m)\u001b[0m\u001b[1;33m)\u001b[0m\u001b[1;33m\u001b[0m\u001b[1;33m\u001b[0m\u001b[0m\n\u001b[1;32m----> 8\u001b[1;33m \u001b[0mprint\u001b[0m\u001b[1;33m(\u001b[0m\u001b[0mgreet\u001b[0m\u001b[1;33m(\u001b[0m\u001b[1;34m'anton'\u001b[0m\u001b[1;33m)\u001b[0m\u001b[1;33m)\u001b[0m\u001b[1;33m\u001b[0m\u001b[1;33m\u001b[0m\u001b[0m\n\u001b[0m",
      "\u001b[1;32m~\\AppData\\Local\\Temp\\ipykernel_8900\\1727044083.py\u001b[0m in \u001b[0;36mgreet\u001b[1;34m(name)\u001b[0m\n\u001b[0;32m      3\u001b[0m         \u001b[1;32mreturn\u001b[0m \u001b[1;34m\"Hello, \"\u001b[0m \u001b[1;33m+\u001b[0m \u001b[0mname\u001b[0m\u001b[1;33m\u001b[0m\u001b[1;33m\u001b[0m\u001b[0m\n\u001b[0;32m      4\u001b[0m     \u001b[1;32melse\u001b[0m\u001b[1;33m:\u001b[0m\u001b[1;33m\u001b[0m\u001b[1;33m\u001b[0m\u001b[0m\n\u001b[1;32m----> 5\u001b[1;33m         \u001b[1;32mraise\u001b[0m \u001b[0mValueError\u001b[0m\u001b[1;33m(\u001b[0m\u001b[0mname\u001b[0m \u001b[1;33m+\u001b[0m \u001b[1;34m' is inappropriate name'\u001b[0m\u001b[1;33m)\u001b[0m\u001b[1;33m\u001b[0m\u001b[1;33m\u001b[0m\u001b[0m\n\u001b[0m\u001b[0;32m      6\u001b[0m \u001b[1;33m\u001b[0m\u001b[0m\n\u001b[0;32m      7\u001b[0m \u001b[0mprint\u001b[0m\u001b[1;33m(\u001b[0m\u001b[0mgreet\u001b[0m\u001b[1;33m(\u001b[0m\u001b[1;34m'Anton'\u001b[0m\u001b[1;33m)\u001b[0m\u001b[1;33m)\u001b[0m\u001b[1;33m\u001b[0m\u001b[1;33m\u001b[0m\u001b[0m\n",
      "\u001b[1;31mValueError\u001b[0m: anton is inappropriate name"
     ]
    }
   ],
   "source": [
    "def greet(name):\n",
    "    if name[0].isupper():\n",
    "        return \"Hello, \" + name\n",
    "    else:\n",
    "        raise ValueError(name + ' is inappropriate name')\n",
    "        \n",
    "print(greet('Anton'))\n",
    "print(greet('anton'))"
   ]
  },
  {
   "cell_type": "code",
   "execution_count": 186,
   "id": "3ae06e1c",
   "metadata": {},
   "outputs": [
    {
     "name": "stdout",
     "output_type": "stream",
     "text": [
      "Hello, Anton\n"
     ]
    },
    {
     "ename": "BadName",
     "evalue": "anton is inappropriate name",
     "output_type": "error",
     "traceback": [
      "\u001b[1;31m---------------------------------------------------------------------------\u001b[0m",
      "\u001b[1;31mBadName\u001b[0m                                   Traceback (most recent call last)",
      "\u001b[1;32m~\\AppData\\Local\\Temp\\ipykernel_8900\\489561869.py\u001b[0m in \u001b[0;36m<module>\u001b[1;34m\u001b[0m\n\u001b[0;32m      9\u001b[0m \u001b[1;33m\u001b[0m\u001b[0m\n\u001b[0;32m     10\u001b[0m \u001b[0mprint\u001b[0m\u001b[1;33m(\u001b[0m\u001b[0mgreet\u001b[0m\u001b[1;33m(\u001b[0m\u001b[1;34m'Anton'\u001b[0m\u001b[1;33m)\u001b[0m\u001b[1;33m)\u001b[0m\u001b[1;33m\u001b[0m\u001b[1;33m\u001b[0m\u001b[0m\n\u001b[1;32m---> 11\u001b[1;33m \u001b[0mprint\u001b[0m\u001b[1;33m(\u001b[0m\u001b[0mgreet\u001b[0m\u001b[1;33m(\u001b[0m\u001b[1;34m'anton'\u001b[0m\u001b[1;33m)\u001b[0m\u001b[1;33m)\u001b[0m\u001b[1;33m\u001b[0m\u001b[1;33m\u001b[0m\u001b[0m\n\u001b[0m",
      "\u001b[1;32m~\\AppData\\Local\\Temp\\ipykernel_8900\\489561869.py\u001b[0m in \u001b[0;36mgreet\u001b[1;34m(name)\u001b[0m\n\u001b[0;32m      6\u001b[0m         \u001b[1;32mreturn\u001b[0m \u001b[1;34m\"Hello, \"\u001b[0m \u001b[1;33m+\u001b[0m \u001b[0mname\u001b[0m\u001b[1;33m\u001b[0m\u001b[1;33m\u001b[0m\u001b[0m\n\u001b[0;32m      7\u001b[0m     \u001b[1;32melse\u001b[0m\u001b[1;33m:\u001b[0m\u001b[1;33m\u001b[0m\u001b[1;33m\u001b[0m\u001b[0m\n\u001b[1;32m----> 8\u001b[1;33m         \u001b[1;32mraise\u001b[0m \u001b[0mBadName\u001b[0m\u001b[1;33m(\u001b[0m\u001b[0mname\u001b[0m \u001b[1;33m+\u001b[0m \u001b[1;34m' is inappropriate name'\u001b[0m\u001b[1;33m)\u001b[0m\u001b[1;33m\u001b[0m\u001b[1;33m\u001b[0m\u001b[0m\n\u001b[0m\u001b[0;32m      9\u001b[0m \u001b[1;33m\u001b[0m\u001b[0m\n\u001b[0;32m     10\u001b[0m \u001b[0mprint\u001b[0m\u001b[1;33m(\u001b[0m\u001b[0mgreet\u001b[0m\u001b[1;33m(\u001b[0m\u001b[1;34m'Anton'\u001b[0m\u001b[1;33m)\u001b[0m\u001b[1;33m)\u001b[0m\u001b[1;33m\u001b[0m\u001b[1;33m\u001b[0m\u001b[0m\n",
      "\u001b[1;31mBadName\u001b[0m: anton is inappropriate name"
     ]
    }
   ],
   "source": [
    "class BadName(Exception):\n",
    "    pass\n",
    "\n",
    "def greet(name):\n",
    "    if name[0].isupper():\n",
    "        return \"Hello, \" + name\n",
    "    else:\n",
    "        raise BadName(name + ' is inappropriate name')\n",
    "        \n",
    "print(greet('Anton'))\n",
    "print(greet('anton'))"
   ]
  },
  {
   "cell_type": "markdown",
   "id": "766ba827",
   "metadata": {},
   "source": [
    "Реализуйте класс `PositiveList`, отнаследовав его от класса `list`, для хранения положительных целых чисел.\n",
    "Также реализуйте новое исключение `NonPositiveError`.\n",
    "\n",
    "В классе `PositiveList` переопределите метод `append(self, x)` таким образом, чтобы при попытке добавить неположительное целое число бросалось исключение `NonPositiveError` и число не добавлялось, а при попытке добавить положительное целое число, число добавлялось бы как в стандартный list.\n",
    "\n",
    "В данной задаче гарантируется, что в качестве аргумента x метода append всегда будет передаваться целое число.\n",
    "\n",
    "Примечание:\n",
    "Положительными считаются числа, строго большие нуля."
   ]
  },
  {
   "cell_type": "code",
   "execution_count": 194,
   "id": "d10d6c10",
   "metadata": {},
   "outputs": [
    {
     "ename": "NonPositiveError",
     "evalue": "",
     "output_type": "error",
     "traceback": [
      "\u001b[1;31m---------------------------------------------------------------------------\u001b[0m",
      "\u001b[1;31mNonPositiveError\u001b[0m                          Traceback (most recent call last)",
      "\u001b[1;32m~\\AppData\\Local\\Temp\\ipykernel_8900\\1506307854.py\u001b[0m in \u001b[0;36m<module>\u001b[1;34m\u001b[0m\n\u001b[0;32m     11\u001b[0m             \u001b[1;32mraise\u001b[0m \u001b[0mNonPositiveError\u001b[0m\u001b[1;33m(\u001b[0m\u001b[1;33m)\u001b[0m\u001b[1;33m\u001b[0m\u001b[1;33m\u001b[0m\u001b[0m\n\u001b[0;32m     12\u001b[0m \u001b[0maaa\u001b[0m \u001b[1;33m=\u001b[0m \u001b[0mPositiveList\u001b[0m\u001b[1;33m(\u001b[0m\u001b[1;33m)\u001b[0m\u001b[1;33m\u001b[0m\u001b[1;33m\u001b[0m\u001b[0m\n\u001b[1;32m---> 13\u001b[1;33m \u001b[0maaa\u001b[0m\u001b[1;33m.\u001b[0m\u001b[0mappend\u001b[0m\u001b[1;33m(\u001b[0m\u001b[1;36m0\u001b[0m\u001b[1;33m)\u001b[0m\u001b[1;33m\u001b[0m\u001b[1;33m\u001b[0m\u001b[0m\n\u001b[0m\u001b[0;32m     14\u001b[0m \u001b[0maaa\u001b[0m\u001b[1;33m\u001b[0m\u001b[1;33m\u001b[0m\u001b[0m\n",
      "\u001b[1;32m~\\AppData\\Local\\Temp\\ipykernel_8900\\1506307854.py\u001b[0m in \u001b[0;36mappend\u001b[1;34m(self, vol)\u001b[0m\n\u001b[0;32m      9\u001b[0m             \u001b[0msuper\u001b[0m\u001b[1;33m(\u001b[0m\u001b[0mPositiveList\u001b[0m\u001b[1;33m,\u001b[0m\u001b[0mself\u001b[0m\u001b[1;33m)\u001b[0m\u001b[1;33m.\u001b[0m\u001b[0mappend\u001b[0m\u001b[1;33m(\u001b[0m\u001b[0mvol\u001b[0m\u001b[1;33m)\u001b[0m\u001b[1;33m\u001b[0m\u001b[1;33m\u001b[0m\u001b[0m\n\u001b[0;32m     10\u001b[0m         \u001b[1;32melse\u001b[0m\u001b[1;33m:\u001b[0m\u001b[1;33m\u001b[0m\u001b[1;33m\u001b[0m\u001b[0m\n\u001b[1;32m---> 11\u001b[1;33m             \u001b[1;32mraise\u001b[0m \u001b[0mNonPositiveError\u001b[0m\u001b[1;33m(\u001b[0m\u001b[1;33m)\u001b[0m\u001b[1;33m\u001b[0m\u001b[1;33m\u001b[0m\u001b[0m\n\u001b[0m\u001b[0;32m     12\u001b[0m \u001b[0maaa\u001b[0m \u001b[1;33m=\u001b[0m \u001b[0mPositiveList\u001b[0m\u001b[1;33m(\u001b[0m\u001b[1;33m)\u001b[0m\u001b[1;33m\u001b[0m\u001b[1;33m\u001b[0m\u001b[0m\n\u001b[0;32m     13\u001b[0m \u001b[0maaa\u001b[0m\u001b[1;33m.\u001b[0m\u001b[0mappend\u001b[0m\u001b[1;33m(\u001b[0m\u001b[1;36m0\u001b[0m\u001b[1;33m)\u001b[0m\u001b[1;33m\u001b[0m\u001b[1;33m\u001b[0m\u001b[0m\n",
      "\u001b[1;31mNonPositiveError\u001b[0m: "
     ]
    }
   ],
   "source": [
    "class NonPositiveError(Exception):\n",
    "    pass\n",
    "class PositiveList(list):\n",
    "    def append(self,vol):\n",
    "        if vol>0:\n",
    "            super(PositiveList,self).append(vol)\n",
    "        else:\n",
    "            raise NonPositiveError()\n",
    "aaa = PositiveList()\n",
    "aaa.append(0)\n",
    "aaa"
   ]
  },
  {
   "cell_type": "markdown",
   "id": "fc9bf2d2",
   "metadata": {},
   "source": [
    "## 2.2 Работа с кодом: модули и импорт"
   ]
  },
  {
   "cell_type": "code",
   "execution_count": 1,
   "id": "9cf04c59",
   "metadata": {},
   "outputs": [
    {
     "name": "stdout",
     "output_type": "stream",
     "text": [
      "import has been completed\n",
      "Hello, Mitry\n"
     ]
    }
   ],
   "source": [
    "import exeptions as exp\n",
    "\n",
    "print(exp.greet(\"Mitry\"))"
   ]
  },
  {
   "cell_type": "code",
   "execution_count": 5,
   "id": "21d1ed0b",
   "metadata": {},
   "outputs": [
    {
     "data": {
      "text/plain": [
       "(exeptions.BadName, <function exeptions.greet(name)>)"
      ]
     },
     "execution_count": 5,
     "metadata": {},
     "output_type": "execute_result"
    }
   ],
   "source": [
    "exp.BadName, exp.greet"
   ]
  },
  {
   "cell_type": "code",
   "execution_count": 6,
   "id": "35a0396f",
   "metadata": {},
   "outputs": [],
   "source": [
    "import sys"
   ]
  },
  {
   "cell_type": "code",
   "execution_count": 7,
   "id": "706629c7",
   "metadata": {},
   "outputs": [
    {
     "data": {
      "text/plain": [
       "dict"
      ]
     },
     "execution_count": 7,
     "metadata": {},
     "output_type": "execute_result"
    }
   ],
   "source": [
    "type(sys.modules)"
   ]
  },
  {
   "cell_type": "code",
   "execution_count": 9,
   "id": "38559ca8",
   "metadata": {},
   "outputs": [],
   "source": [
    "# print(sys.modules)"
   ]
  },
  {
   "cell_type": "markdown",
   "id": "562e370e",
   "metadata": {},
   "source": [
    "В первой строке дано три числа, соответствующие некоторой дате date -- год, месяц и день.\n",
    "Во второй строке дано одно число days -- число дней.\n",
    "\n",
    "Вычислите и выведите год, месяц и день даты, которая наступит, когда с момента исходной даты date пройдет число дней, равное days.\n",
    "\n",
    "Примечание:\n",
    "Для решения этой задачи используйте стандартный модуль `datetime`.\n",
    "Вам будут полезны класс `datetime.date` для хранения даты и класс `datetime.timedelta` для прибавления дней к дате.\n",
    "\n",
    "```\n",
    "Sample Input 1:\n",
    "2016 4 20\n",
    "14\n",
    "Sample Output 1:\n",
    "2016 5 4\n",
    "```\n",
    "```\n",
    "Sample Input 2:\n",
    "2016 2 20\n",
    "9\n",
    "Sample Output 2:\n",
    "2016 2 29\n",
    "```\n",
    "```\n",
    "Sample Input 3:\n",
    "2015 12 31\n",
    "1\n",
    "Sample Output 3:\n",
    "2016 1 1\n",
    "```"
   ]
  },
  {
   "cell_type": "code",
   "execution_count": 10,
   "id": "32d4d528",
   "metadata": {},
   "outputs": [],
   "source": [
    "import datetime\n",
    "\n",
    "new_date = datetime.date(*[int (d) for d in input().split()]) + datetime.timedelta(int(input()))\n",
    "print(new_date.year, new_date.month, new_date.day)"
   ]
  },
  {
   "cell_type": "markdown",
   "id": "ebefaf17",
   "metadata": {},
   "source": [
    "Алиса владеет интересной информацией, которую хочет заполучить Боб.\n",
    "Алиса умна, поэтому она хранит свою информацию в зашифрованном файле.\n",
    "У Алисы плохая память, поэтому она хранит все свои пароли в открытом виде в текстовом файле.\n",
    "\n",
    "Бобу удалось завладеть зашифрованным файлом с интересной информацией и файлом с паролями, но он не смог понять какой из паролей ему нужен. Помогите ему решить эту проблему.\n",
    "\n",
    "Алиса зашифровала свою информацию с помощью библиотеки `simple-crypt`.\n",
    "Она представила информацию в виде строки, и затем записала в бинарный файл результат работы метода `simplecrypt.encrypt`.\n",
    "\n",
    "Вам необходимо установить библиотеку `simple-crypt`, и с помощью метода `simplecrypt.decrypt` узнать, какой из паролей служит ключом для расшифровки файла с интересной информацией.\n",
    "\n",
    "Ответом для данной задачи служит расшифрованная интересная информация Алисы.\n",
    "\n",
    "[Файл с информацией](https://stepik.org/media/attachments/lesson/24466/encrypted.bin)   \n",
    "[Файл с паролями](https://stepik.org/media/attachments/lesson/24466/passwords.txt)\n",
    "\n",
    "Примечание:\n",
    "Для того, чтобы считать все данные из бинарного файла, можно использовать, например, следующий код:\n",
    "\n",
    "```python\n",
    "with open(\"encrypted.bin\", \"rb\") as inp:\n",
    "    encrypted = inp.read()\n",
    "```\n",
    "Примечание:\n",
    "﻿Работа с файлами рассмотрена в следующем уроке, поэтому вы можете вернуться к этой задаче после просмотра следующего урока."
   ]
  },
  {
   "cell_type": "code",
   "execution_count": 72,
   "id": "60434c75",
   "metadata": {},
   "outputs": [
    {
     "name": "stdout",
     "output_type": "stream",
     "text": [
      "Alice loves Bob\n"
     ]
    }
   ],
   "source": [
    "import simplecrypt\n",
    "\n",
    "with open('passwords.txt','r') as inp:\n",
    "    passwords = inp.read().split()\n",
    "with open(\"encrypted.bin\", \"rb\") as inp:\n",
    "    encrypted = inp.read()\n",
    "\n",
    "for psword in passwords:\n",
    "    try:\n",
    "        info = simplecrypt.decrypt(psword,encrypted)\n",
    "        break\n",
    "    except simplecrypt.DecryptionException:\n",
    "        pass\n",
    "print(info.decode(\"utf-8\"))"
   ]
  },
  {
   "cell_type": "markdown",
   "id": "fb4bedda",
   "metadata": {},
   "source": [
    "## 2.3 Итераторы и генераторы"
   ]
  },
  {
   "cell_type": "code",
   "execution_count": 121,
   "id": "b120bd34",
   "metadata": {},
   "outputs": [],
   "source": [
    "from random import random\n",
    "\n",
    "class RandomIterator():\n",
    "    def __init__(self,k):\n",
    "        self.k = k\n",
    "        self.i = 0\n",
    "    \n",
    "    def __iter__(self):\n",
    "        return self\n",
    "        \n",
    "    def __next__(self):\n",
    "        if self.i < self.k:\n",
    "            self.i += 1\n",
    "            return random()\n",
    "        else:\n",
    "            raise StopIteration"
   ]
  },
  {
   "cell_type": "code",
   "execution_count": 122,
   "id": "d8e7b32c",
   "metadata": {},
   "outputs": [
    {
     "name": "stdout",
     "output_type": "stream",
     "text": [
      "0.4347839491555412\n",
      "0.5626511693712909\n"
     ]
    },
    {
     "ename": "StopIteration",
     "evalue": "",
     "output_type": "error",
     "traceback": [
      "\u001b[1;31m---------------------------------------------------------------------------\u001b[0m",
      "\u001b[1;31mStopIteration\u001b[0m                             Traceback (most recent call last)",
      "\u001b[1;32m~\\AppData\\Local\\Temp\\ipykernel_19800\\347549314.py\u001b[0m in \u001b[0;36m<module>\u001b[1;34m\u001b[0m\n\u001b[0;32m      2\u001b[0m \u001b[0mprint\u001b[0m \u001b[1;33m(\u001b[0m\u001b[0mnext\u001b[0m\u001b[1;33m(\u001b[0m\u001b[0mitr\u001b[0m\u001b[1;33m)\u001b[0m\u001b[1;33m)\u001b[0m\u001b[1;33m\u001b[0m\u001b[1;33m\u001b[0m\u001b[0m\n\u001b[0;32m      3\u001b[0m \u001b[0mprint\u001b[0m \u001b[1;33m(\u001b[0m\u001b[0mnext\u001b[0m\u001b[1;33m(\u001b[0m\u001b[0mitr\u001b[0m\u001b[1;33m)\u001b[0m\u001b[1;33m)\u001b[0m\u001b[1;33m\u001b[0m\u001b[1;33m\u001b[0m\u001b[0m\n\u001b[1;32m----> 4\u001b[1;33m \u001b[0mprint\u001b[0m \u001b[1;33m(\u001b[0m\u001b[0mnext\u001b[0m\u001b[1;33m(\u001b[0m\u001b[0mitr\u001b[0m\u001b[1;33m)\u001b[0m\u001b[1;33m)\u001b[0m\u001b[1;33m\u001b[0m\u001b[1;33m\u001b[0m\u001b[0m\n\u001b[0m",
      "\u001b[1;32m~\\AppData\\Local\\Temp\\ipykernel_19800\\1077742330.py\u001b[0m in \u001b[0;36m__next__\u001b[1;34m(self)\u001b[0m\n\u001b[0;32m     14\u001b[0m             \u001b[1;32mreturn\u001b[0m \u001b[0mrandom\u001b[0m\u001b[1;33m(\u001b[0m\u001b[1;33m)\u001b[0m\u001b[1;33m\u001b[0m\u001b[1;33m\u001b[0m\u001b[0m\n\u001b[0;32m     15\u001b[0m         \u001b[1;32melse\u001b[0m\u001b[1;33m:\u001b[0m\u001b[1;33m\u001b[0m\u001b[1;33m\u001b[0m\u001b[0m\n\u001b[1;32m---> 16\u001b[1;33m             \u001b[1;32mraise\u001b[0m \u001b[0mStopIteration\u001b[0m\u001b[1;33m\u001b[0m\u001b[1;33m\u001b[0m\u001b[0m\n\u001b[0m",
      "\u001b[1;31mStopIteration\u001b[0m: "
     ]
    }
   ],
   "source": [
    "itr = RandomIterator(2)\n",
    "print (next(itr))\n",
    "print (next(itr))\n",
    "print (next(itr))"
   ]
  },
  {
   "cell_type": "code",
   "execution_count": 123,
   "id": "c9346007",
   "metadata": {},
   "outputs": [
    {
     "name": "stdout",
     "output_type": "stream",
     "text": [
      "0.8119119120879381\n",
      "0.5600893065749365\n",
      "0.007637471607514712\n",
      "0.5768722534139594\n",
      "0.5583381039371179\n"
     ]
    }
   ],
   "source": [
    "for x in RandomIterator(5):\n",
    "    print(x)"
   ]
  },
  {
   "cell_type": "code",
   "execution_count": null,
   "id": "f356e07f",
   "metadata": {},
   "outputs": [],
   "source": [
    "class DubleElementListIterator():\n",
    "    def __init__(self,lst):\n",
    "        self.lst = lst\n",
    "        self.i = 0\n",
    "    def __next__(self):\n",
    "        if self.i<len(self.lst):\n",
    "            return self.lst[self.i-2],self.lst[self.i-1]\n",
    "        else:\n",
    "            raise StopIteration\n",
    "        \n",
    "class MyList(list):\n",
    "    def __iter__(self):\n",
    "        return DubleElementListIterator(self)\n",
    "        "
   ]
  },
  {
   "cell_type": "code",
   "execution_count": 126,
   "id": "c78d165a",
   "metadata": {},
   "outputs": [
    {
     "name": "stdout",
     "output_type": "stream",
     "text": [
      "<class 'generator'>\n",
      "<generator object random_generator at 0x0000023A3637BCC8>\n",
      "[0.3302472967025434, 0.7224369194565967, 0.7600992893445961]\n"
     ]
    }
   ],
   "source": [
    "def random_generator(k):\n",
    "    for x in range(k):\n",
    "        yield random()\n",
    "        \n",
    "gen = random_generator(3)\n",
    "print(type(gen))\n",
    "print(gen)\n",
    "print(list(gen))"
   ]
  },
  {
   "cell_type": "markdown",
   "id": "044268b1",
   "metadata": {},
   "source": [
    "Одним из самых часто используемых классов в `Python` является класс `filter`. Он принимает в конструкторе два аргумента `a` и `f` – последовательность и функцию, и позволяет проитерироваться только по таким элементам x из последовательности `a`, что `f(x)` равно True. Будем говорить, что в этом случае функция `f` допускает элемент `x`, а элемент `x` является допущенным.\n",
    "\n",
    "В данной задаче мы просим вас реализовать класс `multifilter`, который будет выполнять ту же функцию, что и стандартный класс `filter`, но будет использовать не одну функцию, а несколько.\n",
    "\n",
    "Решение о допуске элемента будет приниматься на основании того, сколько функций допускают этот элемент, и сколько не допускают. Обозначим эти количества за `pos` и `neg`.\n",
    "\n",
    "Введем понятие решающей функции – это функция, которая принимает два аргумента – количества `pos` и `neg`, и возвращает `True`, если элемент допущен, и `False` иначе.\n",
    "\n",
    "Рассмотрим процесс допуска подробнее на следующем примере.   \n",
    "a = [1, 2, 3]  \n",
    "f2(x) = x % 2 == 0 # возвращает True, если x делится на 2   \n",
    "f3(x) = x % 3 == 0   \n",
    "judge_any(pos, neg) = pos >= 1 # возвращает True, если хотя бы одна функция допускает элемент   \n",
    "\n",
    "В этом примере мы хотим отфильтровать последовательность a и оставить только те элементы, которые делятся на два или на три.\n",
    "\n",
    "Функция f2 допускает только элементы, делящиеся на два, а функция f3 допускает только элементы, делящиеся на три. Решающая функция допускает элемент в случае, если он был допущен хотя бы одной из функций f2 или f3, то есть элементы, которые делятся на два или на три.\n",
    "\n",
    "Возьмем первый элемент x = 1.\n",
    "f2(x) равно False, т. е. функция f2 не допускает элемент x.\n",
    "f3(x) также равно False, т. е. функция f3 также не допускает элемент x.\n",
    "В этом случае pos = 0, так как ни одна функция не допускает x, и соответственно neg = 2.\n",
    "judge_any(0, 2) равно False, значит мы не допускаем элемент x = 1.\n",
    "\n",
    "Возьмем второй элемент x = 2.\n",
    "f2(x) равно True\n",
    "f3(x) равно False\n",
    "pos = 1, neg = 1\n",
    "judge_any(1, 1) равно True, значит мы допускаем элемент x = 2.\n",
    "\n",
    "Аналогично для третьего элемента x = 3.\n",
    "\n",
    "Таким образом, получили последовательность допущенных элементов [2, 3].\n",
    "\n",
    "Класс должен обладать следующей структурой:\n",
    "```python\n",
    "class multifilter:\n",
    "    def judge_half(pos, neg):\n",
    "        # допускает элемент, если его допускает хотя бы половина фукнций (pos >= neg)\n",
    "\n",
    "    def judge_any(pos, neg):\n",
    "        # допускает элемент, если его допускает хотя бы одна функция (pos >= 1)\n",
    "\n",
    "    def judge_all(pos, neg):\n",
    "        # допускает элемент, если его допускают все функции (neg == 0)\n",
    "\n",
    "    def __init__(self, iterable, *funcs, judge=judge_any):\n",
    "        # iterable - исходная последовательность\n",
    "        # funcs - допускающие функции\n",
    "        # judge - решающая функция\n",
    "\n",
    "    def __iter__(self):\n",
    "        # возвращает итератор по результирующей последовательности\n",
    "```\n",
    "Пример использования:\n",
    "``` python\n",
    "def mul2(x):\n",
    "    return x % 2 == 0\n",
    "\n",
    "def mul3(x):\n",
    "    return x % 3 == 0\n",
    "\n",
    "def mul5(x):\n",
    "    return x % 5 == 0\n",
    "\n",
    "\n",
    "a = [i for i in range(31)] # [0, 1, 2, ... , 30]\n",
    "\n",
    "print(list(multifilter(a, mul2, mul3, mul5))) \n",
    "# [0, 2, 3, 4, 5, 6, 8, 9, 10, 12, 14, 15, 16, 18, 20, 21, 22, 24, 25, 26, 27, 28, 30]\n",
    "\n",
    "print(list(multifilter(a, mul2, mul3, mul5, judge=multifilter.judge_half))) \n",
    "# [0, 6, 10, 12, 15, 18, 20, 24, 30]\n",
    "\n",
    "print(list(multifilter(a, mul2, mul3, mul5, judge=multifilter.judge_all))) \n",
    "# [0, 30]\n",
    "```"
   ]
  },
  {
   "cell_type": "code",
   "execution_count": 217,
   "id": "875b09bd",
   "metadata": {},
   "outputs": [],
   "source": [
    "class multifilter:\n",
    "    def judge_half(pos, neg):\n",
    "        # допускает элемент, если его допускает хотя бы половина фукнций (pos >= neg)\n",
    "        return pos>=neg\n",
    "\n",
    "    def judge_any(pos, neg):\n",
    "        # допускает элемент, если его допускает хотя бы одна функция (pos >= 1)\n",
    "        return pos>=1\n",
    "\n",
    "    def judge_all(pos, neg):\n",
    "        # допускает элемент, если его допускают все функции (neg == 0)\n",
    "        return neg == 0\n",
    "\n",
    "    def __init__(self, iterable, *funcs, judge=judge_any):\n",
    "        # iterable - исходная последовательность\n",
    "        # funcs - допускающие функции\n",
    "        # judge - решающая функция\n",
    "        self.iterable = iterable\n",
    "        self.funcs = funcs\n",
    "        self.judge = judge\n",
    "        self.i = 0\n",
    "\n",
    "    def __next__(self):\n",
    "        while self.i<len(self.iterable):\n",
    "            self.i += 1\n",
    "            pos, neg = 0, 0\n",
    "            for fun in self.funcs:\n",
    "                if fun(self.iterable[self.i-1]):\n",
    "                    pos += 1\n",
    "                else:\n",
    "                    neg += 1\n",
    "            if self.judge(pos,neg):\n",
    "                return self.iterable[self.i-1]\n",
    "        raise StopIteration        \n",
    "        \n",
    "    def __iter__(self):\n",
    "        # возвращает итератор по результирующей последовательности\n",
    "        return self\n",
    "    \n",
    "    "
   ]
  },
  {
   "cell_type": "code",
   "execution_count": 221,
   "id": "8c635705",
   "metadata": {},
   "outputs": [
    {
     "name": "stdout",
     "output_type": "stream",
     "text": [
      "[0, 2, 3, 4, 5, 6, 8, 9, 10, 12, 14, 15, 16, 18, 20, 21, 22, 24, 25, 26, 27, 28, 30]\n",
      "[0, 6, 10, 12, 15, 18, 20, 24, 30]\n",
      "[0, 30]\n"
     ]
    }
   ],
   "source": [
    "def mul2(x):\n",
    "    return x % 2 == 0\n",
    "\n",
    "def mul3(x):\n",
    "    return x % 3 == 0\n",
    "\n",
    "def mul5(x):\n",
    "    return x % 5 == 0\n",
    "\n",
    "\n",
    "a = [i for i in range(31)] # [0, 1, 2, ... , 30]\n",
    "\n",
    "print(list(multifilter(a, mul2, mul3, mul5))) \n",
    "# [0, 2, 3, 4, 5, 6, 8, 9, 10, 12, 14, 15, 16, 18, 20, 21, 22, 24, 25, 26, 27, 28, 30]\n",
    "\n",
    "print(list(multifilter(a, mul2, mul3, mul5, judge=multifilter.judge_half))) \n",
    "# [0, 6, 10, 12, 15, 18, 20, 24, 30]\n",
    "\n",
    "print(list(multifilter(a, mul2, mul3, mul5, judge=multifilter.judge_all))) \n",
    "# [0, 30]"
   ]
  },
  {
   "cell_type": "markdown",
   "id": "aa2fdcc4",
   "metadata": {},
   "source": [
    "Целое положительное число называется простым, если оно имеет ровно два различных делителя, то есть делится только на единицу и на само себя.\n",
    "Например, число 2 является простым, так как делится только на 1 и 2. Также простыми являются, например, числа 3, 5, 31, и еще бесконечно много чисел.\n",
    "Число 4, например, не является простым, так как имеет три делителя – 1, 2, 4. Также простым не является число 1, так как оно имеет ровно один делитель – 1.\n",
    "\n",
    "Реализуйте функцию-генератор primes, которая будет генерировать простые числа в порядке возрастания, начиная с числа 2.\n",
    "\n",
    "Пример использования:\n",
    "```python\n",
    "print(list(itertools.takewhile(lambda x : x <= 31, primes())))\n",
    "# [2, 3, 5, 7, 11, 13, 17, 19, 23, 29, 31]\n",
    "```"
   ]
  },
  {
   "cell_type": "code",
   "execution_count": 241,
   "id": "16212172",
   "metadata": {},
   "outputs": [
    {
     "name": "stdout",
     "output_type": "stream",
     "text": [
      "[2, 3, 5, 7, 11, 13, 17, 19, 23, 29, 31]\n"
     ]
    }
   ],
   "source": [
    "import itertools\n",
    "def primes():\n",
    "    i = 1\n",
    "    while True:\n",
    "        i += 1\n",
    "        if len([x for x in range(1,i+1) if not i%x])==2:\n",
    "            yield i\n",
    "        \n",
    "\n",
    "print(list(itertools.takewhile(lambda x : x <= 31, primes())))"
   ]
  },
  {
   "cell_type": "code",
   "execution_count": 242,
   "id": "b194c57c",
   "metadata": {},
   "outputs": [
    {
     "data": {
      "text/plain": [
       "[1, 2, 3, 4]"
      ]
     },
     "execution_count": 242,
     "metadata": {},
     "output_type": "execute_result"
    }
   ],
   "source": [
    "list(i + 1 for i in range(4))"
   ]
  },
  {
   "cell_type": "markdown",
   "id": "f3853f94",
   "metadata": {},
   "source": [
    "## 2.4 Работа с файловой системой и файлами"
   ]
  },
  {
   "cell_type": "code",
   "execution_count": 263,
   "id": "f273f670",
   "metadata": {},
   "outputs": [
    {
     "name": "stdout",
     "output_type": "stream",
     "text": [
      "first\n",
      "first line \n",
      "second line \n",
      "third line\n",
      "\n",
      "''\n",
      "'first line \\nsecond line \\nthird line'\n"
     ]
    },
    {
     "data": {
      "text/plain": [
       "['first line ', 'second line ', 'third line']"
      ]
     },
     "execution_count": 263,
     "metadata": {},
     "output_type": "execute_result"
    }
   ],
   "source": [
    "f = open(\"test.txt\")\n",
    "x = f.read(5)\n",
    "print(x)\n",
    "f.close()\n",
    "f = open(\"test.txt\")\n",
    "y = f.read()\n",
    "z = f.read()\n",
    "f.close()\n",
    "\n",
    "print(y)\n",
    "print(z)\n",
    "print(repr(z))\n",
    "print(repr(y))\n",
    "\n",
    "y.splitlines()"
   ]
  },
  {
   "cell_type": "code",
   "execution_count": 264,
   "id": "028a75f5",
   "metadata": {},
   "outputs": [],
   "source": [
    "f = open('test_2.txt','w')\n",
    "f.write('Lines:\\n')\n",
    "lines = ['Line1','Line4','Line3' ]\n",
    "content = '\\n'.join(lines)\n",
    "f.write(content)\n",
    "f.close() # пока не закрыл - файл пустой"
   ]
  },
  {
   "cell_type": "code",
   "execution_count": 265,
   "id": "f7dd6dfa",
   "metadata": {},
   "outputs": [
    {
     "data": {
      "text/plain": [
       "'Line1\\nLine4\\nLine3'"
      ]
     },
     "execution_count": 265,
     "metadata": {},
     "output_type": "execute_result"
    }
   ],
   "source": [
    "content"
   ]
  },
  {
   "cell_type": "markdown",
   "id": "5796abf5",
   "metadata": {},
   "source": [
    "Вам дается текстовый файл, содержащий некоторое количество непустых строк.\n",
    "На основе него сгенерируйте новый текстовый файл, содержащий те же строки в обратном порядке.\n",
    "\n",
    "Пример входного файла:\n",
    "```\n",
    "ab\n",
    "c\n",
    "dde\n",
    "ff\n",
    "```\n",
    "Пример выходного файла:\n",
    "```\n",
    "ff\n",
    "dde\n",
    "c\n",
    "ab\n",
    "```"
   ]
  },
  {
   "cell_type": "code",
   "execution_count": 286,
   "id": "5f11bb5b",
   "metadata": {},
   "outputs": [],
   "source": [
    "with open('task_data.txt') as inp, open('task_answer.txt','w') as outp:\n",
    "# with open('dataset_24465_4.txt') as f:    \n",
    "    task_data = inp.read()   \n",
    "    task_answer = '\\n'.join(task_data.splitlines()[::-1])\n",
    "    outp.write(task_answer)"
   ]
  },
  {
   "cell_type": "code",
   "execution_count": 319,
   "id": "3930f949",
   "metadata": {},
   "outputs": [
    {
     "name": "stdout",
     "output_type": "stream",
     "text": [
      "C:\\Users\\GANSOR-PC\\Stepik\\Python основы и применение\n",
      "\n",
      ".ipynb_checkpoints\n",
      "dataset_24465_4.txt\n",
      "encrypted.bin\n",
      "exeptions.py\n",
      "input.txt\n",
      "input_2.txt\n",
      "passwords.txt\n",
      "Python основы и применение.ipynb\n",
      "task_answer.txt\n",
      "task_data.txt\n",
      "temp_n_test.ipynb\n",
      "test.txt\n",
      "test_2.txt\n",
      "Untitled.ipynb\n",
      "__pycache__\n"
     ]
    }
   ],
   "source": [
    "import os, os.path\n",
    "# print(os.listdir())\n",
    "# Return a list containing the names of the files in the directory.\n",
    "print(*os.listdir(), sep='\\n')"
   ]
  },
  {
   "cell_type": "code",
   "execution_count": 356,
   "id": "d7fb6693",
   "metadata": {},
   "outputs": [
    {
     "name": "stdout",
     "output_type": "stream",
     "text": [
      "C:\\Users\\GANSOR-PC\\Stepik\\Python основы и применение\\__pycache__\n"
     ]
    }
   ],
   "source": [
    "# Return a unicode string representing the current working directory.\n",
    "print(os.getcwd())"
   ]
  },
  {
   "cell_type": "code",
   "execution_count": 355,
   "id": "6af24e05",
   "metadata": {},
   "outputs": [
    {
     "name": "stdout",
     "output_type": "stream",
     "text": [
      "Python основы и применение\n",
      "Программирование на Python\n"
     ]
    }
   ],
   "source": [
    "print(*os.listdir('C:\\\\Users\\\\GANSOR-PC\\\\Stepik\\\\'), sep='\\n')"
   ]
  },
  {
   "cell_type": "code",
   "execution_count": 337,
   "id": "3606f600",
   "metadata": {},
   "outputs": [
    {
     "name": "stdout",
     "output_type": "stream",
     "text": [
      "True\n",
      "True\n",
      "True\n",
      "False\n"
     ]
    }
   ],
   "source": [
    "# Test whether a path exists\n",
    "print(os.path.exists('input.txt'))\n",
    "print(os.path.exists('Python основы и применение.ipynb'))\n",
    "print(os.path.exists('__pycache__'))\n",
    "print(os.path.exists('Java основы и применение.ipynb'))\n"
   ]
  },
  {
   "cell_type": "code",
   "execution_count": 338,
   "id": "d319a2b0",
   "metadata": {},
   "outputs": [
    {
     "name": "stdout",
     "output_type": "stream",
     "text": [
      "True\n",
      "False\n",
      "False\n",
      "True\n"
     ]
    }
   ],
   "source": [
    "# Test whether a path is a regular file\n",
    "print(os.path.isfile('input.txt'))\n",
    "print(os.path.isfile('__pycache__'))\n",
    "# Return true if the pathname refers to an existing directory.\n",
    "print(os.path.isdir('input.txt'))\n",
    "print(os.path.isdir('__pycache__'))"
   ]
  },
  {
   "cell_type": "code",
   "execution_count": 342,
   "id": "447fd8c6",
   "metadata": {},
   "outputs": [
    {
     "data": {
      "text/plain": [
       "'C:\\\\Users\\\\GANSOR-PC\\\\Stepik\\\\Python основы и применение\\\\__pycache__\\\\input.txt'"
      ]
     },
     "execution_count": 342,
     "metadata": {},
     "output_type": "execute_result"
    }
   ],
   "source": [
    "os.path.abspath('input.txt')"
   ]
  },
  {
   "cell_type": "code",
   "execution_count": 357,
   "id": "81c5e3df",
   "metadata": {},
   "outputs": [],
   "source": [
    "os.chdir('C:\\\\Users\\\\GANSOR-PC\\\\Stepik\\\\Python основы и применение')"
   ]
  },
  {
   "cell_type": "code",
   "execution_count": 345,
   "id": "9516575e",
   "metadata": {},
   "outputs": [
    {
     "name": "stdout",
     "output_type": "stream",
     "text": [
      "C:\\Users\\GANSOR-PC\\Stepik\\Python основы и применение\\__pycache__\n",
      "\n",
      "exeptions.cpython-37.pyc\n"
     ]
    }
   ],
   "source": [
    "os.chdir('__pycache__')\n",
    "\n",
    "print(os.getcwd())\n",
    "print()\n",
    "print(*os.listdir())"
   ]
  },
  {
   "cell_type": "code",
   "execution_count": 353,
   "id": "88658937",
   "metadata": {},
   "outputs": [
    {
     "name": "stdout",
     "output_type": "stream",
     "text": [
      "C:\\Users\\GANSOR-PC\\Stepik ['Python основы и применение', 'Программирование на Python'] [] \n",
      "\n",
      "C:\\Users\\GANSOR-PC\\Stepik\\Python основы и применение ['.ipynb_checkpoints', '__pycache__'] ['dataset_24465_4.txt', 'encrypted.bin', 'exeptions.py', 'input.txt', 'input_2.txt', 'passwords.txt', 'Python основы и применение.ipynb', 'task_answer.txt', 'task_data.txt', 'temp_n_test.ipynb', 'test.txt', 'test_2.txt', 'Untitled.ipynb'] \n",
      "\n",
      "C:\\Users\\GANSOR-PC\\Stepik\\Python основы и применение\\.ipynb_checkpoints [] ['Python основы и применение-checkpoint.ipynb', 'temp_n_test-checkpoint.ipynb', 'Untitled-checkpoint.ipynb'] \n",
      "\n",
      "C:\\Users\\GANSOR-PC\\Stepik\\Python основы и применение\\__pycache__ [] ['exeptions.cpython-37.pyc'] \n",
      "\n",
      "C:\\Users\\GANSOR-PC\\Stepik\\Программирование на Python ['.idea', '.ipynb_checkpoints'] ['answer.txt', 'answer3.txt', 'answer_.txt', 'answer_last_task.txt', 'answer_tmp.txt', 'a_plus_b.py', 'dataset_3363_2.txt', 'dataset_3363_3.txt', 'dataset_3363_4.txt', 'dataset_3378_2 (2).txt', 'dataset_3378_2.txt', 'file_url.txt', 'task_sys_argv.py', 'test.txt', 'Программирование на Python.ipynb'] \n",
      "\n",
      "C:\\Users\\GANSOR-PC\\Stepik\\Программирование на Python\\.idea ['inspectionProfiles'] ['.gitignore', 'misc.xml', 'modules.xml', 'workspace.xml', 'Программирование на Python.iml'] \n",
      "\n",
      "C:\\Users\\GANSOR-PC\\Stepik\\Программирование на Python\\.idea\\inspectionProfiles [] ['profiles_settings.xml'] \n",
      "\n",
      "C:\\Users\\GANSOR-PC\\Stepik\\Программирование на Python\\.ipynb_checkpoints [] ['Программирование на Python-checkpoint.ipynb'] \n",
      "\n"
     ]
    }
   ],
   "source": [
    "# Directory tree generator.\n",
    "for cur_dir, dirs, files in os.walk(\"C:\\\\Users\\\\GANSOR-PC\\\\Stepik\"):\n",
    "    print(cur_dir,dirs,files,'\\n')"
   ]
  },
  {
   "cell_type": "code",
   "execution_count": 358,
   "id": "69eb8f21",
   "metadata": {},
   "outputs": [
    {
     "data": {
      "text/plain": [
       "'copy_exeptions.py'"
      ]
     },
     "execution_count": 358,
     "metadata": {},
     "output_type": "execute_result"
    }
   ],
   "source": [
    "import shutil\n",
    "os.chdir('C:\\\\Users\\\\GANSOR-PC\\\\Stepik\\\\Python основы и применение')\n",
    "shutil.copy('exeptions.py','copy_exeptions.py')"
   ]
  },
  {
   "cell_type": "markdown",
   "id": "8b3acbc0",
   "metadata": {},
   "source": [
    "Вам дана в архиве ([ссылка](https://stepik.org/media/attachments/lesson/24465/main.zip)) файловая структура, состоящая из директорий и файлов.\n",
    "\n",
    "Вам необходимо распаковать этот архив, и затем найти в данной в файловой структуре все директории, в которых есть хотя бы один файл с расширением \".py\". \n",
    "\n",
    "Ответом на данную задачу будет являться файл со списком таких директорий, отсортированных в лексикографическом порядке.\n",
    "\n",
    "Для лучшего понимания формата задачи, ознакомьтесь с примером.   \n",
    "[Пример архива](https://stepik.org/media/attachments/lesson/24465/sample.zip)   \n",
    "[Пример ответа](https://stepik.org/media/attachments/lesson/24465/sample_ans.txt)"
   ]
  },
  {
   "cell_type": "code",
   "execution_count": 419,
   "id": "607ba11c",
   "metadata": {},
   "outputs": [],
   "source": [
    "import os, os.path, shutil\n",
    "\n",
    "root_path = 'C:\\\\Users\\\\GANSOR-PC\\\\Stepik\\\\Python основы и применение\\\\'\n",
    "os.chdir(root_path + 'main')\n",
    "\n",
    "root_path_len = len(root_path)\n",
    "ans = []\n",
    "for cur_dir, dirs, files in os.walk(root_path + 'main'):\n",
    "    if (any(map(lambda x: x[-3:]=='.py',files))):\n",
    "        ans.append(cur_dir[root_path_len:])\n",
    "ans.sort()\n",
    "\n",
    "with open(root_path +'task_answer_2.txt','w') as task_answer:\n",
    "    task_answer.write('\\n'.join(ans))"
   ]
  },
  {
   "cell_type": "markdown",
   "id": "e79c7d15",
   "metadata": {},
   "source": [
    "## 2.5 Работа с функциями: functool и лямбда функции"
   ]
  },
  {
   "cell_type": "code",
   "execution_count": 1,
   "id": "c0f1979e",
   "metadata": {},
   "outputs": [],
   "source": [
    "import operator as op"
   ]
  },
  {
   "cell_type": "code",
   "execution_count": 3,
   "id": "8bf62843",
   "metadata": {},
   "outputs": [
    {
     "name": "stdout",
     "output_type": "stream",
     "text": [
      "5\n",
      "33\n",
      "False\n"
     ]
    }
   ],
   "source": [
    "print(op.add(2,3))\n",
    "print(op.mul(11,3))\n",
    "print(op.contains([1,2,3,5,9],4))"
   ]
  },
  {
   "cell_type": "code",
   "execution_count": 17,
   "id": "2dae0954",
   "metadata": {},
   "outputs": [
    {
     "name": "stdout",
     "output_type": "stream",
     "text": [
      "88\n",
      "88\n"
     ]
    }
   ],
   "source": [
    "x = [1,2,3,5,88,9]\n",
    "xx = {'a':1,'b':88,'ab':None}\n",
    "f = op.itemgetter(4)\n",
    "ff = op.itemgetter('b')\n",
    "print(f(x))\n",
    "print(ff(xx))"
   ]
  },
  {
   "cell_type": "code",
   "execution_count": 18,
   "id": "38f77826",
   "metadata": {},
   "outputs": [
    {
     "data": {
      "text/plain": [
       "<function list.sort(*, key=None, reverse=False)>"
      ]
     },
     "execution_count": 18,
     "metadata": {},
     "output_type": "execute_result"
    }
   ],
   "source": [
    "f = op.attrgetter('sort')\n",
    "f([])"
   ]
  },
  {
   "cell_type": "code",
   "execution_count": 19,
   "id": "78a6966a",
   "metadata": {},
   "outputs": [
    {
     "data": {
      "text/plain": [
       "9"
      ]
     },
     "execution_count": 19,
     "metadata": {},
     "output_type": "execute_result"
    }
   ],
   "source": [
    "from functools import partial\n",
    "import operator as op\n",
    "\n",
    "x = int('1001',base=2)\n",
    "x"
   ]
  },
  {
   "cell_type": "code",
   "execution_count": 3,
   "id": "e0ebe88e",
   "metadata": {},
   "outputs": [
    {
     "data": {
      "text/plain": [
       "9"
      ]
     },
     "execution_count": 3,
     "metadata": {},
     "output_type": "execute_result"
    }
   ],
   "source": [
    "int_2 = partial(int,base=2)\n",
    "int_2('1001')"
   ]
  },
  {
   "cell_type": "code",
   "execution_count": 6,
   "id": "5ddeed59",
   "metadata": {},
   "outputs": [
    {
     "data": {
      "text/plain": [
       "['bca', 'cab', 'abc']"
      ]
     },
     "execution_count": 6,
     "metadata": {},
     "output_type": "execute_result"
    }
   ],
   "source": [
    "xx = ['abc','bca','cab']\n",
    "sort_by_last = partial(list.sort, key=op.itemgetter(-1))\n",
    "sort_by_last(xx)\n",
    "xx"
   ]
  },
  {
   "cell_type": "markdown",
   "id": "7660b30a",
   "metadata": {},
   "source": [
    "Лямбда функции предоставляют нам удобный способ создать функцию «прямо на месте».\n",
    "Но иногда, когда нужно создавать много однотипных лямбда функций, еще удобнее будет создать функцию, которая будет их генерировать.\n",
    "\n",
    "Реализуйте функцию `mod_checker(x, mod=0)`, которая будет генерировать лямбда функцию от одного аргумента `y`, которая будет возвращать `True`, если остаток от деления `y` на `x` равен `mod`, и `False` иначе.\n",
    "\n",
    "﻿Пример использования:\n",
    "```python\n",
    "mod_3 = mod_checker(3)\n",
    "\n",
    "print(mod_3(3)) # True\n",
    "print(mod_3(4)) # False\n",
    "\n",
    "mod_3_1 = mod_checker(3, 1)\n",
    "print(mod_3_1(4)) # True\n",
    "```"
   ]
  },
  {
   "cell_type": "code",
   "execution_count": 15,
   "id": "19fba92d",
   "metadata": {},
   "outputs": [],
   "source": [
    "def  mod_checker(x, mod=0):\n",
    "    return lambda y: y%x == mod "
   ]
  },
  {
   "cell_type": "code",
   "execution_count": 16,
   "id": "4825d228",
   "metadata": {},
   "outputs": [
    {
     "name": "stdout",
     "output_type": "stream",
     "text": [
      "True\n",
      "False\n",
      "True\n"
     ]
    }
   ],
   "source": [
    "mod_3 = mod_checker(3)\n",
    "\n",
    "print(mod_3(3)) # True\n",
    "print(mod_3(4)) # False\n",
    "\n",
    "mod_3_1 = mod_checker(3, 1)\n",
    "print(mod_3_1(4)) # True"
   ]
  },
  {
   "cell_type": "markdown",
   "id": "f0174642",
   "metadata": {},
   "source": [
    "# 3. Применение Python, анализ текста\n",
    "## 3.1 Стандартные методы и функции для строк"
   ]
  },
  {
   "cell_type": "markdown",
   "id": "d0385a65",
   "metadata": {},
   "source": [
    "Вашей программе на вход подаются три строки s, a, b, состоящие из строчных латинских букв.\n",
    "За одну операцию вы можете заменить все вхождения строки a в строку s на строку b.\n",
    "\n",
    "Например, s = \"abab\", a = \"ab\", b = \"ba\", тогда после выполнения одной операции строка s перейдет в строку \"baba\", после выполнения двух и операций – в строку \"bbaa\", и дальнейшие операции не будут изменять строку s.\n",
    "\n",
    "Необходимо узнать, после какого минимального количества операций в строке s не останется вхождений строки a. Если операций потребуется более 1000, выведите Impossible.\n",
    "\n",
    "Выведите одно число – минимальное число операций, после применения которых в строке s не останется вхождений строки a, или Impossible, если операций потребуется более 1000.\n",
    "\n",
    "Условие задачи было изменено 12.09.2018\n",
    "```\n",
    "Sample Input 1:\n",
    "ababa\n",
    "a\n",
    "b\n",
    "\n",
    "Sample Output 1:\n",
    "1\n",
    "```\n",
    "```\n",
    "Sample Input 2:\n",
    "ababa\n",
    "b\n",
    "a\n",
    "\n",
    "Sample Output 2:\n",
    "1\n",
    "```\n",
    "```\n",
    "Sample Input 3:\n",
    "ababa\n",
    "c\n",
    "c\n",
    "\n",
    "Sample Output 3:\n",
    "0\n",
    "```\n",
    "```\n",
    "Sample Input 4:\n",
    "ababac\n",
    "c\n",
    "c\n",
    "\n",
    "Sample Output 4:\n",
    "Impossible\n",
    "```"
   ]
  },
  {
   "cell_type": "code",
   "execution_count": 22,
   "id": "67d0db79",
   "metadata": {},
   "outputs": [
    {
     "name": "stdout",
     "output_type": "stream",
     "text": [
      "abababababa\n",
      "ab\n",
      "ba\n",
      "5\n"
     ]
    }
   ],
   "source": [
    "s, a, b = [input() for _ in range(3)]\n",
    "it_count = 0\n",
    "while it_count < 1000:\n",
    "    if s.find(a) != -1:\n",
    "        s = s.replace(a,b)\n",
    "    else:\n",
    "        print(it_count)\n",
    "        break\n",
    "    it_count += 1\n",
    "else:\n",
    "    print('Impossible')\n",
    "    "
   ]
  },
  {
   "cell_type": "markdown",
   "id": "06445dd5",
   "metadata": {},
   "source": [
    "Вашей программе на вход подаются две строки `s` и `t`, состоящие из строчных латинских букв.\n",
    "\n",
    "Выведите одно число – количество вхождений строки `t` в строку `s`.\n",
    "\n",
    "Пример:\n",
    "s = \"abababa\"\n",
    "t = \"aba\"\n",
    "\n",
    "Вхождения строки t в строку s:   \n",
    "**aba**baba   \n",
    "ab**aba**ba   \n",
    "abab**aba**   \n",
    "```\n",
    "Sample Input 1:\n",
    "abababa\n",
    "aba\n",
    "\n",
    "Sample Output 1:\n",
    "3\n",
    "```\n",
    "```\n",
    "Sample Input 2:\n",
    "abababa\n",
    "abc\n",
    "\n",
    "Sample Output 2:\n",
    "0\n",
    "```\n",
    "```\n",
    "Sample Input 3:\n",
    "abc\n",
    "abc\n",
    "\n",
    "Sample Output 3:\n",
    "1\n",
    "```\n",
    "```\n",
    "Sample Input 4:\n",
    "aaaaa\n",
    "a\n",
    "\n",
    "Sample Output 4:\n",
    "5\n",
    "```"
   ]
  },
  {
   "cell_type": "code",
   "execution_count": 32,
   "id": "bf10bd83",
   "metadata": {},
   "outputs": [
    {
     "name": "stdout",
     "output_type": "stream",
     "text": [
      "abababa\n",
      "aba\n",
      "3\n"
     ]
    }
   ],
   "source": [
    "s,t = input(), input()\n",
    "start, count = 0, 0\n",
    "while t in s[start:]:\n",
    "    start = s.find(t,start) + 1\n",
    "    count += 1\n",
    "print(count)"
   ]
  },
  {
   "cell_type": "markdown",
   "id": "0fb04820",
   "metadata": {},
   "source": [
    "## 3.2 Регулярные выражения в Python"
   ]
  },
  {
   "cell_type": "code",
   "execution_count": 33,
   "id": "e63fb3e7",
   "metadata": {},
   "outputs": [],
   "source": [
    "import re"
   ]
  },
  {
   "cell_type": "code",
   "execution_count": 37,
   "id": "cb99f39c",
   "metadata": {},
   "outputs": [
    {
     "name": "stdout",
     "output_type": "stream",
     "text": [
      "<function match at 0x00000230447304C8>\n",
      "<function search at 0x0000023044741A68>\n",
      "<function findall at 0x0000023044773948>\n",
      "<function sub at 0x0000023044773798>\n"
     ]
    }
   ],
   "source": [
    "print(re.match)\n",
    "print(re.search)\n",
    "print(re.findall)\n",
    "print(re.sub)"
   ]
  },
  {
   "cell_type": "code",
   "execution_count": 47,
   "id": "6b70a1f8",
   "metadata": {},
   "outputs": [
    {
     "name": "stdout",
     "output_type": "stream",
     "text": [
      "<re.Match object; span=(0, 3), match='abc'>\n",
      "None\n"
     ]
    }
   ],
   "source": [
    "pattern = r\"abc\"\n",
    "string = \"abc\"\n",
    "match_object = re.match(pattern,string)\n",
    "print(match_object)\n",
    "string = \"babc\"\n",
    "match_object = re.match(pattern,string)\n",
    "print(match_object)"
   ]
  },
  {
   "cell_type": "code",
   "execution_count": 49,
   "id": "c40df114",
   "metadata": {},
   "outputs": [
    {
     "name": "stdout",
     "output_type": "stream",
     "text": [
      "<re.Match object; span=(1, 4), match='abc'>\n"
     ]
    }
   ],
   "source": [
    "match_object = re.search(pattern,string)\n",
    "print(search_object)"
   ]
  },
  {
   "cell_type": "code",
   "execution_count": 52,
   "id": "ca385956",
   "metadata": {},
   "outputs": [
    {
     "name": "stdout",
     "output_type": "stream",
     "text": [
      "['abc', 'aac', 'acc']\n"
     ]
    }
   ],
   "source": [
    "pattern = \"a[abc]c\"\n",
    "string = \"abc  aac acc\"\n",
    "all_inclusions = re.findall(pattern,string)\n",
    "print(all_inclusions)"
   ]
  },
  {
   "cell_type": "code",
   "execution_count": null,
   "id": "94f7d3f3",
   "metadata": {},
   "outputs": [],
   "source": []
  },
  {
   "cell_type": "code",
   "execution_count": null,
   "id": "ccd92f38",
   "metadata": {},
   "outputs": [],
   "source": []
  },
  {
   "cell_type": "code",
   "execution_count": null,
   "id": "d0d03e4e",
   "metadata": {},
   "outputs": [],
   "source": []
  },
  {
   "cell_type": "markdown",
   "id": "e43abbd0",
   "metadata": {},
   "source": [
    "# ========================================="
   ]
  },
  {
   "cell_type": "code",
   "execution_count": 27,
   "id": "88cca6ee",
   "metadata": {},
   "outputs": [
    {
     "ename": "NameError",
     "evalue": "name 'count' is not defined",
     "output_type": "error",
     "traceback": [
      "\u001b[1;31m---------------------------------------------------------------------------\u001b[0m",
      "\u001b[1;31mNameError\u001b[0m                                 Traceback (most recent call last)",
      "\u001b[1;32m~\\AppData\\Local\\Temp\\ipykernel_15256\\1332810635.py\u001b[0m in \u001b[0;36m<module>\u001b[1;34m\u001b[0m\n\u001b[1;32m----> 1\u001b[1;33m \u001b[0mcount\u001b[0m\u001b[1;33m\u001b[0m\u001b[1;33m\u001b[0m\u001b[0m\n\u001b[0m",
      "\u001b[1;31mNameError\u001b[0m: name 'count' is not defined"
     ]
    }
   ],
   "source": [
    "count"
   ]
  },
  {
   "cell_type": "code",
   "execution_count": null,
   "id": "9deffc9b",
   "metadata": {},
   "outputs": [],
   "source": []
  }
 ],
 "metadata": {
  "kernelspec": {
   "display_name": "Python 3 (ipykernel)",
   "language": "python",
   "name": "python3"
  },
  "language_info": {
   "codemirror_mode": {
    "name": "ipython",
    "version": 3
   },
   "file_extension": ".py",
   "mimetype": "text/x-python",
   "name": "python",
   "nbconvert_exporter": "python",
   "pygments_lexer": "ipython3",
   "version": "3.7.4"
  }
 },
 "nbformat": 4,
 "nbformat_minor": 5
}
