{
 "cells": [
  {
   "cell_type": "markdown",
   "id": "a4355132",
   "metadata": {},
   "source": [
    "# Базовые принципы языка Python"
   ]
  },
  {
   "cell_type": "code",
   "execution_count": 2,
   "id": "0bb452f5",
   "metadata": {},
   "outputs": [
    {
     "data": {
      "text/plain": [
       "1346269"
      ]
     },
     "execution_count": 2,
     "metadata": {},
     "output_type": "execute_result"
    }
   ],
   "source": [
    "fib = lambda x : 1 if x <= 2 else fib(x - 1) + fib(x - 2)\n",
    "fib(31)"
   ]
  },
  {
   "cell_type": "markdown",
   "id": "e21de98b",
   "metadata": {},
   "source": [
    "Реализуйте программу, которая принимает последовательность чисел и выводит их сумму.\n",
    "\n",
    "Вашей программе на вход подается последовательность строк.\n",
    "Первая строка содержит число n (1 ≤ n ≤ 100).\n",
    "В следующих n строках содержится по одному целому числу.\n",
    "\n",
    "Выведите одно число – сумму данных n чисел."
   ]
  },
  {
   "cell_type": "code",
   "execution_count": 3,
   "id": "8dd08efa",
   "metadata": {},
   "outputs": [
    {
     "name": "stdout",
     "output_type": "stream",
     "text": [
      "3\n",
      "1\n",
      "23\n",
      "5\n",
      "29\n"
     ]
    }
   ],
   "source": [
    "print(sum([int(input()) for _ in range(int(input()))]))"
   ]
  },
  {
   "cell_type": "markdown",
   "id": "f58fc945",
   "metadata": {},
   "source": [
    "Реализуйте программу, которая будет вычислять количество различных объектов в списке.\n",
    "Два объекта a и b считаются различными, если a is b равно False.\n",
    "\n",
    "Вашей программе доступна переменная с названием objects, которая ссылается на список, содержащий не более 100 объектов. Выведите количество различных объектов в этом списке.\n",
    "\n",
    "Формат ожидаемой программы:\n",
    "```python\n",
    "ans = 0\n",
    "for obj in objects: # доступная переменная objects\n",
    "    ans += 1\n",
    "\n",
    "print(ans)\n",
    "```"
   ]
  },
  {
   "cell_type": "code",
   "execution_count": 4,
   "id": "5e67dbc3",
   "metadata": {},
   "outputs": [],
   "source": [
    "objects = [1, 2, 1, 2, 3]\n",
    "objects = [1, 2, 1, 5, True, False, True, 'false', [], [1,2], [1,2]]\n"
   ]
  },
  {
   "cell_type": "code",
   "execution_count": 5,
   "id": "df054df0",
   "metadata": {},
   "outputs": [
    {
     "name": "stdout",
     "output_type": "stream",
     "text": [
      "9\n",
      "9\n"
     ]
    }
   ],
   "source": [
    "ans = 0\n",
    "objects_id = set()\n",
    "for obj in objects: \n",
    "    if id(obj) not in objects_id:\n",
    "        objects_id.add(id(obj))\n",
    "        ans += 1\n",
    "print(ans)\n",
    "print(len(objects_id))"
   ]
  },
  {
   "cell_type": "code",
   "execution_count": 6,
   "id": "3b6f0538",
   "metadata": {},
   "outputs": [
    {
     "data": {
      "text/plain": [
       "140737334355792"
      ]
     },
     "execution_count": 6,
     "metadata": {},
     "output_type": "execute_result"
    }
   ],
   "source": [
    "id(2)"
   ]
  },
  {
   "cell_type": "code",
   "execution_count": 7,
   "id": "4305ef5a",
   "metadata": {},
   "outputs": [
    {
     "name": "stdout",
     "output_type": "stream",
     "text": [
      "['arg1', 'arg2', 'foo']\n"
     ]
    }
   ],
   "source": [
    "a = []\n",
    "\n",
    "def foo(arg1, arg2):\n",
    "  a.append(\"foo\")\n",
    "\n",
    "foo(a.append(\"arg1\"), a.append(\"arg2\"))\n",
    "\n",
    "print(a)"
   ]
  },
  {
   "cell_type": "markdown",
   "id": "3694c868",
   "metadata": {},
   "source": [
    "Напишите реализацию функции **closest_mod_5**, принимающую в качестве единственного аргумента целое число $x$ и возвращающую самое маленькое целое число $y$, такое что:\n",
    "\n",
    "- y больше или равно x\n",
    "- y делится нацело на 5    \n",
    "\n",
    "Формат того, что ожидается от вас в качестве ответа:\n",
    "\n",
    "```python\n",
    "def closest_mod_5(x):\n",
    "    if x % 5 == 0:\n",
    "        return x\n",
    "    return \"I don't know :(\"\n",
    "```"
   ]
  },
  {
   "cell_type": "code",
   "execution_count": 8,
   "id": "ea24c7ab",
   "metadata": {},
   "outputs": [],
   "source": [
    "def closest_mod_5(x):\n",
    "    if x % 5 == 0:\n",
    "        return x\n",
    "    else:\n",
    "        return (x//5 + 1)*5"
   ]
  },
  {
   "cell_type": "code",
   "execution_count": 9,
   "id": "aafa86ef",
   "metadata": {},
   "outputs": [
    {
     "data": {
      "text/plain": [
       "10"
      ]
     },
     "execution_count": 9,
     "metadata": {},
     "output_type": "execute_result"
    }
   ],
   "source": [
    "closest_mod_5(6)"
   ]
  },
  {
   "cell_type": "markdown",
   "id": "81d8aa8c",
   "metadata": {},
   "source": [
    "Сочетанием из n элементов по k называется подмножество этих n элементов размера k.\n",
    "Два сочетания называются различными, если одно из сочетаний содержит элемент, который не содержит другое.\n",
    "Числом сочетаний из n по k называется количество различных сочетаний из n по k. Обозначим это число за C(n, k).\n",
    "\n",
    "Пример:\n",
    "Пусть n = 3, т. е. есть три элемента (1, 2, 3). Пусть k = 2.\n",
    "Все различные сочетания из 3 элементов по 2: (1, 2), (1, 3), (2, 3).\n",
    "Различных сочетаний три, поэтому C(3, 2) = 3.\n",
    "\n",
    "Несложно понять, что C(n, 0) = 1, так как из n элементов выбрать 0 можно единственным образом, а именно, ничего не выбрать.\n",
    "Также несложно понять, что если k > n, то C(n, k) = 0, так как невозможно, например, из трех элементов выбрать пять.\n",
    "\n",
    "Для вычисления C(n, k) в других случаях используется следующая рекуррентная формула:\n",
    "C(n, k) = C(n - 1, k) + C(n - 1, k - 1).\n",
    "\n",
    "Реализуйте программу, которая для заданных n и k вычисляет C(n, k).\n",
    "\n",
    "Вашей программе на вход подается строка, содержащая два целых числа n и k (1 ≤ n ≤ 10, 0 ≤ k ≤ 10).\n",
    "Ваша программа должна вывести единственное число: C(n, k).\n",
    "\n",
    "Примечание:\n",
    "Считать два числа n и k вы можете, например, следующим образом:\n",
    "\n",
    "n, k = map(int, input().split())\n",
    "____________________________________________________________\n",
    "C(N, 0) = C(N,N) = 1,   \n",
    "C(N,K) = C(N–1,K) + C(N-1,K–1) при 0<K<N."
   ]
  },
  {
   "cell_type": "code",
   "execution_count": 11,
   "id": "fab96bec",
   "metadata": {},
   "outputs": [
    {
     "name": "stdout",
     "output_type": "stream",
     "text": [
      "10 5\n",
      "252\n"
     ]
    }
   ],
   "source": [
    "def comb_n_k(n,k):\n",
    "    if n==k or n>0 and k==0:\n",
    "        return 1\n",
    "    return comb_n_k(n-1,k) + comb_n_k(n-1,k-1)\n",
    "    \n",
    "n, k = map(int, input().split())\n",
    "print(comb_n_k(n,k))"
   ]
  },
  {
   "cell_type": "markdown",
   "id": "937565d8",
   "metadata": {},
   "source": [
    "### 1.4 Пространства имён и области видимости"
   ]
  },
  {
   "cell_type": "markdown",
   "id": "3b225d9a",
   "metadata": {},
   "source": [
    "Реализуйте программу, которая будет эмулировать работу с пространствами имен. Необходимо реализовать поддержку создания пространств имен и добавление в них переменных.\n",
    "\n",
    "В данной задаче у каждого пространства имен есть уникальный текстовый идентификатор – его имя.\n",
    "\n",
    "Вашей программе на вход подаются следующие запросы:\n",
    "\n",
    "- `create <namespace> <parent>` –  создать новое пространство имен с именем <namespace> внутри пространства <parent>\n",
    "- `add <namespace> <var>` – добавить в пространство <namespace> переменную <var>\n",
    "- `get <namespace> <var>` – получить имя пространства, из которого будет взята переменная <var> при запросе из пространства <namespace>, или None, если такого пространства не существует\n",
    "    \n",
    "\n",
    "    \n",
    "Более формально, результатом работы `get <namespace> <var>` является\n",
    "\n",
    "`<namespace>`, если в пространстве `<namespace>` была объявлена переменная `<var>`   \n",
    "`get <parent> <var>` – результат запроса к пространству, внутри которого было создано пространство `<namespace>`, если переменная не была объявлена   \n",
    "`None`, если не существует `<parent>`, т. е. `<namespace>` – это global\n",
    "    \n",
    "#### Формат входных данных\n",
    "В первой строке дано число n (1 ≤ n ≤ 100) – число запросов.\n",
    "В каждой из следующих n строк дано по одному запросу.\n",
    "Запросы выполняются в порядке, в котором они даны во входных данных.\n",
    "Имена пространства имен и имена переменных представляют из себя строки длины не более 10, состоящие из строчных латинских букв.\n",
    "\n",
    "#### Формат выходных данных\n",
    "Для каждого запроса get выведите в отдельной строке его результат.\n",
    "\n"
   ]
  },
  {
   "cell_type": "code",
   "execution_count": 16,
   "id": "5010cc18",
   "metadata": {},
   "outputs": [
    {
     "name": "stdout",
     "output_type": "stream",
     "text": [
      "global\n",
      "None\n",
      "bar\n",
      "foo\n"
     ]
    }
   ],
   "source": [
    "reserv_input = input\n",
    "input = open(\"input_imitation.txt\", \"r\").readline\n",
    "\n",
    "namespaces = {'global': {'parent': None, 'variables': set()}}\n",
    "\n",
    "def create(namespace, parent):\n",
    "    namespaces[namespace] = {'parent': parent, 'variables': set()}\n",
    "def add(namespace,var):\n",
    "    namespaces[namespace]['variables'] |= {var}\n",
    "def get(namespace,var):\n",
    "    if var in namespaces[namespace]['variables']:\n",
    "        print (namespace)\n",
    "    elif namespaces[namespace]['parent'] is None:\n",
    "        print (namespaces[namespace]['parent'])\n",
    "    else:\n",
    "        get(namespaces[namespace]['parent'],var)\n",
    "        \n",
    "n = int(input())\n",
    "for i in range(n):\n",
    "    command, namesp, argument = input().split()\n",
    "    if command == 'create': create(namesp, argument)\n",
    "    if command == 'add': add(namesp, argument)\n",
    "    if command == 'get': get(namesp, argument)\n",
    "        \n",
    "input = reserv_input"
   ]
  },
  {
   "cell_type": "markdown",
   "id": "bb35ddc4",
   "metadata": {},
   "source": [
    "9     \n",
    "add global a   \n",
    "create foo global   \n",
    "add foo b   \n",
    "get foo a   \n",
    "get foo c   \n",
    "create bar foo   \n",
    "add bar a   \n",
    "get bar a   \n",
    "get bar b"
   ]
  },
  {
   "cell_type": "markdown",
   "id": "62ef0a76",
   "metadata": {},
   "source": [
    "###  1.5 Введение в классы"
   ]
  },
  {
   "cell_type": "code",
   "execution_count": 17,
   "id": "504e8a5a",
   "metadata": {},
   "outputs": [
    {
     "data": {
      "text/plain": [
       "__main__.Counter"
      ]
     },
     "execution_count": 17,
     "metadata": {},
     "output_type": "execute_result"
    }
   ],
   "source": [
    "class Counter:\n",
    "    pass\n",
    "\n",
    "Counter"
   ]
  },
  {
   "cell_type": "code",
   "execution_count": 18,
   "id": "6ebf12b8",
   "metadata": {},
   "outputs": [
    {
     "data": {
      "text/plain": [
       "<__main__.Counter at 0x1e0d14c65b0>"
      ]
     },
     "execution_count": 18,
     "metadata": {},
     "output_type": "execute_result"
    }
   ],
   "source": [
    "x = Counter()\n",
    "x"
   ]
  },
  {
   "cell_type": "code",
   "execution_count": 19,
   "id": "bb064fbf",
   "metadata": {},
   "outputs": [
    {
     "data": {
      "text/plain": [
       "1"
      ]
     },
     "execution_count": 19,
     "metadata": {},
     "output_type": "execute_result"
    }
   ],
   "source": [
    "x.count = 0\n",
    "x.count += 1\n",
    "x.count"
   ]
  },
  {
   "cell_type": "code",
   "execution_count": 20,
   "id": "865a86a7",
   "metadata": {},
   "outputs": [
    {
     "data": {
      "text/plain": [
       "0"
      ]
     },
     "execution_count": 20,
     "metadata": {},
     "output_type": "execute_result"
    }
   ],
   "source": [
    "class Counter2:\n",
    "    def __init__(self):\n",
    "        self.count = 0\n",
    "        \n",
    "x = Counter2()\n",
    "x.count"
   ]
  },
  {
   "cell_type": "code",
   "execution_count": 21,
   "id": "5d670a41",
   "metadata": {},
   "outputs": [
    {
     "data": {
      "text/plain": [
       "10"
      ]
     },
     "execution_count": 21,
     "metadata": {},
     "output_type": "execute_result"
    }
   ],
   "source": [
    "class Counter3:\n",
    "    def __init__(self,start=0):\n",
    "        self.count = start\n",
    "        \n",
    "x = Counter3(10)\n",
    "x.count"
   ]
  },
  {
   "cell_type": "code",
   "execution_count": 22,
   "id": "1d37646a",
   "metadata": {},
   "outputs": [
    {
     "data": {
      "text/plain": [
       "10"
      ]
     },
     "execution_count": 22,
     "metadata": {},
     "output_type": "execute_result"
    }
   ],
   "source": [
    "class Counter4:\n",
    "    def __init__(self,start=0):\n",
    "        self.count = start\n",
    "    def inc(self):\n",
    "        self.count += 1\n",
    "    def reset(self):\n",
    "        self.count = 0\n",
    "        \n",
    "x = Counter4(10)\n",
    "x.count"
   ]
  },
  {
   "cell_type": "code",
   "execution_count": 23,
   "id": "3d5573a2",
   "metadata": {},
   "outputs": [
    {
     "data": {
      "text/plain": [
       "11"
      ]
     },
     "execution_count": 23,
     "metadata": {},
     "output_type": "execute_result"
    }
   ],
   "source": [
    "x.inc()\n",
    "x.count"
   ]
  },
  {
   "cell_type": "code",
   "execution_count": 24,
   "id": "80ae360f",
   "metadata": {},
   "outputs": [
    {
     "data": {
      "text/plain": [
       "12"
      ]
     },
     "execution_count": 24,
     "metadata": {},
     "output_type": "execute_result"
    }
   ],
   "source": [
    "Counter4.inc(x) # эквивалентно x.inc()\n",
    "x.count"
   ]
  },
  {
   "cell_type": "code",
   "execution_count": 25,
   "id": "fefcde58",
   "metadata": {},
   "outputs": [
    {
     "data": {
      "text/plain": [
       "0"
      ]
     },
     "execution_count": 25,
     "metadata": {},
     "output_type": "execute_result"
    }
   ],
   "source": [
    "x.reset()\n",
    "x.count"
   ]
  },
  {
   "cell_type": "markdown",
   "id": "8861c4bb",
   "metadata": {},
   "source": [
    "Реализуйте класс `MoneyBox`, для работы с виртуальной копилкой.\n",
    "\n",
    "Каждая копилка имеет ограниченную вместимость, которая выражается целым числом – количеством монет, которые можно положить в копилку. Класс должен поддерживать информацию о количестве монет в копилке, предоставлять возможность добавлять монеты в копилку и узнавать, можно ли добавить в копилку ещё какое-то количество монет, не превышая ее вместимость.\n",
    "\n",
    "Класс должен иметь следующий вид\n",
    "```python\n",
    "class MoneyBox:\n",
    "    def __init__(self, capacity):\n",
    "        # конструктор с аргументом – вместимость копилки\n",
    "\n",
    "    def can_add(self, v):\n",
    "        # True, если можно добавить v монет, False иначе\n",
    "\n",
    "    def add(self, v):\n",
    "        # положить v монет в копилку\n",
    "```\n",
    "При создании копилки, число монет в ней равно 0.\n",
    "Примечание:\n",
    "Гарантируется, что метод `add(self, v)` будет вызываться только если `can_add(self, v) – True`."
   ]
  },
  {
   "cell_type": "code",
   "execution_count": 27,
   "id": "401dfa32",
   "metadata": {},
   "outputs": [
    {
     "ename": "IndentationError",
     "evalue": "unindent does not match any outer indentation level (<tokenize>, line 7)",
     "output_type": "error",
     "traceback": [
      "\u001b[1;36m  File \u001b[1;32m\"<tokenize>\"\u001b[1;36m, line \u001b[1;32m7\u001b[0m\n\u001b[1;33m    def can_add(self, v):\u001b[0m\n\u001b[1;37m    ^\u001b[0m\n\u001b[1;31mIndentationError\u001b[0m\u001b[1;31m:\u001b[0m unindent does not match any outer indentation level\n"
     ]
    }
   ],
   "source": [
    "class MoneyBox:\n",
    "    def __init__(self, capacity):\n",
    "        # конструктор с аргументом – вместимость копилки\n",
    "        self.capacity = capacity\n",
    "        self.amount = 0\n",
    "        \n",
    "    def can_add(self, v):\n",
    "        # True, если можно добавить v монет, False иначе\n",
    "        if self.amount + v <= self.capacity:\n",
    "            return True\n",
    "        else:\n",
    "            return False\n",
    "\n",
    "    def add(self, v):\n",
    "        # положить v монет в копилку\n",
    "        self.amount += v"
   ]
  },
  {
   "cell_type": "markdown",
   "id": "3a17bfd5",
   "metadata": {},
   "source": [
    "Вам дается последовательность целых чисел и вам нужно ее обработать и вывести на экран сумму первой пятерки чисел из этой последовательности, затем сумму второй пятерки, и т. д.\n",
    "\n",
    "Но последовательность не дается вам сразу целиком. С течением времени к вам поступают её последовательные части. Например, сначала первые три элемента, потом следующие шесть, потом следующие два и т. д.\n",
    "\n",
    "Реализуйте класс `Buffer`, который будет накапливать в себе элементы последовательности и выводить сумму пятерок последовательных элементов по мере их накопления.\n",
    "\n",
    "Одним из требований к классу является то, что он не должен хранить в себе больше элементов, чем ему действительно необходимо, т. е. он не должен хранить элементы, которые уже вошли в пятерку, для которой была выведена сумма.\n",
    "\n",
    "Класс должен иметь следующий вид\n",
    "```python\n",
    "class Buffer:\n",
    "    def __init__(self):\n",
    "        # конструктор без аргументов\n",
    "    \n",
    "    def add(self, *a):\n",
    "        # добавить следующую часть последовательности\n",
    "\n",
    "    def get_current_part(self):\n",
    "        # вернуть сохраненные в текущий момент элементы последовательности в порядке, в котором они\n",
    "        # были добавлены\n",
    "```\n",
    "Пример работы с классом\n",
    "\n",
    "```\n",
    "buf = Buffer()\n",
    "buf.add(1, 2, 3)\n",
    "buf.get_current_part() # вернуть [1, 2, 3]\n",
    "buf.add(4, 5, 6) # print(15) – вывод суммы первой пятерки элементов\n",
    "buf.get_current_part() # вернуть [6]\n",
    "buf.add(7, 8, 9, 10) # print(40) – вывод суммы второй пятерки элементов\n",
    "buf.get_current_part() # вернуть []\n",
    "buf.add(1, 1, 1, 1, 1, 1, 1, 1, 1, 1, 1) # print(5), print(5) – вывод сумм третьей и четвертой пятерки\n",
    "buf.get_current_part() # вернуть [1]\n",
    "```\n",
    "\n",
    "Обратите внимание, что во время выполнения метода add выводить сумму пятерок может потребоваться несколько раз до тех пор, пока в буфере не останется менее пяти элементов."
   ]
  },
  {
   "cell_type": "code",
   "execution_count": 28,
   "id": "27525fc1",
   "metadata": {},
   "outputs": [],
   "source": [
    "class Buffer:\n",
    "    def __init__(self):\n",
    "        # конструктор без аргументов\n",
    "        self.buffer = []\n",
    "        \n",
    "    def add(self, *a):\n",
    "        # добавить следующую часть последовательности\n",
    "        self.buffer += a\n",
    "        while len(self.buffer) >= 5:\n",
    "            print(sum(self.buffer[:5]))\n",
    "            self.buffer = self.buffer[5:]\n",
    "        \n",
    "    def get_current_part(self):\n",
    "        # вернуть сохраненные в текущий момент элементы последовательности в порядке, в котором они были     \n",
    "        # добавлены\n",
    "        return self.buffer"
   ]
  },
  {
   "cell_type": "markdown",
   "id": "365e1b4f",
   "metadata": {},
   "source": [
    "Какие числа будут выведены в результате выполнения данного кода?"
   ]
  },
  {
   "cell_type": "code",
   "execution_count": 29,
   "id": "5a4f4b61",
   "metadata": {},
   "outputs": [
    {
     "name": "stdout",
     "output_type": "stream",
     "text": [
      "2\n",
      "3\n",
      "3\n",
      "3\n"
     ]
    }
   ],
   "source": [
    "class A:\n",
    "    val = 1\n",
    "    def foo(self):\n",
    "        A.val += 2\n",
    "    def bar(self):\n",
    "        self.val += 1\n",
    "\n",
    "a = A()\n",
    "b = A()\n",
    "a.bar()\n",
    "a.foo()\n",
    "c = A()\n",
    "print(a.val)\n",
    "print(b.val)\n",
    "print(c.val)\n",
    "print(A.val)"
   ]
  },
  {
   "cell_type": "markdown",
   "id": "8e62b5c4",
   "metadata": {},
   "source": [
    "### =========================================================="
   ]
  },
  {
   "cell_type": "code",
   "execution_count": 30,
   "id": "f2f2abc6",
   "metadata": {},
   "outputs": [
    {
     "name": "stdout",
     "output_type": "stream",
     "text": [
      "[]\n"
     ]
    }
   ],
   "source": [
    "class MyList(list):\n",
    "    def even_length(self):\n",
    "        return len(self)%2 == 0\n",
    "    \n",
    "x = MyList()\n",
    "print(x)"
   ]
  },
  {
   "cell_type": "code",
   "execution_count": 31,
   "id": "de96f473",
   "metadata": {},
   "outputs": [
    {
     "data": {
      "text/plain": [
       "([1, 2, 3, 4, 5], False)"
      ]
     },
     "execution_count": 31,
     "metadata": {},
     "output_type": "execute_result"
    }
   ],
   "source": [
    "x.extend([1,2,3,4,5])\n",
    "x, x.even_length()"
   ]
  },
  {
   "cell_type": "code",
   "execution_count": 32,
   "id": "97d37c7a",
   "metadata": {},
   "outputs": [
    {
     "data": {
      "text/plain": [
       "([1, 2, 3, 4, 5, 6], True)"
      ]
     },
     "execution_count": 32,
     "metadata": {},
     "output_type": "execute_result"
    }
   ],
   "source": [
    "x.append(6)\n",
    "x, x.even_length()"
   ]
  },
  {
   "cell_type": "markdown",
   "id": "b45f103d",
   "metadata": {},
   "source": [
    "### ========================================================="
   ]
  },
  {
   "cell_type": "code",
   "execution_count": 33,
   "id": "fdf274cc",
   "metadata": {},
   "outputs": [],
   "source": [
    "class D: pass\n",
    "class E: pass\n",
    "class B(D,E): pass\n",
    "class C: pass\n",
    "class A(B,C): pass"
   ]
  },
  {
   "cell_type": "code",
   "execution_count": 34,
   "id": "a637d783",
   "metadata": {},
   "outputs": [
    {
     "data": {
      "text/plain": [
       "True"
      ]
     },
     "execution_count": 34,
     "metadata": {},
     "output_type": "execute_result"
    }
   ],
   "source": [
    "issubclass(A,A)"
   ]
  },
  {
   "cell_type": "code",
   "execution_count": 35,
   "id": "db040eac",
   "metadata": {},
   "outputs": [
    {
     "data": {
      "text/plain": [
       "False"
      ]
     },
     "execution_count": 35,
     "metadata": {},
     "output_type": "execute_result"
    }
   ],
   "source": [
    "issubclass(C,D)"
   ]
  },
  {
   "cell_type": "code",
   "execution_count": 36,
   "id": "4001460d",
   "metadata": {},
   "outputs": [
    {
     "data": {
      "text/plain": [
       "True"
      ]
     },
     "execution_count": 36,
     "metadata": {},
     "output_type": "execute_result"
    }
   ],
   "source": [
    "issubclass(A,D)"
   ]
  },
  {
   "cell_type": "code",
   "execution_count": 37,
   "id": "b216fc7b",
   "metadata": {},
   "outputs": [
    {
     "data": {
      "text/plain": [
       "(True, False)"
      ]
     },
     "execution_count": 37,
     "metadata": {},
     "output_type": "execute_result"
    }
   ],
   "source": [
    "issubclass(C,object),  issubclass(object,C)"
   ]
  },
  {
   "cell_type": "code",
   "execution_count": 38,
   "id": "2cd39446",
   "metadata": {},
   "outputs": [
    {
     "data": {
      "text/plain": [
       "True"
      ]
     },
     "execution_count": 38,
     "metadata": {},
     "output_type": "execute_result"
    }
   ],
   "source": [
    "x = A()\n",
    "isinstance(x,A)"
   ]
  },
  {
   "cell_type": "code",
   "execution_count": 39,
   "id": "1f5ca0dd",
   "metadata": {},
   "outputs": [
    {
     "data": {
      "text/plain": [
       "(True, True, False)"
      ]
     },
     "execution_count": 39,
     "metadata": {},
     "output_type": "execute_result"
    }
   ],
   "source": [
    "isinstance(x,B),  isinstance(x,object),  isinstance(x,str),"
   ]
  },
  {
   "cell_type": "code",
   "execution_count": 40,
   "id": "c6f42999",
   "metadata": {},
   "outputs": [
    {
     "data": {
      "text/plain": [
       "[__main__.E, __main__.C, __main__.D, __main__.B, __main__.A, object]"
      ]
     },
     "execution_count": 40,
     "metadata": {},
     "output_type": "execute_result"
    }
   ],
   "source": [
    "class A:\n",
    "   def foo(self):\n",
    "      print(\"A\")\n",
    "\n",
    "class B(A):\n",
    "   pass\n",
    "\n",
    "class C(A):\n",
    "   def foo(self):\n",
    "      print(\"C\")\n",
    "\n",
    "class D:\n",
    "   def foo(self):\n",
    "      print(\"D\")\n",
    "\n",
    "class E(C, D, B):\n",
    "   pass\n",
    "E.mro()"
   ]
  },
  {
   "cell_type": "markdown",
   "id": "cf128c67",
   "metadata": {},
   "source": [
    "Вам дано описание наследования классов в следующем формате.\n",
    "**<имя класса 1> : <имя класса 2> <имя класса 3> ... <имя класса k>***\n",
    "Это означает, что класс 1 отнаследован от класса 2, класса 3, и т. д.\n",
    "\n",
    "Или эквивалентно записи:\n",
    "\n",
    "```\n",
    "class Class1(Class2, Class3 ... ClassK):\n",
    "    pass\n",
    "```\n",
    "Класс **A** является **прямым предком** класса **B**, если **B** отнаследован от **A**:\n",
    "\n",
    "```\n",
    "class B(A):\n",
    "    pass\n",
    "```\n",
    "\n",
    "Класс **A** является **предком** класса **B**, если   \n",
    "- **A** = **B**;  \n",
    "- **A** - **прямой предок B**  \n",
    "- существует такой класс **C**, что **C** - **прямой предок B** и **A - предок C**  \n",
    "\n",
    "Например:\n",
    "```\n",
    "class B(A):\n",
    "    pass\n",
    "\n",
    "class C(B):\n",
    "    pass\n",
    "\n",
    "# A -- предок С\n",
    "```\n",
    "\n",
    "Вам необходимо отвечать на запросы, является ли один класс предком другого класса\n",
    "\n",
    "Важное примечание:   \n",
    "Создавать классы не требуется.   \n",
    "Мы просим вас промоделировать этот процесс, и понять существует ли путь от одного класса до другого.\n",
    "### Формат входных данных   \n",
    "В первой строке входных данных содержится целое число n - число классов.   \n",
    "\n",
    "В следующих n строках содержится описание наследования классов. В i-й строке указано от каких классов наследуется i-й класс. Обратите внимание, что класс может ни от кого не наследоваться. Гарантируется, что класс не наследуется сам от себя (прямо или косвенно), что класс не наследуется явно от одного класса более одного раза.   \n",
    "\n",
    "В следующей строке содержится число q - количество запросов.   \n",
    "\n",
    "В следующих q строках содержится описание запросов в формате **<имя класса 1> <имя класса 2>**.   \n",
    "Имя класса – строка, состоящая из символов латинского алфавита, длины не более 50.   \n",
    "\n",
    "### Формат выходных данных   \n",
    "Для каждого запроса выведите в отдельной строке слово \"Yes\", если класс 1 является предком класса 2, и \"No\", если не является."
   ]
  },
  {
   "cell_type": "code",
   "execution_count": 41,
   "id": "503fc9c4",
   "metadata": {},
   "outputs": [
    {
     "name": "stdout",
     "output_type": "stream",
     "text": [
      "Yes\n",
      "Yes\n",
      "Yes\n",
      "No\n"
     ]
    }
   ],
   "source": [
    "reserv_input = input\n",
    "input = open(\"input.txt\", \"r\").readline\n",
    "# input = reserv_input\n",
    "\n",
    "def check_parents(class_name_1, class_name_2):\n",
    "    global check_parents_result\n",
    "    if class_name_1 == class_name_2:\n",
    "        check_parents_result = 'Yes'\n",
    "    elif class_name_1 in succession[class_name_2]:\n",
    "        check_parents_result = 'Yes'\n",
    "    else:\n",
    "        for parent in succession[class_name_2]:\n",
    "            check_parents(class_name_1,parent)\n",
    "\n",
    "classes_num_ = int(input())\n",
    "succession = {}\n",
    "for _ in range(classes_num_):\n",
    "    class_dscr = input().split()\n",
    "#     parents = class_dscr[class_dscr.index(':')+1:]  if ':' in class_dscr else []\n",
    "    parents = class_dscr[2:] \n",
    "    succession[class_dscr[0]] = parents\n",
    "               \n",
    "requests_num = int(input())\n",
    "for _ in range(requests_num):\n",
    "    class_name_1, class_name_2 = input().split()\n",
    "    check_parents_result = 'No'\n",
    "    check_parents(class_name_1, class_name_2)\n",
    "    print(check_parents_result)\n",
    "    \n",
    "input = reserv_input"
   ]
  },
  {
   "cell_type": "markdown",
   "id": "e554f0e4",
   "metadata": {},
   "source": [
    "Sample Input:\n",
    "```\n",
    "4   \n",
    "A    \n",
    "B : A   \n",
    "C : A   \n",
    "D : B C   \n",
    "4   \n",
    "A B   \n",
    "B D   \n",
    "C D   \n",
    "D A\n",
    "```"
   ]
  },
  {
   "cell_type": "markdown",
   "id": "cc6d12ed",
   "metadata": {},
   "source": [
    "Реализуйте структуру данных, представляющую собой расширенную структуру стек. Необходимо поддерживать добавление элемента на вершину стека, удаление с вершины стека, и необходимо поддерживать операции сложения, вычитания, умножения и целочисленного деления.\n",
    "\n",
    "Операция сложения на стеке определяется следующим образом. Со стека снимается верхний элемент (top1), затем снимается следующий верхний элемент (top2), и затем как результат операции сложения на вершину стека кладется элемент, равный top1 + top2.\n",
    "\n",
    "Аналогичным образом определяются операции вычитания (top1 - top2), умножения (top1 * top2) и целочисленного деления (top1 // top2).\n",
    "\n",
    "Реализуйте эту структуру данных как класс ExtendedStack, отнаследовав его от стандартного класса list.\n",
    "Требуемая структура класса:\n",
    "```python\n",
    "class ExtendedStack(list):\n",
    "    def sum(self):\n",
    "        # операция сложения\n",
    "\n",
    "    def sub(self):\n",
    "        # операция вычитания\n",
    "\n",
    "    def mul(self):\n",
    "        # операция умножения\n",
    "\n",
    "    def div(self):\n",
    "        # операция целочисленного деления\n",
    "``` \n",
    "Примечание\n",
    "Для добавления элемента на стек используется метод append, а для снятия со стека – метод pop.\n",
    "Гарантируется, что операции будут совершаться только когда в стеке есть хотя бы два элемента."
   ]
  },
  {
   "cell_type": "code",
   "execution_count": 43,
   "id": "b1ac263b",
   "metadata": {},
   "outputs": [],
   "source": [
    "class ExtendedStack(list):\n",
    "    def sum(self):\n",
    "        self.append(self.pop() + self.pop())\n",
    "\n",
    "    def sub(self):\n",
    "        self.append(self.pop() - self.pop())\n",
    "    \n",
    "    def mul(self):\n",
    "        self.append(self.pop() * self.pop())\n",
    "\n",
    "    def div(self):\n",
    "        self.append(self.pop() // self.pop())"
   ]
  },
  {
   "cell_type": "markdown",
   "id": "3e392d29",
   "metadata": {},
   "source": [
    "Одно из применений множественного наследование – расширение функциональности класса каким-то заранее определенным способом. Например, если нам понадобится логировать какую-то информацию при обращении к методам класса.\n",
    "\n",
    "Рассмотрим класс Loggable:\n",
    "```python\n",
    "import time\n",
    "\n",
    "class Loggable:\n",
    "    def log(self, msg):\n",
    "        print(str(time.ctime()) + \": \" + str(msg))\n",
    "```\n",
    "У него есть ровно один метод `log`, который позволяет выводить в лог (в данном случае в `stdout`) какое-то сообщение, добавляя при этом текущее время.\n",
    "Реализуйте класс `LoggableList`, отнаследовав его от классов `list` и `Loggable` таким образом, чтобы при добавлении элемента в список посредством метода `append` в лог отправлялось сообщение, состоящее из только что добавленного элемента.\n",
    "\n",
    "Примечание\n",
    "Ваша программа не должна содержать класс Loggable. При проверке вашей программе будет доступен этот класс, и он будет содержать метод log, описанный выше."
   ]
  },
  {
   "cell_type": "code",
   "execution_count": 44,
   "id": "2267fc6f",
   "metadata": {},
   "outputs": [],
   "source": [
    "import time\n",
    "\n",
    "class Loggable:\n",
    "    def log(self, msg):\n",
    "        print(str(time.ctime()) + \": \" + str(msg))"
   ]
  },
  {
   "cell_type": "code",
   "execution_count": 45,
   "id": "d49cd285",
   "metadata": {},
   "outputs": [],
   "source": [
    "class LoggableList(list,Loggable):\n",
    "    def append(self,vol):\n",
    "        super(LoggableList,self).append(vol)\n",
    "        self.log(vol)"
   ]
  },
  {
   "cell_type": "code",
   "execution_count": 46,
   "id": "bde9d4bf",
   "metadata": {},
   "outputs": [],
   "source": [
    "class LoggableList(list, Loggable):\n",
    "    def append(self, x):\n",
    "        list.append(self, x)\n",
    "        self.log(x)"
   ]
  },
  {
   "cell_type": "code",
   "execution_count": 47,
   "id": "f5e10e49",
   "metadata": {},
   "outputs": [
    {
     "name": "stdout",
     "output_type": "stream",
     "text": [
      "Fri Sep 22 16:19:19 2023: 3\n"
     ]
    },
    {
     "data": {
      "text/plain": [
       "([1, 2, 3], None)"
      ]
     },
     "execution_count": 47,
     "metadata": {},
     "output_type": "execute_result"
    }
   ],
   "source": [
    "aaa = LoggableList([1,2])\n",
    "aaa, aaa.append(3)"
   ]
  },
  {
   "cell_type": "markdown",
   "id": "fc4b773d",
   "metadata": {},
   "source": [
    "# 2. Станадартные средства языка Python"
   ]
  },
  {
   "cell_type": "markdown",
   "id": "7621ad76",
   "metadata": {},
   "source": [
    "## 2.1 Ошибки и исключения"
   ]
  },
  {
   "cell_type": "code",
   "execution_count": 48,
   "id": "fc46b4cc",
   "metadata": {},
   "outputs": [
    {
     "name": "stdout",
     "output_type": "stream",
     "text": [
      "ups :(\n",
      "next ups :(\n"
     ]
    }
   ],
   "source": [
    "try:\n",
    "    x = [1,2,'33',4]\n",
    "    x.sort()\n",
    "    print(x)\n",
    "except TypeError:\n",
    "    print('ups :(')\n",
    "    \n",
    "try:\n",
    "    x = [1,2,'33',4]\n",
    "    x.sort()\n",
    "    print(x)\n",
    "except Exception:\n",
    "    print('next ups :(')"
   ]
  },
  {
   "cell_type": "code",
   "execution_count": 49,
   "id": "4fa02aef",
   "metadata": {},
   "outputs": [
    {
     "name": "stdout",
     "output_type": "stream",
     "text": [
      "ups, TypeError.\n",
      "ups, ZeroDivisionError\n"
     ]
    }
   ],
   "source": [
    "def f(x,y):\n",
    "    try:\n",
    "        return x/y\n",
    "    except TypeError:\n",
    "        print('ups, TypeError.')\n",
    "    except ZeroDivisionError:\n",
    "        print('ups, ZeroDivisionError')\n",
    "\n",
    "f(5,[])\n",
    "f(5,0)"
   ]
  },
  {
   "cell_type": "code",
   "execution_count": 50,
   "id": "f9b44783",
   "metadata": {},
   "outputs": [
    {
     "name": "stdout",
     "output_type": "stream",
     "text": [
      "ups, Error.\n",
      "ups, Error.\n"
     ]
    }
   ],
   "source": [
    "def f(x,y):\n",
    "    try:\n",
    "        return x/y\n",
    "    except (TypeError,ZeroDivisionError):\n",
    "        print('ups, Error.')\n",
    "\n",
    "f(5,[])\n",
    "f(5,0)"
   ]
  },
  {
   "cell_type": "code",
   "execution_count": 51,
   "id": "92188893",
   "metadata": {},
   "outputs": [
    {
     "name": "stdout",
     "output_type": "stream",
     "text": [
      "<class 'TypeError'>\n",
      "unsupported operand type(s) for /: 'int' and 'list'\n",
      "(\"unsupported operand type(s) for /: 'int' and 'list'\",)\n",
      "<class 'ZeroDivisionError'>\n",
      "division by zero\n",
      "('division by zero',)\n",
      "<class 'ValueError'>\n",
      "operands could not be broadcast together with shapes (3,) (2,) \n",
      "('operands could not be broadcast together with shapes (3,) (2,) ',)\n"
     ]
    }
   ],
   "source": [
    "import numpy as np\n",
    "def f(x,y):\n",
    "    try:\n",
    "        return x/y\n",
    "    except Exception as e:\n",
    "        print(type(e))\n",
    "        print(e)\n",
    "        print(e.args)\n",
    "\n",
    "f(5,[])\n",
    "f(5,0)\n",
    "f(np.array([5,10,15]),np.array([5,10]))"
   ]
  },
  {
   "cell_type": "code",
   "execution_count": 52,
   "id": "c8ac1229",
   "metadata": {},
   "outputs": [
    {
     "name": "stdout",
     "output_type": "stream",
     "text": [
      "[<class 'ZeroDivisionError'>, <class 'ArithmeticError'>, <class 'Exception'>, <class 'BaseException'>, <class 'object'>]\n",
      "[<class 'SyntaxError'>, <class 'Exception'>, <class 'BaseException'>, <class 'object'>]\n",
      "[<class 'ValueError'>, <class 'Exception'>, <class 'BaseException'>, <class 'object'>]\n"
     ]
    }
   ],
   "source": [
    "print(ZeroDivisionError.mro())\n",
    "print(SyntaxError.mro())\n",
    "print(ValueError.mro())"
   ]
  },
  {
   "cell_type": "code",
   "execution_count": 53,
   "id": "69f07c8f",
   "metadata": {},
   "outputs": [
    {
     "name": "stdout",
     "output_type": "stream",
     "text": [
      "ups, TypeError.\n",
      "This is the end, my friend\n",
      "\n",
      "ups, ZeroDivisionError\n",
      "This is the end, my friend\n",
      "\n",
      "This is the end, my friend\n",
      "\n"
     ]
    },
    {
     "ename": "ValueError",
     "evalue": "operands could not be broadcast together with shapes (3,) (2,) ",
     "output_type": "error",
     "traceback": [
      "\u001b[1;31m---------------------------------------------------------------------------\u001b[0m",
      "\u001b[1;31mValueError\u001b[0m                                Traceback (most recent call last)",
      "\u001b[1;32m<ipython-input-53-4c3b57128004>\u001b[0m in \u001b[0;36m<module>\u001b[1;34m\u001b[0m\n\u001b[0;32m     12\u001b[0m \u001b[0mf\u001b[0m\u001b[1;33m(\u001b[0m\u001b[1;36m5\u001b[0m\u001b[1;33m,\u001b[0m\u001b[1;33m[\u001b[0m\u001b[1;33m]\u001b[0m\u001b[1;33m)\u001b[0m\u001b[1;33m\u001b[0m\u001b[1;33m\u001b[0m\u001b[0m\n\u001b[0;32m     13\u001b[0m \u001b[0mf\u001b[0m\u001b[1;33m(\u001b[0m\u001b[1;36m5\u001b[0m\u001b[1;33m,\u001b[0m\u001b[1;36m0\u001b[0m\u001b[1;33m)\u001b[0m\u001b[1;33m\u001b[0m\u001b[1;33m\u001b[0m\u001b[0m\n\u001b[1;32m---> 14\u001b[1;33m \u001b[0mf\u001b[0m\u001b[1;33m(\u001b[0m\u001b[0mnp\u001b[0m\u001b[1;33m.\u001b[0m\u001b[0marray\u001b[0m\u001b[1;33m(\u001b[0m\u001b[1;33m[\u001b[0m\u001b[1;36m5\u001b[0m\u001b[1;33m,\u001b[0m\u001b[1;36m10\u001b[0m\u001b[1;33m,\u001b[0m\u001b[1;36m15\u001b[0m\u001b[1;33m]\u001b[0m\u001b[1;33m)\u001b[0m\u001b[1;33m,\u001b[0m\u001b[0mnp\u001b[0m\u001b[1;33m.\u001b[0m\u001b[0marray\u001b[0m\u001b[1;33m(\u001b[0m\u001b[1;33m[\u001b[0m\u001b[1;36m5\u001b[0m\u001b[1;33m,\u001b[0m\u001b[1;36m10\u001b[0m\u001b[1;33m]\u001b[0m\u001b[1;33m)\u001b[0m\u001b[1;33m)\u001b[0m\u001b[1;33m\u001b[0m\u001b[1;33m\u001b[0m\u001b[0m\n\u001b[0m",
      "\u001b[1;32m<ipython-input-53-4c3b57128004>\u001b[0m in \u001b[0;36mf\u001b[1;34m(x, y)\u001b[0m\n\u001b[0;32m      1\u001b[0m \u001b[1;32mdef\u001b[0m \u001b[0mf\u001b[0m\u001b[1;33m(\u001b[0m\u001b[0mx\u001b[0m\u001b[1;33m,\u001b[0m\u001b[0my\u001b[0m\u001b[1;33m)\u001b[0m\u001b[1;33m:\u001b[0m\u001b[1;33m\u001b[0m\u001b[1;33m\u001b[0m\u001b[0m\n\u001b[0;32m      2\u001b[0m     \u001b[1;32mtry\u001b[0m\u001b[1;33m:\u001b[0m\u001b[1;33m\u001b[0m\u001b[1;33m\u001b[0m\u001b[0m\n\u001b[1;32m----> 3\u001b[1;33m         \u001b[0mresult\u001b[0m \u001b[1;33m=\u001b[0m \u001b[0mx\u001b[0m\u001b[1;33m/\u001b[0m\u001b[0my\u001b[0m\u001b[1;33m\u001b[0m\u001b[1;33m\u001b[0m\u001b[0m\n\u001b[0m\u001b[0;32m      4\u001b[0m     \u001b[1;32mexcept\u001b[0m \u001b[0mTypeError\u001b[0m\u001b[1;33m:\u001b[0m\u001b[1;33m\u001b[0m\u001b[1;33m\u001b[0m\u001b[0m\n\u001b[0;32m      5\u001b[0m         \u001b[0mprint\u001b[0m\u001b[1;33m(\u001b[0m\u001b[1;34m'ups, TypeError.'\u001b[0m\u001b[1;33m)\u001b[0m\u001b[1;33m\u001b[0m\u001b[1;33m\u001b[0m\u001b[0m\n",
      "\u001b[1;31mValueError\u001b[0m: operands could not be broadcast together with shapes (3,) (2,) "
     ]
    }
   ],
   "source": [
    "def f(x,y):\n",
    "    try:\n",
    "        result = x/y\n",
    "    except TypeError:\n",
    "        print('ups, TypeError.')\n",
    "    except ZeroDivisionError:\n",
    "        print('ups, ZeroDivisionError')\n",
    "    else:\n",
    "        print(\"Result is :\",result)\n",
    "    finally:\n",
    "        print('This is the end, my friend\\n')\n",
    "f(5,[])\n",
    "f(5,0)\n",
    "f(np.array([5,10,15]),np.array([5,10]))"
   ]
  },
  {
   "cell_type": "markdown",
   "id": "272c546e",
   "metadata": {},
   "source": [
    "Вашей программе будет доступна функция foo, которая может бросать исключения.\n",
    "\n",
    "Вам необходимо написать код, который запускает эту функцию, затем ловит исключения `ArithmeticError, AssertionError, ZeroDivisionError` и выводит имя пойманного исключения.\n",
    "\n",
    "Пример решения, которое вы должны отправить на проверку.\n",
    "\n",
    "```python\n",
    "try:\n",
    "    foo()\n",
    "except Exception:\n",
    "    print(\"Exception\")\n",
    "except BaseException:\n",
    "    print(\"BaseException\")\n",
    "```\n",
    "Подсказка: https://docs.python.org/3/library/exceptions.html#exception-hierarchy"
   ]
  },
  {
   "cell_type": "code",
   "execution_count": 58,
   "id": "4a2cac9c",
   "metadata": {},
   "outputs": [],
   "source": [
    "def foo():\n",
    "    pass\n",
    "    "
   ]
  },
  {
   "cell_type": "code",
   "execution_count": 59,
   "id": "edbd574f",
   "metadata": {},
   "outputs": [
    {
     "data": {
      "text/plain": [
       "<function __main__.foo()>"
      ]
     },
     "execution_count": 59,
     "metadata": {},
     "output_type": "execute_result"
    }
   ],
   "source": [
    "foo"
   ]
  },
  {
   "cell_type": "code",
   "execution_count": 60,
   "id": "87c97b15",
   "metadata": {},
   "outputs": [],
   "source": [
    "try:\n",
    "    foo()\n",
    "except ZeroDivisionError:\n",
    "    print(\"ZeroDivisionError\")\n",
    "except ArithmeticError:\n",
    "    print(\"ArithmeticError\")\n",
    "except AssertionError:\n",
    "    print(\"AssertionError\")"
   ]
  },
  {
   "cell_type": "markdown",
   "id": "0fe10934",
   "metadata": {},
   "source": [
    "Вам дано описание наследования классов исключений в следующем формате.   \n",
    "`<имя исключения 1> : <имя исключения 2> <имя исключения 3> ... <имя исключения k>`   \n",
    "Это означает, что `исключение 1` наследуется от `исключения 2, исключения 3, и т. д.`\n",
    "\n",
    "Или эквивалентно записи:\n",
    "```python\n",
    "class Error1(Error2, Error3 ... ErrorK):\n",
    "    pass\n",
    "```\n",
    "\n",
    "Антон написал код, который выглядит следующим образом.\n",
    "```python\n",
    "try:\n",
    "   foo()\n",
    "except <имя 1>:\n",
    "   print(\"<имя 1>\")\n",
    "except <имя 2>:\n",
    "   print(\"<имя 2>\")\n",
    "...\n",
    "```\n",
    "Костя посмотрел на этот код и указал Антону на то, что некоторые исключения можно не ловить, так как ранее в коде будет пойман их предок. Но Антон не помнит какие исключения наследуются от каких. Помогите ему выйти из неловкого положения и напишите программу, которая будет определять обработку каких исключений можно удалить из кода.\n",
    "\n",
    "**Важное примечание:**\n",
    "В отличие от предыдущей задачи, типы исключений не созданы.\n",
    "Создавать классы исключений также не требуется\n",
    "Мы просим вас промоделировать этот процесс, и понять какие из исключений можно и не ловить, потому что мы уже ранее где-то поймали их предка.\n",
    "\n",
    "## Формат входных данных\n",
    "В первой строке входных данных содержится целое число n - число классов исключений.\n",
    "\n",
    "В следующих n строках содержится описание наследования классов. В i-й строке указано от каких классов наследуется i-й класс. Обратите внимание, что класс может ни от кого не наследоваться. Гарантируется, что класс не наследуется сам от себя (прямо или косвенно), что класс не наследуется явно от одного класса более одного раза.\n",
    "\n",
    "В следующей строке содержится число m - количество обрабатываемых исключений.\n",
    "Следующие m строк содержат имена исключений в том порядке, в каком они были написаны у Антона в коде.\n",
    "Гарантируется, что никакое исключение не обрабатывается дважды.\n",
    "\n",
    "## Формат выходных данных\n",
    "Выведите в отдельной строке имя каждого исключения, обработку которого можно удалить из кода, не изменив при этом поведение программы. Имена следует выводить в том же порядке, в котором они идут во входных данных.\n",
    "\n",
    "```\n",
    "Sample Input:\n",
    "\n",
    "4\n",
    "ArithmeticError\n",
    "ZeroDivisionError : ArithmeticError\n",
    "OSError\n",
    "FileNotFoundError : OSError\n",
    "4\n",
    "ZeroDivisionError\n",
    "OSError\n",
    "ArithmeticError\n",
    "FileNotFoundError\n",
    "Sample Output:\n",
    "\n",
    "FileNotFoundError\n",
    "```"
   ]
  },
  {
   "cell_type": "code",
   "execution_count": 61,
   "id": "bacfbd6d",
   "metadata": {},
   "outputs": [
    {
     "name": "stdout",
     "output_type": "stream",
     "text": [
      "e\n",
      "g\n",
      "f\n"
     ]
    }
   ],
   "source": [
    "def parent_set_filling(exception_name):\n",
    "    for parent_name in exceptions_succession.get(exception_name, []):\n",
    "        current_parents.add(parent_name)\n",
    "        parent_set_filling(parent_name)\n",
    "\n",
    "# инициализация\n",
    "handled_exceptions = set()\n",
    "exceptions_succession = {}\n",
    "check_result = []\n",
    "# обеспечение автоматизации ввода из input_2.txt  \n",
    "# путем переопределение функции unput \n",
    "reserv_input = input\n",
    "input = open(\"input_2.txt\", \"r\").readline\n",
    "# обработка описания исключений\n",
    "# заправшивавем количество описанных исключений\n",
    "exceptions_num = int(input())\n",
    "# составление из описания исключения словаря вида - потомок:[родители]\n",
    "for _ in range(exceptions_num): \n",
    "    exceptions_dscr = input().split()\n",
    "    exceptions_succession[exceptions_dscr[0]] = exceptions_dscr[2:]\n",
    "# обработка запросов\n",
    "# заправшивавем количество запросов\n",
    "requests_num = int(input())\n",
    "for _ in range(requests_num):\n",
    "    current_parents = set()\n",
    "    exception_name = input().strip()\n",
    "    parent_set_filling(exception_name)\n",
    "    if not current_parents & handled_exceptions: \n",
    "        handled_exceptions.update(set([exception_name]))\n",
    "    elif exception_name not in check_result:\n",
    "        print(exception_name)\n",
    "        check_result.append(exception_name)\n",
    "# восстановление input\n",
    "input = reserv_input"
   ]
  },
  {
   "cell_type": "code",
   "execution_count": 62,
   "id": "910b3048",
   "metadata": {},
   "outputs": [
    {
     "name": "stdout",
     "output_type": "stream",
     "text": [
      "Hello, Anton\n"
     ]
    },
    {
     "ename": "ValueError",
     "evalue": "anton is inappropriate name",
     "output_type": "error",
     "traceback": [
      "\u001b[1;31m---------------------------------------------------------------------------\u001b[0m",
      "\u001b[1;31mValueError\u001b[0m                                Traceback (most recent call last)",
      "\u001b[1;32m<ipython-input-62-e2d62ac5b9ca>\u001b[0m in \u001b[0;36m<module>\u001b[1;34m\u001b[0m\n\u001b[0;32m      6\u001b[0m \u001b[1;33m\u001b[0m\u001b[0m\n\u001b[0;32m      7\u001b[0m \u001b[0mprint\u001b[0m\u001b[1;33m(\u001b[0m\u001b[0mgreet\u001b[0m\u001b[1;33m(\u001b[0m\u001b[1;34m'Anton'\u001b[0m\u001b[1;33m)\u001b[0m\u001b[1;33m)\u001b[0m\u001b[1;33m\u001b[0m\u001b[1;33m\u001b[0m\u001b[0m\n\u001b[1;32m----> 8\u001b[1;33m \u001b[0mprint\u001b[0m\u001b[1;33m(\u001b[0m\u001b[0mgreet\u001b[0m\u001b[1;33m(\u001b[0m\u001b[1;34m'anton'\u001b[0m\u001b[1;33m)\u001b[0m\u001b[1;33m)\u001b[0m\u001b[1;33m\u001b[0m\u001b[1;33m\u001b[0m\u001b[0m\n\u001b[0m",
      "\u001b[1;32m<ipython-input-62-e2d62ac5b9ca>\u001b[0m in \u001b[0;36mgreet\u001b[1;34m(name)\u001b[0m\n\u001b[0;32m      3\u001b[0m         \u001b[1;32mreturn\u001b[0m \u001b[1;34m\"Hello, \"\u001b[0m \u001b[1;33m+\u001b[0m \u001b[0mname\u001b[0m\u001b[1;33m\u001b[0m\u001b[1;33m\u001b[0m\u001b[0m\n\u001b[0;32m      4\u001b[0m     \u001b[1;32melse\u001b[0m\u001b[1;33m:\u001b[0m\u001b[1;33m\u001b[0m\u001b[1;33m\u001b[0m\u001b[0m\n\u001b[1;32m----> 5\u001b[1;33m         \u001b[1;32mraise\u001b[0m \u001b[0mValueError\u001b[0m\u001b[1;33m(\u001b[0m\u001b[0mname\u001b[0m \u001b[1;33m+\u001b[0m \u001b[1;34m' is inappropriate name'\u001b[0m\u001b[1;33m)\u001b[0m\u001b[1;33m\u001b[0m\u001b[1;33m\u001b[0m\u001b[0m\n\u001b[0m\u001b[0;32m      6\u001b[0m \u001b[1;33m\u001b[0m\u001b[0m\n\u001b[0;32m      7\u001b[0m \u001b[0mprint\u001b[0m\u001b[1;33m(\u001b[0m\u001b[0mgreet\u001b[0m\u001b[1;33m(\u001b[0m\u001b[1;34m'Anton'\u001b[0m\u001b[1;33m)\u001b[0m\u001b[1;33m)\u001b[0m\u001b[1;33m\u001b[0m\u001b[1;33m\u001b[0m\u001b[0m\n",
      "\u001b[1;31mValueError\u001b[0m: anton is inappropriate name"
     ]
    }
   ],
   "source": [
    "def greet(name):\n",
    "    if name[0].isupper():\n",
    "        return \"Hello, \" + name\n",
    "    else:\n",
    "        raise ValueError(name + ' is inappropriate name')\n",
    "        \n",
    "print(greet('Anton'))\n",
    "print(greet('anton'))"
   ]
  },
  {
   "cell_type": "code",
   "execution_count": 63,
   "id": "3ae06e1c",
   "metadata": {},
   "outputs": [
    {
     "name": "stdout",
     "output_type": "stream",
     "text": [
      "Hello, Anton\n"
     ]
    },
    {
     "ename": "BadName",
     "evalue": "anton is inappropriate name",
     "output_type": "error",
     "traceback": [
      "\u001b[1;31m---------------------------------------------------------------------------\u001b[0m",
      "\u001b[1;31mBadName\u001b[0m                                   Traceback (most recent call last)",
      "\u001b[1;32m<ipython-input-63-5dabeb5a13ae>\u001b[0m in \u001b[0;36m<module>\u001b[1;34m\u001b[0m\n\u001b[0;32m      9\u001b[0m \u001b[1;33m\u001b[0m\u001b[0m\n\u001b[0;32m     10\u001b[0m \u001b[0mprint\u001b[0m\u001b[1;33m(\u001b[0m\u001b[0mgreet\u001b[0m\u001b[1;33m(\u001b[0m\u001b[1;34m'Anton'\u001b[0m\u001b[1;33m)\u001b[0m\u001b[1;33m)\u001b[0m\u001b[1;33m\u001b[0m\u001b[1;33m\u001b[0m\u001b[0m\n\u001b[1;32m---> 11\u001b[1;33m \u001b[0mprint\u001b[0m\u001b[1;33m(\u001b[0m\u001b[0mgreet\u001b[0m\u001b[1;33m(\u001b[0m\u001b[1;34m'anton'\u001b[0m\u001b[1;33m)\u001b[0m\u001b[1;33m)\u001b[0m\u001b[1;33m\u001b[0m\u001b[1;33m\u001b[0m\u001b[0m\n\u001b[0m",
      "\u001b[1;32m<ipython-input-63-5dabeb5a13ae>\u001b[0m in \u001b[0;36mgreet\u001b[1;34m(name)\u001b[0m\n\u001b[0;32m      6\u001b[0m         \u001b[1;32mreturn\u001b[0m \u001b[1;34m\"Hello, \"\u001b[0m \u001b[1;33m+\u001b[0m \u001b[0mname\u001b[0m\u001b[1;33m\u001b[0m\u001b[1;33m\u001b[0m\u001b[0m\n\u001b[0;32m      7\u001b[0m     \u001b[1;32melse\u001b[0m\u001b[1;33m:\u001b[0m\u001b[1;33m\u001b[0m\u001b[1;33m\u001b[0m\u001b[0m\n\u001b[1;32m----> 8\u001b[1;33m         \u001b[1;32mraise\u001b[0m \u001b[0mBadName\u001b[0m\u001b[1;33m(\u001b[0m\u001b[0mname\u001b[0m \u001b[1;33m+\u001b[0m \u001b[1;34m' is inappropriate name'\u001b[0m\u001b[1;33m)\u001b[0m\u001b[1;33m\u001b[0m\u001b[1;33m\u001b[0m\u001b[0m\n\u001b[0m\u001b[0;32m      9\u001b[0m \u001b[1;33m\u001b[0m\u001b[0m\n\u001b[0;32m     10\u001b[0m \u001b[0mprint\u001b[0m\u001b[1;33m(\u001b[0m\u001b[0mgreet\u001b[0m\u001b[1;33m(\u001b[0m\u001b[1;34m'Anton'\u001b[0m\u001b[1;33m)\u001b[0m\u001b[1;33m)\u001b[0m\u001b[1;33m\u001b[0m\u001b[1;33m\u001b[0m\u001b[0m\n",
      "\u001b[1;31mBadName\u001b[0m: anton is inappropriate name"
     ]
    }
   ],
   "source": [
    "class BadName(Exception):\n",
    "    pass\n",
    "\n",
    "def greet(name):\n",
    "    if name[0].isupper():\n",
    "        return \"Hello, \" + name\n",
    "    else:\n",
    "        raise BadName(name + ' is inappropriate name')\n",
    "        \n",
    "print(greet('Anton'))\n",
    "print(greet('anton'))"
   ]
  },
  {
   "cell_type": "markdown",
   "id": "766ba827",
   "metadata": {},
   "source": [
    "Реализуйте класс `PositiveList`, отнаследовав его от класса `list`, для хранения положительных целых чисел.\n",
    "Также реализуйте новое исключение `NonPositiveError`.\n",
    "\n",
    "В классе `PositiveList` переопределите метод `append(self, x)` таким образом, чтобы при попытке добавить неположительное целое число бросалось исключение `NonPositiveError` и число не добавлялось, а при попытке добавить положительное целое число, число добавлялось бы как в стандартный list.\n",
    "\n",
    "В данной задаче гарантируется, что в качестве аргумента x метода append всегда будет передаваться целое число.\n",
    "\n",
    "Примечание:\n",
    "Положительными считаются числа, строго большие нуля."
   ]
  },
  {
   "cell_type": "code",
   "execution_count": 64,
   "id": "d10d6c10",
   "metadata": {},
   "outputs": [
    {
     "ename": "NonPositiveError",
     "evalue": "",
     "output_type": "error",
     "traceback": [
      "\u001b[1;31m---------------------------------------------------------------------------\u001b[0m",
      "\u001b[1;31mNonPositiveError\u001b[0m                          Traceback (most recent call last)",
      "\u001b[1;32m<ipython-input-64-fd6182edf4d4>\u001b[0m in \u001b[0;36m<module>\u001b[1;34m\u001b[0m\n\u001b[0;32m      8\u001b[0m             \u001b[1;32mraise\u001b[0m \u001b[0mNonPositiveError\u001b[0m\u001b[1;33m(\u001b[0m\u001b[1;33m)\u001b[0m\u001b[1;33m\u001b[0m\u001b[1;33m\u001b[0m\u001b[0m\n\u001b[0;32m      9\u001b[0m \u001b[0maaa\u001b[0m \u001b[1;33m=\u001b[0m \u001b[0mPositiveList\u001b[0m\u001b[1;33m(\u001b[0m\u001b[1;33m)\u001b[0m\u001b[1;33m\u001b[0m\u001b[1;33m\u001b[0m\u001b[0m\n\u001b[1;32m---> 10\u001b[1;33m \u001b[0maaa\u001b[0m\u001b[1;33m.\u001b[0m\u001b[0mappend\u001b[0m\u001b[1;33m(\u001b[0m\u001b[1;36m0\u001b[0m\u001b[1;33m)\u001b[0m\u001b[1;33m\u001b[0m\u001b[1;33m\u001b[0m\u001b[0m\n\u001b[0m\u001b[0;32m     11\u001b[0m \u001b[0maaa\u001b[0m\u001b[1;33m\u001b[0m\u001b[1;33m\u001b[0m\u001b[0m\n",
      "\u001b[1;32m<ipython-input-64-fd6182edf4d4>\u001b[0m in \u001b[0;36mappend\u001b[1;34m(self, vol)\u001b[0m\n\u001b[0;32m      6\u001b[0m             \u001b[0msuper\u001b[0m\u001b[1;33m(\u001b[0m\u001b[0mPositiveList\u001b[0m\u001b[1;33m,\u001b[0m\u001b[0mself\u001b[0m\u001b[1;33m)\u001b[0m\u001b[1;33m.\u001b[0m\u001b[0mappend\u001b[0m\u001b[1;33m(\u001b[0m\u001b[0mvol\u001b[0m\u001b[1;33m)\u001b[0m\u001b[1;33m\u001b[0m\u001b[1;33m\u001b[0m\u001b[0m\n\u001b[0;32m      7\u001b[0m         \u001b[1;32melse\u001b[0m\u001b[1;33m:\u001b[0m\u001b[1;33m\u001b[0m\u001b[1;33m\u001b[0m\u001b[0m\n\u001b[1;32m----> 8\u001b[1;33m             \u001b[1;32mraise\u001b[0m \u001b[0mNonPositiveError\u001b[0m\u001b[1;33m(\u001b[0m\u001b[1;33m)\u001b[0m\u001b[1;33m\u001b[0m\u001b[1;33m\u001b[0m\u001b[0m\n\u001b[0m\u001b[0;32m      9\u001b[0m \u001b[0maaa\u001b[0m \u001b[1;33m=\u001b[0m \u001b[0mPositiveList\u001b[0m\u001b[1;33m(\u001b[0m\u001b[1;33m)\u001b[0m\u001b[1;33m\u001b[0m\u001b[1;33m\u001b[0m\u001b[0m\n\u001b[0;32m     10\u001b[0m \u001b[0maaa\u001b[0m\u001b[1;33m.\u001b[0m\u001b[0mappend\u001b[0m\u001b[1;33m(\u001b[0m\u001b[1;36m0\u001b[0m\u001b[1;33m)\u001b[0m\u001b[1;33m\u001b[0m\u001b[1;33m\u001b[0m\u001b[0m\n",
      "\u001b[1;31mNonPositiveError\u001b[0m: "
     ]
    }
   ],
   "source": [
    "class NonPositiveError(Exception):\n",
    "    pass\n",
    "class PositiveList(list):\n",
    "    def append(self,vol):\n",
    "        if vol>0:\n",
    "            super(PositiveList,self).append(vol)\n",
    "        else:\n",
    "            raise NonPositiveError()\n",
    "aaa = PositiveList()\n",
    "aaa.append(0)\n",
    "aaa"
   ]
  },
  {
   "cell_type": "markdown",
   "id": "fc9bf2d2",
   "metadata": {},
   "source": [
    "## 2.2 Работа с кодом: модули и импорт"
   ]
  },
  {
   "cell_type": "code",
   "execution_count": 65,
   "id": "9cf04c59",
   "metadata": {},
   "outputs": [
    {
     "name": "stdout",
     "output_type": "stream",
     "text": [
      "import has been completed\n",
      "Hello, Mitry\n"
     ]
    }
   ],
   "source": [
    "import exeptions as exp\n",
    "\n",
    "print(exp.greet(\"Mitry\"))"
   ]
  },
  {
   "cell_type": "code",
   "execution_count": 66,
   "id": "21d1ed0b",
   "metadata": {},
   "outputs": [
    {
     "data": {
      "text/plain": [
       "(exeptions.BadName, <function exeptions.greet(name)>)"
      ]
     },
     "execution_count": 66,
     "metadata": {},
     "output_type": "execute_result"
    }
   ],
   "source": [
    "exp.BadName, exp.greet"
   ]
  },
  {
   "cell_type": "code",
   "execution_count": 67,
   "id": "35a0396f",
   "metadata": {},
   "outputs": [],
   "source": [
    "import sys"
   ]
  },
  {
   "cell_type": "code",
   "execution_count": 68,
   "id": "706629c7",
   "metadata": {},
   "outputs": [
    {
     "data": {
      "text/plain": [
       "dict"
      ]
     },
     "execution_count": 68,
     "metadata": {},
     "output_type": "execute_result"
    }
   ],
   "source": [
    "type(sys.modules)"
   ]
  },
  {
   "cell_type": "code",
   "execution_count": 69,
   "id": "38559ca8",
   "metadata": {},
   "outputs": [],
   "source": [
    "# print(sys.modules)"
   ]
  },
  {
   "cell_type": "markdown",
   "id": "562e370e",
   "metadata": {},
   "source": [
    "В первой строке дано три числа, соответствующие некоторой дате date -- год, месяц и день.\n",
    "Во второй строке дано одно число days -- число дней.\n",
    "\n",
    "Вычислите и выведите год, месяц и день даты, которая наступит, когда с момента исходной даты date пройдет число дней, равное days.\n",
    "\n",
    "Примечание:\n",
    "Для решения этой задачи используйте стандартный модуль `datetime`.\n",
    "Вам будут полезны класс `datetime.date` для хранения даты и класс `datetime.timedelta` для прибавления дней к дате.\n",
    "\n",
    "```\n",
    "Sample Input 1:\n",
    "2016 4 20\n",
    "14\n",
    "Sample Output 1:\n",
    "2016 5 4\n",
    "```\n",
    "```\n",
    "Sample Input 2:\n",
    "2016 2 20\n",
    "9\n",
    "Sample Output 2:\n",
    "2016 2 29\n",
    "```\n",
    "```\n",
    "Sample Input 3:\n",
    "2015 12 31\n",
    "1\n",
    "Sample Output 3:\n",
    "2016 1 1\n",
    "```"
   ]
  },
  {
   "cell_type": "code",
   "execution_count": 70,
   "id": "32d4d528",
   "metadata": {},
   "outputs": [
    {
     "ename": "TypeError",
     "evalue": "function missing required argument 'month' (pos 2)",
     "output_type": "error",
     "traceback": [
      "\u001b[1;31m---------------------------------------------------------------------------\u001b[0m",
      "\u001b[1;31mTypeError\u001b[0m                                 Traceback (most recent call last)",
      "\u001b[1;32m<ipython-input-70-1121ed3abae1>\u001b[0m in \u001b[0;36m<module>\u001b[1;34m\u001b[0m\n\u001b[0;32m      1\u001b[0m \u001b[1;32mimport\u001b[0m \u001b[0mdatetime\u001b[0m\u001b[1;33m\u001b[0m\u001b[1;33m\u001b[0m\u001b[0m\n\u001b[0;32m      2\u001b[0m \u001b[1;33m\u001b[0m\u001b[0m\n\u001b[1;32m----> 3\u001b[1;33m \u001b[0mnew_date\u001b[0m \u001b[1;33m=\u001b[0m \u001b[0mdatetime\u001b[0m\u001b[1;33m.\u001b[0m\u001b[0mdate\u001b[0m\u001b[1;33m(\u001b[0m\u001b[1;33m*\u001b[0m\u001b[1;33m[\u001b[0m\u001b[0mint\u001b[0m \u001b[1;33m(\u001b[0m\u001b[0md\u001b[0m\u001b[1;33m)\u001b[0m \u001b[1;32mfor\u001b[0m \u001b[0md\u001b[0m \u001b[1;32min\u001b[0m \u001b[0minput\u001b[0m\u001b[1;33m(\u001b[0m\u001b[1;33m)\u001b[0m\u001b[1;33m.\u001b[0m\u001b[0msplit\u001b[0m\u001b[1;33m(\u001b[0m\u001b[1;33m)\u001b[0m\u001b[1;33m]\u001b[0m\u001b[1;33m)\u001b[0m \u001b[1;33m+\u001b[0m \u001b[0mdatetime\u001b[0m\u001b[1;33m.\u001b[0m\u001b[0mtimedelta\u001b[0m\u001b[1;33m(\u001b[0m\u001b[0mint\u001b[0m\u001b[1;33m(\u001b[0m\u001b[0minput\u001b[0m\u001b[1;33m(\u001b[0m\u001b[1;33m)\u001b[0m\u001b[1;33m)\u001b[0m\u001b[1;33m)\u001b[0m\u001b[1;33m\u001b[0m\u001b[1;33m\u001b[0m\u001b[0m\n\u001b[0m\u001b[0;32m      4\u001b[0m \u001b[0mprint\u001b[0m\u001b[1;33m(\u001b[0m\u001b[0mnew_date\u001b[0m\u001b[1;33m.\u001b[0m\u001b[0myear\u001b[0m\u001b[1;33m,\u001b[0m \u001b[0mnew_date\u001b[0m\u001b[1;33m.\u001b[0m\u001b[0mmonth\u001b[0m\u001b[1;33m,\u001b[0m \u001b[0mnew_date\u001b[0m\u001b[1;33m.\u001b[0m\u001b[0mday\u001b[0m\u001b[1;33m)\u001b[0m\u001b[1;33m\u001b[0m\u001b[1;33m\u001b[0m\u001b[0m\n",
      "\u001b[1;31mTypeError\u001b[0m: function missing required argument 'month' (pos 2)"
     ]
    }
   ],
   "source": [
    "import datetime\n",
    "\n",
    "new_date = datetime.date(*[int (d) for d in input().split()]) + datetime.timedelta(int(input()))\n",
    "print(new_date.year, new_date.month, new_date.day)"
   ]
  },
  {
   "cell_type": "markdown",
   "id": "ebefaf17",
   "metadata": {},
   "source": [
    "Алиса владеет интересной информацией, которую хочет заполучить Боб.\n",
    "Алиса умна, поэтому она хранит свою информацию в зашифрованном файле.\n",
    "У Алисы плохая память, поэтому она хранит все свои пароли в открытом виде в текстовом файле.\n",
    "\n",
    "Бобу удалось завладеть зашифрованным файлом с интересной информацией и файлом с паролями, но он не смог понять какой из паролей ему нужен. Помогите ему решить эту проблему.\n",
    "\n",
    "Алиса зашифровала свою информацию с помощью библиотеки `simple-crypt`.\n",
    "Она представила информацию в виде строки, и затем записала в бинарный файл результат работы метода `simplecrypt.encrypt`.\n",
    "\n",
    "Вам необходимо установить библиотеку `simple-crypt`, и с помощью метода `simplecrypt.decrypt` узнать, какой из паролей служит ключом для расшифровки файла с интересной информацией.\n",
    "\n",
    "Ответом для данной задачи служит расшифрованная интересная информация Алисы.\n",
    "\n",
    "[Файл с информацией](https://stepik.org/media/attachments/lesson/24466/encrypted.bin)   \n",
    "[Файл с паролями](https://stepik.org/media/attachments/lesson/24466/passwords.txt)\n",
    "\n",
    "Примечание:\n",
    "Для того, чтобы считать все данные из бинарного файла, можно использовать, например, следующий код:\n",
    "\n",
    "```python\n",
    "with open(\"encrypted.bin\", \"rb\") as inp:\n",
    "    encrypted = inp.read()\n",
    "```\n",
    "Примечание:\n",
    "﻿Работа с файлами рассмотрена в следующем уроке, поэтому вы можете вернуться к этой задаче после просмотра следующего урока."
   ]
  },
  {
   "cell_type": "code",
   "execution_count": 71,
   "id": "60434c75",
   "metadata": {},
   "outputs": [
    {
     "ename": "ModuleNotFoundError",
     "evalue": "No module named 'simplecrypt'",
     "output_type": "error",
     "traceback": [
      "\u001b[1;31m---------------------------------------------------------------------------\u001b[0m",
      "\u001b[1;31mModuleNotFoundError\u001b[0m                       Traceback (most recent call last)",
      "\u001b[1;32m<ipython-input-71-14b7cb3205ac>\u001b[0m in \u001b[0;36m<module>\u001b[1;34m\u001b[0m\n\u001b[1;32m----> 1\u001b[1;33m \u001b[1;32mimport\u001b[0m \u001b[0msimplecrypt\u001b[0m\u001b[1;33m\u001b[0m\u001b[1;33m\u001b[0m\u001b[0m\n\u001b[0m\u001b[0;32m      2\u001b[0m \u001b[1;33m\u001b[0m\u001b[0m\n\u001b[0;32m      3\u001b[0m \u001b[1;32mwith\u001b[0m \u001b[0mopen\u001b[0m\u001b[1;33m(\u001b[0m\u001b[1;34m'passwords.txt'\u001b[0m\u001b[1;33m,\u001b[0m\u001b[1;34m'r'\u001b[0m\u001b[1;33m)\u001b[0m \u001b[1;32mas\u001b[0m \u001b[0minp\u001b[0m\u001b[1;33m:\u001b[0m\u001b[1;33m\u001b[0m\u001b[1;33m\u001b[0m\u001b[0m\n\u001b[0;32m      4\u001b[0m     \u001b[0mpasswords\u001b[0m \u001b[1;33m=\u001b[0m \u001b[0minp\u001b[0m\u001b[1;33m.\u001b[0m\u001b[0mread\u001b[0m\u001b[1;33m(\u001b[0m\u001b[1;33m)\u001b[0m\u001b[1;33m.\u001b[0m\u001b[0msplit\u001b[0m\u001b[1;33m(\u001b[0m\u001b[1;33m)\u001b[0m\u001b[1;33m\u001b[0m\u001b[1;33m\u001b[0m\u001b[0m\n\u001b[0;32m      5\u001b[0m \u001b[1;32mwith\u001b[0m \u001b[0mopen\u001b[0m\u001b[1;33m(\u001b[0m\u001b[1;34m\"encrypted.bin\"\u001b[0m\u001b[1;33m,\u001b[0m \u001b[1;34m\"rb\"\u001b[0m\u001b[1;33m)\u001b[0m \u001b[1;32mas\u001b[0m \u001b[0minp\u001b[0m\u001b[1;33m:\u001b[0m\u001b[1;33m\u001b[0m\u001b[1;33m\u001b[0m\u001b[0m\n",
      "\u001b[1;31mModuleNotFoundError\u001b[0m: No module named 'simplecrypt'"
     ]
    }
   ],
   "source": [
    "import simplecrypt\n",
    "\n",
    "with open('passwords.txt','r') as inp:\n",
    "    passwords = inp.read().split()\n",
    "with open(\"encrypted.bin\", \"rb\") as inp:\n",
    "    encrypted = inp.read()\n",
    "\n",
    "for psword in passwords:\n",
    "    try:\n",
    "        info = simplecrypt.decrypt(psword,encrypted)\n",
    "        break\n",
    "    except simplecrypt.DecryptionException:\n",
    "        pass\n",
    "print(info.decode(\"utf-8\"))"
   ]
  },
  {
   "cell_type": "markdown",
   "id": "fb4bedda",
   "metadata": {},
   "source": [
    "## 2.3 Итераторы и генераторы"
   ]
  },
  {
   "cell_type": "code",
   "execution_count": 72,
   "id": "b120bd34",
   "metadata": {},
   "outputs": [],
   "source": [
    "from random import random\n",
    "\n",
    "class RandomIterator():\n",
    "    def __init__(self,k):\n",
    "        self.k = k\n",
    "        self.i = 0\n",
    "    \n",
    "    def __iter__(self):\n",
    "        return self\n",
    "        \n",
    "    def __next__(self):\n",
    "        if self.i < self.k:\n",
    "            self.i += 1\n",
    "            return random()\n",
    "        else:\n",
    "            raise StopIteration"
   ]
  },
  {
   "cell_type": "code",
   "execution_count": 73,
   "id": "d8e7b32c",
   "metadata": {},
   "outputs": [
    {
     "name": "stdout",
     "output_type": "stream",
     "text": [
      "0.8493783012912425\n",
      "0.35417360128456565\n"
     ]
    },
    {
     "ename": "StopIteration",
     "evalue": "",
     "output_type": "error",
     "traceback": [
      "\u001b[1;31m---------------------------------------------------------------------------\u001b[0m",
      "\u001b[1;31mStopIteration\u001b[0m                             Traceback (most recent call last)",
      "\u001b[1;32m<ipython-input-73-c52f2ed7c853>\u001b[0m in \u001b[0;36m<module>\u001b[1;34m\u001b[0m\n\u001b[0;32m      2\u001b[0m \u001b[0mprint\u001b[0m \u001b[1;33m(\u001b[0m\u001b[0mnext\u001b[0m\u001b[1;33m(\u001b[0m\u001b[0mitr\u001b[0m\u001b[1;33m)\u001b[0m\u001b[1;33m)\u001b[0m\u001b[1;33m\u001b[0m\u001b[1;33m\u001b[0m\u001b[0m\n\u001b[0;32m      3\u001b[0m \u001b[0mprint\u001b[0m \u001b[1;33m(\u001b[0m\u001b[0mnext\u001b[0m\u001b[1;33m(\u001b[0m\u001b[0mitr\u001b[0m\u001b[1;33m)\u001b[0m\u001b[1;33m)\u001b[0m\u001b[1;33m\u001b[0m\u001b[1;33m\u001b[0m\u001b[0m\n\u001b[1;32m----> 4\u001b[1;33m \u001b[0mprint\u001b[0m \u001b[1;33m(\u001b[0m\u001b[0mnext\u001b[0m\u001b[1;33m(\u001b[0m\u001b[0mitr\u001b[0m\u001b[1;33m)\u001b[0m\u001b[1;33m)\u001b[0m\u001b[1;33m\u001b[0m\u001b[1;33m\u001b[0m\u001b[0m\n\u001b[0m",
      "\u001b[1;32m<ipython-input-72-d312616dc72d>\u001b[0m in \u001b[0;36m__next__\u001b[1;34m(self)\u001b[0m\n\u001b[0;32m     14\u001b[0m             \u001b[1;32mreturn\u001b[0m \u001b[0mrandom\u001b[0m\u001b[1;33m(\u001b[0m\u001b[1;33m)\u001b[0m\u001b[1;33m\u001b[0m\u001b[1;33m\u001b[0m\u001b[0m\n\u001b[0;32m     15\u001b[0m         \u001b[1;32melse\u001b[0m\u001b[1;33m:\u001b[0m\u001b[1;33m\u001b[0m\u001b[1;33m\u001b[0m\u001b[0m\n\u001b[1;32m---> 16\u001b[1;33m             \u001b[1;32mraise\u001b[0m \u001b[0mStopIteration\u001b[0m\u001b[1;33m\u001b[0m\u001b[1;33m\u001b[0m\u001b[0m\n\u001b[0m",
      "\u001b[1;31mStopIteration\u001b[0m: "
     ]
    }
   ],
   "source": [
    "itr = RandomIterator(2)\n",
    "print (next(itr))\n",
    "print (next(itr))\n",
    "print (next(itr))"
   ]
  },
  {
   "cell_type": "code",
   "execution_count": 74,
   "id": "c9346007",
   "metadata": {},
   "outputs": [
    {
     "name": "stdout",
     "output_type": "stream",
     "text": [
      "0.10205739270182113\n",
      "0.7312867348869401\n",
      "0.8130912296833471\n",
      "0.16458459102964473\n",
      "0.6304109789809926\n"
     ]
    }
   ],
   "source": [
    "for x in RandomIterator(5):\n",
    "    print(x)"
   ]
  },
  {
   "cell_type": "code",
   "execution_count": 75,
   "id": "f356e07f",
   "metadata": {},
   "outputs": [],
   "source": [
    "class DubleElementListIterator():\n",
    "    def __init__(self,lst):\n",
    "        self.lst = lst\n",
    "        self.i = 0\n",
    "    def __next__(self):\n",
    "        if self.i<len(self.lst):\n",
    "            return self.lst[self.i-2],self.lst[self.i-1]\n",
    "        else:\n",
    "            raise StopIteration\n",
    "        \n",
    "class MyList(list):\n",
    "    def __iter__(self):\n",
    "        return DubleElementListIterator(self)\n",
    "        "
   ]
  },
  {
   "cell_type": "code",
   "execution_count": 76,
   "id": "c78d165a",
   "metadata": {},
   "outputs": [
    {
     "name": "stdout",
     "output_type": "stream",
     "text": [
      "<class 'generator'>\n",
      "<generator object random_generator at 0x000001E0D1940040>\n",
      "[0.41514487700049174, 0.8394776144992425, 0.8944668674078085]\n"
     ]
    }
   ],
   "source": [
    "def random_generator(k):\n",
    "    for x in range(k):\n",
    "        yield random()\n",
    "        \n",
    "gen = random_generator(3)\n",
    "print(type(gen))\n",
    "print(gen)\n",
    "print(list(gen))"
   ]
  },
  {
   "cell_type": "markdown",
   "id": "044268b1",
   "metadata": {},
   "source": [
    "Одним из самых часто используемых классов в `Python` является класс `filter`. Он принимает в конструкторе два аргумента `a` и `f` – последовательность и функцию, и позволяет проитерироваться только по таким элементам x из последовательности `a`, что `f(x)` равно True. Будем говорить, что в этом случае функция `f` допускает элемент `x`, а элемент `x` является допущенным.\n",
    "\n",
    "В данной задаче мы просим вас реализовать класс `multifilter`, который будет выполнять ту же функцию, что и стандартный класс `filter`, но будет использовать не одну функцию, а несколько.\n",
    "\n",
    "Решение о допуске элемента будет приниматься на основании того, сколько функций допускают этот элемент, и сколько не допускают. Обозначим эти количества за `pos` и `neg`.\n",
    "\n",
    "Введем понятие решающей функции – это функция, которая принимает два аргумента – количества `pos` и `neg`, и возвращает `True`, если элемент допущен, и `False` иначе.\n",
    "\n",
    "Рассмотрим процесс допуска подробнее на следующем примере.   \n",
    "a = [1, 2, 3]  \n",
    "f2(x) = x % 2 == 0 # возвращает True, если x делится на 2   \n",
    "f3(x) = x % 3 == 0   \n",
    "judge_any(pos, neg) = pos >= 1 # возвращает True, если хотя бы одна функция допускает элемент   \n",
    "\n",
    "В этом примере мы хотим отфильтровать последовательность a и оставить только те элементы, которые делятся на два или на три.\n",
    "\n",
    "Функция f2 допускает только элементы, делящиеся на два, а функция f3 допускает только элементы, делящиеся на три. Решающая функция допускает элемент в случае, если он был допущен хотя бы одной из функций f2 или f3, то есть элементы, которые делятся на два или на три.\n",
    "\n",
    "Возьмем первый элемент x = 1.\n",
    "f2(x) равно False, т. е. функция f2 не допускает элемент x.\n",
    "f3(x) также равно False, т. е. функция f3 также не допускает элемент x.\n",
    "В этом случае pos = 0, так как ни одна функция не допускает x, и соответственно neg = 2.\n",
    "judge_any(0, 2) равно False, значит мы не допускаем элемент x = 1.\n",
    "\n",
    "Возьмем второй элемент x = 2.\n",
    "f2(x) равно True\n",
    "f3(x) равно False\n",
    "pos = 1, neg = 1\n",
    "judge_any(1, 1) равно True, значит мы допускаем элемент x = 2.\n",
    "\n",
    "Аналогично для третьего элемента x = 3.\n",
    "\n",
    "Таким образом, получили последовательность допущенных элементов [2, 3].\n",
    "\n",
    "Класс должен обладать следующей структурой:\n",
    "```python\n",
    "class multifilter:\n",
    "    def judge_half(pos, neg):\n",
    "        # допускает элемент, если его допускает хотя бы половина фукнций (pos >= neg)\n",
    "\n",
    "    def judge_any(pos, neg):\n",
    "        # допускает элемент, если его допускает хотя бы одна функция (pos >= 1)\n",
    "\n",
    "    def judge_all(pos, neg):\n",
    "        # допускает элемент, если его допускают все функции (neg == 0)\n",
    "\n",
    "    def __init__(self, iterable, *funcs, judge=judge_any):\n",
    "        # iterable - исходная последовательность\n",
    "        # funcs - допускающие функции\n",
    "        # judge - решающая функция\n",
    "\n",
    "    def __iter__(self):\n",
    "        # возвращает итератор по результирующей последовательности\n",
    "```\n",
    "Пример использования:\n",
    "``` python\n",
    "def mul2(x):\n",
    "    return x % 2 == 0\n",
    "\n",
    "def mul3(x):\n",
    "    return x % 3 == 0\n",
    "\n",
    "def mul5(x):\n",
    "    return x % 5 == 0\n",
    "\n",
    "\n",
    "a = [i for i in range(31)] # [0, 1, 2, ... , 30]\n",
    "\n",
    "print(list(multifilter(a, mul2, mul3, mul5))) \n",
    "# [0, 2, 3, 4, 5, 6, 8, 9, 10, 12, 14, 15, 16, 18, 20, 21, 22, 24, 25, 26, 27, 28, 30]\n",
    "\n",
    "print(list(multifilter(a, mul2, mul3, mul5, judge=multifilter.judge_half))) \n",
    "# [0, 6, 10, 12, 15, 18, 20, 24, 30]\n",
    "\n",
    "print(list(multifilter(a, mul2, mul3, mul5, judge=multifilter.judge_all))) \n",
    "# [0, 30]\n",
    "```"
   ]
  },
  {
   "cell_type": "code",
   "execution_count": 77,
   "id": "875b09bd",
   "metadata": {},
   "outputs": [],
   "source": [
    "class multifilter:\n",
    "    def judge_half(pos, neg):\n",
    "        # допускает элемент, если его допускает хотя бы половина фукнций (pos >= neg)\n",
    "        return pos>=neg\n",
    "\n",
    "    def judge_any(pos, neg):\n",
    "        # допускает элемент, если его допускает хотя бы одна функция (pos >= 1)\n",
    "        return pos>=1\n",
    "\n",
    "    def judge_all(pos, neg):\n",
    "        # допускает элемент, если его допускают все функции (neg == 0)\n",
    "        return neg == 0\n",
    "\n",
    "    def __init__(self, iterable, *funcs, judge=judge_any):\n",
    "        # iterable - исходная последовательность\n",
    "        # funcs - допускающие функции\n",
    "        # judge - решающая функция\n",
    "        self.iterable = iterable\n",
    "        self.funcs = funcs\n",
    "        self.judge = judge\n",
    "        self.i = 0\n",
    "\n",
    "    def __next__(self):\n",
    "        while self.i<len(self.iterable):\n",
    "            self.i += 1\n",
    "            pos, neg = 0, 0\n",
    "            for fun in self.funcs:\n",
    "                if fun(self.iterable[self.i-1]):\n",
    "                    pos += 1\n",
    "                else:\n",
    "                    neg += 1\n",
    "            if self.judge(pos,neg):\n",
    "                return self.iterable[self.i-1]\n",
    "        raise StopIteration        \n",
    "        \n",
    "    def __iter__(self):\n",
    "        # возвращает итератор по результирующей последовательности\n",
    "        return self\n",
    "    \n",
    "    "
   ]
  },
  {
   "cell_type": "code",
   "execution_count": 78,
   "id": "8c635705",
   "metadata": {},
   "outputs": [
    {
     "name": "stdout",
     "output_type": "stream",
     "text": [
      "[0, 2, 3, 4, 5, 6, 8, 9, 10, 12, 14, 15, 16, 18, 20, 21, 22, 24, 25, 26, 27, 28, 30]\n",
      "[0, 6, 10, 12, 15, 18, 20, 24, 30]\n",
      "[0, 30]\n"
     ]
    }
   ],
   "source": [
    "def mul2(x):\n",
    "    return x % 2 == 0\n",
    "\n",
    "def mul3(x):\n",
    "    return x % 3 == 0\n",
    "\n",
    "def mul5(x):\n",
    "    return x % 5 == 0\n",
    "\n",
    "\n",
    "a = [i for i in range(31)] # [0, 1, 2, ... , 30]\n",
    "\n",
    "print(list(multifilter(a, mul2, mul3, mul5))) \n",
    "# [0, 2, 3, 4, 5, 6, 8, 9, 10, 12, 14, 15, 16, 18, 20, 21, 22, 24, 25, 26, 27, 28, 30]\n",
    "\n",
    "print(list(multifilter(a, mul2, mul3, mul5, judge=multifilter.judge_half))) \n",
    "# [0, 6, 10, 12, 15, 18, 20, 24, 30]\n",
    "\n",
    "print(list(multifilter(a, mul2, mul3, mul5, judge=multifilter.judge_all))) \n",
    "# [0, 30]"
   ]
  },
  {
   "cell_type": "markdown",
   "id": "aa2fdcc4",
   "metadata": {},
   "source": [
    "Целое положительное число называется простым, если оно имеет ровно два различных делителя, то есть делится только на единицу и на само себя.\n",
    "Например, число 2 является простым, так как делится только на 1 и 2. Также простыми являются, например, числа 3, 5, 31, и еще бесконечно много чисел.\n",
    "Число 4, например, не является простым, так как имеет три делителя – 1, 2, 4. Также простым не является число 1, так как оно имеет ровно один делитель – 1.\n",
    "\n",
    "Реализуйте функцию-генератор primes, которая будет генерировать простые числа в порядке возрастания, начиная с числа 2.\n",
    "\n",
    "Пример использования:\n",
    "```python\n",
    "print(list(itertools.takewhile(lambda x : x <= 31, primes())))\n",
    "# [2, 3, 5, 7, 11, 13, 17, 19, 23, 29, 31]\n",
    "```"
   ]
  },
  {
   "cell_type": "code",
   "execution_count": 79,
   "id": "16212172",
   "metadata": {},
   "outputs": [
    {
     "name": "stdout",
     "output_type": "stream",
     "text": [
      "[2, 3, 5, 7, 11, 13, 17, 19, 23, 29, 31]\n"
     ]
    }
   ],
   "source": [
    "import itertools\n",
    "def primes():\n",
    "    i = 1\n",
    "    while True:\n",
    "        i += 1\n",
    "        if len([x for x in range(1,i+1) if not i%x])==2:\n",
    "            yield i\n",
    "        \n",
    "\n",
    "print(list(itertools.takewhile(lambda x : x <= 31, primes())))"
   ]
  },
  {
   "cell_type": "code",
   "execution_count": 80,
   "id": "b194c57c",
   "metadata": {},
   "outputs": [
    {
     "data": {
      "text/plain": [
       "[1, 2, 3, 4]"
      ]
     },
     "execution_count": 80,
     "metadata": {},
     "output_type": "execute_result"
    }
   ],
   "source": [
    "list(i + 1 for i in range(4))"
   ]
  },
  {
   "cell_type": "markdown",
   "id": "f3853f94",
   "metadata": {},
   "source": [
    "## 2.4 Работа с файловой системой и файлами"
   ]
  },
  {
   "cell_type": "code",
   "execution_count": 81,
   "id": "f273f670",
   "metadata": {},
   "outputs": [
    {
     "name": "stdout",
     "output_type": "stream",
     "text": [
      "first\n",
      "first line \n",
      "second line \n",
      "third line\n",
      "\n",
      "''\n",
      "'first line \\nsecond line \\nthird line'\n"
     ]
    },
    {
     "data": {
      "text/plain": [
       "['first line ', 'second line ', 'third line']"
      ]
     },
     "execution_count": 81,
     "metadata": {},
     "output_type": "execute_result"
    }
   ],
   "source": [
    "f = open(\"test.txt\")\n",
    "x = f.read(5)\n",
    "print(x)\n",
    "f.close()\n",
    "f = open(\"test.txt\")\n",
    "y = f.read()\n",
    "z = f.read()\n",
    "f.close()\n",
    "\n",
    "print(y)\n",
    "print(z)\n",
    "print(repr(z))\n",
    "print(repr(y))\n",
    "\n",
    "y.splitlines()"
   ]
  },
  {
   "cell_type": "code",
   "execution_count": 82,
   "id": "028a75f5",
   "metadata": {},
   "outputs": [],
   "source": [
    "f = open('test_2.txt','w')\n",
    "f.write('Lines:\\n')\n",
    "lines = ['Line1','Line4','Line3' ]\n",
    "content = '\\n'.join(lines)\n",
    "f.write(content)\n",
    "f.close() # пока не закрыл - файл пустой"
   ]
  },
  {
   "cell_type": "code",
   "execution_count": 83,
   "id": "f7dd6dfa",
   "metadata": {},
   "outputs": [
    {
     "data": {
      "text/plain": [
       "'Line1\\nLine4\\nLine3'"
      ]
     },
     "execution_count": 83,
     "metadata": {},
     "output_type": "execute_result"
    }
   ],
   "source": [
    "content"
   ]
  },
  {
   "cell_type": "markdown",
   "id": "5796abf5",
   "metadata": {},
   "source": [
    "Вам дается текстовый файл, содержащий некоторое количество непустых строк.\n",
    "На основе него сгенерируйте новый текстовый файл, содержащий те же строки в обратном порядке.\n",
    "\n",
    "Пример входного файла:\n",
    "```\n",
    "ab\n",
    "c\n",
    "dde\n",
    "ff\n",
    "```\n",
    "Пример выходного файла:\n",
    "```\n",
    "ff\n",
    "dde\n",
    "c\n",
    "ab\n",
    "```"
   ]
  },
  {
   "cell_type": "code",
   "execution_count": 84,
   "id": "5f11bb5b",
   "metadata": {},
   "outputs": [],
   "source": [
    "with open('task_data.txt') as inp, open('task_answer.txt','w') as outp:\n",
    "# with open('dataset_24465_4.txt') as f:    \n",
    "    task_data = inp.read()   \n",
    "    task_answer = '\\n'.join(task_data.splitlines()[::-1])\n",
    "    outp.write(task_answer)"
   ]
  },
  {
   "cell_type": "code",
   "execution_count": 85,
   "id": "3930f949",
   "metadata": {},
   "outputs": [
    {
     "name": "stdout",
     "output_type": "stream",
     "text": [
      ".ipynb_checkpoints\n",
      "copy_exeptions.py\n",
      "dataset_24465_4.txt\n",
      "encrypted.bin\n",
      "exeptions.py\n",
      "input.txt\n",
      "input_2.txt\n",
      "input_imitation.txt\n",
      "main\n",
      "module3.zip\n",
      "passwords.txt\n",
      "Python_ osnovy_i_primenenie.ipynb\n",
      "task_answer.txt\n",
      "task_answer_2.txt\n",
      "task_data.txt\n",
      "temp_n_test.ipynb\n",
      "test.txt\n",
      "test_2.txt\n",
      "__pycache__\n"
     ]
    }
   ],
   "source": [
    "import os, os.path\n",
    "# print(os.listdir())\n",
    "# Return a list containing the names of the files in the directory.\n",
    "print(*os.listdir(), sep='\\n')"
   ]
  },
  {
   "cell_type": "code",
   "execution_count": 86,
   "id": "d7fb6693",
   "metadata": {},
   "outputs": [
    {
     "name": "stdout",
     "output_type": "stream",
     "text": [
      "C:\\Users\\Manych\\projects\\stepik\\Python_osnovy_i_primenenie\n"
     ]
    }
   ],
   "source": [
    "# Return a unicode string representing the current working directory.\n",
    "print(os.getcwd())"
   ]
  },
  {
   "cell_type": "code",
   "execution_count": 99,
   "id": "4ed9e308",
   "metadata": {},
   "outputs": [
    {
     "name": "stdout",
     "output_type": "stream",
     "text": [
      ".git\n",
      ".gitignore\n",
      "Programmirovanie_na_Python\n",
      "Python_osnovy_i_primenenie\n"
     ]
    }
   ],
   "source": [
    "path = os.getcwd()\n",
    "shift = path.find('stepik')+len('stepik\\\\')\n",
    "\n",
    "print(*os.listdir(path[:shift]), sep='\\n')"
   ]
  },
  {
   "cell_type": "code",
   "execution_count": 100,
   "id": "3606f600",
   "metadata": {},
   "outputs": [
    {
     "name": "stdout",
     "output_type": "stream",
     "text": [
      "True\n",
      "False\n",
      "True\n",
      "False\n"
     ]
    }
   ],
   "source": [
    "# Test whether a path exists\n",
    "print(os.path.exists('input.txt'))\n",
    "print(os.path.exists('Python основы и применение.ipynb'))\n",
    "print(os.path.exists('__pycache__'))\n",
    "print(os.path.exists('Java основы и применение.ipynb'))\n"
   ]
  },
  {
   "cell_type": "code",
   "execution_count": 101,
   "id": "d319a2b0",
   "metadata": {},
   "outputs": [
    {
     "name": "stdout",
     "output_type": "stream",
     "text": [
      "True\n",
      "False\n",
      "False\n",
      "True\n"
     ]
    }
   ],
   "source": [
    "# Test whether a path is a regular file\n",
    "print(os.path.isfile('input.txt'))\n",
    "print(os.path.isfile('__pycache__'))\n",
    "# Return true if the pathname refers to an existing directory.\n",
    "print(os.path.isdir('input.txt'))\n",
    "print(os.path.isdir('__pycache__'))"
   ]
  },
  {
   "cell_type": "code",
   "execution_count": 102,
   "id": "447fd8c6",
   "metadata": {},
   "outputs": [
    {
     "data": {
      "text/plain": [
       "'C:\\\\Users\\\\Manych\\\\projects\\\\stepik\\\\Python_osnovy_i_primenenie\\\\input.txt'"
      ]
     },
     "execution_count": 102,
     "metadata": {},
     "output_type": "execute_result"
    }
   ],
   "source": [
    "os.path.abspath('input.txt')"
   ]
  },
  {
   "cell_type": "code",
   "execution_count": null,
   "id": "81c5e3df",
   "metadata": {},
   "outputs": [],
   "source": [
    "os.chdir('C:\\\\Users\\\\GANSOR-PC\\\\Stepik\\\\Python основы и применение')"
   ]
  },
  {
   "cell_type": "code",
   "execution_count": null,
   "id": "9516575e",
   "metadata": {},
   "outputs": [],
   "source": [
    "os.chdir('__pycache__')\n",
    "\n",
    "print(os.getcwd())\n",
    "print()\n",
    "print(*os.listdir())"
   ]
  },
  {
   "cell_type": "code",
   "execution_count": null,
   "id": "88658937",
   "metadata": {},
   "outputs": [],
   "source": [
    "# Directory tree generator.\n",
    "for cur_dir, dirs, files in os.walk(\"C:\\\\Users\\\\GANSOR-PC\\\\Stepik\"):\n",
    "    print(cur_dir,dirs,files,'\\n')"
   ]
  },
  {
   "cell_type": "code",
   "execution_count": null,
   "id": "69eb8f21",
   "metadata": {},
   "outputs": [],
   "source": [
    "import shutil\n",
    "os.chdir('C:\\\\Users\\\\GANSOR-PC\\\\Stepik\\\\Python основы и применение')\n",
    "shutil.copy('exeptions.py','copy_exeptions.py')"
   ]
  },
  {
   "cell_type": "markdown",
   "id": "8b3acbc0",
   "metadata": {},
   "source": [
    "Вам дана в архиве ([ссылка](https://stepik.org/media/attachments/lesson/24465/main.zip)) файловая структура, состоящая из директорий и файлов.\n",
    "\n",
    "Вам необходимо распаковать этот архив, и затем найти в данной в файловой структуре все директории, в которых есть хотя бы один файл с расширением \".py\". \n",
    "\n",
    "Ответом на данную задачу будет являться файл со списком таких директорий, отсортированных в лексикографическом порядке.\n",
    "\n",
    "Для лучшего понимания формата задачи, ознакомьтесь с примером.   \n",
    "[Пример архива](https://stepik.org/media/attachments/lesson/24465/sample.zip)   \n",
    "[Пример ответа](https://stepik.org/media/attachments/lesson/24465/sample_ans.txt)"
   ]
  },
  {
   "cell_type": "code",
   "execution_count": null,
   "id": "607ba11c",
   "metadata": {},
   "outputs": [],
   "source": [
    "import os, os.path, shutil\n",
    "\n",
    "root_path = 'C:\\\\Users\\\\GANSOR-PC\\\\Stepik\\\\Python основы и применение\\\\'\n",
    "os.chdir(root_path + 'main')\n",
    "\n",
    "root_path_len = len(root_path)\n",
    "ans = []\n",
    "for cur_dir, dirs, files in os.walk(root_path + 'main'):\n",
    "    if (any(map(lambda x: x[-3:]=='.py',files))):\n",
    "        ans.append(cur_dir[root_path_len:])\n",
    "ans.sort()\n",
    "\n",
    "with open(root_path +'task_answer_2.txt','w') as task_answer:\n",
    "    task_answer.write('\\n'.join(ans))"
   ]
  },
  {
   "cell_type": "markdown",
   "id": "e79c7d15",
   "metadata": {},
   "source": [
    "## 2.5 Работа с функциями: functool и лямбда функции"
   ]
  },
  {
   "cell_type": "code",
   "execution_count": 103,
   "id": "c0f1979e",
   "metadata": {},
   "outputs": [],
   "source": [
    "import operator as op"
   ]
  },
  {
   "cell_type": "code",
   "execution_count": 104,
   "id": "8bf62843",
   "metadata": {},
   "outputs": [
    {
     "name": "stdout",
     "output_type": "stream",
     "text": [
      "5\n",
      "33\n",
      "False\n"
     ]
    }
   ],
   "source": [
    "print(op.add(2,3))\n",
    "print(op.mul(11,3))\n",
    "print(op.contains([1,2,3,5,9],4))"
   ]
  },
  {
   "cell_type": "code",
   "execution_count": 105,
   "id": "2dae0954",
   "metadata": {},
   "outputs": [
    {
     "name": "stdout",
     "output_type": "stream",
     "text": [
      "88\n",
      "88\n"
     ]
    }
   ],
   "source": [
    "x = [1,2,3,5,88,9]\n",
    "xx = {'a':1,'b':88,'ab':None}\n",
    "f = op.itemgetter(4)\n",
    "ff = op.itemgetter('b')\n",
    "print(f(x))\n",
    "print(ff(xx))"
   ]
  },
  {
   "cell_type": "code",
   "execution_count": 106,
   "id": "38f77826",
   "metadata": {},
   "outputs": [
    {
     "data": {
      "text/plain": [
       "<function list.sort(*, key=None, reverse=False)>"
      ]
     },
     "execution_count": 106,
     "metadata": {},
     "output_type": "execute_result"
    }
   ],
   "source": [
    "f = op.attrgetter('sort')\n",
    "f([])"
   ]
  },
  {
   "cell_type": "code",
   "execution_count": 107,
   "id": "78a6966a",
   "metadata": {},
   "outputs": [
    {
     "data": {
      "text/plain": [
       "9"
      ]
     },
     "execution_count": 107,
     "metadata": {},
     "output_type": "execute_result"
    }
   ],
   "source": [
    "from functools import partial\n",
    "import operator as op\n",
    "\n",
    "x = int('1001',base=2)\n",
    "x"
   ]
  },
  {
   "cell_type": "code",
   "execution_count": 108,
   "id": "e0ebe88e",
   "metadata": {},
   "outputs": [
    {
     "data": {
      "text/plain": [
       "9"
      ]
     },
     "execution_count": 108,
     "metadata": {},
     "output_type": "execute_result"
    }
   ],
   "source": [
    "int_2 = partial(int, base=2)\n",
    "int_2('1001')"
   ]
  },
  {
   "cell_type": "code",
   "execution_count": 109,
   "id": "5ddeed59",
   "metadata": {},
   "outputs": [
    {
     "data": {
      "text/plain": [
       "['bca', 'cab', 'abc']"
      ]
     },
     "execution_count": 109,
     "metadata": {},
     "output_type": "execute_result"
    }
   ],
   "source": [
    "xx = ['abc','bca','cab']\n",
    "sort_by_last = partial(list.sort, key=op.itemgetter(-1))\n",
    "sort_by_last(xx)\n",
    "xx"
   ]
  },
  {
   "cell_type": "markdown",
   "id": "7660b30a",
   "metadata": {},
   "source": [
    "Лямбда функции предоставляют нам удобный способ создать функцию «прямо на месте».\n",
    "Но иногда, когда нужно создавать много однотипных лямбда функций, еще удобнее будет создать функцию, которая будет их генерировать.\n",
    "\n",
    "Реализуйте функцию `mod_checker(x, mod=0)`, которая будет генерировать лямбда функцию от одного аргумента `y`, которая будет возвращать `True`, если остаток от деления `y` на `x` равен `mod`, и `False` иначе.\n",
    "\n",
    "﻿Пример использования:\n",
    "```python\n",
    "mod_3 = mod_checker(3)\n",
    "\n",
    "print(mod_3(3)) # True\n",
    "print(mod_3(4)) # False\n",
    "\n",
    "mod_3_1 = mod_checker(3, 1)\n",
    "print(mod_3_1(4)) # True\n",
    "```"
   ]
  },
  {
   "cell_type": "code",
   "execution_count": 110,
   "id": "19fba92d",
   "metadata": {},
   "outputs": [],
   "source": [
    "def  mod_checker(x, mod=0):\n",
    "    return lambda y: y%x == mod "
   ]
  },
  {
   "cell_type": "code",
   "execution_count": 111,
   "id": "4825d228",
   "metadata": {},
   "outputs": [
    {
     "name": "stdout",
     "output_type": "stream",
     "text": [
      "True\n",
      "False\n",
      "True\n"
     ]
    }
   ],
   "source": [
    "mod_3 = mod_checker(3)\n",
    "\n",
    "print(mod_3(3)) # True\n",
    "print(mod_3(4)) # False\n",
    "\n",
    "mod_3_1 = mod_checker(3, 1)\n",
    "print(mod_3_1(4)) # True"
   ]
  },
  {
   "cell_type": "markdown",
   "id": "f0174642",
   "metadata": {},
   "source": [
    "# 3. Применение Python, анализ текста\n",
    "## 3.1 Стандартные методы и функции для строк"
   ]
  },
  {
   "cell_type": "markdown",
   "id": "d0385a65",
   "metadata": {},
   "source": [
    "Вашей программе на вход подаются три строки s, a, b, состоящие из строчных латинских букв.\n",
    "За одну операцию вы можете заменить все вхождения строки a в строку s на строку b.\n",
    "\n",
    "Например, s = \"abab\", a = \"ab\", b = \"ba\", тогда после выполнения одной операции строка s перейдет в строку \"baba\", после выполнения двух и операций – в строку \"bbaa\", и дальнейшие операции не будут изменять строку s.\n",
    "\n",
    "Необходимо узнать, после какого минимального количества операций в строке s не останется вхождений строки a. Если операций потребуется более 1000, выведите Impossible.\n",
    "\n",
    "Выведите одно число – минимальное число операций, после применения которых в строке s не останется вхождений строки a, или Impossible, если операций потребуется более 1000.\n",
    "\n",
    "Условие задачи было изменено 12.09.2018\n",
    "```\n",
    "Sample Input 1:\n",
    "ababa\n",
    "a\n",
    "b\n",
    "\n",
    "Sample Output 1:\n",
    "1\n",
    "```\n",
    "```\n",
    "Sample Input 2:\n",
    "ababa\n",
    "b\n",
    "a\n",
    "\n",
    "Sample Output 2:\n",
    "1\n",
    "```\n",
    "```\n",
    "Sample Input 3:\n",
    "ababa\n",
    "c\n",
    "c\n",
    "\n",
    "Sample Output 3:\n",
    "0\n",
    "```\n",
    "```\n",
    "Sample Input 4:\n",
    "ababac\n",
    "c\n",
    "c\n",
    "\n",
    "Sample Output 4:\n",
    "Impossible\n",
    "```"
   ]
  },
  {
   "cell_type": "code",
   "execution_count": 112,
   "id": "67d0db79",
   "metadata": {},
   "outputs": [
    {
     "name": "stdout",
     "output_type": "stream",
     "text": [
      "0\n"
     ]
    }
   ],
   "source": [
    "s, a, b = [input() for _ in range(3)]\n",
    "it_count = 0\n",
    "while it_count < 1000:\n",
    "    if s.find(a) != -1:\n",
    "        s = s.replace(a,b)\n",
    "    else:\n",
    "        print(it_count)\n",
    "        break\n",
    "    it_count += 1\n",
    "else:\n",
    "    print('Impossible')\n",
    "    "
   ]
  },
  {
   "cell_type": "markdown",
   "id": "06445dd5",
   "metadata": {},
   "source": [
    "Вашей программе на вход подаются две строки `s` и `t`, состоящие из строчных латинских букв.\n",
    "\n",
    "Выведите одно число – количество вхождений строки `t` в строку `s`.\n",
    "\n",
    "Пример:\n",
    "s = \"abababa\"\n",
    "t = \"aba\"\n",
    "\n",
    "Вхождения строки t в строку s:   \n",
    "**aba**baba   \n",
    "ab**aba**ba   \n",
    "abab**aba**   \n",
    "```\n",
    "Sample Input 1:\n",
    "abababa\n",
    "aba\n",
    "\n",
    "Sample Output 1:\n",
    "3\n",
    "```\n",
    "```\n",
    "Sample Input 2:\n",
    "abababa\n",
    "abc\n",
    "\n",
    "Sample Output 2:\n",
    "0\n",
    "```\n",
    "```\n",
    "Sample Input 3:\n",
    "abc\n",
    "abc\n",
    "\n",
    "Sample Output 3:\n",
    "1\n",
    "```\n",
    "```\n",
    "Sample Input 4:\n",
    "aaaaa\n",
    "a\n",
    "\n",
    "Sample Output 4:\n",
    "5\n",
    "```"
   ]
  },
  {
   "cell_type": "code",
   "execution_count": 113,
   "id": "bf10bd83",
   "metadata": {},
   "outputs": [
    {
     "name": "stdout",
     "output_type": "stream",
     "text": [
      "0\n"
     ]
    }
   ],
   "source": [
    "s,t = input(), input()\n",
    "start, count = 0, 0\n",
    "while t in s[start:]:\n",
    "    start = s.find(t, start) + 1\n",
    "    count += 1\n",
    "print(count)"
   ]
  },
  {
   "cell_type": "markdown",
   "id": "0fb04820",
   "metadata": {},
   "source": [
    "## 3.2 Регулярные выражения в Python"
   ]
  },
  {
   "cell_type": "code",
   "execution_count": 114,
   "id": "e63fb3e7",
   "metadata": {},
   "outputs": [],
   "source": [
    "import re"
   ]
  },
  {
   "cell_type": "code",
   "execution_count": 115,
   "id": "cb99f39c",
   "metadata": {},
   "outputs": [
    {
     "name": "stdout",
     "output_type": "stream",
     "text": [
      "<function match at 0x000001E0CD6918B0>\n",
      "<function search at 0x000001E0CD6DD790>\n",
      "<function findall at 0x000001E0CD6DD9D0>\n",
      "<function sub at 0x000001E0CD6DD820>\n"
     ]
    }
   ],
   "source": [
    "print(re.match)\n",
    "print(re.search)\n",
    "print(re.findall)\n",
    "print(re.sub)"
   ]
  },
  {
   "cell_type": "code",
   "execution_count": 116,
   "id": "6b70a1f8",
   "metadata": {},
   "outputs": [
    {
     "name": "stdout",
     "output_type": "stream",
     "text": [
      "<re.Match object; span=(0, 3), match='abc'>\n",
      "None\n"
     ]
    }
   ],
   "source": [
    "pattern = r\"abc\"\n",
    "string = \"abc\"\n",
    "match_object = re.match(pattern, string)\n",
    "print(match_object)\n",
    "string = \"babc\"\n",
    "match_object = re.match(pattern, string)\n",
    "print(match_object)"
   ]
  },
  {
   "cell_type": "code",
   "execution_count": 118,
   "id": "c40df114",
   "metadata": {},
   "outputs": [
    {
     "name": "stdout",
     "output_type": "stream",
     "text": [
      "<re.Match object; span=(1, 4), match='abc'>\n"
     ]
    }
   ],
   "source": [
    "match_object = re.search(pattern, string)\n",
    "print(match_object)"
   ]
  },
  {
   "cell_type": "code",
   "execution_count": 119,
   "id": "134445b5",
   "metadata": {},
   "outputs": [
    {
     "name": "stdout",
     "output_type": "stream",
     "text": [
      "['abc', 'aac', 'acc']\n"
     ]
    }
   ],
   "source": [
    "# [] можно указать множество подходящих символов\n",
    "\n",
    "pattern = \"a[abc]c\"\n",
    "string = \"abc a_c aac acc a.c \"\n",
    "all_inclusions = re.findall(pattern, string)\n",
    "print(all_inclusions)"
   ]
  },
  {
   "cell_type": "markdown",
   "id": "9ef14a2f",
   "metadata": {},
   "source": [
    "__. ^ $ * + ? { } [ ] \\ | ( )__ — метасимволы\n",
    "\n",
    "__[ ]__ — можно указать множество подходящих символов\n",
    "\n",
    "__^__ - карет, обозначает либо начало строки, либо инвертирование группы символов. (например: \"^[^0-9]\" — не-цифра в начале строки).\n",
    "\n",
    "__\\d__ ~ [0-9] — цифры\n",
    "\n",
    "__\\D__ ~ [^0-9]\n",
    "\n",
    "__\\s__ ~ [ \\t\\n\\r\\f\\v] — пробельные символы\n",
    "\n",
    "__\\S__ ~ [^ \\t\\n\\r\\f\\v]\n",
    "\n",
    "__\\w__ ~ [a-zA-Z0-9_] — буквы + цифры + _\n",
    "\n",
    "__\\W__ ~ [^a-zA-Z0-9_]"
   ]
  },
  {
   "cell_type": "code",
   "execution_count": 126,
   "id": "ccd92f38",
   "metadata": {},
   "outputs": [
    {
     "name": "stdout",
     "output_type": "stream",
     "text": [
      "<re.Match object; span=(13, 20), match='english'>\n",
      "<re.Match object; span=(13, 21), match='english?'>\n"
     ]
    }
   ],
   "source": [
    "pattern = r\"english?\"\n",
    "string = \"Do you speak english?\"\n",
    "match_object = re.search(pattern, string)\n",
    "print(match_object)\n",
    "\n",
    "pattern = r\"english\\?\"\n",
    "match_object = re.search(pattern, string)\n",
    "print(match_object)"
   ]
  },
  {
   "cell_type": "code",
   "execution_count": 132,
   "id": "d0d03e4e",
   "metadata": {},
   "outputs": [
    {
     "name": "stdout",
     "output_type": "stream",
     "text": [
      "['abc', 'aac', 'acc', 'adc']\n",
      "['a_c', 'a.c']\n"
     ]
    }
   ],
   "source": [
    "pattern = \"a[a-d]c\"\n",
    "string = \"abc a_c aac acc a.c adc\"\n",
    "all_inclusions = re.findall(pattern, string)\n",
    "print(all_inclusions)\n",
    "\n",
    "pattern = \"a[^a-z]c\"\n",
    "all_inclusions = re.findall(pattern, string)\n",
    "print(all_inclusions)"
   ]
  },
  {
   "cell_type": "code",
   "execution_count": 133,
   "id": "4b846c8d",
   "metadata": {},
   "outputs": [
    {
     "name": "stdout",
     "output_type": "stream",
     "text": [
      "['ac', 'abc', 'abbc']\n"
     ]
    }
   ],
   "source": [
    "# Метасимвол * : любое количество вхождений включая 0\n",
    "pattern = r\"ab*c\"\n",
    "string = \"ac abc abbc\"\n",
    "print(re.findall(pattern, string))"
   ]
  },
  {
   "cell_type": "code",
   "execution_count": 135,
   "id": "d6c43f61",
   "metadata": {},
   "outputs": [
    {
     "name": "stdout",
     "output_type": "stream",
     "text": [
      "['abc', 'abbc']\n"
     ]
    }
   ],
   "source": [
    "# метасимвол +  : любое количество вхождений начиная с 1\n",
    "pattern = r\"ab+c\"\n",
    "string = \"ac abc abbc\"\n",
    "print(re.findall(pattern, string))"
   ]
  },
  {
   "cell_type": "code",
   "execution_count": 137,
   "id": "42ad0585",
   "metadata": {},
   "outputs": [
    {
     "name": "stdout",
     "output_type": "stream",
     "text": [
      "['ac', 'abc']\n"
     ]
    }
   ],
   "source": [
    "# метасимвол ?  : 0 или 1  вхождений \n",
    "pattern = r\"ab?c\"\n",
    "string = \"ac abc abbc\"\n",
    "print(re.findall(pattern, string))"
   ]
  },
  {
   "cell_type": "code",
   "execution_count": 142,
   "id": "1e950ab4",
   "metadata": {},
   "outputs": [
    {
     "name": "stdout",
     "output_type": "stream",
     "text": [
      "['abbbc']\n",
      "['abbc', 'abbbc', 'abbbbc']\n"
     ]
    }
   ],
   "source": [
    "# метасимвол {}  : число вхождений \n",
    "pattern = r\"ab{3}c\"\n",
    "string = \"ac abc abbc abbbc abbbbc abbbbbc\"\n",
    "print(re.findall(pattern, string))\n",
    "\n",
    "pattern = r\"ab{2,4}c\"\n",
    "print(re.findall(pattern, string))"
   ]
  },
  {
   "cell_type": "code",
   "execution_count": 148,
   "id": "2815f412",
   "metadata": {},
   "outputs": [
    {
     "name": "stdout",
     "output_type": "stream",
     "text": [
      "<re.Match object; span=(0, 12), match='ababababaaba'>\n",
      "['ababababaaba']\n",
      "\n",
      " <re.Match object; span=(0, 3), match='aba'>\n",
      "['aba', 'aba', 'aaba']\n"
     ]
    }
   ],
   "source": [
    "# по умолчанию метасимволы повторов * и + жадные\n",
    "pattern = r\"a[ab]+a\"\n",
    "string = \"ababababaaba\"\n",
    "print (re.match(pattern, string))\n",
    "print(re.findall(pattern, string))\n",
    "# переключить на нежадный способ, поиск минимальной подходящей строки ? после метасимвола повторов\n",
    "pattern = r\"a[ab]+?a\"\n",
    "print (\"\\n\",re.match(pattern, string))\n",
    "print(re.findall(pattern, string))"
   ]
  },
  {
   "cell_type": "markdown",
   "id": "2b8bacc3",
   "metadata": {},
   "source": [
    "### 1\n",
    "Вам дана последовательность строк.\n",
    "Выведите строки, содержащие \"cat\" в качестве подстроки хотя бы два раза.\n",
    "\n",
    "**Примечание:   \n",
    "Считать все строки по одной из стандартного потока ввода вы можете, например, так**   \n",
    "```python\n",
    "import sys\n",
    "\n",
    "for line in sys.stdin:\n",
    "    line = line.rstrip()\n",
    "    # process line\n",
    "```\n",
    "```\n",
    "Sample Input:\n",
    "\n",
    "catcat\n",
    "cat and cat\n",
    "catac\n",
    "cat\n",
    "ccaatt\n",
    "Sample Output:\n",
    "\n",
    "catcat\n",
    "cat and cat\n",
    "```"
   ]
  },
  {
   "cell_type": "code",
   "execution_count": 187,
   "id": "cc578ece",
   "metadata": {},
   "outputs": [
    {
     "name": "stdout",
     "output_type": "stream",
     "text": [
      "catcat\n",
      "cat and cat\n"
     ]
    }
   ],
   "source": [
    "pattern = r\".*cat.*cat.*\"\n",
    "\n",
    "with open(\"reg_input_1.txt\", \"r\") as file1:\n",
    "    # итерация по строкам\n",
    "    for line in file1:\n",
    "        line = line.rstrip()\n",
    "        if re.search(pattern, line):\n",
    "            print(line)"
   ]
  },
  {
   "cell_type": "markdown",
   "id": "104b4676",
   "metadata": {},
   "source": [
    "### решение\n",
    "```\n",
    "import sys,re\n",
    "\n",
    "pattern = r\".*cat.*cat.*\"\n",
    "for line in sys.stdin:\n",
    "    line = line.rstrip()\n",
    "    if re.search(pattern, line):\n",
    "        print(line)\n",
    "```"
   ]
  },
  {
   "cell_type": "markdown",
   "id": "716b5b1a",
   "metadata": {},
   "source": [
    "### 2 \n",
    "Вам дана последовательность строк.\n",
    "Выведите строки, содержащие \"cat\" в качестве слова.\n",
    "    \n",
    "Примечание:   \n",
    "Для работы со словами используйте группы символов \\b и \\B.\n",
    "Описание этих групп вы можете найти в [документации](https://docs.python.org/3.5/library/re.html).\n",
    "\n",
    "```\n",
    "Sample Input:\n",
    "cat\n",
    "catapult and cat\n",
    "catcat\n",
    "concat\n",
    "Cat\n",
    "\"cat\"\n",
    "!cat?\n",
    "\n",
    "Sample Output:\n",
    "cat\n",
    "catapult and cat\n",
    "\"cat\"\n",
    "!cat?\n",
    "```"
   ]
  },
  {
   "cell_type": "code",
   "execution_count": 190,
   "id": "e5bb0edb",
   "metadata": {},
   "outputs": [
    {
     "name": "stdout",
     "output_type": "stream",
     "text": [
      "cat\n",
      "catapult and cat\n",
      "\"cat\"\n",
      "!cat?\n"
     ]
    }
   ],
   "source": [
    "pattern = r\".*\\bcat\\b.*\"\n",
    "with open(\"reg_input_2.txt\", \"r\") as inp:\n",
    "    # итерация по строкам\n",
    "    for line in inp:\n",
    "        line = line.rstrip()\n",
    "        if re.search(pattern, line):\n",
    "            print(line)"
   ]
  },
  {
   "cell_type": "markdown",
   "id": "ed3cb949",
   "metadata": {},
   "source": [
    "### решение\n",
    "```python\n",
    "import re, sys\n",
    "\n",
    "pattern = r\".*\\bcat\\b.*\"\n",
    "for line in sys.stdin:\n",
    "    line = line.rstrip()\n",
    "    if re.search(pattern, line):\n",
    "        print(line)\n",
    "```"
   ]
  },
  {
   "cell_type": "markdown",
   "id": "8c30ce94",
   "metadata": {},
   "source": [
    "### 3\n",
    "Вам дана последовательность строк.\n",
    "Выведите строки, содержащие две буквы \"z\", между которыми ровно три символа.\n",
    "```\n",
    "Sample Input:\n",
    "zabcz\n",
    "zzz\n",
    "zzxzz\n",
    "zz\n",
    "zxz\n",
    "zzxzxxz\n",
    "\n",
    "Sample Output:\n",
    "zabcz\n",
    "zzxzz\n",
    "```"
   ]
  },
  {
   "cell_type": "code",
   "execution_count": 198,
   "id": "193967fd",
   "metadata": {},
   "outputs": [
    {
     "name": "stdout",
     "output_type": "stream",
     "text": [
      "zabcz\n",
      "zzxzz\n"
     ]
    }
   ],
   "source": [
    "pattern = r\"z...z\"\n",
    "with open(\"reg_input_3.txt\", \"r\") as inp:\n",
    "    for line in inp:\n",
    "        line = line.rstrip()\n",
    "        if re.search(pattern, line):\n",
    "            print(line)"
   ]
  },
  {
   "cell_type": "markdown",
   "id": "559c0282",
   "metadata": {},
   "source": [
    "### решение\n",
    "```\n",
    "import re\n",
    "import sys\n",
    "\n",
    "pattern = r\"z...z\"\n",
    "for line in sys.stdin:\n",
    "    line = line.strip()\n",
    "    if re.search(pattern, line):\n",
    "        print(line)\n",
    "```"
   ]
  },
  {
   "cell_type": "markdown",
   "id": "c4263f30",
   "metadata": {},
   "source": [
    "### 4\n",
    "Вам дана последовательность строк.\n",
    "Выведите строки, содержащие обратный слеш \"\\﻿\".\n",
    "```\n",
    "Sample Input:\n",
    "\\w denotes word character\n",
    "No slashes here\n",
    "\n",
    "Sample Output:\n",
    "\\w denotes word character\n",
    "```"
   ]
  },
  {
   "cell_type": "code",
   "execution_count": 206,
   "id": "68fe5599",
   "metadata": {},
   "outputs": [
    {
     "name": "stdout",
     "output_type": "stream",
     "text": [
      "\\w denotes word character\n"
     ]
    }
   ],
   "source": [
    "pattern  =r\"\\\\\"\n",
    "with open(\"reg_input_4.txt\", \"r\") as inp:\n",
    "    for line in inp:\n",
    "        line = line.rstrip()\n",
    "        if re.search(pattern, line):\n",
    "            print(line)"
   ]
  },
  {
   "cell_type": "markdown",
   "id": "b0032eed",
   "metadata": {},
   "source": [
    "### решение\n",
    "```\n",
    "import re\n",
    "import sys\n",
    "\n",
    "pattern = r\"\\\\\"\n",
    "for line in sys.stdin:\n",
    "    line = line.strip()\n",
    "    if re.search(pattern, line):\n",
    "        print(line)\n",
    "```"
   ]
  },
  {
   "cell_type": "markdown",
   "id": "e90c152b",
   "metadata": {},
   "source": [
    "### 5\n",
    "Вам дана последовательность строк.\n",
    "Выведите строки, содержащие слово, состоящее из двух одинаковых частей (тандемный повтор).\n",
    "```\n",
    "Sample Input:\n",
    "blabla is a tandem repetition\n",
    "123123 is good too\n",
    "go go\n",
    "aaa\n",
    "\n",
    "Sample Output:\n",
    "blabla is a tandem repetition\n",
    "123123 is good too\n",
    "```"
   ]
  },
  {
   "cell_type": "code",
   "execution_count": 212,
   "id": "174f4099",
   "metadata": {},
   "outputs": [
    {
     "name": "stdout",
     "output_type": "stream",
     "text": [
      "blabla is a tandem repetition\n",
      "123123 is good too\n"
     ]
    }
   ],
   "source": [
    "pattern = r\"\\b(\\w+)\\1\\b\"\n",
    "with open(\"reg_input_5.txt\", \"r\") as inp:\n",
    "    for line in inp:\n",
    "        line = line.rstrip()\n",
    "        if re.search(pattern, line):\n",
    "            print(line)"
   ]
  },
  {
   "cell_type": "code",
   "execution_count": null,
   "id": "39f94bca",
   "metadata": {},
   "outputs": [],
   "source": [
    "### решение\n",
    "```\n",
    "import re\n",
    "import sys\n",
    "\n",
    "pattern = r\"\\b(\\w+)\\1\\b\"\n",
    "for line in sys.stdin:\n",
    "    line = line.strip()\n",
    "    if re.search(pattern, line):\n",
    "        print(line)\n",
    "```"
   ]
  },
  {
   "cell_type": "markdown",
   "id": "139783b3",
   "metadata": {},
   "source": [
    "### 6\n",
    "Вам дана последовательность строк.\n",
    "В каждой стро`ке замените все вхождения подстроки \"human\" на подстроку \"computer\"﻿ и выведите полученные строки.\n",
    "```\n",
    "Sample Input:\n",
    "I need to understand the human mind\n",
    "humanity\n",
    "\n",
    "Sample Output:\n",
    "I need to understand the computer mind\n",
    "computerity\n",
    "```"
   ]
  },
  {
   "cell_type": "markdown",
   "id": "ce32800a",
   "metadata": {},
   "source": [
    "### решение\n",
    "```\n",
    "import re\n",
    "import sys\n",
    "\n",
    "pattern = r\"\\b(\\w+)\\1\\b\"\n",
    "for line in sys.stdin:\n",
    "    line = line.strip()\n",
    "    print(re.sub(r\"human\",\"computer\",line))\n",
    "```"
   ]
  },
  {
   "cell_type": "markdown",
   "id": "18564b5d",
   "metadata": {},
   "source": [
    "### 7\n",
    "Вам дана последовательность строк.\n",
    "В каждой строке замените первое вхождение слова, состоящего только из латинских букв \"a\" (регистр не важен), на слово \"argh\".\n",
    "\n",
    "Примечание:\n",
    "Обратите внимание на параметр count у функции sub.\n",
    "```\n",
    "Sample Input:\n",
    "There`ll be no more \"Aaaaaaaaaaaaaaa\"\n",
    "AaAaAaA AaAaAaA\n",
    "\n",
    "Sample Output:\n",
    "There’ll be no more \"argh\"\n",
    "argh AaAaAaA\n",
    "```"
   ]
  },
  {
   "cell_type": "code",
   "execution_count": 236,
   "id": "e1578aa2",
   "metadata": {},
   "outputs": [
    {
     "data": {
      "text/plain": [
       "'ddAaAaAaA argh'"
      ]
     },
     "execution_count": 236,
     "metadata": {},
     "output_type": "execute_result"
    }
   ],
   "source": [
    "pattern = r\"\\b[Aa]+\\b\"\n",
    "line = 'ddAaAaAaA AaAaAaA'\n",
    "re.sub(pattern, \"argh\", line, count=1)"
   ]
  },
  {
   "cell_type": "code",
   "execution_count": 233,
   "id": "da48c50e",
   "metadata": {},
   "outputs": [
    {
     "name": "stdout",
     "output_type": "stream",
     "text": [
      "There`ll be no more \"argh\"\n",
      "argh AaAaAaA\n"
     ]
    }
   ],
   "source": [
    "pattern = r\"\\b[Aa]+\\b\"\n",
    "with open(\"reg_input_7.txt\", \"r\") as inp:\n",
    "    for line in inp:\n",
    "        line = line.rstrip()\n",
    "        line = re.sub(pattern, \"argh\", line, count=1)\n",
    "        print(line)"
   ]
  },
  {
   "cell_type": "markdown",
   "id": "15d36013",
   "metadata": {},
   "source": [
    "### решение\n",
    "```python\n",
    "import re\n",
    "import sys\n",
    "\n",
    "pattern = r\"\\b[Aa]+\\b\"\n",
    "for line in sys.stdin:\n",
    "    line = line.strip()\n",
    "    print(re.sub(pattern, \"argh\", line, count=1))\n",
    " ```"
   ]
  },
  {
   "cell_type": "markdown",
   "id": "3be8fa24",
   "metadata": {},
   "source": [
    "### 8\n",
    "Вам дана последовательность строк.\n",
    "В каждой строке поменяйте местами две первых буквы в каждом слове, состоящем хотя бы из двух букв.\n",
    "Буквой считается символ из группы \\w.\n",
    "```\n",
    "Sample Input:\n",
    "this is a text\n",
    "\"this' !is. ?n1ce,\n",
    "\n",
    "Sample Output:\n",
    "htis si a etxt\n",
    "\"htis' !si. ?1nce,\n",
    "```"
   ]
  },
  {
   "cell_type": "code",
   "execution_count": 243,
   "id": "f913587a",
   "metadata": {},
   "outputs": [
    {
     "name": "stdout",
     "output_type": "stream",
     "text": [
      "htis si a etxt\n",
      "\"htis' !si. ?1nce,\n"
     ]
    }
   ],
   "source": [
    "pattern = r\"\\b(\\w)(\\w)(\\w*)\\b\"\n",
    "repl = r\"\\2\\1\\3\"\n",
    "with open(\"reg_input_8.txt\", \"r\") as inp:\n",
    "    for line in inp:\n",
    "        line = line.rstrip()\n",
    "        line = re.sub(pattern,repl,line)\n",
    "        print(line)"
   ]
  },
  {
   "cell_type": "markdown",
   "id": "5aab921a",
   "metadata": {},
   "source": [
    "### решение\n",
    "```python\n",
    "import re\n",
    "import sys\n",
    "\n",
    "pattern = r\"\\b(\\w)(\\w)(\\w*)\\b\"\n",
    "repl = r\"\\2\\1\\3\"\n",
    "for line in sys.stdin:\n",
    "    line = line.strip()\n",
    "    print(re.sub(pattern,repl,line))\n",
    " ```"
   ]
  },
  {
   "cell_type": "markdown",
   "id": "3dbc8fe1",
   "metadata": {},
   "source": [
    "### 9\n",
    "Вам дана последовательность строк.\n",
    "В каждой строке замените все вхождения нескольких одинаковых букв на одну букву.\n",
    "Буквой считается символ из группы \\w.\n",
    "```python\n",
    "Sample Input:\n",
    "attraction\n",
    "buzzzz\n",
    "\n",
    "Sample Output:\n",
    "atraction\n",
    "buz\n",
    "```"
   ]
  },
  {
   "cell_type": "code",
   "execution_count": 257,
   "id": "a4e2ed02",
   "metadata": {},
   "outputs": [
    {
     "name": "stdout",
     "output_type": "stream",
     "text": [
      "atraction\n",
      "buz\n"
     ]
    }
   ],
   "source": [
    "pattern = r\"(\\w)\\1+\"\n",
    "repl = r\"\\1\"\n",
    "with open(\"reg_input_9.txt\", \"r\") as inp:\n",
    "    for line in inp:\n",
    "        line = line.rstrip()\n",
    "        line = re.sub(pattern,repl,line)\n",
    "        print(line)"
   ]
  },
  {
   "cell_type": "markdown",
   "id": "de29e0b7",
   "metadata": {},
   "source": [
    "### решение\n",
    "```python\n",
    "import re\n",
    "import sys\n",
    "\n",
    "pattern = r\"(\\w)\\1+\"\n",
    "repl = r\"\\1\"\n",
    "for line in sys.stdin:\n",
    "    line = line.strip()\n",
    "    print(re.sub(pattern,repl,line))\n",
    " ```"
   ]
  },
  {
   "cell_type": "markdown",
   "id": "40569a62",
   "metadata": {},
   "source": [
    "## 3.3 Обзорно об интернете: http-запросы, html-страницы и requests\n"
   ]
  },
  {
   "cell_type": "code",
   "execution_count": 261,
   "id": "1c0fd761",
   "metadata": {},
   "outputs": [],
   "source": [
    "import requests as req"
   ]
  },
  {
   "cell_type": "code",
   "execution_count": 262,
   "id": "5236e3e4",
   "metadata": {},
   "outputs": [],
   "source": [
    "res = req.get(\"https://docs.python.org/3.5/\")"
   ]
  },
  {
   "cell_type": "code",
   "execution_count": 299,
   "id": "53d5638f",
   "metadata": {},
   "outputs": [
    {
     "name": "stdout",
     "output_type": "stream",
     "text": [
      "200 \n",
      "\n",
      "{'Connection': 'keep-alive', 'Content-Length': '2471', 'server': 'nginx', 'content-type': 'text/html', 'last-modified': 'Mon, 11 Apr 2022 09:59:19 GMT', 'etag': '\"6253fbf7-25e1\"', 'x-clacks-overhead': 'GNU Terry Pratchett', 'strict-transport-security': 'max-age=315360000; includeSubDomains; preload', 'Content-Encoding': 'gzip', 'Via': '1.1 varnish, 1.1 varnish', 'Accept-Ranges': 'bytes', 'Date': 'Sun, 24 Sep 2023 21:33:04 GMT', 'Age': '220465', 'X-Served-By': 'cache-lga21931-LGA, cache-bma1650-BMA', 'X-Cache': 'HIT, HIT', 'X-Cache-Hits': '140, 1', 'X-Timer': 'S1695591185.642984,VS0,VE88', 'Vary': 'Accept-Encoding'} \n",
      "\n",
      "keep-alive\n",
      "text/html\n"
     ]
    }
   ],
   "source": [
    "print(res.status_code,\"\\n\")\n",
    "print(res.headers,\"\\n\")\n",
    "print(res.headers['Connection'])\n",
    "print(res.headers['content-type'])"
   ]
  },
  {
   "cell_type": "code",
   "execution_count": 301,
   "id": "976a1044",
   "metadata": {},
   "outputs": [
    {
     "name": "stdout",
     "output_type": "stream",
     "text": [
      "b'\\n<!DOCTYPE html PUBLIC \"-//W3C//DTD XHTML 1.0 Transitional//EN\"\\n  \"http://www.w3.org/TR/xhtml1/DTD/x'\n"
     ]
    }
   ],
   "source": [
    "print(res.content[:100])"
   ]
  },
  {
   "cell_type": "code",
   "execution_count": 302,
   "id": "6961775c",
   "metadata": {},
   "outputs": [
    {
     "name": "stdout",
     "output_type": "stream",
     "text": [
      "\n",
      "<!DOCTYPE html PUBLIC \"-//W3C//DTD XHTML 1.0 Transitional//EN\"\n",
      "  \"http://www.w3.org/TR/xhtml1/DTD/xhtml1-transitional.dtd\">\n",
      "\n",
      "<html xmlns=\"http://www.w3.org/1999/xhtml\">\n",
      "  <head>\n",
      "    <meta http-equiv=\"X-UA-Compatible\" content=\"IE=Edge\" />\n",
      "    <meta http-equiv=\"Content-Type\" content=\"text/html; charset=utf-8\" /><title>3.5.9 Documentation</title>\n",
      "    <link rel=\"stylesheet\" href=\"_static/pydoctheme.css\" type=\"text/css\" />\n",
      "    <link rel=\"stylesheet\" href=\"_static/pygments.css\" type=\"text/css\" />\n",
      "    \n",
      "    <script type=\"text/javascript\" id=\"documentation_options\" data-url_root=\"./\" src=\"_static/documentation_options.js\"></script>\n",
      "    <script type=\"text/javascript\" src=\"_static/jquery.js\"></script>\n",
      "    <script type=\"text/javascript\" src=\"_static/underscore.js\"></script>\n",
      "    <script type=\"text/javascript\" src=\"_static/doctools.js\"></script>\n",
      "    <script type=\"text/javascript\" src=\"_static/language_data.js\"></script>\n",
      "    \n",
      "    <script type=\"text/javascript\" src=\"_static/sidebar.js\"></script>\n",
      "    \n",
      "    <link rel=\"search\" type=\"application/opensearchdescription+xml\"\n",
      "          title=\"Search within Python 3.5.9 documentation\"\n",
      "          href=\"_static/opensearch.xml\"/>\n",
      "    <link rel=\"author\" title=\"About these documents\" href=\"about.html\" />\n",
      "    <link rel=\"index\" title=\"Index\" href=\"genindex.html\" />\n",
      "    <link rel=\"search\" title=\"Search\" href=\"search.html\" />\n",
      "    <link rel=\"copyright\" title=\"Copyright\" href=\"copyright.html\" />\n",
      "    <link rel=\"shortcut icon\" type=\"image/png\" href=\"_static/py.png\" />\n",
      "    <link rel=\"canonical\" href=\"https://docs.python.org/3/index.html\" />\n",
      "    \n",
      "    <script type=\"text/javascript\" src=\"_static/copybutton.js\"></script>\n",
      "    \n",
      "    \n",
      "    \n",
      " \n",
      "\n",
      "  </head><body>\n",
      "<div id=\"outdated-warning\" style=\"padding: .5em; text-align: center; background-color: #FFBABA; color: #6A0E0E;\">\n",
      "    This document is for an old version of Python that is no longer supported.\n",
      "    You should upgrade, and read the \n",
      "    <a href=\"/3/index.html\"> Python documentation for the current stable release</a>.\n",
      "</div>\n",
      "  \n",
      "    <div class=\"related\" role=\"navigation\" aria-label=\"related navigation\">\n",
      "      <h3>Navigation</h3>\n",
      "      <ul>\n",
      "        <li class=\"right\" style=\"margin-right: 10px\">\n",
      "          <a href=\"genindex.html\" title=\"General Index\"\n",
      "             accesskey=\"I\">index</a></li>\n",
      "        <li class=\"right\" >\n",
      "          <a href=\"py-modindex.html\" title=\"Python Module Index\"\n",
      "             >modules</a> |</li>\n",
      "        <li><img src=\"_static/py.png\" alt=\"\"\n",
      "                 style=\"vertical-align: middle; margin-top: -1px\"/></li>\n",
      "        <li><a href=\"https://www.python.org/\">Python</a> &#187;</li>\n",
      "        <li>\n",
      "          <a href=\"#\">3.5.9 Documentation</a> &#187;\n",
      "        </li>\n",
      "\n",
      "    <li class=\"right\">\n",
      "        \n",
      "\n",
      "    <div class=\"inline-search\" style=\"display: none\" role=\"search\">\n",
      "        <form class=\"inline-search\" action=\"search.html\" method=\"get\">\n",
      "          <input placeholder=\"Quick search\" type=\"text\" name=\"q\" />\n",
      "          <input type=\"submit\" value=\"Go\" />\n",
      "          <input type=\"hidden\" name=\"check_keywords\" value=\"yes\" />\n",
      "          <input type=\"hidden\" name=\"area\" value=\"default\" />\n",
      "        </form>\n",
      "    </div>\n",
      "    <script type=\"text/javascript\">$('.inline-search').show(0);</script>\n",
      "         |\n",
      "    </li>\n",
      "\n",
      "      </ul>\n",
      "    </div>    \n",
      "\n",
      "    <div class=\"document\">\n",
      "      <div class=\"documentwrapper\">\n",
      "        <div class=\"bodywrapper\">\n",
      "          <div class=\"body\" role=\"main\">\n",
      "            \n",
      "  <h1>Python 3.5.9 documentation</h1>\n",
      "  <p>\n",
      "  Welcome! This is the documentation for Python 3.5.9.\n",
      "  </p>\n",
      "  <p><strong>Parts of the documentation:</strong></p>\n",
      "  <table class=\"contentstable\" align=\"center\"><tr>\n",
      "    <td width=\"50%\">\n",
      "      <p class=\"biglink\"><a class=\"biglink\" href=\"whatsnew/3.5.html\">What's new in Python 3.5?</a><br/>\n",
      "        <span class=\"linkdescr\"> or <a href=\"whatsnew/index.html\">all \"What's new\" documents</a> since 2.0</span></p>\n",
      "      <p class=\"biglink\"><a class=\"biglink\" href=\"tutorial/index.html\">Tutorial</a><br/>\n",
      "         <span class=\"linkdescr\">start here</span></p>\n",
      "      <p class=\"biglink\"><a class=\"biglink\" href=\"library/index.html\">Library Reference</a><br/>\n",
      "         <span class=\"linkdescr\">keep this under your pillow</span></p>\n",
      "      <p class=\"biglink\"><a class=\"biglink\" href=\"reference/index.html\">Language Reference</a><br/>\n",
      "         <span class=\"linkdescr\">describes syntax and language elements</span></p>\n",
      "      <p class=\"biglink\"><a class=\"biglink\" href=\"using/index.html\">Python Setup and Usage</a><br/>\n",
      "         <span class=\"linkdescr\">how to use Python on different platforms</span></p>\n",
      "      <p class=\"biglink\"><a class=\"biglink\" href=\"howto/index.html\">Python HOWTOs</a><br/>\n",
      "         <span class=\"linkdescr\">in-depth documents on specific topics</span></p>\n",
      "    </td><td width=\"50%\">\n",
      "      <p class=\"biglink\"><a class=\"biglink\" href=\"installing/index.html\">Installing Python Modules</a><br/>\n",
      "         <span class=\"linkdescr\">installing from the Python Package Index &amp; other sources</span></p>\n",
      "      <p class=\"biglink\"><a class=\"biglink\" href=\"distributing/index.html\">Distributing Python Modules</a><br/>\n",
      "         <span class=\"linkdescr\">publishing modules for installation by others</span></p>\n",
      "      <p class=\"biglink\"><a class=\"biglink\" href=\"extending/index.html\">Extending and Embedding</a><br/>\n",
      "         <span class=\"linkdescr\">tutorial for C/C++ programmers</span></p>\n",
      "      <p class=\"biglink\"><a class=\"biglink\" href=\"c-api/index.html\">Python/C API</a><br/>\n",
      "         <span class=\"linkdescr\">reference for C/C++ programmers</span></p>\n",
      "      <p class=\"biglink\"><a class=\"biglink\" href=\"faq/index.html\">FAQs</a><br/>\n",
      "         <span class=\"linkdescr\">frequently asked questions (with answers!)</span></p>\n",
      "    </td></tr>\n",
      "  </table>\n",
      "\n",
      "  <p><strong>Indices and tables:</strong></p>\n",
      "  <table class=\"contentstable\" align=\"center\"><tr>\n",
      "    <td width=\"50%\">\n",
      "      <p class=\"biglink\"><a class=\"biglink\" href=\"py-modindex.html\">Global Module Index</a><br/>\n",
      "         <span class=\"linkdescr\">quick access to all modules</span></p>\n",
      "      <p class=\"biglink\"><a class=\"biglink\" href=\"genindex.html\">General Index</a><br/>\n",
      "         <span class=\"linkdescr\">all functions, classes, terms</span></p>\n",
      "      <p class=\"biglink\"><a class=\"biglink\" href=\"glossary.html\">Glossary</a><br/>\n",
      "         <span class=\"linkdescr\">the most important terms explained</span></p>\n",
      "    </td><td width=\"50%\">\n",
      "      <p class=\"biglink\"><a class=\"biglink\" href=\"search.html\">Search page</a><br/>\n",
      "         <span class=\"linkdescr\">search this documentation</span></p>\n",
      "      <p class=\"biglink\"><a class=\"biglink\" href=\"contents.html\">Complete Table of Contents</a><br/>\n",
      "         <span class=\"linkdescr\">lists all sections and subsections</span></p>\n",
      "    </td></tr>\n",
      "  </table>\n",
      "\n",
      "  <p><strong>Meta information:</strong></p>\n",
      "  <table class=\"contentstable\" align=\"center\"><tr>\n",
      "    <td width=\"50%\">\n",
      "      <p class=\"biglink\"><a class=\"biglink\" href=\"bugs.html\">Reporting bugs</a></p>\n",
      "      <p class=\"biglink\"><a class=\"biglink\" href=\"about.html\">About the documentation</a></p>\n",
      "    </td><td width=\"50%\">\n",
      "      <p class=\"biglink\"><a class=\"biglink\" href=\"license.html\">History and License of Python</a></p>\n",
      "      <p class=\"biglink\"><a class=\"biglink\" href=\"copyright.html\">Copyright</a></p>\n",
      "    </td></tr>\n",
      "  </table>\n",
      "\n",
      "          </div>\n",
      "        </div>\n",
      "      </div>\n",
      "      <div class=\"sphinxsidebar\" role=\"navigation\" aria-label=\"main navigation\">\n",
      "        <div class=\"sphinxsidebarwrapper\"><h3>Download</h3>\n",
      "<p><a href=\"download.html\">Download these documents</a></p>\n",
      "\n",
      "<h3>Other resources</h3>\n",
      "<ul>\n",
      "  \n",
      "  <li><a href=\"https://www.python.org/dev/peps/\">PEP Index</a></li>\n",
      "  <li><a href=\"https://wiki.python.org/moin/BeginnersGuide\">Beginner's Guide</a></li>\n",
      "  <li><a href=\"https://wiki.python.org/moin/PythonBooks\">Book List</a></li>\n",
      "  <li><a href=\"https://www.python.org/doc/av/\">Audio/Visual Talks</a></li>\n",
      "  <li><a href=\"https://devguide.python.org/\">Python Developerâs Guide</a></li>\n",
      "</ul>\n",
      "        </div>\n",
      "      </div>\n",
      "      <div class=\"clearer\"></div>\n",
      "    </div>  \n",
      "    <div class=\"related\" role=\"navigation\" aria-label=\"related navigation\">\n",
      "      <h3>Navigation</h3>\n",
      "      <ul>\n",
      "        <li class=\"right\" style=\"margin-right: 10px\">\n",
      "          <a href=\"genindex.html\" title=\"General Index\"\n",
      "             >index</a></li>\n",
      "        <li class=\"right\" >\n",
      "          <a href=\"py-modindex.html\" title=\"Python Module Index\"\n",
      "             >modules</a> |</li>\n",
      "        <li><img src=\"_static/py.png\" alt=\"\"\n",
      "                 style=\"vertical-align: middle; margin-top: -1px\"/></li>\n",
      "        <li><a href=\"https://www.python.org/\">Python</a> &#187;</li>\n",
      "        <li>\n",
      "          <a href=\"#\">3.5.9 Documentation</a> &#187;\n",
      "        </li>\n",
      "\n",
      "    <li class=\"right\">\n",
      "        \n",
      "\n",
      "    <div class=\"inline-search\" style=\"display: none\" role=\"search\">\n",
      "        <form class=\"inline-search\" action=\"search.html\" method=\"get\">\n",
      "          <input placeholder=\"Quick search\" type=\"text\" name=\"q\" />\n",
      "          <input type=\"submit\" value=\"Go\" />\n",
      "          <input type=\"hidden\" name=\"check_keywords\" value=\"yes\" />\n",
      "          <input type=\"hidden\" name=\"area\" value=\"default\" />\n",
      "        </form>\n",
      "    </div>\n",
      "    <script type=\"text/javascript\">$('.inline-search').show(0);</script>\n",
      "         |\n",
      "    </li>\n",
      "\n",
      "      </ul>\n",
      "    </div>  \n",
      "    <div class=\"footer\">\n",
      "    &copy; <a href=\"copyright.html\">Copyright</a> 2001-2020, Python Software Foundation.\n",
      "    <br />\n",
      "    The Python Software Foundation is a non-profit corporation.\n",
      "    <a href=\"https://www.python.org/psf/donations/\">Please donate.</a>\n",
      "    <br />\n",
      "    Last updated on Dec 18, 2020.\n",
      "    <a href=\"bugs.html\">Found a bug</a>?\n",
      "    <br />\n",
      "    Created using <a href=\"http://sphinx.pocoo.org/\">Sphinx</a> 1.8.4.\n",
      "    </div>\n",
      "\n",
      "    <script type=\"text/javascript\" src=\"_static/switchers.js\"></script>\n",
      "  </body>\n",
      "</html>\n",
      "\n"
     ]
    }
   ],
   "source": [
    "print(res.text)"
   ]
  },
  {
   "cell_type": "markdown",
   "id": "9dd2e7b1",
   "metadata": {},
   "source": [
    "### 1\n",
    "Рассмотрим два HTML-документа A и B.\n",
    "Из A можно перейти в B за один переход, если в A есть ссылка на B, т. е. внутри A есть тег \\<a href=\"B\">, возможно с дополнительными параметрами внутри тега.\n",
    "Из A можно перейти в B за два перехода если существует такой документ C, что из A в C можно перейти за один переход и из C в B можно перейти за один переход.\n",
    "\n",
    "Вашей программе на вход подаются две строки, содержащие url двух документов A и B.\n",
    "Выведите Yes, если из A в B можно перейти за два перехода, иначе выведите No.\n",
    "\n",
    "Обратите внимание на то, что не все ссылки внутри HTML документа могут вести на существующие HTML документы.\n",
    "```\n",
    "Sample Input 1:\n",
    "https://stepik.org/media/attachments/lesson/24472/sample0.html\n",
    "https://stepik.org/media/attachments/lesson/24472/sample2.html\n",
    "    \n",
    "Sample Output 1:\n",
    "Yes\n",
    "```  \n",
    "```\n",
    "Sample Input 2:\n",
    "https://stepik.org/media/attachments/lesson/24472/sample0.html\n",
    "https://stepik.org/media/attachments/lesson/24472/sample1.html\n",
    "    \n",
    "Sample Output 2:\n",
    "No\n",
    "```\n",
    "```\n",
    "Sample Input 3:\n",
    "https://stepik.org/media/attachments/lesson/24472/sample1.html\n",
    "https://stepik.org/media/attachments/lesson/24472/sample2.html\n",
    "    \n",
    "Sample Output 3:\n",
    "Yes\n",
    "```"
   ]
  },
  {
   "cell_type": "code",
   "execution_count": 331,
   "id": "c692e7b3",
   "metadata": {},
   "outputs": [],
   "source": [
    "first_url = \"https://stepik.org/media/attachments/lesson/24472/sample0.html\"\n",
    "second_url = \"https://stepik.org/media/attachments/lesson/24472/sample2.html\"\n",
    "\n",
    "res = req.get(first_url)\n",
    "urls_from_first_url = re.findall(r'<a href=\"(.+)\"',res.text.replace('stepic.org', 'stepik.org'))\n",
    "\n",
    "for curren_url in urls_from_first_url:\n",
    "    print(curren_url)\n",
    "    res = req.get(curren_url)\n",
    "    urls_from_curren_url = re.findall(r'<a href=\"(.+)\"',res.text.replace('stepic.org', 'stepik.org'))\n",
    "    print(urls_from_curren_url)\n",
    "    if second_url in urls_from_curren_url:\n",
    "        print(\"Yes\")\n",
    "        break\n",
    "else:\n",
    "    print(\"No\")"
   ]
  },
  {
   "cell_type": "markdown",
   "id": "c2b0a37f",
   "metadata": {},
   "source": [
    "### решение\n",
    "```python\n",
    "import re\n",
    "import requests as req\n",
    "\n",
    "first_url = input()\n",
    "second_url = input()\n",
    "\n",
    "res = req.get(first_url)\n",
    "urls_from_first_url = re.findall(r'<a href=\"(.+)\"',res.text.replace('stepic.org', 'stepik.org'))\n",
    "\n",
    "for curren_url in urls_from_first_url:\n",
    "    print(curren_url)\n",
    "    res = req.get(curren_url)\n",
    "    urls_from_curren_url = re.findall(r'<a href=\"(.+)\"',res.text.replace('stepic.org', 'stepik.org'))\n",
    "    print(urls_from_curren_url)\n",
    "    if second_url in urls_from_curren_url:\n",
    "        print(\"Yes\")\n",
    "        break\n",
    "else:\n",
    "    print(\"No\")\n",
    "```"
   ]
  },
  {
   "cell_type": "markdown",
   "id": "32dca80f",
   "metadata": {},
   "source": [
    "### 2\n",
    "Вашей программе на вход подается ссылка на HTML файл.\n",
    "Вам необходимо скачать этот файл, затем найти в нем все ссылки вида <a ... href=\"...\" ... > и вывести список сайтов, на которые есть ссылка.\n",
    "\n",
    "Сайтом в данной задаче будем называть имя домена вместе с именами поддоменов. То есть, это последовательность символов, которая следует сразу после символов протокола, если он есть, до символов порта или пути, если они есть, за исключением случаев с относительными ссылками вида\n",
    "\\<a href=\"../some_path/index.html\">.\n",
    "\n",
    "Сайты следует выводить в алфавитном порядке.\n",
    "```\n",
    "Пример HTML файла:\n",
    "\n",
    "<a href=\"http://stepik.org/courses\">    \n",
    "<a href='https://stepik.org'>    \n",
    "<a href='http://neerc.ifmo.ru:1345'>    \n",
    "<a href=\"ftp://mail.ru/distib\" >    \n",
    "<a href=\"ya.ru\">    \n",
    "<a href=\"www.ya.ru\">    \n",
    "<a href=\"../skip_relative_links\">   \n",
    "\n",
    "Пример ответа:\n",
    "\n",
    "mail.ru\n",
    "neerc.ifmo.ru\n",
    "stepik.org\n",
    "www.ya.ru\n",
    "ya.ru\n",
    "```"
   ]
  },
  {
   "cell_type": "code",
   "execution_count": 412,
   "id": "3d91417c",
   "metadata": {},
   "outputs": [
    {
     "name": "stdout",
     "output_type": "stream",
     "text": [
      "mail.ru\n",
      "neerc.ifmo.ru\n",
      "otc-stock.rbc.ru\n",
      "stepik.org\n",
      "www.m-2.ru\n",
      "www.nashidengi.ru\n",
      "www.ya.ru\n",
      "ya.ru\n"
     ]
    }
   ],
   "source": [
    "with open(\"requests_input_2.txt\") as inp:\n",
    "    res = inp.read()\n",
    "urls = re.findall(r'''<a.*href=[\"'](?:[a-z]*://)?([a-z][\\w.-]+)''',res)\n",
    "print(*sorted(list(set(urls))), sep='\\n')"
   ]
  },
  {
   "cell_type": "markdown",
   "id": "27842dbc",
   "metadata": {},
   "source": [
    "### решенеие\n",
    "```python\n",
    "import re\n",
    "import requests as req\n",
    "\n",
    "url = input().strip()\n",
    "res = req.get(url).text\n",
    "urls = re.findall(r'''<a.*href=[\"'](?:[a-z]*://)?([a-z][\\w.-]+)''',res)\n",
    "# urls = re.findall(r'''<a.*href.*=.*[\"' ](?:.*://)?(\\w[\\w.-]+)''',res)\n",
    "print(*sorted(list(set(urls))), sep='\\n')\n",
    "```"
   ]
  },
  {
   "cell_type": "markdown",
   "id": "302bec9a",
   "metadata": {},
   "source": [
    "### 3.4 Распространённые форматы текстовых файлов: CSV, JSON"
   ]
  },
  {
   "cell_type": "markdown",
   "id": "972f637f",
   "metadata": {},
   "source": [
    "### CSV"
   ]
  },
  {
   "cell_type": "code",
   "execution_count": 413,
   "id": "a3daa724",
   "metadata": {},
   "outputs": [],
   "source": [
    "import csv"
   ]
  },
  {
   "cell_type": "code",
   "execution_count": 420,
   "id": "561656ea",
   "metadata": {},
   "outputs": [
    {
     "name": "stdout",
     "output_type": "stream",
     "text": [
      "['first name', 'second name', 'module_1', 'module_2', 'module_3', 'description']\n",
      "['student', 'best', '100', '100', '100', 'Excellent score']\n",
      "['student', 'good', '90', '95.6', '100', 'Good score']\n",
      "['student', 'good', '90', '92,1', '100', 'Good score \\nbutCould do better?']\n"
     ]
    }
   ],
   "source": [
    "with open(\"example.csv\") as f:\n",
    "    reader = csv.reader(f)\n",
    "    for row in reader:\n",
    "        print(row)"
   ]
  },
  {
   "cell_type": "code",
   "execution_count": 421,
   "id": "eef265d0",
   "metadata": {},
   "outputs": [
    {
     "name": "stdout",
     "output_type": "stream",
     "text": [
      "['first name', 'second name', 'module_1', 'module_2', 'module_3', 'description']\n",
      "['student', 'best', '100', '100', '100', 'Excellent score']\n",
      "['student', 'good', '90', '95.6', '100', 'Good score']\n",
      "['student', 'good', '90', '92,1', '100', 'Good score \\nbutCould do better?']\n"
     ]
    }
   ],
   "source": [
    "with open(\"example.tsv\") as f:\n",
    "    reader = csv.reader(f,delimiter=\"\\t\")\n",
    "    for row in reader:\n",
    "        print(row)"
   ]
  },
  {
   "cell_type": "code",
   "execution_count": 439,
   "id": "f4481d0c",
   "metadata": {},
   "outputs": [],
   "source": [
    "students = [\n",
    "    [\"Greg\",\"Dean\",100,100,100, \"Fine!\"],\n",
    "    [\"Dirt\",\"Dood\",75,80,99,\"Not bad\"]\n",
    "]\n",
    "\n",
    "with open(\"example.csv\",'a',newline='') as f:\n",
    "    writer = csv.writer(f)\n",
    "    for student in students:\n",
    "        writer.writerow(student)\n",
    "\n",
    "with open(\"example.csv\",'a',newline='') as f:\n",
    "    writer = csv.writer(f)\n",
    "    writer.writerows(students)"
   ]
  },
  {
   "cell_type": "code",
   "execution_count": 440,
   "id": "64306734",
   "metadata": {},
   "outputs": [
    {
     "name": "stdout",
     "output_type": "stream",
     "text": [
      "['first name', 'second name', 'module_1', 'module_2', 'module_3', 'description']\n",
      "['student', 'best', '100', '100', '100', 'Excellent score']\n",
      "['student', 'good', '90', '95.6', '100', 'Good score']\n",
      "['student', 'good', '90', '92,1', '100', 'Good score \\nbutCould do better?']\n",
      "['Greg', 'Dean', '100', '100', '100', 'Fine!']\n",
      "['Dirt', 'Dood', '75', '80', '99', 'Not bad']\n",
      "['Greg', 'Dean', '100', '100', '100', 'Fine!']\n",
      "['Dirt', 'Dood', '75', '80', '99', 'Not bad']\n",
      "['Greg', 'Dean', '100', '100', '100', 'Fine!']\n",
      "['Dirt', 'Dood', '75', '80', '99', 'Not bad']\n"
     ]
    }
   ],
   "source": [
    "with open(\"example.csv\") as f:\n",
    "    reader = csv.reader(f)\n",
    "    for row in reader:\n",
    "        print(row)"
   ]
  },
  {
   "cell_type": "code",
   "execution_count": 443,
   "id": "3cb02be8",
   "metadata": {},
   "outputs": [],
   "source": [
    "with open(\"example.csv\",'a',newline='') as f:\n",
    "    writer = csv.writer(f, quoting=csv.QUOTE_NONNUMERIC )\n",
    "    writer.writerows(students)"
   ]
  },
  {
   "cell_type": "markdown",
   "id": "7f059bb7",
   "metadata": {},
   "source": [
    "Вам дана частичная выборка из датасета зафиксированных преступлений, совершенных в городе Чикаго с 2001 года по настоящее время.\n",
    "\n",
    "Одним из атрибутов преступления является его тип – Primary Type.\n",
    "\n",
    "Вам необходимо узнать тип преступления, которое было зафиксировано максимальное число раз в 2015 году."
   ]
  },
  {
   "cell_type": "code",
   "execution_count": 20,
   "id": "cc58fe3e",
   "metadata": {},
   "outputs": [
    {
     "name": "stdout",
     "output_type": "stream",
     "text": [
      "Тип преступления, которое было зафиксировано максимальное число раз: THEFT\n"
     ]
    }
   ],
   "source": [
    "import csv\n",
    "from collections import Counter\n",
    "\n",
    "primary_type_2015 = []\n",
    "with open(\"Crimes.csv\",newline='') as csvfile:\n",
    "    reader = csv.DictReader(csvfile)\n",
    "    for row in reader:\n",
    "        if row['Date'].split()[0].split('/')[2] == '2015':\n",
    "            primary_type_2015.append(row['Primary Type'])\n",
    "        \n",
    "print(\"Тип преступления, которое было зафиксировано максимальное число раз:\", \n",
    "      Counter(primary_type_2015).most_common()[0][0])"
   ]
  },
  {
   "cell_type": "markdown",
   "id": "d923a22a",
   "metadata": {},
   "source": [
    "### JSON"
   ]
  },
  {
   "cell_type": "code",
   "execution_count": 23,
   "id": "b51f694a",
   "metadata": {},
   "outputs": [],
   "source": [
    "import json\n"
   ]
  },
  {
   "cell_type": "code",
   "execution_count": 31,
   "id": "3b463a4c",
   "metadata": {},
   "outputs": [
    {
     "name": "stdout",
     "output_type": "stream",
     "text": [
      "[\n",
      "    {\n",
      "        \"description\": \"Fine!\",\n",
      "        \"first name\": \"Greg\",\n",
      "        \"module_1\": \"100\",\n",
      "        \"module_2\": \"100\",\n",
      "        \"module_3\": \"100\",\n",
      "        \"second name\": \"Dean\"\n",
      "    },\n",
      "    {\n",
      "        \"description\": \"Not bad\",\n",
      "        \"first name\": \"Dirt\",\n",
      "        \"module_1\": \"75\",\n",
      "        \"module_2\": \"80\",\n",
      "        \"module_3\": \"99\",\n",
      "        \"second name\": \"Dood\"\n",
      "    }\n",
      "]\n"
     ]
    }
   ],
   "source": [
    "student_1 = {\n",
    "    'first name': 'Greg', \n",
    "    'second name': 'Dean', \n",
    "    'module_1': '100', \n",
    "    'module_2': '100', \n",
    "    'module_3': '100', \n",
    "    'description': 'Fine!'\n",
    "}\n",
    "student_2 = {\n",
    "    'first name': 'Dirt', \n",
    "    'second name': 'Dood', \n",
    "    'module_1': '75', \n",
    "    'module_2': '80', \n",
    "    'module_3': '99', \n",
    "    'description': 'Not bad'\n",
    "}\n",
    "\n",
    "data = [student_1, student_2]\n",
    "data_json = json.dumps(data, indent=4, sort_keys=True)\n",
    "print(data_json)"
   ]
  },
  {
   "cell_type": "code",
   "execution_count": 30,
   "id": "90e802c7",
   "metadata": {},
   "outputs": [],
   "source": [
    "with open('students.json', mode='w') as jsonfile:\n",
    "    json.dump(data, jsonfile, indent=4, sort_keys=True)"
   ]
  },
  {
   "cell_type": "code",
   "execution_count": 34,
   "id": "4e719510",
   "metadata": {},
   "outputs": [
    {
     "data": {
      "text/plain": [
       "[{'description': 'Fine!',\n",
       "  'first name': 'Greg',\n",
       "  'module_1': '100',\n",
       "  'module_2': '100',\n",
       "  'module_3': '100',\n",
       "  'second name': 'Dean'},\n",
       " {'description': 'Not bad',\n",
       "  'first name': 'Dirt',\n",
       "  'module_1': '75',\n",
       "  'module_2': '80',\n",
       "  'module_3': '99',\n",
       "  'second name': 'Dood'}]"
      ]
     },
     "execution_count": 34,
     "metadata": {},
     "output_type": "execute_result"
    }
   ],
   "source": [
    "data_again = json.loads(data_json)\n",
    "data_again"
   ]
  },
  {
   "cell_type": "code",
   "execution_count": 35,
   "id": "04bd4f29",
   "metadata": {},
   "outputs": [
    {
     "data": {
      "text/plain": [
       "[{'description': 'Fine!',\n",
       "  'first name': 'Greg',\n",
       "  'module_1': '100',\n",
       "  'module_2': '100',\n",
       "  'module_3': '100',\n",
       "  'second name': 'Dean'},\n",
       " {'description': 'Not bad',\n",
       "  'first name': 'Dirt',\n",
       "  'module_1': '75',\n",
       "  'module_2': '80',\n",
       "  'module_3': '99',\n",
       "  'second name': 'Dood'}]"
      ]
     },
     "execution_count": 35,
     "metadata": {},
     "output_type": "execute_result"
    }
   ],
   "source": [
    "with open('students.json', mode='r') as jsonfile:\n",
    "    data_again_from_file = json.load(jsonfile)\n",
    "data_again_from_file    "
   ]
  },
  {
   "cell_type": "markdown",
   "id": "ba271caa",
   "metadata": {},
   "source": [
    "Вам дано описание наследования классов в формате JSON.\n",
    "Описание представляет из себя массив JSON-объектов, которые соответствуют классам. У каждого JSON-объекта есть поле name, которое содержит имя класса, и поле parents, которое содержит список имен прямых предков.\n",
    "\n",
    "Пример:\n",
    "```\n",
    "[{\"name\": \"A\", \"parents\": []}, {\"name\": \"B\", \"parents\": [\"A\", \"C\"]}, {\"name\": \"C\", \"parents\": [\"A\"]}]\n",
    "```\n",
    "Эквивалент на Python:\n",
    "```python\n",
    "class A:\n",
    "    pass\n",
    "\n",
    "class B(A, C):\n",
    "    pass\n",
    "\n",
    "class C(A):\n",
    "    pass\n",
    "```\n",
    "Гарантируется, что никакой класс не наследуется от себя явно или косвенно, и что никакой класс не наследуется явно от одного класса более одного раза.\n",
    "\n",
    "Для каждого класса вычислите предком скольких классов он является и выведите эту информацию в следующем формате.\n",
    "\n",
    "<имя класса> : <количество потомков>\n",
    "\n",
    "Выводить классы следует в лексикографическом порядке.\n",
    "```\n",
    "Sample Input:\n",
    "[{\"name\": \"A\", \"parents\": []}, {\"name\": \"B\", \"parents\": [\"A\", \"C\"]}, {\"name\": \"C\", \"parents\": [\"A\"]}]\n",
    "\n",
    "Sample Output:\n",
    "A : 3\n",
    "B : 1\n",
    "C : 2\n",
    "```"
   ]
  },
  {
   "cell_type": "code",
   "execution_count": null,
   "id": "0ac3f0e3",
   "metadata": {},
   "outputs": [],
   "source": [
    "aa = '''[{\"name\": \"A\", \"parents\": []}, \n",
    "{\"name\": \"B\", \"parents\": [\"A\", \"C\"]}, \n",
    "{\"name\": \"C\", \"parents\": [\"A\"]}]'''\n",
    "\n",
    "import json\n",
    "\n",
    "def childs_count(child_parents, class_name, childs=None):\n",
    "    if childs is None:\n",
    "        childs = set()\n",
    "    childs.add(class_name)\n",
    "    for child in child_parents:\n",
    "        if class_name in child_parents[child]:\n",
    "            childs.add(child)\n",
    "            childs_count(child_parents, child, childs)\n",
    "    return childs\n",
    "\n",
    "data = json.loads(aa)\n",
    "child_parents = {x['name']:x['parents'] for x in data}\n",
    "\n",
    "for class_name in sorted(child_parents):\n",
    "    print(class_name,':', len(childs_count(child_parents, class_name)))"
   ]
  },
  {
   "cell_type": "markdown",
   "id": "d9b1fc81",
   "metadata": {},
   "source": [
    "### решение \n",
    "```python\n",
    "import json\n",
    "\n",
    "def childs_count(child_parents, class_name, childs=None):\n",
    "    if childs is None:\n",
    "        childs = set()\n",
    "    childs.add(class_name)\n",
    "    for child in child_parents:\n",
    "        if class_name in child_parents[child]:\n",
    "            childs.add(child)\n",
    "            childs_count(child_parents, child, childs)\n",
    "    return childs\n",
    "\n",
    "data = json.loads(input())\n",
    "child_parents = {x['name']:x['parents'] for x in data}\n",
    "\n",
    "for class_name in sorted(child_parents):\n",
    "    print(class_name,':', len(childs_count(child_parents, class_name)))\n",
    "```"
   ]
  },
  {
   "cell_type": "markdown",
   "id": "6901d4fb",
   "metadata": {},
   "source": [
    "### 3.5 API"
   ]
  },
  {
   "cell_type": "markdown",
   "id": "31dfa3a8",
   "metadata": {},
   "source": [
    "#### здесь теория"
   ]
  },
  {
   "cell_type": "markdown",
   "id": "c0c2b94d",
   "metadata": {},
   "source": [
    "В этой задаче вам необходимо воспользоваться API сайта `numbersapi.com`\n",
    "\n",
    "Вам дается набор чисел. Для каждого из чисел необходимо узнать, существует ли интересный математический факт об этом числе.\n",
    "\n",
    "Для каждого числа выведите Interesting, если для числа существует интересный факт, и Boring иначе.\n",
    "Выводите информацию об интересности чисел в таком же порядке, в каком следуют числа во входном файле.\n",
    "```\n",
    "Пример запроса к интересному числу:\n",
    "http://numbersapi.com/31/math?json=true\n",
    "````\n",
    "```\n",
    "Пример запроса к скучному числу:\n",
    "http://numbersapi.com/999/math?json=true\n",
    "```\n",
    "```\n",
    "Пример входного файла:\n",
    "31\n",
    "999\n",
    "1024\n",
    "502\n",
    "```\n",
    "```\n",
    "﻿Пример выходного файла:\n",
    "Interesting\n",
    "Boring\n",
    "Interesting\n",
    "Boring\n",
    "```"
   ]
  },
  {
   "cell_type": "code",
   "execution_count": 72,
   "id": "ba8afe65",
   "metadata": {},
   "outputs": [
    {
     "name": "stdout",
     "output_type": "stream",
     "text": [
      "Interesting\n",
      "Boring\n",
      "Interesting\n",
      "Boring\n"
     ]
    }
   ],
   "source": [
    "import requests as req\n",
    "\n",
    "with open(\"api_input_1.txt\") as inp:\n",
    "    for number in inp:\n",
    "        api_url = f'http://numbersapi.com/{number.strip()}/math?json=true'\n",
    "        res = req.get(api_url)\n",
    "        if res.json()['found']:\n",
    "            print('Interesting')\n",
    "        else:\n",
    "            print('Boring')\n",
    "        \n",
    "        "
   ]
  },
  {
   "cell_type": "code",
   "execution_count": 73,
   "id": "de83225a",
   "metadata": {},
   "outputs": [
    {
     "name": "stdout",
     "output_type": "stream",
     "text": [
      "Boring\n",
      "Boring\n",
      "Boring\n",
      "Interesting\n",
      "Interesting\n",
      "Interesting\n",
      "Boring\n",
      "Boring\n",
      "Boring\n",
      "Interesting\n",
      "Interesting\n",
      "Interesting\n",
      "Interesting\n",
      "Interesting\n",
      "Interesting\n"
     ]
    }
   ],
   "source": [
    "import requests as req\n",
    "\n",
    "with open(\"dataset_24476_3.txt\") as inp:\n",
    "    for number in inp:\n",
    "        api_url = f'http://numbersapi.com/{number.strip()}/math?json=true'\n",
    "        res = req.get(api_url)\n",
    "        if res.json()['found']:\n",
    "            print('Interesting')\n",
    "        else:\n",
    "            print('Boring')"
   ]
  },
  {
   "cell_type": "markdown",
   "id": "d070b010",
   "metadata": {},
   "source": [
    "```password: Qwerty1971```\n",
    "```\n",
    "Name\tmanych_artsy_app\n",
    "Client Id\tee7d0dcdba974ee1f1f3\n",
    "Client Secret\t4d2b9bed82713bb14c4a09fa79b45f77\n",
    "```\n",
    "#### ==============================================================\n",
    "\n",
    "В этой задаче вам необходимо воспользоваться API сайта `artsy.net`\n",
    "\n",
    "API проекта Artsy предоставляет информацию о некоторых деятелях искусства, их работах, выставках.\n",
    "\n",
    "В рамках данной задачи вам понадобятся сведения о деятелях искусства (назовем их, условно, художники).\n",
    "\n",
    "Вам даны идентификаторы художников в базе Artsy.\n",
    "Для каждого идентификатора получите информацию о имени художника и годе рождения.\n",
    "Выведите имена художников в порядке неубывания года рождения. В случае если у художников одинаковый год рождения, выведите их имена в лексикографическом порядке.\n",
    "\n",
    "**Работа с API Artsy**\n",
    "\n",
    "Полностью открытое и свободное API предоставляют совсем немногие проекты. В большинстве случаев, для получения доступа к API необходимо зарегистрироваться в проекте, создать свое приложение, и получить уникальный ключ (или токен), и в дальнейшем все запросы к API осуществляются при помощи этого ключа.\n",
    "\n",
    "Чтобы начать работу с API проекта Artsy, вам необходимо пройти на стартовую страницу документации к API https://developers.artsy.net/start и выполнить необходимые шаги, а именно зарегистрироваться, создать приложение, и получить пару идентификаторов Client Id и Client Secret. Не публикуйте эти идентификаторы.\n",
    "\n",
    "После этого необходимо получить токен доступа к API. На стартовой странице документации есть примеры того, как можно выполнить запрос и как выглядит ответ сервера. Мы приведем пример запроса на Python.\n",
    "```python\n",
    "import requests\n",
    "import json\n",
    "\n",
    "client_id = '...'\n",
    "client_secret = '...'\n",
    "\n",
    "# инициируем запрос на получение токена\n",
    "r = requests.post(\"https://api.artsy.net/api/tokens/xapp_token\",\n",
    "                  data={\n",
    "                      \"client_id\": client_id,\n",
    "                      \"client_secret\": client_secret\n",
    "                  })\n",
    "\n",
    "# разбираем ответ сервера\n",
    "j = json.loads(r.text)\n",
    "\n",
    "# достаем токен\n",
    "token = j[\"token\"]\n",
    " ```\n",
    "Теперь все готово для получения информации о художниках. На стартовой странице документации есть пример того, как осуществляется запрос и как выглядит ответ сервера. Пример запроса на Python.\n",
    "```python\n",
    "# создаем заголовок, содержащий наш токен\n",
    "headers = {\"X-Xapp-Token\" : token}\n",
    "# инициируем запрос с заголовком\n",
    "r = requests.get(\"https://api.artsy.net/api/artists/4d8b92b34eb68a1b2c0003f4\", headers=headers)\n",
    "\n",
    "# разбираем ответ сервера\n",
    "j = json.loads(r.text)\n",
    "```\n",
    "\n",
    "**Примечание:**\n",
    "В качестве имени художника используется параметр sortable_name в кодировке UTF-8.\n",
    "```\n",
    "Пример входных данных:\n",
    "4d8b92b34eb68a1b2c0003f4\n",
    "537def3c139b21353f0006a6\n",
    "4e2ed576477cc70001006f99\n",
    "\n",
    "Пример выходных данных:\n",
    "Abbott Mary\n",
    "Warhol Andy\n",
    "Abbas Hamra\n",
    "```\n",
    "**Примечание для пользователей Windows**\n",
    "При открытии файла для записи на Windows по умолчанию используется кодировка CP1251, в то время как для записи имен на сайте используется кодировка UTF-8, что может привести к ошибке при попытке записать в файл имя с необычными символами. Вы можете использовать print, или аргумент encoding функции open."
   ]
  },
  {
   "cell_type": "code",
   "execution_count": 16,
   "id": "940a2a86",
   "metadata": {},
   "outputs": [],
   "source": [
    "# import requests\n",
    "# import json\n",
    "\n",
    "# client_id = 'ee7d0dcdba974ee1f1f3'\n",
    "# client_secret = '4d2b9bed82713bb14c4a09fa79b45f77'\n",
    "\n",
    "# # инициируем запрос на получение токена\n",
    "# r = requests.post(\"https://api.artsy.net/api/tokens/xapp_token\",\n",
    "#                   data={\n",
    "#                       \"client_id\": client_id,\n",
    "#                       \"client_secret\": client_secret\n",
    "#                   })\n",
    "\n",
    "# # разбираем ответ сервера\n",
    "# j = json.loads(r.text)\n",
    "\n",
    "# # достаем токен\n",
    "# token = j[\"token\"]\n",
    "\n",
    "# with open(\"Artsy_token.txt\",'w') as token_file:\n",
    "#     token_file.write(token)\n",
    "\n",
    "with open(\"Artsy_token.txt\",'r') as token_file:\n",
    "    token = token_file.read()"
   ]
  },
  {
   "cell_type": "code",
   "execution_count": 81,
   "id": "0c1408c9",
   "metadata": {},
   "outputs": [],
   "source": [
    "# artist_info "
   ]
  },
  {
   "cell_type": "code",
   "execution_count": 82,
   "id": "9ccd4856",
   "metadata": {},
   "outputs": [
    {
     "name": "stdout",
     "output_type": "stream",
     "text": [
      "Abraham de Bruyn\n",
      "Abraham de Verwer\n",
      "Abbott Lemuel Francis\n",
      "Aalto Alvar\n",
      "Aarons Slim\n",
      "Abakanowicz Magdalena\n",
      "Abad Francesc\n",
      "Abegg Jimmy\n",
      "Abrahams Peter\n",
      "Adach Adam\n",
      "Aalk Patrick\n",
      "Achour Boris\n",
      "Abboud Jumana Emil\n",
      "Abidin Adel\n",
      "Abbas Hamra\n"
     ]
    }
   ],
   "source": [
    "import time\n",
    "\n",
    "all_artists = []\n",
    "headers = {\"X-Xapp-Token\" : token}\n",
    "\n",
    "with open('api_input_2.txt', 'r', encoding=\"utf-8\") as inp:\n",
    "    for artist_id in inp:\n",
    "        api_url = f\"https://api.artsy.net/api/artists/{artist_id.strip()}\"\n",
    "        response = requests.get(api_url, headers=headers)\n",
    "        artist_info = response.json()\n",
    "        all_artists.append((int(artist_info['birthday']),artist_info['sortable_name']))\n",
    "        time.sleep(0.5)\n",
    "        \n",
    "\n",
    "for _,artist_name in sorted(all_artists):\n",
    "    print(artist_name)"
   ]
  },
  {
   "cell_type": "markdown",
   "id": "c43ca50f",
   "metadata": {},
   "source": [
    "### 3.6 XML, библиотека ElementTree, библиотека lxml\n",
    "### XML"
   ]
  },
  {
   "cell_type": "markdown",
   "id": "a1a11cc4",
   "metadata": {},
   "source": [
    "```\n",
    "<studentsList>\n",
    "    <student id=\"1\">\n",
    "        <firstName>Greg</firstName>\n",
    "        <lastName>Dean</lastName>\n",
    "        <certificate>True</certificate>\n",
    "        <scores>\n",
    "            <module1>70.2</module1>\n",
    "            <module2>80</module2>\n",
    "            <module3>90</module3>\n",
    "        </scores> \n",
    "    </student>\n",
    "    <student id=\"2\">\n",
    "        <firstName>Wirt</firstName>\n",
    "        <lastName>Wood</lastName>\n",
    "        <certificate>True</certificate>\n",
    "        <scores>\n",
    "            <module1>80</module1>\n",
    "            <module2>80</module2>\n",
    "            <module3>80</module3>\n",
    "        </scores> \n",
    "    </student>    \n",
    "</studentsList>\n",
    "```"
   ]
  },
  {
   "cell_type": "markdown",
   "id": "41070606",
   "metadata": {},
   "source": [
    "### библиотека ElementTree"
   ]
  },
  {
   "cell_type": "code",
   "execution_count": 182,
   "id": "aaa5fb16",
   "metadata": {},
   "outputs": [],
   "source": [
    "from xml.etree import ElementTree"
   ]
  },
  {
   "cell_type": "code",
   "execution_count": 183,
   "id": "52b2d657",
   "metadata": {},
   "outputs": [],
   "source": [
    "tree = ElementTree.parse(\"studentsList.xml\")\n",
    "root =  tree.getroot()\n",
    "# use tree = ElementTree.fromstring(string_xml_data) to parse from str"
   ]
  },
  {
   "cell_type": "code",
   "execution_count": 184,
   "id": "be51b03a",
   "metadata": {},
   "outputs": [
    {
     "name": "stdout",
     "output_type": "stream",
     "text": [
      "<Element 'studentsList' at 0x0000017905401F40>\n",
      "studentsList {}\n"
     ]
    }
   ],
   "source": [
    "print(root)\n",
    "print(root.tag, root.attrib )"
   ]
  },
  {
   "cell_type": "code",
   "execution_count": 185,
   "id": "20ddbd0e",
   "metadata": {},
   "outputs": [
    {
     "name": "stdout",
     "output_type": "stream",
     "text": [
      "student {'id': '1'}\n",
      "student {'id': '2'}\n"
     ]
    }
   ],
   "source": [
    "for child in root:\n",
    "    print(child.tag, child.attrib)"
   ]
  },
  {
   "cell_type": "code",
   "execution_count": 186,
   "id": "db23026d",
   "metadata": {},
   "outputs": [
    {
     "name": "stdout",
     "output_type": "stream",
     "text": [
      "firstName Greg\n"
     ]
    }
   ],
   "source": [
    "print(root[0][0].tag, root[0][0].text)"
   ]
  },
  {
   "cell_type": "code",
   "execution_count": 187,
   "id": "2956558b",
   "metadata": {},
   "outputs": [
    {
     "name": "stdout",
     "output_type": "stream",
     "text": [
      "scores\n",
      "module1 70.2\n",
      "module2 80\n",
      "module3 90\n",
      "scores_sum 240.2\n",
      "scores\n",
      "module1 80\n",
      "module2 80\n",
      "module3 80\n",
      "scores_sum 240.0\n"
     ]
    }
   ],
   "source": [
    "for element in root.iter('scores'): # .findall()  - поиск среди детей\n",
    "    scores_sum = 0\n",
    "    print(element.tag)\n",
    "    for child in element:\n",
    "        scores_sum += float(child.text)\n",
    "        print(child.tag,child.text)\n",
    "    print(\"scores_sum\",scores_sum)"
   ]
  },
  {
   "cell_type": "code",
   "execution_count": 188,
   "id": "c3d764c8",
   "metadata": {},
   "outputs": [],
   "source": [
    "tree.write('studentsList_copy.xml')"
   ]
  },
  {
   "cell_type": "code",
   "execution_count": 189,
   "id": "f14d569a",
   "metadata": {},
   "outputs": [
    {
     "name": "stdout",
     "output_type": "stream",
     "text": [
      "<Element 'module1' at 0x00000179054010E0> module1 70.2\n"
     ]
    }
   ],
   "source": [
    "greg = root[0]\n",
    "module1 = next(greg.iter(\"module1\"))\n",
    "print(module1,module1.tag,module1.text)\n",
    "# изменим \"module1\""
   ]
  },
  {
   "cell_type": "code",
   "execution_count": 190,
   "id": "04ece9dc",
   "metadata": {},
   "outputs": [],
   "source": [
    "module1.text = str(float(module1.text)+29)"
   ]
  },
  {
   "cell_type": "code",
   "execution_count": 191,
   "id": "a02efa0c",
   "metadata": {},
   "outputs": [
    {
     "name": "stdout",
     "output_type": "stream",
     "text": [
      "module1 99.2\n",
      "module1 99.2\n"
     ]
    }
   ],
   "source": [
    "print(root[0][3][0].tag,root[0][3][0].text)\n",
    "print(greg[3][0].tag,greg[3][0].text)"
   ]
  },
  {
   "cell_type": "code",
   "execution_count": 192,
   "id": "ba90ed03",
   "metadata": {},
   "outputs": [],
   "source": [
    "# запишем новый вариант\n",
    "tree.write('studentsList_modified.xml')"
   ]
  },
  {
   "cell_type": "code",
   "execution_count": 193,
   "id": "e02b59b7",
   "metadata": {},
   "outputs": [],
   "source": [
    "certificate = greg[2]\n",
    "certificate.set(\"type\",\"with distinction\")\n",
    "# снова запишем новый вариант\n",
    "tree.write('studentsList_modified.xml')"
   ]
  },
  {
   "cell_type": "code",
   "execution_count": 205,
   "id": "021877e2",
   "metadata": {},
   "outputs": [],
   "source": [
    "# создадим новый элемент\n",
    "description = ElementTree.Element(\"description\")\n",
    "# description = ElementTree.SubElementElement(greg,\"description\")\n",
    "description.text = \"Showed excellent skills during the course\"\n",
    "greg.append(description)"
   ]
  },
  {
   "cell_type": "code",
   "execution_count": 206,
   "id": "22e6538c",
   "metadata": {},
   "outputs": [
    {
     "name": "stdout",
     "output_type": "stream",
     "text": [
      "<student id=\"1\">\n",
      "        <firstName>Greg</firstName>\n",
      "        <lastName>Dean</lastName>\n",
      "        <certificate type=\"with distinction\">True</certificate>\n",
      "        <scores>\n",
      "            <module1>99.2</module1>\n",
      "            <module2>80</module2>\n",
      "            <module3>90</module3>\n",
      "        </scores> \n",
      "    <description>Showed excellent skills during the course</description></student>\n",
      "    \n"
     ]
    }
   ],
   "source": [
    "ElementTree.dump(greg)"
   ]
  },
  {
   "cell_type": "code",
   "execution_count": 207,
   "id": "df4c16d4",
   "metadata": {},
   "outputs": [
    {
     "data": {
      "text/plain": [
       "True"
      ]
     },
     "execution_count": 207,
     "metadata": {},
     "output_type": "execute_result"
    }
   ],
   "source": [
    "# удалим \n",
    "description_ = greg.find(\"description\")\n",
    "description_ is  description"
   ]
  },
  {
   "cell_type": "code",
   "execution_count": 208,
   "id": "de36c095",
   "metadata": {},
   "outputs": [
    {
     "name": "stdout",
     "output_type": "stream",
     "text": [
      "<student id=\"1\">\n",
      "        <firstName>Greg</firstName>\n",
      "        <lastName>Dean</lastName>\n",
      "        <certificate type=\"with distinction\">True</certificate>\n",
      "        <scores>\n",
      "            <module1>99.2</module1>\n",
      "            <module2>80</module2>\n",
      "            <module3>90</module3>\n",
      "        </scores> \n",
      "    </student>\n",
      "    \n"
     ]
    }
   ],
   "source": [
    "greg.remove(description_)\n",
    "ElementTree.dump(greg)\n",
    "# снова запишем новый вариант\n",
    "tree.write('studentsList_modified.xml')"
   ]
  },
  {
   "cell_type": "code",
   "execution_count": 212,
   "id": "23c5a328",
   "metadata": {},
   "outputs": [
    {
     "name": "stdout",
     "output_type": "stream",
     "text": [
      "<studentsList><student><firstName>Greg</firstName><secondName>Dean</secondName><scores><module1>95</module1><module2 /><module3 /></scores><description>Showed excellent skills during the course</description></student></studentsList>\n"
     ]
    }
   ],
   "source": [
    "# создадим xml с нуля\n",
    "root = ElementTree.Element(\"studentsList\")\n",
    "# ElementTree.indent(tree, space=\"\\t\", level=0) \n",
    "\n",
    "student = ElementTree.SubElement(root,\"student\")\n",
    "\n",
    "first_name = ElementTree.SubElement(student,\"firstName\")\n",
    "first_name.text = \"Greg\"\n",
    "\n",
    "second_name = ElementTree.SubElement(student,\"secondName\")\n",
    "second_name.text = \"Dean\"\n",
    "\n",
    "scores = ElementTree.SubElement(student,\"scores\")\n",
    "\n",
    "module1 = ElementTree.SubElement(scores,\"module1\")\n",
    "module1.text = \"100\"\n",
    "module2 = ElementTree.SubElement(scores,\"module2\")\n",
    "module1.text = \"90\"\n",
    "module3 = ElementTree.SubElement(scores,\"module3\")\n",
    "module1.text = \"95\"\n",
    "\n",
    "description = ElementTree.SubElement(student,\"description\")\n",
    "description.text = \"Showed excellent skills during the course\"\n",
    "\n",
    "tree = ElementTree.ElementTree(root)\n",
    "ElementTree.dump(tree)"
   ]
  },
  {
   "cell_type": "markdown",
   "id": "9b212a30",
   "metadata": {},
   "source": [
    "### библиотека LXML"
   ]
  },
  {
   "cell_type": "code",
   "execution_count": 219,
   "id": "4374f726",
   "metadata": {},
   "outputs": [],
   "source": [
    "import requests as req\n",
    "from lxml import etree"
   ]
  },
  {
   "cell_type": "code",
   "execution_count": 220,
   "id": "8edc5d6d",
   "metadata": {},
   "outputs": [
    {
     "name": "stdout",
     "output_type": "stream",
     "text": [
      "200\n",
      "text/html\n"
     ]
    }
   ],
   "source": [
    "response = req.get(\"https://docs.python.org/3/\")\n",
    "print(response.status_code)\n",
    "print(response.headers['content-type'])"
   ]
  },
  {
   "cell_type": "code",
   "execution_count": 223,
   "id": "b6190407",
   "metadata": {},
   "outputs": [],
   "source": [
    "parser = etree.HTMLParser()\n",
    "root = etree.fromstring(response.text,parser)"
   ]
  },
  {
   "cell_type": "code",
   "execution_count": 225,
   "id": "3177f1fb",
   "metadata": {},
   "outputs": [
    {
     "name": "stdout",
     "output_type": "stream",
     "text": [
      "<html>\n",
      "  <head>\n",
      "    <meta charset=\"utf-8\"/>\n",
      "    <meta name=\"viewport\" content=\"width=device-width, initial-scale=1.0\"/><title>3.11.5 Documentation</title><meta name=\"viewport\" content=\"width=device-width, initial-scale=1.0\"/>\n",
      "    \n",
      "    <link rel=\"stylesheet\" type=\"text/css\" href=\"_static/pygments.css\"/>\n",
      "    <link rel=\"stylesheet\" type=\"text/css\" href=\"_static/pydoctheme.css?digest=b37c26da2f7529d09fe70b41c4b2133fe4931a90\"/>\n",
      "    <link id=\"pygments_dark_css\" media=\"(prefers-color-scheme: dark)\" rel=\"stylesheet\" type=\"text/css\" href=\"_static/pygments_dark.css\"/>\n",
      "    \n",
      "    <script data-url_root=\"./\" id=\"documentation_options\" src=\"_static/documentation_options.js\"/>\n",
      "    <script src=\"_static/jquery.js\"/>\n",
      "    <script src=\"_static/underscore.js\"/>\n",
      "    <script src=\"_static/doctools.js\"/>\n",
      "    \n",
      "    <script src=\"_static/sidebar.js\"/>\n",
      "    \n",
      "    <link rel=\"search\" type=\"application/opensearchdescription+xml\" title=\"Search within Python 3.11.5 documentation\" href=\"_static/opensearch.xml\"/>\n",
      "    <link rel=\"author\" title=\"About these documents\" href=\"about.html\"/>\n",
      "    <link rel=\"index\" title=\"Index\" href=\"genindex.html\"/>\n",
      "    <link rel=\"search\" title=\"Search\" href=\"search.html\"/>\n",
      "    <link rel=\"copyright\" title=\"Copyright\" href=\"copyright.html\"/>\n",
      "    <link rel=\"canonical\" href=\"https://docs.python.org/3/index.html\"/>\n",
      "    \n",
      "      \n",
      "    \n",
      "\n",
      "    \n",
      "    <style>\n",
      "      @media only screen {\n",
      "        table.full-width-table {\n",
      "            width: 100%;\n",
      "        }\n",
      "      }\n",
      "    </style>\n",
      "<link rel=\"stylesheet\" href=\"_static/pydoctheme_dark.css\" media=\"(prefers-color-scheme: dark)\" id=\"pydoctheme_dark_css\"/>\n",
      "    <link rel=\"shortcut icon\" type=\"image/png\" href=\"_static/py.svg\"/>\n",
      "            <script type=\"text/javascript\" src=\"_static/copybutton.js\"/>\n",
      "            <script type=\"text/javascript\" src=\"_static/menu.js\"/>\n",
      "            <script type=\"text/javascript\" src=\"_static/themetoggle.js\"/> \n",
      "\n",
      "  </head>\n",
      "<body>\n",
      "<div class=\"mobile-nav\">\n",
      "    <input type=\"checkbox\" id=\"menuToggler\" class=\"toggler__input\" aria-controls=\"navigation\" aria-pressed=\"false\" aria-expanded=\"false\" role=\"button\" aria-label=\"Menu\"/>\n",
      "    <nav class=\"nav-content\" role=\"navigation\">\n",
      "        <label for=\"menuToggler\" class=\"toggler__label\">\n",
      "            <span/>\n",
      "        </label>\n",
      "        <span class=\"nav-items-wrapper\">\n",
      "            <a href=\"https://www.python.org/\" class=\"nav-logo\">\n",
      "                <img src=\"_static/py.svg\" alt=\"Logo\"/>\n",
      "            </a>\n",
      "            <span class=\"version_switcher_placeholder\"/>\n",
      "            <form role=\"search\" class=\"search\" action=\"search.html\" method=\"get\">\n",
      "                <svg xmlns=\"http://www.w3.org/2000/svg\" width=\"20\" height=\"20\" viewbox=\"0 0 24 24\" class=\"search-icon\">\n",
      "                    <path fill-rule=\"nonzero\" fill=\"currentColor\" d=\"M15.5 14h-.79l-.28-.27a6.5 6.5 0 001.48-5.34c-.47-2.78-2.79-5-5.59-5.34a6.505 6.505 0 00-7.27 7.27c.34 2.8 2.56 5.12 5.34 5.59a6.5 6.5 0 005.34-1.48l.27.28v.79l4.25 4.25c.41.41 1.08.41 1.49 0 .41-.41.41-1.08 0-1.49L15.5 14zm-6 0C7.01 14 5 11.99 5 9.5S7.01 5 9.5 5 14 7.01 14 9.5 11.99 14 9.5 14z\"/>\n",
      "                </svg>\n",
      "                <input placeholder=\"Quick search\" aria-label=\"Quick search\" type=\"search\" name=\"q\"/>\n",
      "                <input type=\"submit\" value=\"Go\"/>\n",
      "            </form>\n",
      "        </span>\n",
      "    </nav>\n",
      "    <div class=\"menu-wrapper\">\n",
      "        <nav class=\"menu\" role=\"navigation\" aria-label=\"main navigation\">\n",
      "            <div class=\"language_switcher_placeholder\"/>\n",
      "            \n",
      "<label class=\"theme-selector-label\">\n",
      "    Theme\n",
      "    <select class=\"theme-selector\" oninput=\"activateTheme(this.value)\">\n",
      "        <option value=\"auto\" selected=\"selected\">Auto</option>\n",
      "        <option value=\"light\">Light</option>\n",
      "        <option value=\"dark\">Dark</option>\n",
      "    </select>\n",
      "</label>\n",
      "\n",
      "\n",
      "<h3>Download</h3>\n",
      "<p><a href=\"download.html\">Download these documents</a></p>\n",
      "\n",
      "\n",
      "<h3>Docs by version</h3>\n",
      "<ul>\n",
      "  \n",
      "  <li><a href=\"https://docs.python.org/3.13/\">Python 3.13 (in development)</a></li>\n",
      "  \n",
      "  <li><a href=\"https://docs.python.org/3.12/\">Python 3.12 (pre-release)</a></li>\n",
      "  \n",
      "  <li><a href=\"https://docs.python.org/3.11/\">Python 3.11 (stable)</a></li>\n",
      "  \n",
      "  <li><a href=\"https://docs.python.org/3.10/\">Python 3.10 (security-fixes)</a></li>\n",
      "  \n",
      "  <li><a href=\"https://docs.python.org/3.9/\">Python 3.9 (security-fixes)</a></li>\n",
      "  \n",
      "  <li><a href=\"https://docs.python.org/3.8/\">Python 3.8 (security-fixes)</a></li>\n",
      "  \n",
      "  <li><a href=\"https://docs.python.org/3.7/\">Python 3.7 (EOL)</a></li>\n",
      "  \n",
      "  <li><a href=\"https://docs.python.org/3.6/\">Python 3.6 (EOL)</a></li>\n",
      "  \n",
      "  <li><a href=\"https://docs.python.org/3.5/\">Python 3.5 (EOL)</a></li>\n",
      "  \n",
      "  <li><a href=\"https://docs.python.org/2.7/\">Python 2.7 (EOL)</a></li>\n",
      "  \n",
      "  <li><a href=\"https://www.python.org/doc/versions/\">All versions</a></li>\n",
      "</ul>\n",
      "\n",
      "\n",
      "<h3>Other resources</h3>\n",
      "<ul>\n",
      "  \n",
      "  <li><a href=\"https://www.python.org/dev/peps/\">PEP Index</a></li>\n",
      "  <li><a href=\"https://wiki.python.org/moin/BeginnersGuide\">Beginner's Guide</a></li>\n",
      "  <li><a href=\"https://wiki.python.org/moin/PythonBooks\">Book List</a></li>\n",
      "  <li><a href=\"https://www.python.org/doc/av/\">Audio/Visual Talks</a></li>\n",
      "  <li><a href=\"https://devguide.python.org/\">Python Developerâs Guide</a></li>\n",
      "</ul>\n",
      "        </nav>\n",
      "    </div>\n",
      "</div>\n",
      "\n",
      "  \n",
      "    <div class=\"related\" role=\"navigation\" aria-label=\"related navigation\">\n",
      "      <h3>Navigation</h3>\n",
      "      <ul>\n",
      "        <li class=\"right\" style=\"margin-right: 10px\">\n",
      "          <a href=\"genindex.html\" title=\"General Index\" accesskey=\"I\">index</a></li>\n",
      "        <li class=\"right\">\n",
      "          <a href=\"py-modindex.html\" title=\"Python Module Index\">modules</a> |</li>\n",
      "\n",
      "          <li><img src=\"_static/py.svg\" alt=\"python logo\" style=\"vertical-align: middle; margin-top: -1px\"/></li>\n",
      "          <li><a href=\"https://www.python.org/\">Python</a> »</li>\n",
      "          <li class=\"switchers\">\n",
      "            <div class=\"language_switcher_placeholder\"/>\n",
      "            <div class=\"version_switcher_placeholder\"/>\n",
      "          </li>\n",
      "          <li>\n",
      "              \n",
      "          </li>\n",
      "    <li id=\"cpython-language-and-version\">\n",
      "      <a href=\"#\">3.11.5 Documentation</a> »\n",
      "    </li>\n",
      "\n",
      "        <li class=\"nav-item nav-item-this\"><a href=\"\"/></li>\n",
      "                <li class=\"right\">\n",
      "                    \n",
      "\n",
      "    <div class=\"inline-search\" role=\"search\">\n",
      "        <form class=\"inline-search\" action=\"search.html\" method=\"get\">\n",
      "          <input placeholder=\"Quick search\" aria-label=\"Quick search\" type=\"search\" name=\"q\"/>\n",
      "          <input type=\"submit\" value=\"Go\"/>\n",
      "        </form>\n",
      "    </div>\n",
      "                     |\n",
      "                </li>\n",
      "            <li class=\"right\">\n",
      "<label class=\"theme-selector-label\">\n",
      "    Theme\n",
      "    <select class=\"theme-selector\" oninput=\"activateTheme(this.value)\">\n",
      "        <option value=\"auto\" selected=\"selected\">Auto</option>\n",
      "        <option value=\"light\">Light</option>\n",
      "        <option value=\"dark\">Dark</option>\n",
      "    </select>\n",
      "</label> |</li>\n",
      "            \n",
      "      </ul>\n",
      "    </div>    \n",
      "\n",
      "    <div class=\"document\">\n",
      "      <div class=\"documentwrapper\">\n",
      "        <div class=\"bodywrapper\">\n",
      "          <div class=\"body\" role=\"main\">\n",
      "            \n",
      "  <h1>Python 3.11.5 documentation</h1>\n",
      "  <p>\n",
      "  Welcome! This is the official documentation for Python 3.11.5.\n",
      "  </p>\n",
      "  <p><strong>Parts of the documentation:</strong></p>\n",
      "  <table class=\"contentstable\" align=\"center\"><tr>\n",
      "    <td width=\"50%\">\n",
      "      <p class=\"biglink\"><a class=\"biglink\" href=\"whatsnew/3.11.html\">What's new in Python 3.11?</a><br/>\n",
      "        <span class=\"linkdescr\"> or <a href=\"whatsnew/index.html\">all \"What's new\" documents</a> since 2.0</span></p>\n",
      "      <p class=\"biglink\"><a class=\"biglink\" href=\"tutorial/index.html\">Tutorial</a><br/>\n",
      "         <span class=\"linkdescr\">start here</span></p>\n",
      "      <p class=\"biglink\"><a class=\"biglink\" href=\"library/index.html\">Library Reference</a><br/>\n",
      "         <span class=\"linkdescr\">keep this under your pillow</span></p>\n",
      "      <p class=\"biglink\"><a class=\"biglink\" href=\"reference/index.html\">Language Reference</a><br/>\n",
      "         <span class=\"linkdescr\">describes syntax and language elements</span></p>\n",
      "      <p class=\"biglink\"><a class=\"biglink\" href=\"using/index.html\">Python Setup and Usage</a><br/>\n",
      "         <span class=\"linkdescr\">how to use Python on different platforms</span></p>\n",
      "      <p class=\"biglink\"><a class=\"biglink\" href=\"howto/index.html\">Python HOWTOs</a><br/>\n",
      "         <span class=\"linkdescr\">in-depth documents on specific topics</span></p>\n",
      "    </td><td width=\"50%\">\n",
      "      <p class=\"biglink\"><a class=\"biglink\" href=\"installing/index.html\">Installing Python Modules</a><br/>\n",
      "         <span class=\"linkdescr\">installing from the Python Package Index &amp; other sources</span></p>\n",
      "      <p class=\"biglink\"><a class=\"biglink\" href=\"distributing/index.html\">Distributing Python Modules</a><br/>\n",
      "         <span class=\"linkdescr\">publishing modules for installation by others</span></p>\n",
      "      <p class=\"biglink\"><a class=\"biglink\" href=\"extending/index.html\">Extending and Embedding</a><br/>\n",
      "         <span class=\"linkdescr\">tutorial for C/C++ programmers</span></p>\n",
      "      <p class=\"biglink\"><a class=\"biglink\" href=\"c-api/index.html\">Python/C API</a><br/>\n",
      "         <span class=\"linkdescr\">reference for C/C++ programmers</span></p>\n",
      "      <p class=\"biglink\"><a class=\"biglink\" href=\"faq/index.html\">FAQs</a><br/>\n",
      "         <span class=\"linkdescr\">frequently asked questions (with answers!)</span></p>\n",
      "    </td></tr>\n",
      "  </table>\n",
      "\n",
      "  <p><strong>Indices and tables:</strong></p>\n",
      "  <table class=\"contentstable\" align=\"center\"><tr>\n",
      "    <td width=\"50%\">\n",
      "      <p class=\"biglink\"><a class=\"biglink\" href=\"py-modindex.html\">Global Module Index</a><br/>\n",
      "         <span class=\"linkdescr\">quick access to all modules</span></p>\n",
      "      <p class=\"biglink\"><a class=\"biglink\" href=\"genindex.html\">General Index</a><br/>\n",
      "         <span class=\"linkdescr\">all functions, classes, terms</span></p>\n",
      "      <p class=\"biglink\"><a class=\"biglink\" href=\"glossary.html\">Glossary</a><br/>\n",
      "         <span class=\"linkdescr\">the most important terms explained</span></p>\n",
      "    </td><td width=\"50%\">\n",
      "      <p class=\"biglink\"><a class=\"biglink\" href=\"search.html\">Search page</a><br/>\n",
      "         <span class=\"linkdescr\">search this documentation</span></p>\n",
      "      <p class=\"biglink\"><a class=\"biglink\" href=\"contents.html\">Complete Table of Contents</a><br/>\n",
      "         <span class=\"linkdescr\">lists all sections and subsections</span></p>\n",
      "    </td></tr>\n",
      "  </table>\n",
      "\n",
      "  <p><strong>Meta information:</strong></p>\n",
      "  <table class=\"contentstable\" align=\"center\"><tr>\n",
      "    <td width=\"50%\">\n",
      "      <p class=\"biglink\"><a class=\"biglink\" href=\"bugs.html\">Reporting bugs</a></p>\n",
      "      <p class=\"biglink\"><a class=\"biglink\" href=\"https://devguide.python.org/docquality/#helping-with-documentation\">Contributing to Docs</a></p>\n",
      "      <p class=\"biglink\"><a class=\"biglink\" href=\"about.html\">About the documentation</a></p>\n",
      "    </td><td width=\"50%\">\n",
      "      <p class=\"biglink\"><a class=\"biglink\" href=\"license.html\">History and License of Python</a></p>\n",
      "      <p class=\"biglink\"><a class=\"biglink\" href=\"copyright.html\">Copyright</a></p>\n",
      "      <p class=\"biglink\"><a class=\"biglink\" href=\"download.html\">Download the documentation</a></p>\n",
      "    </td></tr>\n",
      "  </table>\n",
      "\n",
      "            <div class=\"clearer\"/>\n",
      "          </div>\n",
      "        </div>\n",
      "      </div>\n",
      "      <div class=\"sphinxsidebar\" role=\"navigation\" aria-label=\"main navigation\">\n",
      "        <div class=\"sphinxsidebarwrapper\">\n",
      "\n",
      "\n",
      "<h3>Download</h3>\n",
      "<p><a href=\"download.html\">Download these documents</a></p>\n",
      "\n",
      "\n",
      "<h3>Docs by version</h3>\n",
      "<ul>\n",
      "  \n",
      "  <li><a href=\"https://docs.python.org/3.13/\">Python 3.13 (in development)</a></li>\n",
      "  \n",
      "  <li><a href=\"https://docs.python.org/3.12/\">Python 3.12 (pre-release)</a></li>\n",
      "  \n",
      "  <li><a href=\"https://docs.python.org/3.11/\">Python 3.11 (stable)</a></li>\n",
      "  \n",
      "  <li><a href=\"https://docs.python.org/3.10/\">Python 3.10 (security-fixes)</a></li>\n",
      "  \n",
      "  <li><a href=\"https://docs.python.org/3.9/\">Python 3.9 (security-fixes)</a></li>\n",
      "  \n",
      "  <li><a href=\"https://docs.python.org/3.8/\">Python 3.8 (security-fixes)</a></li>\n",
      "  \n",
      "  <li><a href=\"https://docs.python.org/3.7/\">Python 3.7 (EOL)</a></li>\n",
      "  \n",
      "  <li><a href=\"https://docs.python.org/3.6/\">Python 3.6 (EOL)</a></li>\n",
      "  \n",
      "  <li><a href=\"https://docs.python.org/3.5/\">Python 3.5 (EOL)</a></li>\n",
      "  \n",
      "  <li><a href=\"https://docs.python.org/2.7/\">Python 2.7 (EOL)</a></li>\n",
      "  \n",
      "  <li><a href=\"https://www.python.org/doc/versions/\">All versions</a></li>\n",
      "</ul>\n",
      "\n",
      "\n",
      "<h3>Other resources</h3>\n",
      "<ul>\n",
      "  \n",
      "  <li><a href=\"https://www.python.org/dev/peps/\">PEP Index</a></li>\n",
      "  <li><a href=\"https://wiki.python.org/moin/BeginnersGuide\">Beginner's Guide</a></li>\n",
      "  <li><a href=\"https://wiki.python.org/moin/PythonBooks\">Book List</a></li>\n",
      "  <li><a href=\"https://www.python.org/doc/av/\">Audio/Visual Talks</a></li>\n",
      "  <li><a href=\"https://devguide.python.org/\">Python Developerâs Guide</a></li>\n",
      "</ul>\n",
      "        </div>\n",
      "      </div>\n",
      "      <div class=\"clearer\"/>\n",
      "    </div>  \n",
      "    <div class=\"related\" role=\"navigation\" aria-label=\"related navigation\">\n",
      "      <h3>Navigation</h3>\n",
      "      <ul>\n",
      "        <li class=\"right\" style=\"margin-right: 10px\">\n",
      "          <a href=\"genindex.html\" title=\"General Index\">index</a></li>\n",
      "        <li class=\"right\">\n",
      "          <a href=\"py-modindex.html\" title=\"Python Module Index\">modules</a> |</li>\n",
      "\n",
      "          <li><img src=\"_static/py.svg\" alt=\"python logo\" style=\"vertical-align: middle; margin-top: -1px\"/></li>\n",
      "          <li><a href=\"https://www.python.org/\">Python</a> »</li>\n",
      "          <li class=\"switchers\">\n",
      "            <div class=\"language_switcher_placeholder\"/>\n",
      "            <div class=\"version_switcher_placeholder\"/>\n",
      "          </li>\n",
      "          <li>\n",
      "              \n",
      "          </li>\n",
      "    <li id=\"cpython-language-and-version\">\n",
      "      <a href=\"#\">3.11.5 Documentation</a> »\n",
      "    </li>\n",
      "\n",
      "        <li class=\"nav-item nav-item-this\"><a href=\"\"/></li>\n",
      "                <li class=\"right\">\n",
      "                    \n",
      "\n",
      "    <div class=\"inline-search\" role=\"search\">\n",
      "        <form class=\"inline-search\" action=\"search.html\" method=\"get\">\n",
      "          <input placeholder=\"Quick search\" aria-label=\"Quick search\" type=\"search\" name=\"q\"/>\n",
      "          <input type=\"submit\" value=\"Go\"/>\n",
      "        </form>\n",
      "    </div>\n",
      "                     |\n",
      "                </li>\n",
      "            <li class=\"right\">\n",
      "<label class=\"theme-selector-label\">\n",
      "    Theme\n",
      "    <select class=\"theme-selector\" oninput=\"activateTheme(this.value)\">\n",
      "        <option value=\"auto\" selected=\"selected\">Auto</option>\n",
      "        <option value=\"light\">Light</option>\n",
      "        <option value=\"dark\">Dark</option>\n",
      "    </select>\n",
      "</label> |</li>\n",
      "            \n",
      "      </ul>\n",
      "    </div>  \n",
      "    <div class=\"footer\">\n",
      "    © <a href=\"copyright.html\">Copyright</a> 2001-2023, Python Software Foundation.\n",
      "    <br/>\n",
      "    This page is licensed under the Python Software Foundation License Version 2.\n",
      "    <br/>\n",
      "    Examples, recipes, and other code in the documentation are additionally licensed under the Zero Clause BSD License.\n",
      "    <br/>\n",
      "    See <a href=\"/license.html\">History and License</a> for more information.<br/>\n",
      "    <br/>\n",
      "\n",
      "    The Python Software Foundation is a non-profit corporation.\n",
      "<a href=\"https://www.python.org/psf/donations/\">Please donate.</a>\n",
      "<br/>\n",
      "    <br/>\n",
      "\n",
      "    Last updated on Oct 01, 2023.\n",
      "    <a href=\"/bugs.html\">Found a bug</a>?\n",
      "    <br/>\n",
      "\n",
      "    Created using <a href=\"https://www.sphinx-doc.org/\">Sphinx</a> 4.5.0.\n",
      "    </div>\n",
      "\n",
      "    <script type=\"text/javascript\" src=\"_static/switchers.js\"/>\n",
      "  </body>\n",
      "</html>\n"
     ]
    }
   ],
   "source": [
    "etree.dump(root)"
   ]
  },
  {
   "cell_type": "code",
   "execution_count": 226,
   "id": "af7785af",
   "metadata": {},
   "outputs": [
    {
     "name": "stdout",
     "output_type": "stream",
     "text": [
      "{'href': 'https://www.python.org/', 'class': 'nav-logo'}\n",
      "{'href': 'download.html'}\n",
      "{'href': 'https://docs.python.org/3.13/'}\n",
      "{'href': 'https://docs.python.org/3.12/'}\n",
      "{'href': 'https://docs.python.org/3.11/'}\n",
      "{'href': 'https://docs.python.org/3.10/'}\n",
      "{'href': 'https://docs.python.org/3.9/'}\n",
      "{'href': 'https://docs.python.org/3.8/'}\n",
      "{'href': 'https://docs.python.org/3.7/'}\n",
      "{'href': 'https://docs.python.org/3.6/'}\n",
      "{'href': 'https://docs.python.org/3.5/'}\n",
      "{'href': 'https://docs.python.org/2.7/'}\n",
      "{'href': 'https://www.python.org/doc/versions/'}\n",
      "{'href': 'https://www.python.org/dev/peps/'}\n",
      "{'href': 'https://wiki.python.org/moin/BeginnersGuide'}\n",
      "{'href': 'https://wiki.python.org/moin/PythonBooks'}\n",
      "{'href': 'https://www.python.org/doc/av/'}\n",
      "{'href': 'https://devguide.python.org/'}\n",
      "{'href': 'genindex.html', 'title': 'General Index', 'accesskey': 'I'}\n",
      "{'href': 'py-modindex.html', 'title': 'Python Module Index'}\n",
      "{'href': 'https://www.python.org/'}\n",
      "{'href': '#'}\n",
      "{'href': ''}\n",
      "{'class': 'biglink', 'href': 'whatsnew/3.11.html'}\n",
      "{'href': 'whatsnew/index.html'}\n",
      "{'class': 'biglink', 'href': 'tutorial/index.html'}\n",
      "{'class': 'biglink', 'href': 'library/index.html'}\n",
      "{'class': 'biglink', 'href': 'reference/index.html'}\n",
      "{'class': 'biglink', 'href': 'using/index.html'}\n",
      "{'class': 'biglink', 'href': 'howto/index.html'}\n",
      "{'class': 'biglink', 'href': 'installing/index.html'}\n",
      "{'class': 'biglink', 'href': 'distributing/index.html'}\n",
      "{'class': 'biglink', 'href': 'extending/index.html'}\n",
      "{'class': 'biglink', 'href': 'c-api/index.html'}\n",
      "{'class': 'biglink', 'href': 'faq/index.html'}\n",
      "{'class': 'biglink', 'href': 'py-modindex.html'}\n",
      "{'class': 'biglink', 'href': 'genindex.html'}\n",
      "{'class': 'biglink', 'href': 'glossary.html'}\n",
      "{'class': 'biglink', 'href': 'search.html'}\n",
      "{'class': 'biglink', 'href': 'contents.html'}\n",
      "{'class': 'biglink', 'href': 'bugs.html'}\n",
      "{'class': 'biglink', 'href': 'https://devguide.python.org/docquality/#helping-with-documentation'}\n",
      "{'class': 'biglink', 'href': 'about.html'}\n",
      "{'class': 'biglink', 'href': 'license.html'}\n",
      "{'class': 'biglink', 'href': 'copyright.html'}\n",
      "{'class': 'biglink', 'href': 'download.html'}\n",
      "{'href': 'download.html'}\n",
      "{'href': 'https://docs.python.org/3.13/'}\n",
      "{'href': 'https://docs.python.org/3.12/'}\n",
      "{'href': 'https://docs.python.org/3.11/'}\n",
      "{'href': 'https://docs.python.org/3.10/'}\n",
      "{'href': 'https://docs.python.org/3.9/'}\n",
      "{'href': 'https://docs.python.org/3.8/'}\n",
      "{'href': 'https://docs.python.org/3.7/'}\n",
      "{'href': 'https://docs.python.org/3.6/'}\n",
      "{'href': 'https://docs.python.org/3.5/'}\n",
      "{'href': 'https://docs.python.org/2.7/'}\n",
      "{'href': 'https://www.python.org/doc/versions/'}\n",
      "{'href': 'https://www.python.org/dev/peps/'}\n",
      "{'href': 'https://wiki.python.org/moin/BeginnersGuide'}\n",
      "{'href': 'https://wiki.python.org/moin/PythonBooks'}\n",
      "{'href': 'https://www.python.org/doc/av/'}\n",
      "{'href': 'https://devguide.python.org/'}\n",
      "{'href': 'genindex.html', 'title': 'General Index'}\n",
      "{'href': 'py-modindex.html', 'title': 'Python Module Index'}\n",
      "{'href': 'https://www.python.org/'}\n",
      "{'href': '#'}\n",
      "{'href': ''}\n",
      "{'href': 'copyright.html'}\n",
      "{'href': '/license.html'}\n",
      "{'href': 'https://www.python.org/psf/donations/'}\n",
      "{'href': '/bugs.html'}\n",
      "{'href': 'https://www.sphinx-doc.org/'}\n"
     ]
    }
   ],
   "source": [
    "for element in root.iter(\"a\"):\n",
    "    print (element.attrib)"
   ]
  },
  {
   "cell_type": "markdown",
   "id": "deeab351",
   "metadata": {},
   "source": [
    "Вам дано описание пирамиды из кубиков в формате XML.\n",
    "Кубики могут быть трех цветов: красный (red), зеленый (green) и синий (blue).\n",
    "Для каждого кубика известны его цвет, и известны кубики, расположенные прямо под ним.\n",
    "\n",
    "Пример:\n",
    "```\n",
    "<cube color=\"blue\">\n",
    "  <cube color=\"red\">\n",
    "    <cube color=\"green\">\n",
    "    </cube>\n",
    "  </cube>\n",
    "  <cube color=\"red\">\n",
    "  </cube>\n",
    "</cube>\n",
    " ```\n",
    "Введем понятие ценности для кубиков. Самый верхний кубик, соответствующий корню XML документа имеет ценность 1. Кубики, расположенные прямо под ним, имеют ценность 2. Кубики, расположенные прямо под нижележащими кубиками, имеют ценность 3. И т. д.\n",
    "\n",
    "Ценность цвета равна сумме ценностей всех кубиков этого цвета.\n",
    "\n",
    "Выведите через пробел три числа: ценности красного, зеленого и синего цветов.\n",
    "```\n",
    "Sample Input:\n",
    "<cube color=\"blue\"><cube color=\"red\"><cube color=\"green\"></cube></cube><cube color=\"red\"></cube></cube>\n",
    "\n",
    "Sample Output:\n",
    "4 3 1\n",
    "```"
   ]
  },
  {
   "cell_type": "code",
   "execution_count": 328,
   "id": "8d298917",
   "metadata": {},
   "outputs": [
    {
     "name": "stdout",
     "output_type": "stream",
     "text": [
      "<cube color=\"blue\"><cube color=\"red\"><cube color=\"green\"></cube></cube><cube color=\"red\"></cube></cube>\n",
      "4 3 1 "
     ]
    }
   ],
   "source": [
    "from xml.etree import ElementTree\n",
    "\n",
    "def cubes_value_counter(element,cubes_value_count,level=None):\n",
    "    if not level:\n",
    "        level = 1\n",
    "    else:\n",
    "        level += 1 \n",
    "    cubes_value_count[element.attrib['color']] += level \n",
    "    for child in element:\n",
    "        cubes_value_counter(child,cubes_value_count,level)\n",
    "\n",
    "cubes_value_count = dict.fromkeys([\"red\",\"green\",\"blue\"],0)\n",
    "tree = ElementTree.fromstring(input())\n",
    "cubes_value_counter(tree,cubes_value_count)\n",
    "\n",
    "for color in [\"red\",\"green\",\"blue\"]: print(cubes_value_count[color], end=\" \")"
   ]
  },
  {
   "cell_type": "code",
   "execution_count": null,
   "id": "ceaa5548",
   "metadata": {},
   "outputs": [],
   "source": []
  },
  {
   "cell_type": "markdown",
   "id": "cb885d4b",
   "metadata": {},
   "source": [
    "## ================================="
   ]
  },
  {
   "cell_type": "code",
   "execution_count": 326,
   "id": "7601229e",
   "metadata": {},
   "outputs": [
    {
     "name": "stdout",
     "output_type": "stream",
     "text": [
      "2\n"
     ]
    },
    {
     "data": {
      "text/plain": [
       "'2'"
      ]
     },
     "execution_count": 326,
     "metadata": {},
     "output_type": "execute_result"
    }
   ],
   "source": [
    "aa = input()\n",
    "aa"
   ]
  },
  {
   "cell_type": "code",
   "execution_count": null,
   "id": "0dc56025",
   "metadata": {},
   "outputs": [],
   "source": []
  },
  {
   "cell_type": "code",
   "execution_count": null,
   "id": "c9f547c8",
   "metadata": {},
   "outputs": [],
   "source": [
    "Alice in Chains, Nirvana, Pearl Jam и Soundgarden."
   ]
  },
  {
   "cell_type": "markdown",
   "id": "44eb2d6c",
   "metadata": {},
   "source": [
    "## ================================="
   ]
  },
  {
   "cell_type": "code",
   "execution_count": 323,
   "id": "77898af3",
   "metadata": {},
   "outputs": [],
   "source": [
    "xml_string = '<cube color=\"blue\"><cube color=\"red\"><cube color=\"green\"></cube></cube><cube color=\"red\"></cube></cube>'\n",
    "tree = ElementTree.fromstring(xml_string)"
   ]
  },
  {
   "cell_type": "code",
   "execution_count": null,
   "id": "dd186f74",
   "metadata": {},
   "outputs": [],
   "source": [
    "xml_string = '<cube color=\"blue\"><cube color=\"red\"><cube color=\"green\"><cube color=\"green\"><cube color=\"green\"><cube color=\"blue\"></cube><cube color=\"green\"></cube><cube color=\"red\"></cube></cube></cube></cube><cube color=\"red\"><cube color=\"blue\"></cube></cube></cube></cube>'\n",
    "tree = ElementTree.fromstring(xml_string)"
   ]
  },
  {
   "cell_type": "code",
   "execution_count": 277,
   "id": "48a8f487",
   "metadata": {},
   "outputs": [],
   "source": [
    "ElementTree.dump(tree)"
   ]
  },
  {
   "cell_type": "code",
   "execution_count": 40,
   "id": "e3d815b6",
   "metadata": {},
   "outputs": [],
   "source": [
    "# sorted(dict_artist.items(), key=lambda x: (x[1], x[0]))"
   ]
  },
  {
   "cell_type": "code",
   "execution_count": 34,
   "id": "55161f28",
   "metadata": {},
   "outputs": [],
   "source": [
    "# # создаем заголовок, содержащий наш токен\n",
    "# headers = {\"X-Xapp-Token\" : token}\n",
    "# # инициируем запрос с заголовком\n",
    "# response = requests.get(\"https://api.artsy.net/api/artists/4d8b92b34eb68a1b2c0003f4\", headers=headers)\n",
    "\n",
    "# # разбираем ответ сервера\n",
    "# artist_info = response.json()"
   ]
  },
  {
   "cell_type": "code",
   "execution_count": 333,
   "id": "b967667b",
   "metadata": {},
   "outputs": [],
   "source": [
    "from sys import stdin\n",
    "\n",
    "lines = []\n",
    "for line in stdin:\n",
    "    lines.append(line)"
   ]
  },
  {
   "cell_type": "code",
   "execution_count": null,
   "id": "30bb1c72",
   "metadata": {},
   "outputs": [],
   "source": [
    "print(lines)"
   ]
  }
 ],
 "metadata": {
  "kernelspec": {
   "display_name": "Python 3",
   "language": "python",
   "name": "python3"
  },
  "language_info": {
   "codemirror_mode": {
    "name": "ipython",
    "version": 3
   },
   "file_extension": ".py",
   "mimetype": "text/x-python",
   "name": "python",
   "nbconvert_exporter": "python",
   "pygments_lexer": "ipython3",
   "version": "3.8.8"
  }
 },
 "nbformat": 4,
 "nbformat_minor": 5
}
